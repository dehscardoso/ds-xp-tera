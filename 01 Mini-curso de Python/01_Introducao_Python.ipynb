{
 "cells": [
  {
   "cell_type": "markdown",
   "metadata": {},
   "source": [
    "<img src = \"https://images2.imgbox.com/c1/79/4H1V1tSO_o.png\" width=\"1200\">"
   ]
  },
  {
   "cell_type": "markdown",
   "metadata": {
    "id": "9PBUzHGwxetz"
   },
   "source": [
    "# Escrevendo Olá, mundo!"
   ]
  },
  {
   "cell_type": "code",
   "execution_count": 1,
   "metadata": {
    "colab": {
     "base_uri": "https://localhost:8080/"
    },
    "id": "1UC_7Cl0uQZy",
    "outputId": "67415322-a015-4047-e0bc-21230b256c3a"
   },
   "outputs": [
    {
     "name": "stdout",
     "output_type": "stream",
     "text": [
      "Olá, mundo!\n"
     ]
    }
   ],
   "source": [
    "print(\"Olá, mundo!\")"
   ]
  },
  {
   "cell_type": "markdown",
   "metadata": {
    "id": "0kQUQHd8xl5i"
   },
   "source": [
    "# Exercícios\n",
    "Faça o Python escrever o seu nome!\n"
   ]
  },
  {
   "cell_type": "code",
   "execution_count": 4,
   "metadata": {
    "id": "E7iB5jo5xlAV"
   },
   "outputs": [
    {
     "name": "stdout",
     "output_type": "stream",
     "text": [
      "Deborah (:\n"
     ]
    }
   ],
   "source": [
    "# Oi! Sou um comentário. O Python ignora toda linha que começa com #\n",
    "# Escreva seu código na linha abaixo\n",
    "print(\"Deborah (:\")"
   ]
  },
  {
   "cell_type": "markdown",
   "metadata": {
    "id": "FBf4EHMVy1QS"
   },
   "source": [
    "# Precisa de ajuda?"
   ]
  },
  {
   "cell_type": "code",
   "execution_count": 5,
   "metadata": {
    "id": "VSzYGrtKy3yO"
   },
   "outputs": [
    {
     "name": "stdout",
     "output_type": "stream",
     "text": [
      "Oi, Meu nome é Deborah!\n"
     ]
    }
   ],
   "source": [
    "print(\"Oi, Meu nome é Deborah!\")"
   ]
  },
  {
   "cell_type": "markdown",
   "metadata": {
    "id": "I-oECXJWyi_x"
   },
   "source": [
    "### Apredendo a **Debugar** (Perdendo o medo do erro)\n",
    "Às vezes podemos cometer alguns erros no nosso código e isso é super normal. Aprender como pesquisar para conseguir resolvê-los ajuda muito nos estudos!\n",
    "\n",
    "Vamos colocar um erro intencionalmente no nosso código  e ver o que acontece. Escreva na célula abaixo: \\\n",
    " `print \"Olá, mundo!\"`"
   ]
  },
  {
   "cell_type": "code",
   "execution_count": 6,
   "metadata": {
    "id": "Tps0pj1iyjjX"
   },
   "outputs": [
    {
     "ename": "SyntaxError",
     "evalue": "Missing parentheses in call to 'print'. Did you mean print(\"Olá, mundo!\")? (<ipython-input-6-66c7674847dd>, line 2)",
     "output_type": "error",
     "traceback": [
      "\u001b[1;36m  File \u001b[1;32m\"<ipython-input-6-66c7674847dd>\"\u001b[1;36m, line \u001b[1;32m2\u001b[0m\n\u001b[1;33m    print \"Olá, mundo!\"\u001b[0m\n\u001b[1;37m          ^\u001b[0m\n\u001b[1;31mSyntaxError\u001b[0m\u001b[1;31m:\u001b[0m Missing parentheses in call to 'print'. Did you mean print(\"Olá, mundo!\")?\n"
     ]
    }
   ],
   "source": [
    "#Rode essa célula\n",
    "print \"Olá, mundo!\""
   ]
  },
  {
   "cell_type": "markdown",
   "metadata": {
    "id": "5fPsPWwOymUf"
   },
   "source": [
    "Deve ter aparecido uma mensagem de erro. Preste atenção na última linha:<br> `SyntaxError: Missing parentheses in call to 'print'.`\n",
    "<br> <br> \n",
    "Coloque essa frase na busca do [Google](https://www.google.com/). <br> \n",
    "**Dica**: Respostas no [Stack Overflow](https://stackoverflow.com/) constumam ser muito boas! Comece por elas. <br><br>\n",
    "Os dois primeiros retornos da busca do Google já foram super úteis. Veja quais foram: <br>\n",
    "[Primeira](https://stackoverflow.com/questions/25445439/what-does-syntaxerror-missing-parentheses-in-call-to-print-mean-in-python) <br>\n",
    "[Segunda](https://qastack.com.br/programming/25445439/what-does-syntaxerror-missing-parentheses-in-call-to-print-mean-in-python)"
   ]
  }
 ],
 "metadata": {
  "colab": {
   "name": "Introdução Python - TERA",
   "provenance": []
  },
  "kernelspec": {
   "display_name": "Python 3 (ipykernel)",
   "language": "python",
   "name": "python3"
  },
  "language_info": {
   "codemirror_mode": {
    "name": "ipython",
    "version": 3
   },
   "file_extension": ".py",
   "mimetype": "text/x-python",
   "name": "python",
   "nbconvert_exporter": "python",
   "pygments_lexer": "ipython3",
   "version": "3.9.7"
  }
 },
 "nbformat": 4,
 "nbformat_minor": 1
}
