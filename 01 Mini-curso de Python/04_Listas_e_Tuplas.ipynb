{
 "cells": [
  {
   "cell_type": "markdown",
   "metadata": {},
   "source": [
    "<img src = \"https://images2.imgbox.com/c1/79/4H1V1tSO_o.png\" width=\"1200\">"
   ]
  },
  {
   "cell_type": "markdown",
   "metadata": {
    "id": "qywb5w1HPAOa"
   },
   "source": [
    "# Manipulação de Dados em Sequências (Listas e Tuplas)\n",
    "---"
   ]
  },
  {
   "cell_type": "markdown",
   "metadata": {
    "id": "CBfCQXfvKdmW"
   },
   "source": [
    "# Estruturas Sequenciais\n",
    "\n",
    "Existem em **_python_** algumas formas básicas de se armazenar dados em grupo. Um dos tipos mais usados para construção de estruturas de dados são as chamadas **sequências**, grupo que compreende as **listas** (`list`) e as **tuplas** (`tuple`), temas centrais dessa aula. \n",
    "\n",
    "Para ser considerado uma sequência, um grupo de dados deve obedecer às seguintes regras:\n",
    "1.  Em uma sequência **sempre há uma posição ordenada** associada aos dados, ou seja, sempre que houver mais de um dado, a **posição de um deles vai ser maior** do que a do outro. Isso permite que um elemento dentro de uma sequência seja **referenciado pela sua posição**.\n",
    "\n",
    "2.  Um sequência pode ser composta de **elementos com valores repetidos**; cada elemento será tratado como um indivíduo e sua posição o descreve na sequência. Dessa forma, cada elemento dentro de uma sequência tem uma **posição** (número inteiro) e um **valor** (objeto python) associados.\n"
   ]
  },
  {
   "cell_type": "markdown",
   "metadata": {
    "id": "LgwnzoXXRcjz"
   },
   "source": [
    "# Listas\n",
    "---\n",
    "\n",
    "Listas são a estrutura básica de sequência mais versátil. Essa estrutura **permite modificações do seu conteúdo** sem a necessidade da criação de outro objeto em memória, sendo portanto uma sequência **mutável** ou **dinâmica**.\n",
    "\n",
    "O tipo interno (`type`) da lista em **_python_** é a `list`."
   ]
  },
  {
   "cell_type": "markdown",
   "metadata": {
    "id": "pDLH4jqERsln"
   },
   "source": [
    "## Criação de Listas\n",
    "\n",
    "A forma mais simples de criar uma lista é a declaração dos objetos que a compõem entre colchetes."
   ]
  },
  {
   "cell_type": "code",
   "execution_count": 1,
   "metadata": {
    "colab": {
     "base_uri": "https://localhost:8080/"
    },
    "id": "YiZBlDcRb-cP",
    "outputId": "4c200cd8-f71e-4072-abaa-28c01d855df9"
   },
   "outputs": [
    {
     "data": {
      "text/plain": [
       "[1, 2, 3, 4, 5]"
      ]
     },
     "execution_count": 1,
     "metadata": {},
     "output_type": "execute_result"
    }
   ],
   "source": [
    "# criando uma lista e chamando de `x` \n",
    "x = [1, 2, 3, 4, 5]\n",
    "x"
   ]
  },
  {
   "cell_type": "code",
   "execution_count": 2,
   "metadata": {
    "colab": {
     "base_uri": "https://localhost:8080/"
    },
    "id": "pKLeBqX4cQxv",
    "outputId": "e09a7ea6-104f-43e1-b5c9-bc41f22e2768"
   },
   "outputs": [
    {
     "data": {
      "text/plain": [
       "list"
      ]
     },
     "execution_count": 2,
     "metadata": {},
     "output_type": "execute_result"
    }
   ],
   "source": [
    "# o tipo de `x` é `list`\n",
    "type(x)"
   ]
  },
  {
   "cell_type": "markdown",
   "metadata": {
    "id": "fA_Z91k1b-qd"
   },
   "source": [
    "Uma outra forma de construir uma lista é **convertendo outra sequência** através do contrutor `list()`."
   ]
  },
  {
   "cell_type": "code",
   "execution_count": 3,
   "metadata": {
    "colab": {
     "base_uri": "https://localhost:8080/"
    },
    "id": "DAuUx14Ab-17",
    "outputId": "4f31b20a-b65a-49ff-bdec-f25fe769fb26"
   },
   "outputs": [
    {
     "data": {
      "text/plain": [
       "('a', 'b', 'w')"
      ]
     },
     "execution_count": 3,
     "metadata": {},
     "output_type": "execute_result"
    }
   ],
   "source": [
    "# criando uma outra sequencia do tipo `tuple`\n",
    "y = tuple(['a', 'b', 'w'])\n",
    "y"
   ]
  },
  {
   "cell_type": "code",
   "execution_count": 4,
   "metadata": {
    "colab": {
     "base_uri": "https://localhost:8080/"
    },
    "id": "_iwvRpl9c3Io",
    "outputId": "e2993ec3-98a9-455f-ee44-e65f0013784c"
   },
   "outputs": [
    {
     "data": {
      "text/plain": [
       "tuple"
      ]
     },
     "execution_count": 4,
     "metadata": {},
     "output_type": "execute_result"
    }
   ],
   "source": [
    "type(y)"
   ]
  },
  {
   "cell_type": "code",
   "execution_count": 5,
   "metadata": {
    "colab": {
     "base_uri": "https://localhost:8080/"
    },
    "id": "jwqR2l-Rc-hW",
    "outputId": "3f5c3e55-bee9-45d6-a3a1-16d0633c17f7"
   },
   "outputs": [
    {
     "data": {
      "text/plain": [
       "['a', 'b', 'w']"
      ]
     },
     "execution_count": 5,
     "metadata": {},
     "output_type": "execute_result"
    }
   ],
   "source": [
    "# criando uma lista `x` a partir da tupla `y`\n",
    "x = list(y)\n",
    "x"
   ]
  },
  {
   "cell_type": "code",
   "execution_count": 6,
   "metadata": {
    "colab": {
     "base_uri": "https://localhost:8080/"
    },
    "id": "QpGsjthXc-v5",
    "outputId": "76a65d2c-b6e8-4234-ff26-c0f6a17f8eb7"
   },
   "outputs": [
    {
     "data": {
      "text/plain": [
       "list"
      ]
     },
     "execution_count": 6,
     "metadata": {},
     "output_type": "execute_result"
    }
   ],
   "source": [
    "type(x)"
   ]
  },
  {
   "cell_type": "markdown",
   "metadata": {
    "id": "gGMBHRxxcWci"
   },
   "source": [
    "Ambas as formas são igualmente válidas, assim como o primeiro exemplo visto no início da Seção:\n",
    "\n",
    "\n",
    "\n",
    "```\n",
    "x = list([1, 2, 3, 4, 5, 6])\n",
    "```\n",
    "\n",
    "Todas essas formas criam um novo objeto do tipo `list` em memória, que pode ser usado através da variável (no caso mostrado, a variável `x`)."
   ]
  },
  {
   "cell_type": "markdown",
   "metadata": {
    "id": "EdILBNnrxFkO"
   },
   "source": [
    "Sobre os elementos que podem compor uma `list`, **todos os tipos** de objetos são aceitos, inclusive o `None` e ainda **outras sequências**. E não é necessário que todos os elementos sejam do mesmo tipo, a lista é **heterogênea** por construção."
   ]
  },
  {
   "cell_type": "code",
   "execution_count": 7,
   "metadata": {
    "colab": {
     "base_uri": "https://localhost:8080/"
    },
    "id": "Vd9a80ZExFya",
    "outputId": "097f1789-e411-4d56-b10e-f23fcb136519"
   },
   "outputs": [
    {
     "data": {
      "text/plain": [
       "[None, 1, 'a', 'palavra completa', [None, 'x', 1999], ('nome', 'joao')]"
      ]
     },
     "execution_count": 7,
     "metadata": {},
     "output_type": "execute_result"
    }
   ],
   "source": [
    "# lista com diferentes tipos\n",
    "x = [None, 1, 'a', 'palavra completa', [None, 'x', 1999], ('nome', 'joao')]\n",
    "x"
   ]
  },
  {
   "cell_type": "markdown",
   "metadata": {
    "id": "V5MDlRvHVUZ7"
   },
   "source": [
    "## Acesso aos dados da lista\n",
    "---"
   ]
  },
  {
   "cell_type": "markdown",
   "metadata": {
    "id": "HLNInGusjRq1"
   },
   "source": [
    "### Acesso pela posição do item\n",
    "A forma mais simples de acessar um objeto da lista é **pelo seu índice**, ou seja, pela posição que ele ocupa dentro da sequência."
   ]
  },
  {
   "cell_type": "code",
   "execution_count": 8,
   "metadata": {
    "colab": {
     "base_uri": "https://localhost:8080/"
    },
    "id": "z7UhFfjJgyfg",
    "outputId": "dcc07ed6-8f0e-457b-c872-a023b783a484"
   },
   "outputs": [
    {
     "data": {
      "text/plain": [
       "['primeiro', 'segundo', 'terceiro', 'quarto', 'quinto', 'penúltimo', 'último']"
      ]
     },
     "execution_count": 8,
     "metadata": {},
     "output_type": "execute_result"
    }
   ],
   "source": [
    "# criando a lista para testar os conceitos\n",
    "x = ['primeiro', 'segundo', 'terceiro', 'quarto', 'quinto', 'penúltimo', 'último']\n",
    "x"
   ]
  },
  {
   "cell_type": "code",
   "execution_count": 9,
   "metadata": {
    "colab": {
     "base_uri": "https://localhost:8080/",
     "height": 36
    },
    "id": "0J0qTB86hPSJ",
    "outputId": "05960dcf-9d15-4c2d-b037-a167fba4a319"
   },
   "outputs": [
    {
     "data": {
      "text/plain": [
       "'quarto'"
      ]
     },
     "execution_count": 9,
     "metadata": {},
     "output_type": "execute_result"
    }
   ],
   "source": [
    "x[3]"
   ]
  },
  {
   "cell_type": "code",
   "execution_count": 10,
   "metadata": {
    "colab": {
     "base_uri": "https://localhost:8080/",
     "height": 36
    },
    "id": "wNY5xfjjhWVy",
    "outputId": "7cb9a42f-c97c-49bf-d06a-53d8f01ca5e7"
   },
   "outputs": [
    {
     "data": {
      "text/plain": [
       "'último'"
      ]
     },
     "execution_count": 10,
     "metadata": {},
     "output_type": "execute_result"
    }
   ],
   "source": [
    "x[6]"
   ]
  },
  {
   "cell_type": "markdown",
   "metadata": {
    "id": "8jAvmV9Rgyo8"
   },
   "source": [
    "Os índices em **_python_** começam em **zero**, ou seja, o elemento `x[0]` é o primeiro elemento da lista, `x[1]` é o segundo e assim por diante."
   ]
  },
  {
   "cell_type": "code",
   "execution_count": 11,
   "metadata": {
    "colab": {
     "base_uri": "https://localhost:8080/",
     "height": 36
    },
    "id": "BCApEFeogyxe",
    "outputId": "14a86ddc-931a-4df3-f0ab-9a5b6b529647"
   },
   "outputs": [
    {
     "data": {
      "text/plain": [
       "'primeiro'"
      ]
     },
     "execution_count": 11,
     "metadata": {},
     "output_type": "execute_result"
    }
   ],
   "source": [
    "x[0]"
   ]
  },
  {
   "cell_type": "code",
   "execution_count": 12,
   "metadata": {
    "colab": {
     "base_uri": "https://localhost:8080/",
     "height": 36
    },
    "id": "8sjTYst9hbhn",
    "outputId": "8772eec6-3372-4651-ed74-853a562596a1"
   },
   "outputs": [
    {
     "data": {
      "text/plain": [
       "'segundo'"
      ]
     },
     "execution_count": 12,
     "metadata": {},
     "output_type": "execute_result"
    }
   ],
   "source": [
    "x[1]"
   ]
  },
  {
   "cell_type": "markdown",
   "metadata": {
    "id": "DUfM6PHBgy6I"
   },
   "source": [
    "Em **_python_** também é possível acessar aos dados de uma lista através de um **índice negativo**. O índice `-1` representa a **última posição**, o `-2` a **penúltima** e assim por diante."
   ]
  },
  {
   "cell_type": "code",
   "execution_count": 13,
   "metadata": {
    "colab": {
     "base_uri": "https://localhost:8080/",
     "height": 36
    },
    "id": "kPrMtWeDgzDY",
    "outputId": "7947eb51-3b69-41e0-e85f-766bd0baae1f"
   },
   "outputs": [
    {
     "data": {
      "text/plain": [
       "'último'"
      ]
     },
     "execution_count": 13,
     "metadata": {},
     "output_type": "execute_result"
    }
   ],
   "source": [
    "x[-1]"
   ]
  },
  {
   "cell_type": "code",
   "execution_count": 14,
   "metadata": {
    "colab": {
     "base_uri": "https://localhost:8080/",
     "height": 36
    },
    "id": "eXTNqUYyh9Zx",
    "outputId": "c5257ae2-d359-4d52-b884-e70e15f965ed"
   },
   "outputs": [
    {
     "data": {
      "text/plain": [
       "'penúltimo'"
      ]
     },
     "execution_count": 14,
     "metadata": {},
     "output_type": "execute_result"
    }
   ],
   "source": [
    "x[-2]"
   ]
  },
  {
   "cell_type": "markdown",
   "metadata": {
    "id": "Kdiq71YOiOuP"
   },
   "source": [
    "É possível acessar **todos os elementos** através de índices negativos. "
   ]
  },
  {
   "cell_type": "code",
   "execution_count": 15,
   "metadata": {
    "colab": {
     "base_uri": "https://localhost:8080/",
     "height": 36
    },
    "id": "EevZAJY3h_Dj",
    "outputId": "4db42b3c-9860-4f87-be43-234fdf578c38"
   },
   "outputs": [
    {
     "data": {
      "text/plain": [
       "'segundo'"
      ]
     },
     "execution_count": 15,
     "metadata": {},
     "output_type": "execute_result"
    }
   ],
   "source": [
    "x[-6]"
   ]
  },
  {
   "cell_type": "code",
   "execution_count": 16,
   "metadata": {
    "colab": {
     "base_uri": "https://localhost:8080/",
     "height": 36
    },
    "id": "_2ApfmL2iBBN",
    "outputId": "9dca6955-6094-40b2-f812-19329f29d0a2"
   },
   "outputs": [
    {
     "data": {
      "text/plain": [
       "'primeiro'"
      ]
     },
     "execution_count": 16,
     "metadata": {},
     "output_type": "execute_result"
    }
   ],
   "source": [
    "x[-7]"
   ]
  },
  {
   "cell_type": "markdown",
   "metadata": {
    "id": "LfzoVMbHgzNQ"
   },
   "source": [
    "Porém, se houver tentativa de **acesso a um índice inexistente** (fora do limite), será retornado um erro."
   ]
  },
  {
   "cell_type": "code",
   "execution_count": 17,
   "metadata": {
    "colab": {
     "base_uri": "https://localhost:8080/",
     "height": 184
    },
    "id": "tkknap1wieRE",
    "outputId": "2ca0efc8-1915-4096-bb9f-c0f4b7c3cf7f"
   },
   "outputs": [
    {
     "ename": "IndexError",
     "evalue": "list index out of range",
     "output_type": "error",
     "traceback": [
      "\u001b[1;31m---------------------------------------------------------------------------\u001b[0m",
      "\u001b[1;31mIndexError\u001b[0m                                Traceback (most recent call last)",
      "\u001b[1;32m<ipython-input-17-2548a3999a64>\u001b[0m in \u001b[0;36m<module>\u001b[1;34m\u001b[0m\n\u001b[0;32m      1\u001b[0m \u001b[1;31m# acesso ao índice positivo fora do limite causa erro\u001b[0m\u001b[1;33m\u001b[0m\u001b[1;33m\u001b[0m\u001b[1;33m\u001b[0m\u001b[0m\n\u001b[1;32m----> 2\u001b[1;33m \u001b[0mx\u001b[0m\u001b[1;33m[\u001b[0m\u001b[1;36m7\u001b[0m\u001b[1;33m]\u001b[0m\u001b[1;33m\u001b[0m\u001b[1;33m\u001b[0m\u001b[0m\n\u001b[0m",
      "\u001b[1;31mIndexError\u001b[0m: list index out of range"
     ]
    }
   ],
   "source": [
    "# acesso ao índice positivo fora do limite causa erro\n",
    "x[7]"
   ]
  },
  {
   "cell_type": "code",
   "execution_count": 18,
   "metadata": {
    "id": "N9bVudONieb3"
   },
   "outputs": [
    {
     "ename": "IndexError",
     "evalue": "list index out of range",
     "output_type": "error",
     "traceback": [
      "\u001b[1;31m---------------------------------------------------------------------------\u001b[0m",
      "\u001b[1;31mIndexError\u001b[0m                                Traceback (most recent call last)",
      "\u001b[1;32m<ipython-input-18-359561d9c934>\u001b[0m in \u001b[0;36m<module>\u001b[1;34m\u001b[0m\n\u001b[0;32m      1\u001b[0m \u001b[1;31m# acesso ao índice negativo fora do limite também causa erro\u001b[0m\u001b[1;33m\u001b[0m\u001b[1;33m\u001b[0m\u001b[1;33m\u001b[0m\u001b[0m\n\u001b[1;32m----> 2\u001b[1;33m \u001b[0mx\u001b[0m\u001b[1;33m[\u001b[0m\u001b[1;33m-\u001b[0m\u001b[1;36m8\u001b[0m\u001b[1;33m]\u001b[0m\u001b[1;33m\u001b[0m\u001b[1;33m\u001b[0m\u001b[0m\n\u001b[0m",
      "\u001b[1;31mIndexError\u001b[0m: list index out of range"
     ]
    }
   ],
   "source": [
    "# acesso ao índice negativo fora do limite também causa erro\n",
    "x[-8]"
   ]
  },
  {
   "cell_type": "markdown",
   "metadata": {
    "id": "d0BkVRb_jaFB"
   },
   "source": [
    "### Acesso por segmento (ou `slice`)\n",
    "\n",
    "Uma outra forma de acessar os elementos da lista é através de um segmento (`slice`). A forma de identificar esse **segmento de interesse** é através do operador `:`, informando qual a **posição inicial** do segmento e também a **posição acima da final**.\n",
    "\n",
    "O formato seria da seguinte forma:\n",
    "```\n",
    "y = x[<primeira_posição>:<última_posição> + 1]\n",
    "```"
   ]
  },
  {
   "cell_type": "code",
   "execution_count": 19,
   "metadata": {
    "id": "lbquI-8rjaOG"
   },
   "outputs": [
    {
     "data": {
      "text/plain": [
       "['terceiro', 'quarto', 'quinto']"
      ]
     },
     "execution_count": 19,
     "metadata": {},
     "output_type": "execute_result"
    }
   ],
   "source": [
    "# usando o `slice` para captar os 3 valores entre \n",
    "# `2` (inclusive) e `5` (exclusive)\n",
    "x[2:5]"
   ]
  },
  {
   "cell_type": "code",
   "execution_count": 20,
   "metadata": {
    "id": "9egk7m4XmU3L"
   },
   "outputs": [
    {
     "data": {
      "text/plain": [
       "'terceiro'"
      ]
     },
     "execution_count": 20,
     "metadata": {},
     "output_type": "execute_result"
    }
   ],
   "source": [
    "# verificando a primeira posição\n",
    "x[2]"
   ]
  },
  {
   "cell_type": "markdown",
   "metadata": {
    "id": "9EczmXWKmk2B"
   },
   "source": [
    "Como pode ser visto abaixo, o elemento `5` não corresponde ao último elemento do `slice` `2:5`, pois o último valor é o **limite exclusivo superior** do `slice`."
   ]
  },
  {
   "cell_type": "code",
   "execution_count": 21,
   "metadata": {
    "colab": {
     "base_uri": "https://localhost:8080/",
     "height": 36
    },
    "id": "e8SrwMqAmbml",
    "outputId": "ac877149-a12d-426e-db5e-8f0498448c3c"
   },
   "outputs": [
    {
     "data": {
      "text/plain": [
       "'penúltimo'"
      ]
     },
     "execution_count": 21,
     "metadata": {},
     "output_type": "execute_result"
    }
   ],
   "source": [
    "# verificando a posição relativa ao segundo termo (5) do `slice`\n",
    "x[5]"
   ]
  },
  {
   "cell_type": "markdown",
   "metadata": {
    "id": "P9x46TAIoONX"
   },
   "source": [
    "Para acessar **o último elemento** da lista, é necessário **deixar vazio** o último número do `slice`."
   ]
  },
  {
   "cell_type": "code",
   "execution_count": 22,
   "metadata": {
    "colab": {
     "base_uri": "https://localhost:8080/"
    },
    "id": "sNLW1Q3KoOcm",
    "outputId": "4d2224da-afa9-497c-a1b9-76968282f808"
   },
   "outputs": [
    {
     "data": {
      "text/plain": [
       "['penúltimo', 'último']"
      ]
     },
     "execution_count": 22,
     "metadata": {},
     "output_type": "execute_result"
    }
   ],
   "source": [
    "# acessando os últimos 2 elementos da lista\n",
    "x[5:]"
   ]
  },
  {
   "cell_type": "markdown",
   "metadata": {
    "id": "q97JZvWWo6Gs"
   },
   "source": [
    "Para o caso do primeiro índice, **tanto faz** usar o **valor vazio** ou **zero**."
   ]
  },
  {
   "cell_type": "code",
   "execution_count": 23,
   "metadata": {
    "colab": {
     "base_uri": "https://localhost:8080/"
    },
    "id": "XgJDwYYSpgDD",
    "outputId": "899620d4-6559-497c-dce5-5ca43f62636c"
   },
   "outputs": [
    {
     "data": {
      "text/plain": [
       "['primeiro', 'segundo', 'terceiro']"
      ]
     },
     "execution_count": 23,
     "metadata": {},
     "output_type": "execute_result"
    }
   ],
   "source": [
    "# declarando o zero\n",
    "x[0:3]"
   ]
  },
  {
   "cell_type": "code",
   "execution_count": 24,
   "metadata": {
    "colab": {
     "base_uri": "https://localhost:8080/"
    },
    "id": "DzDBR2DPpidg",
    "outputId": "3c37be74-0cfc-454d-f35a-49eab63a1a17"
   },
   "outputs": [
    {
     "data": {
      "text/plain": [
       "['primeiro', 'segundo', 'terceiro']"
      ]
     },
     "execution_count": 24,
     "metadata": {},
     "output_type": "execute_result"
    }
   ],
   "source": [
    "# omitindo o zero\n",
    "x[:3]"
   ]
  },
  {
   "cell_type": "markdown",
   "metadata": {
    "id": "M6B1cfJFnv-Q"
   },
   "source": [
    "O operador de `slice` também pode usar **índices negativos** para referenciar as posições."
   ]
  },
  {
   "cell_type": "code",
   "execution_count": 25,
   "metadata": {
    "colab": {
     "base_uri": "https://localhost:8080/"
    },
    "id": "NS_rzQw4m85i",
    "outputId": "2df492b8-6ee1-478f-9ea6-a1e0adb35c72"
   },
   "outputs": [
    {
     "data": {
      "text/plain": [
       "['quinto', 'penúltimo', 'último']"
      ]
     },
     "execution_count": 25,
     "metadata": {},
     "output_type": "execute_result"
    }
   ],
   "source": [
    "# selecionando os 2 últimos elementos\n",
    "x[-3:]"
   ]
  },
  {
   "cell_type": "markdown",
   "metadata": {
    "id": "lQsuJW0qokzC"
   },
   "source": [
    "Se usar o valor `-1`, o retorno irá **descartar a última posição** no retorno."
   ]
  },
  {
   "cell_type": "code",
   "execution_count": 26,
   "metadata": {
    "colab": {
     "base_uri": "https://localhost:8080/"
    },
    "id": "2x3CLgSPok8B",
    "outputId": "59443773-633c-40a1-a16e-55a382901701"
   },
   "outputs": [
    {
     "data": {
      "text/plain": [
       "['quinto', 'penúltimo']"
      ]
     },
     "execution_count": 26,
     "metadata": {},
     "output_type": "execute_result"
    }
   ],
   "source": [
    "# Nesse `slice` o último elemento foi cortado do resultado\n",
    "x[-3:-1]"
   ]
  },
  {
   "cell_type": "markdown",
   "metadata": {
    "id": "pBzoEz2opp4k"
   },
   "source": [
    "### Operador de `slice` definindo o passo (`step`)\n",
    "\n",
    "Também é possível definir **de quantos em quantos** índices o slice deve pegar os dados. O **terceiro parâmetro** do `slice` é chamado de passo ou `step`.\n",
    "\n",
    "```\n",
    "x[start:end:step]\n",
    "```\n",
    "\n",
    "Por padrão, se o valor for omitido, se assume que é **igual a um**."
   ]
  },
  {
   "cell_type": "code",
   "execution_count": 27,
   "metadata": {
    "colab": {
     "base_uri": "https://localhost:8080/"
    },
    "id": "vVuWBuito6OX",
    "outputId": "df05ff29-a448-41b1-e370-65b460cbaa18"
   },
   "outputs": [
    {
     "data": {
      "text/plain": [
       "['terceiro', 'quarto', 'quinto']"
      ]
     },
     "execution_count": 27,
     "metadata": {},
     "output_type": "execute_result"
    }
   ],
   "source": [
    "# `slice` com `step` igual a 1\n",
    "x[2:5:1]"
   ]
  },
  {
   "cell_type": "code",
   "execution_count": 28,
   "metadata": {
    "colab": {
     "base_uri": "https://localhost:8080/"
    },
    "id": "_Bd9N0NLquSA",
    "outputId": "a27a0cdc-bede-4009-8ff1-ba27a8fe3625"
   },
   "outputs": [
    {
     "data": {
      "text/plain": [
       "['terceiro', 'quarto', 'quinto']"
      ]
     },
     "execution_count": 28,
     "metadata": {},
     "output_type": "execute_result"
    }
   ],
   "source": [
    "# `slice` com `step` não declarado\n",
    "x[2:5]"
   ]
  },
  {
   "cell_type": "markdown",
   "metadata": {
    "id": "gLs-PNnzqzXd"
   },
   "source": [
    "Se o `step` for **igual a dois**, por exemplo, o slice **vai pular um** elemento a cada passo."
   ]
  },
  {
   "cell_type": "code",
   "execution_count": 29,
   "metadata": {
    "colab": {
     "base_uri": "https://localhost:8080/"
    },
    "id": "bJgC1cRNqzed",
    "outputId": "76e179d3-a6ae-4227-8418-119ad6b5f656"
   },
   "outputs": [
    {
     "data": {
      "text/plain": [
       "['segundo', 'quarto']"
      ]
     },
     "execution_count": 29,
     "metadata": {},
     "output_type": "execute_result"
    }
   ],
   "source": [
    "x[1:5:2]"
   ]
  },
  {
   "cell_type": "markdown",
   "metadata": {
    "id": "2R0NDXLnRTX8"
   },
   "source": [
    "## Informações sobre a Lista\n",
    "---\n",
    "\n",
    "Algumas informações gerais sobre a lista podem ser obtidas a partir das funções auximliares mostradas a seguir."
   ]
  },
  {
   "cell_type": "markdown",
   "metadata": {
    "id": "zhCZGs-yv5Qj"
   },
   "source": [
    "### Função `len`\n",
    "\n",
    "Essa função retorna a quantidade de elementos dentro de uma lista. Como apenas a quantidade de elementos é levada em conta, não é necessário mais informações dos tipos dentro da lista."
   ]
  },
  {
   "cell_type": "code",
   "execution_count": 30,
   "metadata": {
    "colab": {
     "base_uri": "https://localhost:8080/"
    },
    "id": "VJdp-bOvymF3",
    "outputId": "1b2b8bff-75a4-4d58-a1cb-72570075f7fa"
   },
   "outputs": [
    {
     "data": {
      "text/plain": [
       "26"
      ]
     },
     "execution_count": 30,
     "metadata": {},
     "output_type": "execute_result"
    }
   ],
   "source": [
    "# exemplo usando o alfabeto\n",
    "len([\n",
    "     'a', 'b', 'c', 'd', 'e', 'f', 'g', 'h', 'i', 'j', 'k', 'l', 'm',\n",
    "     'n', 'o', 'p', 'q', 'r', 's', 't', 'u', 'v', 'w', 'x', 'y', 'z'\n",
    "])"
   ]
  },
  {
   "cell_type": "code",
   "execution_count": 31,
   "metadata": {
    "colab": {
     "base_uri": "https://localhost:8080/"
    },
    "id": "vCeosJ73zqgc",
    "outputId": "54206ff5-eed9-4587-eb12-c29a1222ddd8"
   },
   "outputs": [
    {
     "data": {
      "text/plain": [
       "6"
      ]
     },
     "execution_count": 31,
     "metadata": {},
     "output_type": "execute_result"
    }
   ],
   "source": [
    "# exemplo com lista heterogênea\n",
    "len([None, 1, 'a', 'palavra completa', [None, 'x', 1999], ('nome', 'joao')])"
   ]
  },
  {
   "cell_type": "markdown",
   "metadata": {
    "id": "IzGqSNIjvwSN"
   },
   "source": [
    "### Funções `min` e `max`\n",
    "\n",
    "As funções `min` e `max` já esperam que os itens dentro da lista **sejam ordenáveis**, pois é feita uma comparação dentre todos para que seja retornado o mínimo."
   ]
  },
  {
   "cell_type": "code",
   "execution_count": 32,
   "metadata": {
    "colab": {
     "base_uri": "https://localhost:8080/",
     "height": 36
    },
    "id": "shFk-OfWv-52",
    "outputId": "5aa8a4ef-0376-4690-be10-ae5282ad0d22"
   },
   "outputs": [
    {
     "data": {
      "text/plain": [
       "'a'"
      ]
     },
     "execution_count": 32,
     "metadata": {},
     "output_type": "execute_result"
    }
   ],
   "source": [
    "# exemplo de mínimo entre elementos do tipo `string`\n",
    "min(['a', 'e', 'f', 'g', 'n', 'o', 'p', 'q'])"
   ]
  },
  {
   "cell_type": "code",
   "execution_count": 33,
   "metadata": {
    "colab": {
     "base_uri": "https://localhost:8080/",
     "height": 36
    },
    "id": "0dpCV3BF0vWW",
    "outputId": "473b444b-24e0-48db-b56a-32ec22d26f40"
   },
   "outputs": [
    {
     "data": {
      "text/plain": [
       "'rio de janeiro'"
      ]
     },
     "execution_count": 33,
     "metadata": {},
     "output_type": "execute_result"
    }
   ],
   "source": [
    "# exemplo de máximo entre elementos do tipo `string`\n",
    "max(['goiás', 'mato grosso', 'rio de janeiro'])"
   ]
  },
  {
   "cell_type": "markdown",
   "metadata": {
    "id": "fYD1ea0-vwYH"
   },
   "source": [
    "### Função `sum`\n",
    "\n",
    "Caso seja uma lista de objetos do tipo numérico, é possível **calcular a soma** sobre a lista com a função `sum()`."
   ]
  },
  {
   "cell_type": "code",
   "execution_count": 34,
   "metadata": {
    "colab": {
     "base_uri": "https://localhost:8080/"
    },
    "id": "yefYVS6lv_5k",
    "outputId": "48161954-a27c-4c45-bed4-eb7bc7c3c65c"
   },
   "outputs": [
    {
     "data": {
      "text/plain": [
       "60"
      ]
     },
     "execution_count": 34,
     "metadata": {},
     "output_type": "execute_result"
    }
   ],
   "source": [
    "# soma de inteiros\n",
    "sum([10, 20, 30])"
   ]
  },
  {
   "cell_type": "code",
   "execution_count": 35,
   "metadata": {
    "colab": {
     "base_uri": "https://localhost:8080/"
    },
    "id": "44JQtyj-2f0Q",
    "outputId": "04baf542-51e7-4d64-a396-47cb1a6b5232"
   },
   "outputs": [
    {
     "data": {
      "text/plain": [
       "1.1"
      ]
     },
     "execution_count": 35,
     "metadata": {},
     "output_type": "execute_result"
    }
   ],
   "source": [
    "# soma de inteiros e floats\n",
    "sum([-1.2, 2, .3])"
   ]
  },
  {
   "cell_type": "markdown",
   "metadata": {
    "id": "9cOu5gRzUlfw"
   },
   "source": [
    "## Inserção e remoção de elementos na Lista\n",
    "---\n",
    "\n",
    "A maior vantagem de uma `list` é a possibilidade de adicionar ou remover elementos sem precisar criar outra lista. Com as funções que serão mostradas nessa seção, essas modificações são feitas cirurgicamente, sem a necessidade de mexer em toda a lista.\n",
    "\n",
    "As sequências imutáveis, ao contrário, só permitem que uma nova sequência seja gerada a partir da original. Em uma sequência muito grande, isso gera um custo de memória computacional na mesma prporção, podendo impossibilitar a solução de executar."
   ]
  },
  {
   "cell_type": "markdown",
   "metadata": {
    "id": "Up-w1SucDsdM"
   },
   "source": [
    "### Função `append`\n",
    "\n",
    "Essa função adiciona um elemento **ao final da lista**, aumentando sempre o tamanho em uma unidade."
   ]
  },
  {
   "cell_type": "code",
   "execution_count": 36,
   "metadata": {
    "colab": {
     "base_uri": "https://localhost:8080/"
    },
    "id": "rzIdkt_YD-nV",
    "outputId": "6ab2b325-2cf6-4985-dd2a-a288d4700263"
   },
   "outputs": [
    {
     "data": {
      "text/plain": [
       "[1, 2, 3]"
      ]
     },
     "execution_count": 36,
     "metadata": {},
     "output_type": "execute_result"
    }
   ],
   "source": [
    "# criação da lista\n",
    "x = [1, 2, 3]\n",
    "x"
   ]
  },
  {
   "cell_type": "code",
   "execution_count": 37,
   "metadata": {
    "colab": {
     "base_uri": "https://localhost:8080/"
    },
    "id": "rDnQZEmuFYiZ",
    "outputId": "af5d0013-101e-4505-d256-d04a6358a58c"
   },
   "outputs": [
    {
     "data": {
      "text/plain": [
       "3"
      ]
     },
     "execution_count": 37,
     "metadata": {},
     "output_type": "execute_result"
    }
   ],
   "source": [
    "# o tamanho original da lista\n",
    "len(x)"
   ]
  },
  {
   "cell_type": "code",
   "execution_count": 38,
   "metadata": {
    "colab": {
     "base_uri": "https://localhost:8080/"
    },
    "id": "y2siQ5M0FJXp",
    "outputId": "4e96eff2-11a4-48bd-ff1d-79967bc037cc"
   },
   "outputs": [
    {
     "data": {
      "text/plain": [
       "[1, 2, 3, 4]"
      ]
     },
     "execution_count": 38,
     "metadata": {},
     "output_type": "execute_result"
    }
   ],
   "source": [
    "# adicionando o primeiro elemento extra\n",
    "x.append(4)\n",
    "x"
   ]
  },
  {
   "cell_type": "code",
   "execution_count": 39,
   "metadata": {
    "colab": {
     "base_uri": "https://localhost:8080/"
    },
    "id": "2zb1H8MqFJcD",
    "outputId": "6b9421f7-cb4b-47ad-fdc6-33d08276db6d"
   },
   "outputs": [
    {
     "data": {
      "text/plain": [
       "[1, 2, 3, 4, 'qwerty']"
      ]
     },
     "execution_count": 39,
     "metadata": {},
     "output_type": "execute_result"
    }
   ],
   "source": [
    "# adicionando um a mais\n",
    "x.append('qwerty')\n",
    "x"
   ]
  },
  {
   "cell_type": "code",
   "execution_count": 40,
   "metadata": {
    "colab": {
     "base_uri": "https://localhost:8080/"
    },
    "id": "iJFDj9a8FJgG",
    "outputId": "67b1e0ca-7784-4512-b835-2081d47d2b62"
   },
   "outputs": [
    {
     "data": {
      "text/plain": [
       "5"
      ]
     },
     "execution_count": 40,
     "metadata": {},
     "output_type": "execute_result"
    }
   ],
   "source": [
    "# o tamanho após as duas inserções\n",
    "len(x)"
   ]
  },
  {
   "cell_type": "markdown",
   "metadata": {
    "id": "myirJmk-Gb43"
   },
   "source": [
    "### Função `insert`\n",
    "\n",
    "Para inserir um elemento em outro lugar da lista que não seja só no final, é recomendado usar a função `insert()`."
   ]
  },
  {
   "cell_type": "code",
   "execution_count": 41,
   "metadata": {
    "colab": {
     "base_uri": "https://localhost:8080/"
    },
    "id": "QflRMx7uGcBK",
    "outputId": "dd6a2e44-ab12-4542-c3b1-6985a632328f"
   },
   "outputs": [
    {
     "data": {
      "text/plain": [
       "[1, 2, 3, 4, None, 'qwerty']"
      ]
     },
     "execution_count": 41,
     "metadata": {},
     "output_type": "execute_result"
    }
   ],
   "source": [
    "# inserindo na mesma função, mas na quinta posição (índice `4`)\n",
    "x.insert(4, None)\n",
    "x"
   ]
  },
  {
   "cell_type": "markdown",
   "metadata": {
    "id": "1O6S2HYxIBYB"
   },
   "source": [
    "Usar a função `append()` é a única forma de fazer o insert no fim da lista, pois o `insert()` só consegue inserir até antes do parâmetro de índice fornecido na entrada."
   ]
  },
  {
   "cell_type": "code",
   "execution_count": 42,
   "metadata": {
    "colab": {
     "base_uri": "https://localhost:8080/"
    },
    "id": "5yyjMB74IBk7",
    "outputId": "bc87f99a-4ba9-47b8-abec-cd5df7eba1a5"
   },
   "outputs": [
    {
     "data": {
      "text/plain": [
       "[1, 2, 3, 4, None, 3.14, 'qwerty']"
      ]
     },
     "execution_count": 42,
     "metadata": {},
     "output_type": "execute_result"
    }
   ],
   "source": [
    "# uso do `insert ` no último índice possível\n",
    "x.insert(-1, 3.14)\n",
    "x"
   ]
  },
  {
   "cell_type": "markdown",
   "metadata": {
    "id": "ael5ZuwwISzl"
   },
   "source": [
    "Para inserir no início da lista, pode-se usar como primeiro parâmetro o `0`."
   ]
  },
  {
   "cell_type": "code",
   "execution_count": 43,
   "metadata": {
    "colab": {
     "base_uri": "https://localhost:8080/"
    },
    "id": "FBtvO_qAIS76",
    "outputId": "0a0ff110-aeb2-4264-d840-0152630016d1"
   },
   "outputs": [
    {
     "data": {
      "text/plain": [
       "[0.42, 1, 2, 3, 4, None, 3.14, 'qwerty']"
      ]
     },
     "execution_count": 43,
     "metadata": {},
     "output_type": "execute_result"
    }
   ],
   "source": [
    "# inserindo elemento na primeira posição\n",
    "x.insert(0, 0.42)\n",
    "x"
   ]
  },
  {
   "cell_type": "markdown",
   "metadata": {
    "id": "0kw1jUWwDs2S"
   },
   "source": [
    "### Função `remove`\n",
    "\n",
    "A função `remove()` permite remover um elemento da lista usando como entrada **o elemento** que se quer remover."
   ]
  },
  {
   "cell_type": "code",
   "execution_count": 44,
   "metadata": {
    "colab": {
     "base_uri": "https://localhost:8080/"
    },
    "id": "2vm_QBhoKxY8",
    "outputId": "ff6df502-e753-4790-fa3f-4a7ea36eb028"
   },
   "outputs": [
    {
     "data": {
      "text/plain": [
       "[1, 3, 5, 7, 9, 11, 13]"
      ]
     },
     "execution_count": 44,
     "metadata": {},
     "output_type": "execute_result"
    }
   ],
   "source": [
    "# list original\n",
    "x = [1, 3, 5, 7, 9, 11, 13]\n",
    "x"
   ]
  },
  {
   "cell_type": "code",
   "execution_count": 45,
   "metadata": {
    "colab": {
     "base_uri": "https://localhost:8080/"
    },
    "id": "jgq-nDWZD_pA",
    "outputId": "e31651f4-f783-4da1-df3b-5ac3eec26d63"
   },
   "outputs": [
    {
     "data": {
      "text/plain": [
       "[1, 3, 7, 9, 11, 13]"
      ]
     },
     "execution_count": 45,
     "metadata": {},
     "output_type": "execute_result"
    }
   ],
   "source": [
    "x.remove(5)\n",
    "x"
   ]
  },
  {
   "cell_type": "markdown",
   "metadata": {
    "id": "ZF4gQX05LC_E"
   },
   "source": [
    "Se o valor não estiver presente na lista, levanta um erro."
   ]
  },
  {
   "cell_type": "code",
   "execution_count": 46,
   "metadata": {
    "colab": {
     "base_uri": "https://localhost:8080/",
     "height": 166
    },
    "id": "lemY9VA0LDJy",
    "outputId": "2f7b5c91-3cd1-4ba3-e3f6-db34fa1afec3"
   },
   "outputs": [
    {
     "ename": "ValueError",
     "evalue": "list.remove(x): x not in list",
     "output_type": "error",
     "traceback": [
      "\u001b[1;31m---------------------------------------------------------------------------\u001b[0m",
      "\u001b[1;31mValueError\u001b[0m                                Traceback (most recent call last)",
      "\u001b[1;32m<ipython-input-46-d4a2e2409f77>\u001b[0m in \u001b[0;36m<module>\u001b[1;34m\u001b[0m\n\u001b[1;32m----> 1\u001b[1;33m \u001b[0mx\u001b[0m\u001b[1;33m.\u001b[0m\u001b[0mremove\u001b[0m\u001b[1;33m(\u001b[0m\u001b[1;36m2\u001b[0m\u001b[1;33m)\u001b[0m\u001b[1;33m\u001b[0m\u001b[1;33m\u001b[0m\u001b[0m\n\u001b[0m",
      "\u001b[1;31mValueError\u001b[0m: list.remove(x): x not in list"
     ]
    }
   ],
   "source": [
    "x.remove(2)"
   ]
  },
  {
   "cell_type": "markdown",
   "metadata": {
    "id": "A0f7FVw_LDV9"
   },
   "source": [
    "Se houver elementos repetidos, remove **a primeira ocorrência** do elemento, mantendo os outros na lista. Para remover mais, deve-se chamar novamente a função na lista."
   ]
  },
  {
   "cell_type": "code",
   "execution_count": 47,
   "metadata": {
    "colab": {
     "base_uri": "https://localhost:8080/"
    },
    "id": "aIi4hKpRLDiM",
    "outputId": "da570c8c-a159-4709-9003-8fea2d91a536"
   },
   "outputs": [
    {
     "data": {
      "text/plain": [
       "[1, 3, 7, 9, 11, 13, 1, 3, 7, 9, 11, 13]"
      ]
     },
     "execution_count": 47,
     "metadata": {},
     "output_type": "execute_result"
    }
   ],
   "source": [
    "# inserindo duplicatas\n",
    "x.extend(x)\n",
    "x"
   ]
  },
  {
   "cell_type": "code",
   "execution_count": 48,
   "metadata": {
    "colab": {
     "base_uri": "https://localhost:8080/"
    },
    "id": "rxdb9dk9Lsa-",
    "outputId": "689c6057-5c8e-4aae-d9a1-cfd9e524375b"
   },
   "outputs": [
    {
     "data": {
      "text/plain": [
       "[1, 3, 7, 11, 13, 1, 3, 7, 9, 11, 13]"
      ]
     },
     "execution_count": 48,
     "metadata": {},
     "output_type": "execute_result"
    }
   ],
   "source": [
    "# removendo o primeiro `9`\n",
    "x.remove(9)\n",
    "x"
   ]
  },
  {
   "cell_type": "code",
   "execution_count": 49,
   "metadata": {
    "colab": {
     "base_uri": "https://localhost:8080/"
    },
    "id": "E1ObiCDRLzYz",
    "outputId": "d51dbf69-7c00-4ff4-bd89-c8d4437811dc"
   },
   "outputs": [
    {
     "data": {
      "text/plain": [
       "[1, 3, 7, 11, 13, 1, 3, 7, 11, 13]"
      ]
     },
     "execution_count": 49,
     "metadata": {},
     "output_type": "execute_result"
    }
   ],
   "source": [
    "# removendo o segundo `9`\n",
    "x.remove(9)\n",
    "x"
   ]
  },
  {
   "cell_type": "markdown",
   "metadata": {
    "id": "JKHgLhPhUsaX"
   },
   "source": [
    "## Listas Multidimensionais\n",
    "---\n",
    "\n",
    "Já foram mostrados alguns exemplos de listas e tuplas dentro de listas, e as possibilidades com isso são bem extensas. Essa seção mostra algumas dessas possibilidades e como aproveitar ao máximo sem cair em algumas armadilhas do aninhamento de listas."
   ]
  },
  {
   "cell_type": "markdown",
   "metadata": {
    "id": "tajKk6p0RnVc"
   },
   "source": [
    "### Listas dentro de Listas\n",
    "\n",
    "**Exemplo:**\n",
    "Para representar uma cor numericamente podemos usar o sistema RGB - **R**ed (Vermelho), **G**reen (Verde), **B**lue (Azul). Associando um número de 0 a 255 para cada uma dessas cores podemos representar uma enorme quantidade de cores.\n",
    "Para representar um pixel vermelho poderíamos utilizar a seguinte notação `[255,0,0]`\n",
    "Poderíamos então representar uma imagem com 4 pixels da seguinte maneira:"
   ]
  },
  {
   "cell_type": "code",
   "execution_count": 50,
   "metadata": {
    "id": "iv9TUF0Y0z-L"
   },
   "outputs": [],
   "source": [
    "imagem = [ [255,0,0], [0,255,0], [0,0,255], [0,0,0] ]"
   ]
  },
  {
   "cell_type": "markdown",
   "metadata": {
    "id": "mtpiXcxJ01-T"
   },
   "source": [
    "Aqui temos uma lista que está guardando outras 4 listas, cada uma representando um pixel diferente. Podemos também fazer uma nova dimensão para cada linha:\n",
    "Se contarmos a quantidade de elementos dessa variável através do `len(imagem)` o python retornará pra gente o número `4`.\n",
    "Podemos contar também a quantidade de elementos dentro das listas que estão dentro da principal. Com o comando `len(imagem[0])` temos como retorno 3.\n"
   ]
  },
  {
   "cell_type": "code",
   "execution_count": 51,
   "metadata": {
    "colab": {
     "base_uri": "https://localhost:8080/"
    },
    "id": "Ze3KQxq9Sy6r",
    "outputId": "88198e31-e5ba-478a-89d8-b74ccf6a9231"
   },
   "outputs": [
    {
     "data": {
      "text/plain": [
       "4"
      ]
     },
     "execution_count": 51,
     "metadata": {},
     "output_type": "execute_result"
    }
   ],
   "source": [
    "len(imagem)"
   ]
  },
  {
   "cell_type": "code",
   "execution_count": 52,
   "metadata": {
    "colab": {
     "base_uri": "https://localhost:8080/"
    },
    "id": "x26E7XKK1Moz",
    "outputId": "0b76708e-6fa1-44fb-f698-23476c0b6295"
   },
   "outputs": [
    {
     "data": {
      "text/plain": [
       "3"
      ]
     },
     "execution_count": 52,
     "metadata": {},
     "output_type": "execute_result"
    }
   ],
   "source": [
    "len(imagem[0])"
   ]
  },
  {
   "cell_type": "markdown",
   "metadata": {
    "id": "pJ8tikSZ3k6B"
   },
   "source": [
    "# Tuplas\n",
    "---\n",
    "\n",
    "Tuplas são uma estrutura básica de sequência mais conservadora, que **não permite alterações dos seus elementos** após criada. Por esse motivo, é chama de **sequência imutável** ou **estática**.\n",
    "\n",
    "O tipo interno (`type`) da tupla em **_python_** é a `tuple`."
   ]
  },
  {
   "cell_type": "code",
   "execution_count": 53,
   "metadata": {
    "colab": {
     "base_uri": "https://localhost:8080/"
    },
    "id": "StVdy5TEi6FF",
    "outputId": "3b526af6-5ad1-4aec-dedd-b08662cada67"
   },
   "outputs": [
    {
     "data": {
      "text/plain": [
       "(1, 2, 3, 4, 5, 6)"
      ]
     },
     "execution_count": 53,
     "metadata": {},
     "output_type": "execute_result"
    }
   ],
   "source": [
    "x = tuple([1, 2, 3, 4, 5, 6])\n",
    "x"
   ]
  },
  {
   "cell_type": "code",
   "execution_count": 54,
   "metadata": {
    "colab": {
     "base_uri": "https://localhost:8080/"
    },
    "id": "OaptKVqhi6FJ",
    "outputId": "b530c485-b9f9-4d57-8c18-df8753cd5474"
   },
   "outputs": [
    {
     "data": {
      "text/plain": [
       "tuple"
      ]
     },
     "execution_count": 54,
     "metadata": {},
     "output_type": "execute_result"
    }
   ],
   "source": [
    "type(x)"
   ]
  },
  {
   "cell_type": "markdown",
   "metadata": {
    "id": "X5i-s6Gm8XyX"
   },
   "source": [
    "## Criação de Tuplas\n",
    "\n",
    "As tuplas podem ser criadas da mesma maneira que listas, mas com o **operador parênteses** em vez de colchetes. "
   ]
  },
  {
   "cell_type": "code",
   "execution_count": 55,
   "metadata": {
    "colab": {
     "base_uri": "https://localhost:8080/"
    },
    "id": "UV3_meYQjZqV",
    "outputId": "39e4bf32-5d43-4759-b832-a7f82cf58113"
   },
   "outputs": [
    {
     "name": "stdout",
     "output_type": "stream",
     "text": [
      "Tipo: <class 'tuple'>\n"
     ]
    },
    {
     "data": {
      "text/plain": [
       "(1, 2, 3)"
      ]
     },
     "execution_count": 55,
     "metadata": {},
     "output_type": "execute_result"
    }
   ],
   "source": [
    "# criação de uma tupla\n",
    "x = (1, 2, 3)\n",
    "print(f'Tipo: {type(x)}')\n",
    "x"
   ]
  },
  {
   "cell_type": "markdown",
   "metadata": {
    "id": "MkHPIi3xjrAh"
   },
   "source": [
    "Diferente da lista, que pode ser criada apenas colocando um elemento entre colchetes, a tupla só é construída se tiver **pelo menos uma vírgula** dentro do parêntesis. Caso contrário, o interpretador do **_python_** entende que é só um encapsulamento neutro por parênteses."
   ]
  },
  {
   "cell_type": "code",
   "execution_count": 56,
   "metadata": {
    "colab": {
     "base_uri": "https://localhost:8080/"
    },
    "id": "PntotXz-jkAT",
    "outputId": "f5549f94-d302-4182-a996-4c5639146743"
   },
   "outputs": [
    {
     "name": "stdout",
     "output_type": "stream",
     "text": [
      "Tipo: <class 'tuple'>\n"
     ]
    },
    {
     "data": {
      "text/plain": [
       "('qualquer_elemento',)"
      ]
     },
     "execution_count": 56,
     "metadata": {},
     "output_type": "execute_result"
    }
   ],
   "source": [
    "# Menor tupla possível\n",
    "x = ('qualquer_elemento', )\n",
    "print(f'Tipo: {type(x)}')\n",
    "x"
   ]
  },
  {
   "cell_type": "code",
   "execution_count": 57,
   "metadata": {
    "colab": {
     "base_uri": "https://localhost:8080/",
     "height": 54
    },
    "id": "LGS5JLXZkFMJ",
    "outputId": "0686bfac-e9f4-40c3-9d2b-ae3caf8efd06"
   },
   "outputs": [
    {
     "name": "stdout",
     "output_type": "stream",
     "text": [
      "Tipo: <class 'str'>\n"
     ]
    },
    {
     "data": {
      "text/plain": [
       "'qualquer_elemento'"
      ]
     },
     "execution_count": 57,
     "metadata": {},
     "output_type": "execute_result"
    }
   ],
   "source": [
    "# Falha em criar a tupla\n",
    "x = ('qualquer_elemento')\n",
    "print(f'Tipo: {type(x)}')\n",
    "x"
   ]
  },
  {
   "cell_type": "markdown",
   "metadata": {
    "id": "AiQVainKkdPX"
   },
   "source": [
    "A tupla é o **tipo padrão para qualquer agrupamento** de dados não definido como outro. Se não houverem parêntesis, a variável já recebe os valores como uma tupla."
   ]
  },
  {
   "cell_type": "code",
   "execution_count": 58,
   "metadata": {
    "colab": {
     "base_uri": "https://localhost:8080/"
    },
    "id": "Fmd8sgiYkdbP",
    "outputId": "4737e9ee-a6d2-438e-ae10-6c5b5f96067f"
   },
   "outputs": [
    {
     "data": {
      "text/plain": [
       "(1, 2, 3)"
      ]
     },
     "execution_count": 58,
     "metadata": {},
     "output_type": "execute_result"
    }
   ],
   "source": [
    "# construção por atribuição simples\n",
    "x = 1, 2, 3\n",
    "x"
   ]
  },
  {
   "cell_type": "markdown",
   "metadata": {
    "id": "tNl2Inxzk6Tw"
   },
   "source": [
    "Esse comportamento é complementado pela função de **desempacotamento de variáveis**, que armazena em um grupo de variáveis os valores de uma tupla caso essa tenha **o mesmo número de valores** em si."
   ]
  },
  {
   "cell_type": "code",
   "execution_count": 59,
   "metadata": {
    "colab": {
     "base_uri": "https://localhost:8080/"
    },
    "id": "UWwmoojzk6iz",
    "outputId": "baad367b-10f8-4e0b-887b-39149b71149d"
   },
   "outputs": [
    {
     "data": {
      "text/plain": [
       "(1, 2)"
      ]
     },
     "execution_count": 59,
     "metadata": {},
     "output_type": "execute_result"
    }
   ],
   "source": [
    "# atribuindo valores a `x` e `y`\n",
    "x, y = 1,2\n",
    "x, y"
   ]
  },
  {
   "cell_type": "code",
   "execution_count": 60,
   "metadata": {
    "colab": {
     "base_uri": "https://localhost:8080/"
    },
    "id": "aA2qg46rleXj",
    "outputId": "dd902997-6882-4f7d-eba3-929d889a9600"
   },
   "outputs": [
    {
     "data": {
      "text/plain": [
       "(int, int)"
      ]
     },
     "execution_count": 60,
     "metadata": {},
     "output_type": "execute_result"
    }
   ],
   "source": [
    "# x não é uma tupla, nem y\n",
    "type(x), type(y)"
   ]
  },
  {
   "cell_type": "markdown",
   "metadata": {
    "id": "yyVKvcYiltc-"
   },
   "source": [
    "Da mesma forma que na lista, usar o construtor `tuple` **sobre qualquer sequência** retorna uma tupla com uma cópia dos valores da sequência.\n"
   ]
  },
  {
   "cell_type": "code",
   "execution_count": 61,
   "metadata": {
    "colab": {
     "base_uri": "https://localhost:8080/"
    },
    "id": "bjx5Klzqltwo",
    "outputId": "3714c09d-9b95-4455-a5e5-ded653902d8f"
   },
   "outputs": [
    {
     "name": "stdout",
     "output_type": "stream",
     "text": [
      "Tipo: <class 'tuple'>\n"
     ]
    },
    {
     "data": {
      "text/plain": [
       "(1, 2, 3)"
      ]
     },
     "execution_count": 61,
     "metadata": {},
     "output_type": "execute_result"
    }
   ],
   "source": [
    "x = [1, 2, 3]\n",
    "y = tuple(x)\n",
    "\n",
    "print(f'Tipo: {type(y)}')\n",
    "y"
   ]
  },
  {
   "cell_type": "markdown",
   "metadata": {
    "id": "VQVlsv7Rml-j"
   },
   "source": []
  },
  {
   "cell_type": "markdown",
   "metadata": {
    "id": "sQFFnKeWAB5w"
   },
   "source": [
    "## Tuplas Vs Listas\n",
    "---\n",
    "\n",
    "A **principal vantagem** da tupla sobre a lista é que, por ser uma estrutura estática, é muito mais simples de armazenar em memória, gastando menos espaço. A lista precisa de muito mais variáveis para ser eficiente, além de ter métodos específicos de edição. \n",
    "\n",
    "A **principal desvantagem** da tupla é que toda vez que se quer alterar, é necessário constuir uma nova tupla com a modificação. Isso pode pesar na memória e tornar qualquer programa ineficiente muito rápido, principalemnte quando grandes quantidades de dados estão na tupla.\n",
    "\n",
    "\n",
    "- Não pode ser editada, sempre é um operador de cópia\n",
    "- operadores `append`, `pop` e `remove` não funcionam\n",
    "- operador `sort` não funciona, apenas `sorted`\n",
    "- Exemplo com edição de tupla e lista dentro de sequencia multidimensional\n"
   ]
  },
  {
   "cell_type": "markdown",
   "metadata": {
    "id": "vTdAOrAJO96E"
   },
   "source": [
    "### Acesso aos elementos da tupla \n",
    "Todos os métodos de acesso aos dados por índices e `slices` funcionam normalmente nas tuplas."
   ]
  },
  {
   "cell_type": "code",
   "execution_count": 62,
   "metadata": {
    "colab": {
     "base_uri": "https://localhost:8080/"
    },
    "id": "T03CckU_o35C",
    "outputId": "09654313-80e2-4f73-c8ac-3b27ecabf551"
   },
   "outputs": [
    {
     "data": {
      "text/plain": [
       "(1, 2, 3, 4, 5, 6, 7, 8, 9)"
      ]
     },
     "execution_count": 62,
     "metadata": {},
     "output_type": "execute_result"
    }
   ],
   "source": [
    "# Tupla original\n",
    "x = (1, 2, 3, 4, 5, 6, 7, 8, 9)\n",
    "x"
   ]
  },
  {
   "cell_type": "code",
   "execution_count": 63,
   "metadata": {
    "colab": {
     "base_uri": "https://localhost:8080/"
    },
    "id": "iuOg9txVpOo5",
    "outputId": "4977b08f-69d0-4097-d1c6-486d00f24688"
   },
   "outputs": [
    {
     "data": {
      "text/plain": [
       "(9, 8, 7, 6, 5, 4, 3, 2, 1)"
      ]
     },
     "execution_count": 63,
     "metadata": {},
     "output_type": "execute_result"
    }
   ],
   "source": [
    "# revertendo a tupla\n",
    "x[::-1]"
   ]
  },
  {
   "cell_type": "markdown",
   "metadata": {
    "id": "mg3Y72UgpU7M"
   },
   "source": [
    "Todos esses métodos retornam uma nova tupla, não havendo edição da original. Com isso, também não ée possível alterar um dado interno de uma tupla através do índice, como é com a lista."
   ]
  },
  {
   "cell_type": "code",
   "execution_count": 64,
   "metadata": {
    "colab": {
     "base_uri": "https://localhost:8080/"
    },
    "id": "X0WzJn4jpi2S",
    "outputId": "963a93b3-53f7-4914-ca33-d945e0f5a603"
   },
   "outputs": [
    {
     "data": {
      "text/plain": [
       "([1, 2, 3, 4, 5], (1, 2, 3, 4, 5))"
      ]
     },
     "execution_count": 64,
     "metadata": {},
     "output_type": "execute_result"
    }
   ],
   "source": [
    "# criando uma lista e uma tupla iguais\n",
    "xls = [1, 2, 3, 4, 5]\n",
    "xtp = (1, 2, 3, 4, 5)\n",
    "xls, xtp"
   ]
  },
  {
   "cell_type": "code",
   "execution_count": 65,
   "metadata": {
    "colab": {
     "base_uri": "https://localhost:8080/"
    },
    "id": "WmaqWFaip62a",
    "outputId": "65ae912f-ff1a-45ee-bd37-46ae2b0bb4ed"
   },
   "outputs": [
    {
     "data": {
      "text/plain": [
       "[1, 2, -5, 4, 5]"
      ]
     },
     "execution_count": 65,
     "metadata": {},
     "output_type": "execute_result"
    }
   ],
   "source": [
    "# edição da lista - OK\n",
    "xls[2] = -5\n",
    "xls"
   ]
  },
  {
   "cell_type": "code",
   "execution_count": 66,
   "metadata": {
    "colab": {
     "base_uri": "https://localhost:8080/",
     "height": 184
    },
    "id": "6xbWYe0ep0Qi",
    "outputId": "77eff3df-729c-44ba-fcee-99891344eae8"
   },
   "outputs": [
    {
     "ename": "TypeError",
     "evalue": "'tuple' object does not support item assignment",
     "output_type": "error",
     "traceback": [
      "\u001b[1;31m---------------------------------------------------------------------------\u001b[0m",
      "\u001b[1;31mTypeError\u001b[0m                                 Traceback (most recent call last)",
      "\u001b[1;32m<ipython-input-66-de54577c53f8>\u001b[0m in \u001b[0;36m<module>\u001b[1;34m\u001b[0m\n\u001b[0;32m      1\u001b[0m \u001b[1;31m# edição da tupla - levanta um erro\u001b[0m\u001b[1;33m\u001b[0m\u001b[1;33m\u001b[0m\u001b[1;33m\u001b[0m\u001b[0m\n\u001b[1;32m----> 2\u001b[1;33m \u001b[0mxtp\u001b[0m\u001b[1;33m[\u001b[0m\u001b[1;36m2\u001b[0m\u001b[1;33m]\u001b[0m \u001b[1;33m=\u001b[0m \u001b[1;33m-\u001b[0m\u001b[1;36m5\u001b[0m\u001b[1;33m\u001b[0m\u001b[1;33m\u001b[0m\u001b[0m\n\u001b[0m\u001b[0;32m      3\u001b[0m \u001b[0mxtp\u001b[0m\u001b[1;33m\u001b[0m\u001b[1;33m\u001b[0m\u001b[0m\n",
      "\u001b[1;31mTypeError\u001b[0m: 'tuple' object does not support item assignment"
     ]
    }
   ],
   "source": [
    "# edição da tupla - levanta um erro\n",
    "xtp[2] = -5\n",
    "xtp"
   ]
  },
  {
   "cell_type": "markdown",
   "metadata": {
    "id": "MrwMBBZjqHE_"
   },
   "source": [
    "De uma forma simplista, a tupla se apresenta como **modo de apenas leitura** enquanto a lista pode ser escrita também. "
   ]
  },
  {
   "cell_type": "markdown",
   "metadata": {},
   "source": [
    "---"
   ]
  }
 ],
 "metadata": {
  "colab": {
   "collapsed_sections": [],
   "name": "Manipulação de Dados em Sequências",
   "provenance": []
  },
  "kernelspec": {
   "display_name": "Python 3 (ipykernel)",
   "language": "python",
   "name": "python3"
  },
  "language_info": {
   "codemirror_mode": {
    "name": "ipython",
    "version": 3
   },
   "file_extension": ".py",
   "mimetype": "text/x-python",
   "name": "python",
   "nbconvert_exporter": "python",
   "pygments_lexer": "ipython3",
   "version": "3.9.7"
  }
 },
 "nbformat": 4,
 "nbformat_minor": 1
}
