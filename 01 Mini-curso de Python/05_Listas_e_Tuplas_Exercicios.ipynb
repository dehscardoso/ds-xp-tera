{
 "cells": [
  {
   "cell_type": "markdown",
   "metadata": {},
   "source": [
    "<img src = \"https://images2.imgbox.com/c1/79/4H1V1tSO_o.png\" width=\"1200\">"
   ]
  },
  {
   "cell_type": "markdown",
   "metadata": {
    "id": "y4yXQaM1oZJt"
   },
   "source": [
    "# Listas e tuplas\n",
    "---\n",
    "Alguns exercícios para você praticar o que apredendeu sobre listas e tuplas"
   ]
  },
  {
   "cell_type": "markdown",
   "metadata": {
    "id": "foQHMOI1lPZ6"
   },
   "source": [
    "### Crie uma lista\n",
    "\n",
    "Criar uma lista com suas comidas favoritas e salve na variavel comida"
   ]
  },
  {
   "cell_type": "code",
   "execution_count": 1,
   "metadata": {
    "id": "7zHHF7qfnRZe"
   },
   "outputs": [],
   "source": [
    "comidas = ['pudim', 'pizza', 'lasanha']"
   ]
  },
  {
   "cell_type": "markdown",
   "metadata": {
    "id": "B9ylDfDaoIr7"
   },
   "source": [
    "### Crie uma nova lista com a quantidade de calorias de cada comida que você citou no exercício anterior e salve na variável `calorias`"
   ]
  },
  {
   "cell_type": "code",
   "execution_count": 2,
   "metadata": {
    "id": "ht2rHZGGnNhP"
   },
   "outputs": [],
   "source": [
    "calorias = [1500, 300, 800]"
   ]
  },
  {
   "cell_type": "markdown",
   "metadata": {
    "id": "pebRpt7lo7Gu"
   },
   "source": [
    "### Com a função `sum` descubra a quantidade total de calorias"
   ]
  },
  {
   "cell_type": "code",
   "execution_count": 3,
   "metadata": {
    "id": "FB9niMMjpKEb"
   },
   "outputs": [
    {
     "data": {
      "text/plain": [
       "2600"
      ]
     },
     "execution_count": 3,
     "metadata": {},
     "output_type": "execute_result"
    }
   ],
   "source": [
    "sum(calorias)"
   ]
  },
  {
   "cell_type": "markdown",
   "metadata": {
    "id": "W0rV1snTpqY0"
   },
   "source": [
    "### Use os colchetes para para selecionar o primeiro item da variável `minha_lista`\n",
    "Dica: Lembre que o Python começa a contar no `0`"
   ]
  },
  {
   "cell_type": "code",
   "execution_count": 4,
   "metadata": {
    "id": "qLkOUvjSppp0"
   },
   "outputs": [],
   "source": [
    "# Rode essa célula\n",
    "a = 25\n",
    "minha_lista = [1, 2, 3, 'quatro', 5.1, [None, a]]"
   ]
  },
  {
   "cell_type": "code",
   "execution_count": 5,
   "metadata": {
    "id": "tnVyK51JDL7C"
   },
   "outputs": [
    {
     "data": {
      "text/plain": [
       "1"
      ]
     },
     "execution_count": 5,
     "metadata": {},
     "output_type": "execute_result"
    }
   ],
   "source": [
    "minha_lista[0]"
   ]
  },
  {
   "cell_type": "markdown",
   "metadata": {
    "id": "tGptabUPCfwv"
   },
   "source": [
    "### Utilize o slice para selecionar do terceiro ao último item da `minha_lista`"
   ]
  },
  {
   "cell_type": "code",
   "execution_count": 6,
   "metadata": {
    "id": "vBgRafgcD_NS"
   },
   "outputs": [
    {
     "data": {
      "text/plain": [
       "[3, 'quatro', 5.1, [None, 25]]"
      ]
     },
     "execution_count": 6,
     "metadata": {},
     "output_type": "execute_result"
    }
   ],
   "source": [
    "minha_lista[2:]"
   ]
  },
  {
   "cell_type": "markdown",
   "metadata": {
    "id": "7EbnjKeiN6_c"
   },
   "source": [
    "###  Na seguinte lista multidimensional, acesse o item em negrito\n",
    "[[1,2,3],[4,5,6],[7,8,[9,**10**]]]\n",
    "<br><br>\n",
    "Dica: o índice `-1` seleciona o último elemento da lista"
   ]
  },
  {
   "cell_type": "code",
   "execution_count": 8,
   "metadata": {
    "id": "Ya7F_kIhO2P_"
   },
   "outputs": [],
   "source": [
    "# Rode esta célula\n",
    "lista_mult = [[1,2,3],[4,5,6],[7,8,[9,10]]]"
   ]
  },
  {
   "cell_type": "code",
   "execution_count": 9,
   "metadata": {
    "id": "iVZdm8ZhO_X2"
   },
   "outputs": [
    {
     "data": {
      "text/plain": [
       "10"
      ]
     },
     "execution_count": 9,
     "metadata": {},
     "output_type": "execute_result"
    }
   ],
   "source": [
    "lista_mult[-1][-1][-1]"
   ]
  },
  {
   "cell_type": "markdown",
   "metadata": {
    "id": "0JvMlY5lKhJ1"
   },
   "source": [
    "### Em uma linha, desempacote os valores de `minha_tupla` nas variáveis `x`, `y` e `z`"
   ]
  },
  {
   "cell_type": "code",
   "execution_count": 10,
   "metadata": {
    "id": "i2NpAnpGMxcf"
   },
   "outputs": [],
   "source": [
    "# Rode esta célula\n",
    "minha_tupla = (10,20,30)"
   ]
  },
  {
   "cell_type": "code",
   "execution_count": 12,
   "metadata": {
    "id": "EmPTc131NSsp"
   },
   "outputs": [],
   "source": [
    "x, y, z, = minha_tupla"
   ]
  },
  {
   "cell_type": "code",
   "execution_count": 13,
   "metadata": {
    "id": "gFFCuIyyM6JQ"
   },
   "outputs": [
    {
     "data": {
      "text/plain": [
       "(10, 20, 30)"
      ]
     },
     "execution_count": 13,
     "metadata": {},
     "output_type": "execute_result"
    }
   ],
   "source": [
    "minha_tupla"
   ]
  },
  {
   "cell_type": "markdown",
   "metadata": {
    "id": "ru4wUDLTHzDa"
   },
   "source": [
    "### (Bônus) Você pode usar o slice em uma `string` assim como na lista. Selecione as 6 primeiras letras da variável `texto2`"
   ]
  },
  {
   "cell_type": "code",
   "execution_count": 14,
   "metadata": {
    "colab": {
     "base_uri": "https://localhost:8080/"
    },
    "id": "ptZJBHzlIIX0",
    "outputId": "4df05703-3bc3-4986-dcc1-e98258132035"
   },
   "outputs": [
    {
     "name": "stdout",
     "output_type": "stream",
     "text": [
      "E\n",
      "n\n",
      "ndo Pytho\n"
     ]
    }
   ],
   "source": [
    "texto = \"Estou estudando Python!\"\n",
    "print(texto[0])\n",
    "print(texto[12])\n",
    "print(texto[12:21])"
   ]
  },
  {
   "cell_type": "code",
   "execution_count": 15,
   "metadata": {
    "id": "969g49e1ITof"
   },
   "outputs": [],
   "source": [
    "# Rode essa célula\n",
    "texto2 = \"Listas e strings são legais\""
   ]
  },
  {
   "cell_type": "code",
   "execution_count": 16,
   "metadata": {
    "id": "pf0xcIOcJKhw"
   },
   "outputs": [
    {
     "data": {
      "text/plain": [
       "'Listas'"
      ]
     },
     "execution_count": 16,
     "metadata": {},
     "output_type": "execute_result"
    }
   ],
   "source": [
    "texto2[0:6]"
   ]
  },
  {
   "cell_type": "markdown",
   "metadata": {
    "id": "AjcDIrJfJ93J"
   },
   "source": [
    "### (Debugging) Encontre e arrume o erro no código abaixo"
   ]
  },
  {
   "cell_type": "code",
   "execution_count": 17,
   "metadata": {
    "colab": {
     "base_uri": "https://localhost:8080/",
     "height": 197
    },
    "id": "-QmDhOC3KGcD",
    "outputId": "9a55c980-df67-4d3a-cc4f-202d7a0ee2a2"
   },
   "outputs": [],
   "source": [
    "bebidas = ['água', 'refrigerante', 'suco']\n",
    "\n",
    "terceira_bebida = bebidas[2]"
   ]
  },
  {
   "cell_type": "code",
   "execution_count": 1,
   "metadata": {},
   "outputs": [
    {
     "ename": "NameError",
     "evalue": "name 'terceira_bebida' is not defined",
     "output_type": "error",
     "traceback": [
      "\u001b[1;31m---------------------------------------------------------------------------\u001b[0m",
      "\u001b[1;31mNameError\u001b[0m                                 Traceback (most recent call last)",
      "\u001b[1;32m~\\AppData\\Local\\Temp/ipykernel_6364/1935747895.py\u001b[0m in \u001b[0;36m<module>\u001b[1;34m\u001b[0m\n\u001b[1;32m----> 1\u001b[1;33m \u001b[0mterceira_bebida\u001b[0m\u001b[1;33m\u001b[0m\u001b[1;33m\u001b[0m\u001b[0m\n\u001b[0m",
      "\u001b[1;31mNameError\u001b[0m: name 'terceira_bebida' is not defined"
     ]
    }
   ],
   "source": [
    "terceira_bebida"
   ]
  },
  {
   "cell_type": "markdown",
   "metadata": {},
   "source": [
    "---"
   ]
  }
 ],
 "metadata": {
  "colab": {
   "name": "Listas e tuplas - Exercícios",
   "provenance": []
  },
  "kernelspec": {
   "display_name": "Python 3 (ipykernel)",
   "language": "python",
   "name": "python3"
  },
  "language_info": {
   "codemirror_mode": {
    "name": "ipython",
    "version": 3
   },
   "file_extension": ".py",
   "mimetype": "text/x-python",
   "name": "python",
   "nbconvert_exporter": "python",
   "pygments_lexer": "ipython3",
   "version": "3.9.7"
  }
 },
 "nbformat": 4,
 "nbformat_minor": 1
}
