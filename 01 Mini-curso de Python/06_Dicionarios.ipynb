{
 "cells": [
  {
   "cell_type": "markdown",
   "metadata": {},
   "source": [
    "<img src = \"https://images2.imgbox.com/c1/79/4H1V1tSO_o.png\" width=\"1200\">"
   ]
  },
  {
   "cell_type": "markdown",
   "metadata": {
    "id": "h3PXi1O8bT_9"
   },
   "source": [
    "# Manipulação de dados com dicionários\n",
    "---"
   ]
  },
  {
   "cell_type": "markdown",
   "metadata": {
    "id": "iNKyyMgWy9Bn"
   },
   "source": [
    "## Conceito"
   ]
  },
  {
   "cell_type": "markdown",
   "metadata": {
    "id": "zkk2f_VGbcUs"
   },
   "source": [
    "A linguagem Python possue uma estrutura bastante utilizada para manipulação de dados. Esta estrutura se chama **dicionário**. Os dicionários são estruturas de dados que mapeiam **chaves** em **valores**.\n",
    "\n",
    "\n",
    "No exemplo a seguir temos um **dicionário** `'entretenimento'` uma **chave** ('séries') e seu respectivo **valor** (`['The Crown'`):\n",
    "\n",
    "```\n",
    "entretenimento = {'séries' : 'The Crown'}\n",
    "```\n"
   ]
  },
  {
   "cell_type": "code",
   "execution_count": null,
   "metadata": {
    "colab": {
     "base_uri": "https://localhost:8080/"
    },
    "id": "LhIrIGgM1Hc6",
    "outputId": "4b953913-5a65-4db7-b29b-bccc41dfe8c0"
   },
   "outputs": [
    {
     "name": "stdout",
     "output_type": "stream",
     "text": [
      "{'séries': 'The Crown'}\n"
     ]
    }
   ],
   "source": [
    "# Criando um novo dicionário\n",
    "entretenimento = {'séries' : 'The Crown'}\n",
    "\n",
    "# Imprimindo o conteúdo deste dicionário\n",
    "print(entretenimento)"
   ]
  },
  {
   "cell_type": "markdown",
   "metadata": {
    "id": "tQnXT57dzP0U"
   },
   "source": [
    "## Criação e Inicialização\n",
    "---"
   ]
  },
  {
   "cell_type": "markdown",
   "metadata": {
    "id": "M8L0vFLwzUty"
   },
   "source": [
    "Os dicionários podem ser inicializados de duas formas:\n",
    "\n",
    "**Criando um dicionário através das `{}`:**\n",
    "\n",
    "```\n",
    "entretenimento = {'filmes' : 'Soul', 'séries' : 'The Crown'}\n",
    "```\n",
    "\n"
   ]
  },
  {
   "cell_type": "code",
   "execution_count": null,
   "metadata": {
    "colab": {
     "base_uri": "https://localhost:8080/"
    },
    "id": "sAWQziCQSJi2",
    "outputId": "8822c97f-5cdc-4498-ab45-d25ad16077b9"
   },
   "outputs": [
    {
     "name": "stdout",
     "output_type": "stream",
     "text": [
      "{'filmes': 'Soul', 'séries': 'The Crown'}\n"
     ]
    }
   ],
   "source": [
    "# Inicializando o dicionário com {}\n",
    "entretenimento = {'filmes' : 'Soul', 'séries' : 'The Crown'}\n",
    "\n",
    "# Imprimindo o conteúdo deste dicionário\n",
    "print(entretenimento)"
   ]
  },
  {
   "cell_type": "markdown",
   "metadata": {
    "id": "qBC66vKI7kpM"
   },
   "source": [
    "**Criando um dicionário através do `dict()`:**\n",
    "\n",
    "```\n",
    "entretenimento = dict([('filmes', 'Soul'), ('séries', 'The Crown')])\n",
    "```\n"
   ]
  },
  {
   "cell_type": "code",
   "execution_count": null,
   "metadata": {
    "colab": {
     "base_uri": "https://localhost:8080/"
    },
    "id": "hUjwxwrk1Fh4",
    "outputId": "7e30c6c4-e094-4abc-e41e-bbc396c5c363"
   },
   "outputs": [
    {
     "name": "stdout",
     "output_type": "stream",
     "text": [
      "{'filmes': 'Soul', 'séries': 'The Crown', 'livros': 'O Pequeno Príncipe'}\n"
     ]
    }
   ],
   "source": [
    "# Inicializando o dicionário com o dict()\n",
    "entretenimento = dict([('filmes', 'Soul'), ('séries', 'The Crown'), ('livros', 'O Pequeno Príncipe')])\n",
    "\n",
    "# Imprimindo o conteúdo deste dicionário\n",
    "print(entretenimento)"
   ]
  },
  {
   "cell_type": "markdown",
   "metadata": {
    "id": "1Nw3OUJH0Eh8"
   },
   "source": [
    "## Acesso aos elementos de um dicionário\n",
    "---"
   ]
  },
  {
   "cell_type": "markdown",
   "metadata": {
    "id": "BiTV8utP0NOO"
   },
   "source": [
    "Os valores de um dicionário podem ser acessados de duas formas:\n",
    "\n",
    "**Acessando os elementos através da chave:**\n",
    "\n",
    "\n",
    "```\n",
    "print(entretenimento['livros'])\n",
    "```\n"
   ]
  },
  {
   "cell_type": "code",
   "execution_count": null,
   "metadata": {
    "colab": {
     "base_uri": "https://localhost:8080/"
    },
    "id": "gL-86qvO1EaJ",
    "outputId": "56f7acfa-1629-440b-f62f-5e8e85f9555f"
   },
   "outputs": [
    {
     "name": "stdout",
     "output_type": "stream",
     "text": [
      "O Pequeno Príncipe\n"
     ]
    }
   ],
   "source": [
    "# Inicializando o dicionário com o dict()\n",
    "entretenimento = dict([('filmes', 'Soul'), ('séries', 'The Crown'), ('livros', 'O Pequeno Príncipe')])\n",
    "\n",
    "# Imprimindo o conteúdo da chave 'livros'\n",
    "print(entretenimento['livros'])"
   ]
  },
  {
   "cell_type": "markdown",
   "metadata": {
    "id": "AT-el3bO8ASs"
   },
   "source": [
    "**Acessando os elementos através da função `get()`:**\n",
    "\n",
    "\n",
    "```\n",
    "print(entretenimento.get('livros'))\n",
    "```\n"
   ]
  },
  {
   "cell_type": "code",
   "execution_count": null,
   "metadata": {
    "colab": {
     "base_uri": "https://localhost:8080/",
     "height": 35
    },
    "id": "hgUjHb5t1DPi",
    "outputId": "38791daf-b4ae-4c85-a3db-7985bf7fdda1"
   },
   "outputs": [
    {
     "data": {
      "application/vnd.google.colaboratory.intrinsic+json": {
       "type": "string"
      },
      "text/plain": [
       "'O Pequeno Príncipe'"
      ]
     },
     "execution_count": 5,
     "metadata": {
      "tags": []
     },
     "output_type": "execute_result"
    }
   ],
   "source": [
    "# Inicializando o dicionário com o dict()\n",
    "entretenimento = dict([('filmes', 'Soul'), ('séries', 'The Crown'), ('livros', 'O Pequeno Príncipe')])\n",
    "\n",
    "# Imprimindo o conteúdo da chave 'livros' utilizando a função 'get'\n",
    "entretenimento.get('livros')"
   ]
  },
  {
   "cell_type": "markdown",
   "metadata": {
    "id": "6xpt7RmE08GW"
   },
   "source": [
    "## Inserindo elementos em um dicionário\n",
    "---"
   ]
  },
  {
   "cell_type": "markdown",
   "metadata": {
    "id": "qx_qzEzZ0_dK"
   },
   "source": [
    "Novos pares de `chave` e `valor` podem ser inseridos em um dicionário já existente.\n",
    "\n",
    "```\n",
    "entretenimento['cantoras'] = 'Taylor Swift'\n",
    "```\n",
    "\n"
   ]
  },
  {
   "cell_type": "code",
   "execution_count": null,
   "metadata": {
    "colab": {
     "base_uri": "https://localhost:8080/"
    },
    "id": "57hS0gfm1B07",
    "outputId": "4f0d1499-a9c5-4e1e-81aa-892e41d19233"
   },
   "outputs": [
    {
     "name": "stdout",
     "output_type": "stream",
     "text": [
      "Antes:\n",
      "{'filmes': 'Soul', 'séries': 'The Crown', 'livros': 'O Pequeno Príncipe'}\n",
      "Depois:\n",
      "{'filmes': 'Soul', 'séries': 'The Crown', 'livros': 'O Pequeno Príncipe', 'cantoras': 'Taylor Swift'}\n"
     ]
    }
   ],
   "source": [
    "# Inicializando o dicionário com o dict()\n",
    "entretenimento = dict([('filmes', 'Soul'), ('séries', 'The Crown'), ('livros', 'O Pequeno Príncipe')])\n",
    "\n",
    "# Imprimindo o conteúdo deste dicionário antes da inserção\n",
    "print('Antes:')\n",
    "print(entretenimento)\n",
    "\n",
    "# Inserindo um novo elemento neste dicionario\n",
    "entretenimento['cantoras'] = 'Taylor Swift'\n",
    "\n",
    "# Imprimindo o conteúdo deste dicionário após da inserção\n",
    "print('Depois:')\n",
    "print(entretenimento)"
   ]
  },
  {
   "cell_type": "markdown",
   "metadata": {
    "id": "FVG10DY102J2"
   },
   "source": [
    "## Remoção de elementos de um dicionário\n",
    "---"
   ]
  },
  {
   "cell_type": "markdown",
   "metadata": {
    "id": "2tOwPJXQ06Pp"
   },
   "source": [
    "Também é possível remover um par `chave:valor` com o comando `del()`.\n",
    "\n",
    "```\n",
    "del entretenimento['livros']\n",
    "```\n",
    "\n"
   ]
  },
  {
   "cell_type": "code",
   "execution_count": null,
   "metadata": {
    "colab": {
     "base_uri": "https://localhost:8080/"
    },
    "id": "o9TGQbpjcjfO",
    "outputId": "65acddd6-be21-43a0-b834-ca1f82422299"
   },
   "outputs": [
    {
     "name": "stdout",
     "output_type": "stream",
     "text": [
      "Antes:\n",
      "{'filmes': 'Soul', 'séries': 'The Crown', 'livros': 'O Pequeno Príncipe'}\n",
      "Depois:\n",
      "{'filmes': 'Soul', 'séries': 'The Crown'}\n"
     ]
    }
   ],
   "source": [
    "# Inicializando o dicionário com o dict()\n",
    "entretenimento = dict([('filmes', 'Soul'), ('séries', 'The Crown'), ('livros', 'O Pequeno Príncipe')])\n",
    "\n",
    "# Imprimindo o conteúdo deste dicionário antes da inserção\n",
    "print('Antes:')\n",
    "print(entretenimento)\n",
    "\n",
    "# Inserindo um novo elemento neste dicionario\n",
    "del entretenimento['livros'] \n",
    "\n",
    "# Imprimindo o conteúdo deste dicionário após da inserção\n",
    "print('Depois:')\n",
    "print(entretenimento)"
   ]
  },
  {
   "cell_type": "code",
   "execution_count": 1,
   "metadata": {
    "colab": {
     "base_uri": "https://localhost:8080/"
    },
    "id": "0zvYjTMZtZ2w",
    "outputId": "e31e8d83-4d52-4d92-c71a-4fb06bce2aa6"
   },
   "outputs": [
    {
     "name": "stdout",
     "output_type": "stream",
     "text": [
      "<class 'list'>\n"
     ]
    }
   ],
   "source": [
    "print(type([1, 2, 3]))"
   ]
  },
  {
   "cell_type": "markdown",
   "metadata": {},
   "source": [
    "---"
   ]
  }
 ],
 "metadata": {
  "colab": {
   "collapsed_sections": [
    "iNKyyMgWy9Bn",
    "tQnXT57dzP0U",
    "1Nw3OUJH0Eh8",
    "6xpt7RmE08GW",
    "7MYgjMrF1Q5o"
   ],
   "name": "Manipulação de dados com dicionários",
   "provenance": []
  },
  "kernelspec": {
   "display_name": "Python 3 (ipykernel)",
   "language": "python",
   "name": "python3"
  },
  "language_info": {
   "codemirror_mode": {
    "name": "ipython",
    "version": 3
   },
   "file_extension": ".py",
   "mimetype": "text/x-python",
   "name": "python",
   "nbconvert_exporter": "python",
   "pygments_lexer": "ipython3",
   "version": "3.9.7"
  }
 },
 "nbformat": 4,
 "nbformat_minor": 1
}
