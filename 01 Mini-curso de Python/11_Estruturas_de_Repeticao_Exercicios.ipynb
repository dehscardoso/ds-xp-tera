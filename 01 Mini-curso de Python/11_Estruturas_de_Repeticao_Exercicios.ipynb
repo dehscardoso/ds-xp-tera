{
 "cells": [
  {
   "cell_type": "markdown",
   "metadata": {},
   "source": [
    "<img src = \"https://images2.imgbox.com/c1/79/4H1V1tSO_o.png\" width=\"1200\">"
   ]
  },
  {
   "cell_type": "markdown",
   "metadata": {
    "id": "ejAscLZ0U5DO"
   },
   "source": [
    "# Estruturas de repetição - Exercícios"
   ]
  },
  {
   "cell_type": "markdown",
   "metadata": {
    "id": "vj0gIq6vYBTl"
   },
   "source": [
    "Crie um código que imprima todos os nomes da lista abaixo"
   ]
  },
  {
   "cell_type": "code",
   "execution_count": 1,
   "metadata": {
    "id": "koim5bBNYCFJ"
   },
   "outputs": [],
   "source": [
    "nomes = ['Felipe','Marcela','Heloisa','Bruno','Vitoria','Barbara','Andreza','Bernardo']"
   ]
  },
  {
   "cell_type": "code",
   "execution_count": 2,
   "metadata": {
    "id": "QqwySGEPYCb_"
   },
   "outputs": [
    {
     "name": "stdout",
     "output_type": "stream",
     "text": [
      "Felipe\n",
      "Marcela\n",
      "Heloisa\n",
      "Bruno\n",
      "Vitoria\n",
      "Barbara\n",
      "Andreza\n",
      "Bernardo\n"
     ]
    }
   ],
   "source": [
    "for nome in nomes:\n",
    "    print(nome)"
   ]
  },
  {
   "cell_type": "markdown",
   "metadata": {
    "id": "F1-K6TaeUm03"
   },
   "source": [
    "### Da lista de números abaixo, crie uma estrutura de repetição usando `for` encadeada com uma estrutura condicional que imprima:\n",
    "\n",
    "* `É múltiplo de 3` se o número for múltiplo de 3\n",
    "* `É múltiplo de 5` se o número for múltiplo de 5\n",
    "* `É outro número` caso contrario"
   ]
  },
  {
   "cell_type": "code",
   "execution_count": 3,
   "metadata": {
    "id": "xS6QtEHxUd1U"
   },
   "outputs": [],
   "source": [
    "numeros_ex1 = [2,3,5,7,8,10,12,14,15,17]"
   ]
  },
  {
   "cell_type": "code",
   "execution_count": 4,
   "metadata": {
    "id": "XsrbY7W5U95y"
   },
   "outputs": [
    {
     "name": "stdout",
     "output_type": "stream",
     "text": [
      "É outro número\n",
      "É múltiplo de 3\n",
      "É múltiplo de 5\n",
      "É outro número\n",
      "É outro número\n",
      "É múltiplo de 5\n",
      "É múltiplo de 3\n",
      "É outro número\n",
      "É múltiplo de 3\n",
      "É outro número\n"
     ]
    }
   ],
   "source": [
    "for i in numeros_ex1:\n",
    "    if i % 3 == 0:\n",
    "        print(\"É múltiplo de 3\")\n",
    "    elif i % 5 == 0:\n",
    "        print(\"É múltiplo de 5\")\n",
    "    else:\n",
    "        print('É outro número')"
   ]
  },
  {
   "cell_type": "markdown",
   "metadata": {
    "id": "KPfAm-wTVxkR"
   },
   "source": [
    "### Da lista de números abaixo, crie uma nova lista que contenha apenas os números múltiplos de 7"
   ]
  },
  {
   "cell_type": "code",
   "execution_count": 5,
   "metadata": {
    "id": "sJie8phwVzit"
   },
   "outputs": [],
   "source": [
    "numeros_ex2 = [4,5,7,8,10,14,17,21,31,45,49,70]"
   ]
  },
  {
   "cell_type": "code",
   "execution_count": 6,
   "metadata": {
    "id": "pA49PD4OV4T_"
   },
   "outputs": [
    {
     "data": {
      "text/plain": [
       "[7, 14, 21, 49, 70]"
      ]
     },
     "execution_count": 6,
     "metadata": {},
     "output_type": "execute_result"
    }
   ],
   "source": [
    "nova_lista = []\n",
    "\n",
    "for i in numeros_ex2:\n",
    "    if i % 7 == 0:\n",
    "        nova_lista.append(i)\n",
    "\n",
    "nova_lista"
   ]
  },
  {
   "cell_type": "code",
   "execution_count": 7,
   "metadata": {
    "id": "5xm5mmU1Wl2E"
   },
   "outputs": [
    {
     "data": {
      "text/plain": [
       "[7, 14, 21, 49, 70]"
      ]
     },
     "execution_count": 7,
     "metadata": {},
     "output_type": "execute_result"
    }
   ],
   "source": [
    "#Com list comprehension\n",
    "[i for i in numeros_ex2 if i % 7==0]"
   ]
  },
  {
   "cell_type": "markdown",
   "metadata": {
    "id": "5Jp9Uv2yYIq6"
   },
   "source": [
    "### **for** loop com **f-string**. Pegue a lista de nomes abaixo e com um `for` loop, imprima: \"Olá, **nome**!\". Substituindo o nome por cada elemento da lista"
   ]
  },
  {
   "cell_type": "code",
   "execution_count": 8,
   "metadata": {
    "id": "9MsnpNwyYwmH"
   },
   "outputs": [],
   "source": [
    "#Rode essa célula\n",
    "nomes = ['Sócrates', 'Pitágoras', 'Aristóteles', 'Platão', 'Parmênides']"
   ]
  },
  {
   "cell_type": "code",
   "execution_count": 9,
   "metadata": {
    "id": "Csa0oXlHZRXR"
   },
   "outputs": [
    {
     "name": "stdout",
     "output_type": "stream",
     "text": [
      "Olá, Sócrates!\n",
      "Olá, Pitágoras!\n",
      "Olá, Aristóteles!\n",
      "Olá, Platão!\n",
      "Olá, Parmênides!\n"
     ]
    }
   ],
   "source": [
    "for nome in nomes:\n",
    "    print(f\"Olá, {nome}!\")"
   ]
  },
  {
   "cell_type": "markdown",
   "metadata": {
    "id": "YhVU7x_BZxMU"
   },
   "source": [
    "### (Desafio) Dado a lista `numeros` abaixo. Faça um `for` loop que conte quantos são os números pares e quantos são os números ímpares"
   ]
  },
  {
   "cell_type": "code",
   "execution_count": 10,
   "metadata": {
    "id": "Nw2WO3-jaVFS"
   },
   "outputs": [],
   "source": [
    "numeros = [1, 2, 3, 4, 5, 6, 7, 8, 9]\n",
    "numeros_impares = 0\n",
    "numeros_pares = 0"
   ]
  },
  {
   "cell_type": "code",
   "execution_count": 11,
   "metadata": {
    "id": "e-ND4OrqZxna"
   },
   "outputs": [
    {
     "name": "stdout",
     "output_type": "stream",
     "text": [
      "Quantidade de numeros pares: 5\n",
      "Quantidade de numeros impares: 4\n"
     ]
    }
   ],
   "source": [
    "for x in numeros:\n",
    "    if x % 2 == 0:\n",
    "        numeros_impares = numeros_impares + 1\n",
    "    else:\n",
    "        numeros_pares = numeros_pares + 1\n",
    "print(f\"Quantidade de numeros pares: {numeros_pares}\")\n",
    "print(f\"Quantidade de numeros impares: {numeros_impares}\")\n"
   ]
  }
 ],
 "metadata": {
  "colab": {
   "name": "Estruturas de repetição - Exercícios",
   "provenance": []
  },
  "kernelspec": {
   "display_name": "Python 3 (ipykernel)",
   "language": "python",
   "name": "python3"
  },
  "language_info": {
   "codemirror_mode": {
    "name": "ipython",
    "version": 3
   },
   "file_extension": ".py",
   "mimetype": "text/x-python",
   "name": "python",
   "nbconvert_exporter": "python",
   "pygments_lexer": "ipython3",
   "version": "3.9.7"
  }
 },
 "nbformat": 4,
 "nbformat_minor": 1
}
