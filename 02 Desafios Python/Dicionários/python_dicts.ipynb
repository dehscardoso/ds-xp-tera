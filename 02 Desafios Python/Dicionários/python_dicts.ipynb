{
 "cells": [
  {
   "cell_type": "markdown",
   "metadata": {},
   "source": [
    "<img src = \"https://images2.imgbox.com/c1/79/4H1V1tSO_o.png\" width=\"1200\">"
   ]
  },
  {
   "cell_type": "markdown",
   "metadata": {},
   "source": [
    "# Antes de começar, uma pequena introdução aos dicionários em Python"
   ]
  },
  {
   "cell_type": "markdown",
   "metadata": {},
   "source": [
    "Dicionários podem armazenar diversos valores, além de strings e ints, é possível armazenar listas, arrays, funções, outros dicionários e muito mais!\n",
    "\n",
    "Os dicionários em Python são mapeamentos associativos desordenados, ou seja, o mapeamento é feito a partir de uma chave. \n",
    "\n",
    "Veja o exemplo abaixo:"
   ]
  },
  {
   "cell_type": "code",
   "execution_count": 1,
   "metadata": {},
   "outputs": [
    {
     "data": {
      "text/plain": [
       "{'chave1': 'valor1', 'chave2': 'valor2', 'chave3': 'valor3'}"
      ]
     },
     "execution_count": 1,
     "metadata": {},
     "output_type": "execute_result"
    }
   ],
   "source": [
    "#Note que o exemplo \"my_dict\" é um dicionário composto de 3 items, 3 chaves e 3 valores\n",
    "\n",
    "my_dict = {'chave1':'valor1', \n",
    "           'chave2':'valor2', \n",
    "           'chave3':'valor3'}\n",
    "\n",
    "my_dict"
   ]
  },
  {
   "cell_type": "markdown",
   "metadata": {},
   "source": [
    "### Items\n",
    "\n",
    " Os items correspondem a todos os componentes do dicionário"
   ]
  },
  {
   "cell_type": "code",
   "execution_count": 2,
   "metadata": {},
   "outputs": [
    {
     "data": {
      "text/plain": [
       "dict_items([('chave1', 'valor1'), ('chave2', 'valor2'), ('chave3', 'valor3')])"
      ]
     },
     "execution_count": 2,
     "metadata": {},
     "output_type": "execute_result"
    }
   ],
   "source": [
    "my_dict.items()"
   ]
  },
  {
   "cell_type": "markdown",
   "metadata": {},
   "source": [
    "### Chaves\n",
    "\n",
    " As Chaves correspondem a todos os primeiros items do dicionário"
   ]
  },
  {
   "cell_type": "code",
   "execution_count": 3,
   "metadata": {},
   "outputs": [
    {
     "data": {
      "text/plain": [
       "dict_keys(['chave1', 'chave2', 'chave3'])"
      ]
     },
     "execution_count": 3,
     "metadata": {},
     "output_type": "execute_result"
    }
   ],
   "source": [
    "my_dict.keys()"
   ]
  },
  {
   "cell_type": "markdown",
   "metadata": {},
   "source": [
    "### Valores\n",
    "\n",
    " Os valores correspondem a todos os segundos items do dicionário"
   ]
  },
  {
   "cell_type": "code",
   "execution_count": 4,
   "metadata": {},
   "outputs": [
    {
     "data": {
      "text/plain": [
       "dict_values(['valor1', 'valor2', 'valor3'])"
      ]
     },
     "execution_count": 4,
     "metadata": {},
     "output_type": "execute_result"
    }
   ],
   "source": [
    "my_dict.values()"
   ]
  },
  {
   "cell_type": "markdown",
   "metadata": {},
   "source": [
    "**Veja abaixo alguns métodos úteis para utilizar neste notebook**\n",
    "\n",
    "<li>copy()\tReturns a copy of the dictionary\n",
    "<li>fromkeys()\tReturns a dictionary with the specified keys and value\n",
    "<li>get()\tReturns the value of the specified key\n",
    "<li>items()\tReturns a list containing a tuple for each key value pair\n",
    "<li>keys()\tReturns a list containing the dictionary's keys\n",
    "<li>pop()\tRemoves the element with the specified key\n",
    "<li>popitem()\tRemoves the last inserted key-value pair\n",
    "<li>setdefault()\tReturns the value of the specified key. If the key does not exist: insert the key, with the specified value\n",
    "<li>update()\tUpdates the dictionary with the specified key-value pairs\n",
    "<li>values()\tReturns a list of all the values in the dictionary\n",
    "   "
   ]
  },
  {
   "cell_type": "markdown",
   "metadata": {},
   "source": [
    "<img src = \"img/Banner_News.jpg\"/>"
   ]
  },
  {
   "cell_type": "markdown",
   "metadata": {},
   "source": [
    "# Seja muito bem vindo, aventureiro(a)!\n",
    "\n",
    " Você acaba de iniciar sua jornada pelo mundo de Pyonia, terra de reis, rainhas, dragões e criaturas mágicas!\n",
    "\n",
    "Aqui em Pyonia as leis da física e a realidade não são lá tão importantes, tudo que importa é quão longe seu código em Python e imaginação podem chegar.\n",
    "\n",
    "\n",
    "Pois bem, aventureiro(a), é chegada a hora de apresentar sua **missão**!\n",
    "\n",
    "Você é um camponês nascido na plebe do reino Sul de Pyonia, toda riqueza que possui são **100 moedas** e **um cristal de rubi** deixados pelo seu falecido pai, mas sua pobre vida pacata toma um novo curso quando o rei promete riquezas com valor incanculável para aquele que derrotar o lendário Dragon Vermelho, Tiamat.\n",
    "\n",
    "### O jogo:\n",
    "\n",
    "No mundo de Pyonia é proibido alterar a célula do dicionário principal, utilize a sintaxe python e os métodos de manipulação de dicionários para adaptar o seu inventário à narrativa da história nas células posteriores.\n",
    "\n",
    "Se você é inesperiente com Python ou com o Jupyter notebook, é aconselhável que você insira seu código entre os comentários **#COMECE SEU CÓDIGO AQUI** e **#TERMINE SEU CÓDIGO AQUI** para uma melhor experiência com esse notebook.\n",
    "\n",
    "De qualquer forma, fique à vontade para abrir novas células e consultar o google, stackoverflow e afins caso não saiba resolver algo. A comunidade é nossa amiga!"
   ]
  },
  {
   "cell_type": "code",
   "execution_count": 20,
   "metadata": {},
   "outputs": [],
   "source": [
    "# Rode essa célula para iniciar o Jogo\n",
    "# Se você alterar essa célula Pyonia irá se auto destruir\n",
    "inventory = {'nome':'seu nome aqui',\n",
    "             'moedas':100,\n",
    "             'objetos':['espada de madeira','armadura de pano'],\n",
    "             'bolso' :'',\n",
    "             'mochila': {'tochas':2, 'cristais de rubi':1}}"
   ]
  },
  {
   "cell_type": "markdown",
   "metadata": {},
   "source": [
    "## Parte 1"
   ]
  },
  {
   "cell_type": "markdown",
   "metadata": {},
   "source": [
    " Já sabemos que você é um(a) aventureiro(a), mas todo aventureiro(a) precisa de um nome.\n",
    "\n",
    "**Tarefa:**\n",
    "\n",
    "Substitua o valor 'seu nome aqui' pelo seu nome, real ou fictício."
   ]
  },
  {
   "cell_type": "code",
   "execution_count": 21,
   "metadata": {},
   "outputs": [
    {
     "data": {
      "text/plain": [
       "{'nome': 'Deborah',\n",
       " 'moedas': 100,\n",
       " 'objetos': ['espada de madeira', 'armadura de pano'],\n",
       " 'bolso': '',\n",
       " 'mochila': {'tochas': 2, 'cristais de rubi': 1}}"
      ]
     },
     "execution_count": 21,
     "metadata": {},
     "output_type": "execute_result"
    }
   ],
   "source": [
    "inventory['nome'] = 'Deborah'  \n",
    "\n",
    "inventory"
   ]
  },
  {
   "cell_type": "markdown",
   "metadata": {},
   "source": [
    "## Parte 2"
   ]
  },
  {
   "cell_type": "markdown",
   "metadata": {},
   "source": [
    "Neste momento você encontra-se determinado para embarcar na sua missão e decide passar no centro da cidade de Pytown para comprar alguns itens que possam lhe ajudar.\n",
    "\n",
    "100 moedas não é lá muito dinheiro em Pyonia, então você decide trabalhar por um dia inteiro para um mercante da cidade de Pytown e ganha 1500 moedas!\n",
    "\n",
    "**Tarefa:**\n",
    "\n",
    "Some 1500 à chave \"moedas\" do seu inventário"
   ]
  },
  {
   "cell_type": "code",
   "execution_count": 22,
   "metadata": {},
   "outputs": [
    {
     "data": {
      "text/plain": [
       "{'nome': 'Deborah',\n",
       " 'moedas': 1600,\n",
       " 'objetos': ['espada de madeira', 'armadura de pano'],\n",
       " 'bolso': '',\n",
       " 'mochila': {'tochas': 2, 'cristais de rubi': 1}}"
      ]
     },
     "execution_count": 22,
     "metadata": {},
     "output_type": "execute_result"
    }
   ],
   "source": [
    "inventory['moedas'] += 1500\n",
    "\n",
    "inventory"
   ]
  },
  {
   "cell_type": "markdown",
   "metadata": {},
   "source": [
    "--------------------------\n",
    "**Resultado esperado**: \n",
    "\n",
    "\n",
    "<table>\n",
    "    <tr> \n",
    "\n",
    " {'nome': 'Seu nome escolhido',            \n",
    " 'moedas': 1600,            \n",
    " 'objetos': ['espada de madeira', 'armadura de pano'],            \n",
    " 'bolso': '',            \n",
    " 'mochila': {'tochas': 2, 'cristais de rubi': 1}} \n",
    "    </tr>\n",
    "</table> \n",
    "\n"
   ]
  },
  {
   "cell_type": "markdown",
   "metadata": {},
   "source": [
    "## Parte 3"
   ]
  },
  {
   "cell_type": "markdown",
   "metadata": {},
   "source": [
    "Seu amigo de infância, Protagoras, soube que você estava embarcando em uma aventura para matar o lendário Tiamat e lhe deu um escudo de bronze para ajudar-lhe nessa perigosa missão!\n",
    "\n",
    "**Tarefa:**\n",
    "\n",
    "Adicione um escudo de bronze dentro da lista da chave \"objetos\""
   ]
  },
  {
   "cell_type": "code",
   "execution_count": 23,
   "metadata": {},
   "outputs": [
    {
     "data": {
      "text/plain": [
       "{'nome': 'Deborah',\n",
       " 'moedas': 1600,\n",
       " 'objetos': ['espada de madeira', 'armadura de pano', 'escudo de bronze'],\n",
       " 'bolso': '',\n",
       " 'mochila': {'tochas': 2, 'cristais de rubi': 1}}"
      ]
     },
     "execution_count": 23,
     "metadata": {},
     "output_type": "execute_result"
    }
   ],
   "source": [
    "inventory['objetos'].append('escudo de bronze')\n",
    "\n",
    "inventory"
   ]
  },
  {
   "cell_type": "markdown",
   "metadata": {},
   "source": [
    "--------------------------\n",
    "**Resultado esperado**: \n",
    "\n",
    "\n",
    "<table>\n",
    "    <tr> \n",
    "\n",
    " {'nome': 'Seu nome escolhido',            \n",
    " 'moedas': 1600,            \n",
    " 'objetos': ['espada de madeira', 'armadura de pano', 'escudo de bronze'],            \n",
    " 'bolso': '',            \n",
    " 'mochila': {'tochas': 2, 'cristais de rubi': 1}} \n",
    "    </tr>\n",
    "</table> \n",
    "\n"
   ]
  },
  {
   "cell_type": "markdown",
   "metadata": {},
   "source": [
    "## Parte 4"
   ]
  },
  {
   "cell_type": "markdown",
   "metadata": {},
   "source": [
    "O lendário dragão Tiamat não tem cara de muitos amigos e não parece que será derrotado por uma mera espada de madeira. Para juntar mais moedas e comprar uma nova espada, você vendeu seu cristal de rubi por 5000 moedas para um mercante em Pytown.\n",
    "\n",
    "**Tarefa:**\n",
    "\n",
    "1)Subtraia 1 cristal de rubi do seu dicionário \"mochila\" dentro do dicionário \"inventory\".                                       \n",
    "2)Some 5000 moedas à chave \"moedas\" em seu inventário.\n"
   ]
  },
  {
   "cell_type": "code",
   "execution_count": 24,
   "metadata": {},
   "outputs": [
    {
     "data": {
      "text/plain": [
       "{'nome': 'Deborah',\n",
       " 'moedas': 6600,\n",
       " 'objetos': ['espada de madeira', 'armadura de pano', 'escudo de bronze'],\n",
       " 'bolso': '',\n",
       " 'mochila': {'tochas': 2, 'cristais de rubi': 0}}"
      ]
     },
     "execution_count": 24,
     "metadata": {},
     "output_type": "execute_result"
    }
   ],
   "source": [
    "inventory['mochila']['cristais de rubi'] -= 1 \n",
    "inventory['moedas'] += 5000\n",
    "\n",
    "inventory"
   ]
  },
  {
   "cell_type": "markdown",
   "metadata": {},
   "source": [
    "--------------------------\n",
    "**Resultado esperado**: \n",
    "\n",
    "\n",
    "<table>\n",
    "    <tr> \n",
    "\n",
    " {'nome': 'Seu nome escolhido',            \n",
    " 'moedas': 6600,            \n",
    " 'objetos': ['espada de madeira', 'armadura de pano', 'escudo de bronze'],            \n",
    " 'bolso': '',            \n",
    " 'mochila': {'tochas': 2, 'cristais de rubi': 0}} \n",
    "    </tr>\n",
    "</table> \n",
    "\n"
   ]
  },
  {
   "cell_type": "markdown",
   "metadata": {},
   "source": [
    "## Parte 5"
   ]
  },
  {
   "cell_type": "markdown",
   "metadata": {},
   "source": [
    "WOW! 6600 moedas não está nada mal! São quase 2 dolares na cotação atual de pymoneys (moeda local em Pyonia). Você foi até o ferreiro e trocou sua espada de madeira + 6500 moedas por uma espada de aço.\n",
    "\n",
    "**Tarefa:** \n",
    "\n",
    "1)Subtraia 6500 moedas da chave \"moedas\".                                             \n",
    "2)Troque sua \"espada de madeira\" por uma \"espada de aço\" na lista \"objetos\"."
   ]
  },
  {
   "cell_type": "code",
   "execution_count": 25,
   "metadata": {},
   "outputs": [
    {
     "data": {
      "text/plain": [
       "{'nome': 'Deborah',\n",
       " 'moedas': 100,\n",
       " 'objetos': ['espada de aço', 'armadura de pano', 'escudo de bronze'],\n",
       " 'bolso': '',\n",
       " 'mochila': {'tochas': 2, 'cristais de rubi': 0}}"
      ]
     },
     "execution_count": 25,
     "metadata": {},
     "output_type": "execute_result"
    }
   ],
   "source": [
    "inventory['moedas'] -= 6500\n",
    "inventory['objetos'][0] = 'espada de aço'\n",
    "\n",
    "inventory"
   ]
  },
  {
   "cell_type": "markdown",
   "metadata": {},
   "source": [
    "--------------------------\n",
    "**Resultado esperado**: \n",
    "\n",
    "\n",
    "<table>\n",
    "    <tr> \n",
    "\n",
    " {'nome': 'Seu nome escolhido',            \n",
    " 'moedas': 100,            \n",
    " 'objetos': ['espada de aço', 'armadura de pano', 'escudo de bronze'],            \n",
    " 'bolso': '',            \n",
    " 'mochila': {'tochas': 2, 'cristais de rubi': 0}} \n",
    "    </tr>\n",
    "</table> \n",
    "\n"
   ]
  },
  {
   "cell_type": "markdown",
   "metadata": {},
   "source": [
    "# Parte 6"
   ]
  },
  {
   "cell_type": "markdown",
   "metadata": {},
   "source": [
    "Está na hora, guerreiro(a)! Você saiu pelos portões da cidade de Pytown seguindo para o extremo norte de Pyonia, onde habita o lendário Tiamat e no meio do caminho encontrou uma sacola contendo uma pederneira!\n",
    "\n",
    "**Tarefa:** \n",
    "\n",
    "Adicione um dicionário dentro do item \"bolso\". A chave desse dicionário deve chamar-se \"sacola\" e \"pederneira\" deve ser o valor do item no dicionário.\n"
   ]
  },
  {
   "cell_type": "code",
   "execution_count": 26,
   "metadata": {},
   "outputs": [
    {
     "data": {
      "text/plain": [
       "{'nome': 'Deborah',\n",
       " 'moedas': 100,\n",
       " 'objetos': ['espada de aço', 'armadura de pano', 'escudo de bronze'],\n",
       " 'bolso': {'sacola': 'pederneira'},\n",
       " 'mochila': {'tochas': 2, 'cristais de rubi': 0}}"
      ]
     },
     "execution_count": 26,
     "metadata": {},
     "output_type": "execute_result"
    }
   ],
   "source": [
    "inventory['bolso'] = {'sacola': 'pederneira'}\n",
    "\n",
    "inventory"
   ]
  },
  {
   "cell_type": "markdown",
   "metadata": {},
   "source": [
    "--------------------------\n",
    "**Resultado esperado**: \n",
    "\n",
    "\n",
    "<table>\n",
    "    <tr> \n",
    "\n",
    " {'nome': 'Seu nome escolhido',            \n",
    " 'moedas': 100,            \n",
    " 'objetos': ['espada de aço', 'armadura de pano', 'escudo de bronze'],            \n",
    " 'bolso': {'sacola':'pederneira'},            \n",
    " 'mochila': {'tochas': 2, 'cristais de rubi': 0}} \n",
    "    </tr>\n",
    "</table> \n",
    "\n"
   ]
  },
  {
   "cell_type": "markdown",
   "metadata": {},
   "source": [
    "## Parte 7"
   ]
  },
  {
   "cell_type": "markdown",
   "metadata": {},
   "source": [
    "Após 3 dias de longas caminhadas você chegou ao covil do lendário dragão Tiamat! Mas espere! O que é aquilo no chão? Parabéns, você encontrou 2 cristais de esmeralda!\n",
    "\n",
    "**Tarefa:**\n",
    "\n",
    "Adicione os 2 cristais de esmeralda como um item do dicionário \"mochila\". \"cristais de esmeralda\" será a chave e \"2\" será o valor.\n"
   ]
  },
  {
   "cell_type": "code",
   "execution_count": 27,
   "metadata": {},
   "outputs": [
    {
     "data": {
      "text/plain": [
       "{'nome': 'Deborah',\n",
       " 'moedas': 100,\n",
       " 'objetos': ['espada de aço', 'armadura de pano', 'escudo de bronze'],\n",
       " 'bolso': {'sacola': 'pederneira'},\n",
       " 'mochila': {'tochas': 2, 'cristais de rubi': 0, 'cristais de esmeralda': 2}}"
      ]
     },
     "execution_count": 27,
     "metadata": {},
     "output_type": "execute_result"
    }
   ],
   "source": [
    "inventory['mochila']['cristais de esmeralda'] = 2\n",
    "\n",
    "inventory"
   ]
  },
  {
   "cell_type": "markdown",
   "metadata": {},
   "source": [
    "--------------------------\n",
    "**Resultado esperado**: \n",
    "\n",
    "\n",
    "<table>\n",
    "    <tr> \n",
    "\n",
    " {'nome': 'Seu nome escolhido',            \n",
    " 'moedas': 100,            \n",
    " 'objetos': ['espada de aço', 'armadura de pano', 'escudo de bronze'],            \n",
    " 'bolso': {'sacola':'pederneira'},            \n",
    " 'mochila': {'tochas': 2, 'cristais de rubi': 0, 'cristais de esmeralda': 2}} \n",
    "    </tr>\n",
    "</table> "
   ]
  },
  {
   "cell_type": "markdown",
   "metadata": {},
   "source": [
    "## Parte 8"
   ]
  },
  {
   "cell_type": "markdown",
   "metadata": {},
   "source": [
    "O covil de Tiamat parece estar escuro. Utilize uma tocha e sua pederneira para gerar luz\n",
    "\n",
    "**Tarefa:** \n",
    "\n",
    "Troque o valor de suas tochas para 1, utilize o métrodo update() para isso."
   ]
  },
  {
   "cell_type": "code",
   "execution_count": 29,
   "metadata": {},
   "outputs": [
    {
     "data": {
      "text/plain": [
       "{'nome': 'Deborah',\n",
       " 'moedas': 100,\n",
       " 'objetos': ['espada de aço', 'armadura de pano', 'escudo de bronze'],\n",
       " 'bolso': {'sacola': 'pederneira'},\n",
       " 'mochila': {'tochas': 1, 'cristais de rubi': 0, 'cristais de esmeralda': 2}}"
      ]
     },
     "execution_count": 29,
     "metadata": {},
     "output_type": "execute_result"
    }
   ],
   "source": [
    "inventory['mochila'].update({'tochas': 1})\n",
    "\n",
    "inventory"
   ]
  },
  {
   "cell_type": "markdown",
   "metadata": {},
   "source": [
    "--------------------------\n",
    "**Resultado esperado**: \n",
    "\n",
    "\n",
    "<table>\n",
    "    <tr> \n",
    "\n",
    " {'nome': 'Seu nome escolhido',            \n",
    " 'moedas': 100,            \n",
    " 'objetos': ['espada de aço', 'armadura de pano', 'escudo de bronze'],            \n",
    " 'bolso': {'sacola':'pederneira'},            \n",
    " 'mochila': {'tochas': 1, 'cristais de rubi': 0, 'cristais de esmeralda': 2}} \n",
    "    </tr>\n",
    "</table> \n",
    "\n"
   ]
  },
  {
   "cell_type": "markdown",
   "metadata": {},
   "source": [
    "## Parte 9"
   ]
  },
  {
   "cell_type": "markdown",
   "metadata": {},
   "source": [
    "Você caminha por alguns minutos para dentro do covil quando sente uma corrente de ar quente passando por todo seu corpo, é ele! O grande dragão Tiamat! Sua única chance de vencer é tirar o número 10 no dado! (mas quem precisa de um dado quando se está programando em python, não é mesmo?)\n",
    "\n",
    "**Tarefa:**\n",
    "\n",
    "Crie um loop while que utiliza um método randint que gera números aleatórios de 1 a 10 e só para quando o resultado for 10. Printe cada iteração do loop"
   ]
  },
  {
   "cell_type": "code",
   "execution_count": 33,
   "metadata": {},
   "outputs": [
    {
     "name": "stdout",
     "output_type": "stream",
     "text": [
      "6\n",
      "7\n",
      "2\n",
      "10\n"
     ]
    }
   ],
   "source": [
    "import random\n",
    "\n",
    "n = random.randint(1, 10)\n",
    "\n",
    "while n != 10:\n",
    "    n = random.randint(1, 10)\n",
    "    print(n)"
   ]
  },
  {
   "cell_type": "markdown",
   "metadata": {},
   "source": [
    "--------------------------\n",
    "**Resultado esperado**: (Note que os números podem não ser os mesmos, pois são gerados de forma aleatória)\n",
    "\n",
    "\n",
    "<table>\n",
    "    <tr> \n",
    "\n",
    "9                                                                                                                            \n",
    "1                                                                                                                            \n",
    "2                                                                                                                            \n",
    "7                                                                                                                            \n",
    "3                                                                                                                            \n",
    "5                                                                                                                            \n",
    "5                                                                                                                            \n",
    "8                                                                                                                            \n",
    "4                                                                                                                            \n",
    "1                                                                                                                            \n",
    "10                                                                                                                             \n",
    "    </tr>\n",
    "</table> "
   ]
  },
  {
   "cell_type": "markdown",
   "metadata": {},
   "source": [
    "## Parte 10"
   ]
  },
  {
   "cell_type": "markdown",
   "metadata": {},
   "source": [
    "Yesssss, parece que você venceu! O que é aqui? Parece que Tiamat estava guardando algum tipo de baú do tesouro, ao abrir o baú você se depara com 3 tochas, 3 cristais de rubi e 3 cristais de esmeralda!\n",
    "\n",
    "**Tarefa:**\n",
    "\n",
    "Crie um loop que soma 3 a todos os valores do dicionário \"mochila\"."
   ]
  },
  {
   "cell_type": "code",
   "execution_count": 34,
   "metadata": {},
   "outputs": [
    {
     "data": {
      "text/plain": [
       "{'nome': 'Deborah',\n",
       " 'moedas': 100,\n",
       " 'objetos': ['espada de aço', 'armadura de pano', 'escudo de bronze'],\n",
       " 'bolso': {'sacola': 'pederneira'},\n",
       " 'mochila': {'tochas': 4, 'cristais de rubi': 3, 'cristais de esmeralda': 5}}"
      ]
     },
     "execution_count": 34,
     "metadata": {},
     "output_type": "execute_result"
    }
   ],
   "source": [
    "for i in inventory['mochila'].keys():\n",
    "    inventory['mochila'][i] += 3\n",
    "\n",
    "inventory"
   ]
  },
  {
   "cell_type": "markdown",
   "metadata": {},
   "source": [
    "--------------------------\n",
    "**Resultado esperado**: \n",
    "\n",
    "\n",
    "<table>\n",
    "    <tr> \n",
    "\n",
    " {'nome': 'Seu nome escolhido',            \n",
    " 'moedas': 100,            \n",
    " 'objetos': ['espada de aço', 'armadura de pano', 'escudo de bronze'],            \n",
    " 'bolso': {'sacola':'pederneira'},            \n",
    " 'mochila': {'tochas': 4, 'cristais de rubi': 3, 'cristais de esmeralda': 5}} \n",
    "    </tr>\n",
    "</table> \n"
   ]
  },
  {
   "cell_type": "markdown",
   "metadata": {},
   "source": [
    "# Parabéns aventureiro(a)!\n",
    "\n",
    "# Você retornou à Pytown e aclamou o seu prêmio por derrotar o dragão, é uma nova era em Pyonia!"
   ]
  },
  {
   "cell_type": "markdown",
   "metadata": {},
   "source": [
    "<img src = \"img/maxresdefault.jpg\"/>"
   ]
  },
  {
   "cell_type": "markdown",
   "metadata": {},
   "source": [
    "---------------------------------------------------------\n",
    "\n",
    "# Material adicional\n",
    "\n",
    "Este é um material experimental, caso contenha algum bug ou sugestão de melhoria seria muito bem vindo o feedback :)"
   ]
  },
  {
   "cell_type": "markdown",
   "metadata": {},
   "source": [
    "# POKEMON QUEST\n",
    "\n",
    "Utilizamos um dataset já existente sobre pokemons e seus sprites para realizar construir estes exercícios. Você pode conferi-lo <a href=\"https://github.com/fanzeyi/pokemon.json\"> aqui </a>"
   ]
  },
  {
   "cell_type": "markdown",
   "metadata": {},
   "source": [
    "Parabéns por chegar até aqui, e muito obrigado por estar lendo este notebook, já que não é um exercício obrigatório\n",
    "\n",
    "Abaixo, você importará os arquivos do dataset pokemon necessário para que você realize os exercícios!\n",
    " \n"
   ]
  },
  {
   "cell_type": "markdown",
   "metadata": {},
   "source": [
    "<img src = \"img/duiartPokemon.jpg\"/>"
   ]
  },
  {
   "cell_type": "code",
   "execution_count": 2,
   "metadata": {},
   "outputs": [],
   "source": [
    "## Caso essa seja a primeira vez que você esteja executando este notebook, descomente o código abaixo e o execute\n",
    "## Esse código irá instalar alguns pacotes necessários para que os exercícios possam ser executados\n",
    "\n",
    "!pip install PIL\n",
    "!pip install json\n",
    "!pip install random"
   ]
  },
  {
   "cell_type": "code",
   "execution_count": 3,
   "metadata": {},
   "outputs": [],
   "source": [
    "# Essa função irá mostrar na tela o pokemon que você indicar por meio do parâmetro \"id_pokemon\"\n",
    "def devolver_imagem(id_pokemon):\n",
    "    \n",
    "    string_png = \"data/sprites/{:03d}MS.png\".format(id_pokemon-1)\n",
    "    print(dataset[index-1][\"name\"])\n",
    "\n",
    "    return carregar_imagem(string_png)"
   ]
  },
  {
   "cell_type": "code",
   "execution_count": 4,
   "metadata": {},
   "outputs": [],
   "source": [
    "def carregar_imagem(source):\n",
    "    im = Image.open(source)\n",
    "    \n",
    "    return im"
   ]
  },
  {
   "cell_type": "code",
   "execution_count": 5,
   "metadata": {},
   "outputs": [],
   "source": [
    "#Importando os dados\n",
    "import json\n",
    "from PIL import Image\n",
    "\n",
    "with open(\"data/pokedex.json\", encoding=\"utf-8\") as dataset:\n",
    "    dataset = json.load(dataset)"
   ]
  },
  {
   "cell_type": "code",
   "execution_count": 6,
   "metadata": {},
   "outputs": [
    {
     "name": "stdout",
     "output_type": "stream",
     "text": [
      "o tipo deste dataset é: <class 'list'>\n",
      "o tipo do primeiro item dentro desta lista é: <class 'dict'>\n",
      "este é o primeiro item da lista:\n"
     ]
    },
    {
     "data": {
      "text/plain": [
       "{'id': 1,\n",
       " 'name': {'english': 'Bulbasaur',\n",
       "  'japanese': 'フシギダネ',\n",
       "  'chinese': '妙蛙种子',\n",
       "  'french': 'Bulbizarre'},\n",
       " 'type': ['Grass', 'Poison'],\n",
       " 'base': {'HP': 45,\n",
       "  'Attack': 49,\n",
       "  'Defense': 49,\n",
       "  'Sp. Attack': 65,\n",
       "  'Sp. Defense': 65,\n",
       "  'Speed': 45}}"
      ]
     },
     "execution_count": 6,
     "metadata": {},
     "output_type": "execute_result"
    }
   ],
   "source": [
    "#Conhecendo os Dados\n",
    "print(\"o tipo deste dataset é: \" + str(type(dataset)))\n",
    "print(\"o tipo do primeiro item dentro desta lista é: \" + str(type(dataset[0])))\n",
    "\n",
    "print(\"este é o primeiro item da lista:\")\n",
    "\n",
    "dataset[0]"
   ]
  },
  {
   "cell_type": "code",
   "execution_count": 68,
   "metadata": {},
   "outputs": [
    {
     "name": "stdout",
     "output_type": "stream",
     "text": [
      "{'english': 'Ivysaur', 'japanese': 'フシギソウ', 'chinese': '妙蛙草', 'french': 'Herbizarre'}\n"
     ]
    },
    {
     "data": {
      "image/png": "[encoded data removed]",
      "text/plain": [
       "<PIL.PngImagePlugin.PngImageFile image mode=P size=40x40 at 0x192660C5F40>"
      ]
     },
     "execution_count": 68,
     "metadata": {},
     "output_type": "execute_result"
    }
   ],
   "source": [
    "devolver_imagem(dataset[index][\"id\"])"
   ]
  },
  {
   "cell_type": "markdown",
   "metadata": {},
   "source": [
    "Agora que você já importou os arquivos necessários, leia as perguntas abaixo atentamente, e utilize dos conhecimentos aprendidos anteriormente para responder essas perguntas"
   ]
  },
  {
   "cell_type": "markdown",
   "metadata": {},
   "source": [
    "# Pergunta Nº 1\n",
    "\n",
    "#### Qual seu pokémon favorito?\n",
    "\n",
    "Dentro da lista <b>dataset</b>, encontre seu pokémon favorito e printe o dicionário correspondente às informações dele\n",
    "\n",
    "Caso você não tenha um pokemon favorito, utilize o método randInt para criar um número aleatório e imprimir as informações de um pokemon aleatorio"
   ]
  },
  {
   "cell_type": "code",
   "execution_count": 69,
   "metadata": {},
   "outputs": [
    {
     "name": "stdout",
     "output_type": "stream",
     "text": [
      "{'english': 'Vulpix', 'japanese': 'ロコン', 'chinese': '六尾', 'french': 'Goupix'}\n"
     ]
    },
    {
     "data": {
      "image/png": "[encoded data removed]",
      "text/plain": [
       "<PIL.PngImagePlugin.PngImageFile image mode=P size=40x40 at 0x192661F7F40>"
      ]
     },
     "execution_count": 69,
     "metadata": {},
     "output_type": "execute_result"
    }
   ],
   "source": [
    "#Quero um pokemon aleatório!\n",
    "\n",
    "import random\n",
    "\n",
    "index = random.randint(0,130)\n",
    "devolver_imagem(dataset[index][\"id\"])"
   ]
  },
  {
   "cell_type": "code",
   "execution_count": 70,
   "metadata": {},
   "outputs": [
    {
     "name": "stdout",
     "output_type": "stream",
     "text": [
      "{'english': 'Venusaur', 'japanese': 'フシギバナ', 'chinese': '妙蛙花', 'french': 'Florizarre'}\n"
     ]
    },
    {
     "data": {
      "image/png": "[encoded data removed]",
      "text/plain": [
       "<PIL.PngImagePlugin.PngImageFile image mode=P size=40x40 at 0x192662947F0>"
      ]
     },
     "execution_count": 70,
     "metadata": {},
     "output_type": "execute_result"
    }
   ],
   "source": [
    "#Quero escolher meu pokemon!\n",
    "\n",
    "for i in range(len(dataset)):\n",
    "    if dataset[i]['name']['english'] == 'Venusaur':\n",
    "        index = dataset[i]['id']\n",
    "\n",
    "devolver_imagem(dataset[index][\"id\"])"
   ]
  },
  {
   "cell_type": "markdown",
   "metadata": {},
   "source": [
    "# Pergunta Nº 2\n",
    "\n",
    "#### Qual o pokémon com a maior HP base?\n",
    "\n",
    "Dentro das chaves do dicionário, você encontrará a chave <b>base</b>.\n",
    "Essa chave contém as características do pokémon, como vida, velocidade, força, etc.\n",
    "\n",
    "Utilizando um loop, função, ou outro método, descubra qual o pokémon com maior HP base (vida)"
   ]
  },
  {
   "cell_type": "code",
   "execution_count": 72,
   "metadata": {},
   "outputs": [
    {
     "name": "stdout",
     "output_type": "stream",
     "text": [
      "Blissey\n",
      "255\n",
      "{'english': 'Blissey', 'japanese': 'ハピナス', 'chinese': '幸福蛋', 'french': 'Leuphorie'}\n"
     ]
    },
    {
     "data": {
      "image/png": "[encoded data removed]",
      "text/plain": [
       "<PIL.PngImagePlugin.PngImageFile image mode=P size=40x40 at 0x192662A2910>"
      ]
     },
     "execution_count": 72,
     "metadata": {},
     "output_type": "execute_result"
    }
   ],
   "source": [
    "max_hp = 0\n",
    "for i in range(len(dataset)):\n",
    "    if dataset[i]['base']['HP'] > max_hp:\n",
    "        \n",
    "        max_hp = dataset[i]['base']['HP']\n",
    "        name = dataset[i]['name']['english']\n",
    "        index = dataset[i]['id']\n",
    "\n",
    "print(name)\n",
    "print(max_hp)\n",
    "devolver_imagem(dataset[index][\"id\"])"
   ]
  },
  {
   "cell_type": "markdown",
   "metadata": {},
   "source": [
    "# Pergunta Nº 3\n",
    "\n",
    "#### Há quantos pokémons do tipo \"Grass\" dentro do dicionário?\n",
    "\n",
    "Dentro de cada item da lista, você encontrará a chave <b>Type</b>, que corresponde ao tipo do pokémon. \n",
    "\n",
    "Realize uma contagem de todos os pokémons do tipo Grama (<I>Grass</I>)"
   ]
  },
  {
   "cell_type": "code",
   "execution_count": 71,
   "metadata": {},
   "outputs": [
    {
     "name": "stdout",
     "output_type": "stream",
     "text": [
      "A sua contagem do total de pokémons de grama foi: 97\n"
     ]
    }
   ],
   "source": [
    "contagem_grama = 0\n",
    "\n",
    "for i in range(len(dataset)):\n",
    "    if 'Grass' in dataset[i]['type']:\n",
    "        contagem_grama += 1\n",
    "\n",
    "print(\"A sua contagem do total de pokémons de grama foi: \" + str(contagem_grama))"
   ]
  }
 ],
 "metadata": {
  "kernelspec": {
   "display_name": "Python 3 (ipykernel)",
   "language": "python",
   "name": "python3"
  },
  "language_info": {
   "codemirror_mode": {
    "name": "ipython",
    "version": 3
   },
   "file_extension": ".py",
   "mimetype": "text/x-python",
   "name": "python",
   "nbconvert_exporter": "python",
   "pygments_lexer": "ipython3",
   "version": "3.9.7"
  }
 },
 "nbformat": 4,
 "nbformat_minor": 4
}
