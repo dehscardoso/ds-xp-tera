{
 "cells": [
  {
   "cell_type": "markdown",
   "metadata": {},
   "source": [
    "<img src = \"https://images2.imgbox.com/c1/79/4H1V1tSO_o.png\" width=\"1200\">"
   ]
  },
  {
   "cell_type": "markdown",
   "metadata": {},
   "source": [
    "# 1 - Crie uma função que recebe dois valores e checa se eles são maiores ou menores que 100"
   ]
  },
  {
   "cell_type": "code",
   "execution_count": 4,
   "metadata": {},
   "outputs": [],
   "source": [
    "x = 54\n",
    "y = 33"
   ]
  },
  {
   "cell_type": "code",
   "execution_count": 5,
   "metadata": {},
   "outputs": [
    {
     "data": {
      "text/plain": [
       "True"
      ]
     },
     "execution_count": 5,
     "metadata": {},
     "output_type": "execute_result"
    }
   ],
   "source": [
    "# seu código aqui:\n",
    "def test_num(x, y):\n",
    "    if (x + y) < 100:\n",
    "        return True\n",
    "    return False\n",
    "\n",
    "test_num(x, y)"
   ]
  },
  {
   "cell_type": "markdown",
   "metadata": {},
   "source": [
    "output: True"
   ]
  },
  {
   "cell_type": "markdown",
   "metadata": {},
   "source": [
    "# 2 - Crie uma função que conta o número de vogais de uma string"
   ]
  },
  {
   "cell_type": "code",
   "execution_count": 6,
   "metadata": {},
   "outputs": [],
   "source": [
    "x = \"paralelepipedo\""
   ]
  },
  {
   "cell_type": "code",
   "execution_count": 8,
   "metadata": {},
   "outputs": [
    {
     "data": {
      "text/plain": [
       "Counter({'a': 2, 'e': 3, 'i': 1, 'o': 1})"
      ]
     },
     "execution_count": 8,
     "metadata": {},
     "output_type": "execute_result"
    }
   ],
   "source": [
    "# seu código aqui:\n",
    "import re\n",
    "from collections import Counter\n",
    "\n",
    "def vogais(x):\n",
    "    return Counter(re.sub('[^aeiouAEIOU]', '', x))\n",
    "\n",
    "vogais(x)"
   ]
  },
  {
   "cell_type": "markdown",
   "metadata": {},
   "source": [
    "output: 7"
   ]
  },
  {
   "cell_type": "markdown",
   "metadata": {},
   "source": [
    "# 3 - Temos uma lista com números de 1 a 10, porém existe um número faltando. Crie uma função que recebe essa lista e retorna o número faltante."
   ]
  },
  {
   "cell_type": "code",
   "execution_count": 9,
   "metadata": {},
   "outputs": [],
   "source": [
    "lista  = [7, 2, 3, 6, 5, 10, 1, 4, 8]"
   ]
  },
  {
   "cell_type": "code",
   "execution_count": 10,
   "metadata": {},
   "outputs": [
    {
     "data": {
      "text/plain": [
       "9"
      ]
     },
     "execution_count": 10,
     "metadata": {},
     "output_type": "execute_result"
    }
   ],
   "source": [
    "# seu código aqui:\n",
    "\n",
    "def num_faltante(x):\n",
    "    for i in range(1,11):\n",
    "        if i not in x:\n",
    "            return i\n",
    "        \n",
    "num_faltante(lista)"
   ]
  },
  {
   "cell_type": "markdown",
   "metadata": {},
   "source": [
    "output: 9"
   ]
  },
  {
   "cell_type": "markdown",
   "metadata": {},
   "source": [
    "# 4 - Crie uma função que recebe uma lista de integers, a função deve retornar o número que aparece uma quantidade ímpar de vezes"
   ]
  },
  {
   "cell_type": "code",
   "execution_count": 12,
   "metadata": {},
   "outputs": [],
   "source": [
    "lista  = [20, 1, 1, 2, 2, 3, 3, 5, 5, 4, 20, 4, 5]"
   ]
  },
  {
   "cell_type": "code",
   "execution_count": 13,
   "metadata": {},
   "outputs": [
    {
     "data": {
      "text/plain": [
       "5"
      ]
     },
     "execution_count": 13,
     "metadata": {},
     "output_type": "execute_result"
    }
   ],
   "source": [
    "# seu código aqui:\n",
    "\n",
    "def impar(x):\n",
    "    for i in x:\n",
    "        if x.count(i) % 2 != 0:\n",
    "            return i\n",
    "        \n",
    "impar(lista)"
   ]
  },
  {
   "cell_type": "markdown",
   "metadata": {},
   "source": [
    "output: 5"
   ]
  },
  {
   "cell_type": "markdown",
   "metadata": {},
   "source": [
    "# 5 - Escreva um código que retire valores de uma lista, com base nos valores de outra lista e imprima o texto do output"
   ]
  },
  {
   "cell_type": "code",
   "execution_count": 14,
   "metadata": {},
   "outputs": [],
   "source": [
    "#lista base:\n",
    "lista1 = [1, 7, 5, 2, 10, 34, 621, 45, 7, 76, 23, \"a\", 14, 6]\n",
    "\n",
    "#excluir da lista base os valores que aparecem na lista abaixo:\n",
    "lista2 = ['a', 'b', 'c', 7, 10, 23, 14]"
   ]
  },
  {
   "cell_type": "code",
   "execution_count": 15,
   "metadata": {},
   "outputs": [
    {
     "name": "stdout",
     "output_type": "stream",
     "text": [
      "A lista1 perdeu 6 elementos e agora possui 8 elementos\n"
     ]
    }
   ],
   "source": [
    "# seu código aqui:\n",
    "\n",
    "x = len(lista1)\n",
    "lista1 = [x for x in lista1 if x not in lista2]\n",
    "y = len(lista1)\n",
    "\n",
    "print('A lista1 perdeu {} elementos e agora possui {} elementos'.format(x-y,y))"
   ]
  },
  {
   "cell_type": "markdown",
   "metadata": {},
   "source": [
    "output: A lista1 perdeu 6 elementos e agora possui 8 elementos"
   ]
  },
  {
   "cell_type": "markdown",
   "metadata": {},
   "source": [
    "# 6 - Escreva um código que imprima os valores pares do resultantes de: range(20)"
   ]
  },
  {
   "cell_type": "code",
   "execution_count": 17,
   "metadata": {},
   "outputs": [],
   "source": [
    "x = range(20)"
   ]
  },
  {
   "cell_type": "code",
   "execution_count": 18,
   "metadata": {},
   "outputs": [
    {
     "name": "stdout",
     "output_type": "stream",
     "text": [
      "[0, 2, 4, 6, 8, 10, 12, 14, 16, 18]\n"
     ]
    }
   ],
   "source": [
    "# seu código aqui:\n",
    "\n",
    "lista = [ i for i in x if i % 2 == 0]\n",
    "print(lista)"
   ]
  },
  {
   "cell_type": "markdown",
   "metadata": {},
   "source": [
    "output: [0, 2, 4, 6, 8, 10, 12, 14, 16, 18]"
   ]
  },
  {
   "cell_type": "markdown",
   "metadata": {},
   "source": [
    "# 7 - Escreva uma função recebe o número inputado via função input (), e retorna se esse número é positivo, negativo ou igual a zero"
   ]
  },
  {
   "cell_type": "code",
   "execution_count": 19,
   "metadata": {},
   "outputs": [
    {
     "name": "stdout",
     "output_type": "stream",
     "text": [
      "digite um número: 15\n"
     ]
    }
   ],
   "source": [
    "# número inputado via função input() abaixo, basta rodar a célula\n",
    "y = float(input(\"digite um número: \"))\n"
   ]
  },
  {
   "cell_type": "code",
   "execution_count": 20,
   "metadata": {},
   "outputs": [
    {
     "name": "stdout",
     "output_type": "stream",
     "text": [
      "O número é positivo\n"
     ]
    }
   ],
   "source": [
    "# seu código aqui:\n",
    "\n",
    "def checar_numero (x):\n",
    "    if x >= 0:\n",
    "        if x == 0:\n",
    "            return print(\"Zero\")\n",
    "        else:\n",
    "            return print(\"O número é positivo\")\n",
    "    else:\n",
    "        return print(\"O número é negativo\")\n",
    "    \n",
    "checar_numero (y)"
   ]
  },
  {
   "cell_type": "markdown",
   "metadata": {},
   "source": [
    "output: vai depender do valor da primeira célula, mas o resultado pode variar entre \"Zero\", \"O número é positivo\" e \"O número é negativo\""
   ]
  }
 ],
 "metadata": {
  "kernelspec": {
   "display_name": "Python 3 (ipykernel)",
   "language": "python",
   "name": "python3"
  },
  "language_info": {
   "codemirror_mode": {
    "name": "ipython",
    "version": 3
   },
   "file_extension": ".py",
   "mimetype": "text/x-python",
   "name": "python",
   "nbconvert_exporter": "python",
   "pygments_lexer": "ipython3",
   "version": "3.9.7"
  }
 },
 "nbformat": 4,
 "nbformat_minor": 2
}
