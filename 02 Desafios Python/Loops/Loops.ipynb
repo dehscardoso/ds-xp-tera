{
 "cells": [
  {
   "cell_type": "markdown",
   "metadata": {},
   "source": [
    "# Loops\n",
    "\n",
    "Os loops são uma das ferramentas mais poderosas em Python. Através deles podemos automatizar tarefas repetitivas\n",
    "<br> ampliar nosso poder lógico-matemático e criar rotinas e tarefas encadeadas de forma obediente.\n",
    "\n",
    "<p> Em outras palavras, programar loops é como dar ordens explícitas ao computador. "
   ]
  },
  {
   "cell_type": "markdown",
   "metadata": {},
   "source": [
    "### Reminder 1\n",
    "<b>Existem basicamente 3 tipos de loops:</b>"
   ]
  },
  {
   "cell_type": "markdown",
   "metadata": {},
   "source": [
    "<li> <b>Loop for:</b>"
   ]
  },
  {
   "cell_type": "code",
   "execution_count": 1,
   "metadata": {},
   "outputs": [
    {
     "name": "stdout",
     "output_type": "stream",
     "text": [
      "1\n",
      "2\n",
      "3\n",
      "4\n",
      "5\n",
      "6\n",
      "7\n",
      "8\n",
      "9\n",
      "10\n"
     ]
    }
   ],
   "source": [
    "#esse loop é criado a partir de cada elemento de um objeto (nesse caso, uma lista). \n",
    "lista = [0, 1, 2, 3, 4, 5, 6, 7, 8, 9]\n",
    "for item in lista:\n",
    "    print(item + 1)"
   ]
  },
  {
   "cell_type": "markdown",
   "metadata": {},
   "source": [
    "<li> <b>While loop:</b>"
   ]
  },
  {
   "cell_type": "code",
   "execution_count": 2,
   "metadata": {},
   "outputs": [
    {
     "name": "stdout",
     "output_type": "stream",
     "text": [
      "10\n",
      "9\n",
      "8\n",
      "7\n",
      "6\n",
      "5\n",
      "4\n",
      "3\n",
      "2\n",
      "1\n",
      "0\n"
     ]
    }
   ],
   "source": [
    "#esse loop é criado a partir de uma afirmação seja ela verdadeira True or False. Ela é verificada a cada interação.\n",
    "x = 10\n",
    "while x >= 0:\n",
    "    print(x)\n",
    "    x -= 1"
   ]
  },
  {
   "cell_type": "markdown",
   "metadata": {},
   "source": [
    "<li> <b>Range loops:</b>"
   ]
  },
  {
   "cell_type": "code",
   "execution_count": 3,
   "metadata": {},
   "outputs": [
    {
     "name": "stdout",
     "output_type": "stream",
     "text": [
      "1\n",
      "2\n",
      "3\n",
      "4\n",
      "5\n",
      "6\n",
      "7\n",
      "8\n",
      "9\n",
      "10\n",
      "lista construída no loop = [1, 2, 3, 4, 5, 6, 7, 8, 9, 10]\n"
     ]
    }
   ],
   "source": [
    "#esse loop é criado a partir de um intervalo (ou range) de valorer, que vai determinar a sua duração\n",
    "listinha = []\n",
    "for item in range(10):\n",
    "    print(item + 1)\n",
    "    listinha.append(item + 1)\n",
    "print('lista construída no loop =', listinha)"
   ]
  },
  {
   "cell_type": "markdown",
   "metadata": {},
   "source": [
    "### Reminder 2\n",
    "Além dos tipos de loops, é importante revisarmos alguns <b>métodos</b> e <b>funções</b>:\n",
    "<li>str.upper() -> faz com que todas as letras fiquem maiúsculas\n",
    "<li>str.lower() -> faz com que todas as letras fiquem minúsculas   \n",
    "<li>str.count(\"caractere\") -> conta a ocorrência daqueles caracteres na string\n",
    "<li>str.split() -> separa strings em listas\n",
    "<li>lista.count(item) -> conta a ocorrência daquele item na lista lista.index(item) -> retorna o index correpondente ao item na lista\n",
    "<li>lista.append(item) -> adiciona o item à lista\n",
    "<li>lista.remove(item) -> remove o item da lista\n",
    "<li>lista.reverse() -> inverte a ordem dos itens na lista\n",
    "<li>max() -> retorna o valor máximo de uma lista\n",
    "<li>len() -> retorna a quantidade de itens em uma lista ou a quantidade de caracteres em uma string\n",
    "<li>round() -> arredonda números decimais\n",
    "<li>str() -> converte os dados em string\n",
    "<li>sum(lista) -> soma todos os números de uma lista\n",
    "   "
   ]
  },
  {
   "cell_type": "code",
   "execution_count": 4,
   "metadata": {},
   "outputs": [
    {
     "name": "stdout",
     "output_type": "stream",
     "text": [
      "0\n",
      "4\n",
      "8\n",
      "12\n",
      "16\n",
      "20\n",
      "24\n",
      "28\n",
      "32\n",
      "36\n",
      "40\n",
      "44\n",
      "48\n",
      "52\n",
      "56\n",
      "60\n",
      "64\n",
      "68\n",
      "72\n",
      "76\n",
      "80\n",
      "84\n",
      "88\n",
      "92\n",
      "96\n",
      "lista números de 0 a 100, saltando de 4 em 4 = [0, 4, 8, 12, 16, 20, 24, 28, 32, 36, 40, 44, 48, 52, 56, 60, 64, 68, 72, 76, 80, 84, 88, 92, 96]\n"
     ]
    }
   ],
   "source": [
    "lista_4 = []\n",
    "for item in range(0,100, 4):\n",
    "    print(item)\n",
    "    lista_4.append(item)\n",
    "print('lista números de 0 a 100, saltando de 4 em 4 =', lista_4)"
   ]
  },
  {
   "cell_type": "markdown",
   "metadata": {},
   "source": [
    "#### Exercício 1: Quantos elementos existem na lista_4?\n"
   ]
  },
  {
   "cell_type": "code",
   "execution_count": 5,
   "metadata": {},
   "outputs": [
    {
     "data": {
      "text/plain": [
       "25"
      ]
     },
     "execution_count": 5,
     "metadata": {},
     "output_type": "execute_result"
    }
   ],
   "source": [
    "#seu código que retorna a quantidade de elementos na lista_4\n",
    "len(lista_4)"
   ]
  },
  {
   "cell_type": "markdown",
   "metadata": {},
   "source": [
    "#### Exercício 2: Dada a lista nomes, crie uma nova lista com todos os nomes em minúsculo"
   ]
  },
  {
   "cell_type": "code",
   "execution_count": 6,
   "metadata": {},
   "outputs": [],
   "source": [
    "lista_nomes = ['David Stern',\n",
    "'Don Larsen',\n",
    "'Doug Hart',\n",
    "'Norberto Barroca',\n",
    "'Qasem Soleimani',\n",
    "'Abu Mahdi al-Muhandis',\n",
    "'Nathaël Julan',\n",
    "'Antonio Ricardo Droher Rodrigues',\n",
    "'Júlio Castro Caldas',\n",
    "'Herbert Binkert',\n",
    "'Hans Tilkowski',\n",
    "'Ana Maria Primavesi',\n",
    "'Luiz Parreiras',\n",
    "'Luís Morais',\n",
    "'Tiago Brandão',\n",
    "'Bernt Andersson',\n",
    "'Khamis Al-Owairan',\n",
    "'Elizabeth Wurtzel',\n",
    "'Neil Peart',\n",
    "'Pilar de Espanha',\n",
    "'Buck Henry',\n",
    "'Peter Kirstein',\n",
    "'Guido Messina',\n",
    "'Wolfgang Dauner',\n",
    "'Qaboos bin Said Al Said',\n",
    "'António Gervásio',\n",
    "'Valdir de Moraes',\n",
    "'Fernanda Pires da Silva',\n",
    "'Tom Belsø',\n",
    "'Paulo Gonçalves',\n",
    "'Roger Scruton',\n",
    "'Isabel-Clara Simó',\n",
    "'Jean Delumeau',\n",
    "'Giampaolo Pansa',\n",
    "'José Camargo',\n",
    "'Rocky Johnson',\n",
    "'Bruno Nettl',\n",
    "'Christopher Tolkien',\n",
    "'Luiz Vieira',\n",
    "'Barry Tuckwell',\n",
    "'Efraín Sánchez',\n",
    "'Khagendra Thapa Magar',\n",
    "'Pietro Anastasi',\n",
    "'Marilene Dabus',\n",
    "'Cláudio Roditi',\n",
    "'Marcelo Dolabela',\n",
    "'Shin Kyuk-ho',\n",
    "'Jimmy Heath',\n",
    "'Antônio de Queiroz Galvão',\n",
    "'Terry Jones',\n",
    "'Sébastien Demorand',\n",
    "'Hédi Baccouche',\n",
    "'Theodor Wagner',\n",
    "'Meritxell Negre',\n",
    "'Alfred Körner',\n",
    "'José Lemos Ferreira',\n",
    "'Armando Uribe',\n",
    "'Frederick Ballantyne',\n",
    "'Clayton M. Christensen',\n",
    "'Sérgio Noronha',\n",
    "'Pete Stark',\n",
    "'José Theodoro Mendes',\n",
    "'Ibsen Pinheiro',\n",
    "'Rob Rensenbrink',\n",
    "'Tunai', 'Pedro',\n",
    "'Kobe Bryant',\n",
    "'Marcos César Formiga Ramos',\n",
    "'Louis Nirenberg',\n",
    "'Flamarion Nunes',\n",
    "'Ronald Levinsohn',\n",
    "'Allen Brown',\n",
    "'Carlos Rocha',\n",
    "'Antônio Martins Vasconcelos',\n",
    "'Blagoja Georgievski',\n",
    "'Manuel Resende',\n",
    "'Frank Press',\n",
    "'John Andretti',\n",
    "'Anne Cox Chambers',\n",
    "'Mary Higgins Clark',\n",
    "'César Zabala',\n",
    "'Rafael Ventura Melià',\n",
    "'Wen Zengxian']"
   ]
  },
  {
   "cell_type": "code",
   "execution_count": 7,
   "metadata": {},
   "outputs": [],
   "source": [
    "#insira seu código aqui para transformar todos os nomes em minúsculo e imprimir a lista resultante\n",
    "lista_minuscula = []\n",
    "for i in lista_nomes: \n",
    "    lista_minuscula.append(str.lower(i))"
   ]
  },
  {
   "cell_type": "code",
   "execution_count": 8,
   "metadata": {},
   "outputs": [
    {
     "data": {
      "text/plain": [
       "['David Stern',\n",
       " 'Don Larsen',\n",
       " 'Doug Hart',\n",
       " 'Norberto Barroca',\n",
       " 'Qasem Soleimani',\n",
       " 'Abu Mahdi al-Muhandis',\n",
       " 'Nathaël Julan',\n",
       " 'Antonio Ricardo Droher Rodrigues',\n",
       " 'Júlio Castro Caldas',\n",
       " 'Herbert Binkert',\n",
       " 'Hans Tilkowski',\n",
       " 'Ana Maria Primavesi',\n",
       " 'Luiz Parreiras',\n",
       " 'Luís Morais',\n",
       " 'Tiago Brandão',\n",
       " 'Bernt Andersson',\n",
       " 'Khamis Al-Owairan',\n",
       " 'Elizabeth Wurtzel',\n",
       " 'Neil Peart',\n",
       " 'Pilar de Espanha',\n",
       " 'Buck Henry',\n",
       " 'Peter Kirstein',\n",
       " 'Guido Messina',\n",
       " 'Wolfgang Dauner',\n",
       " 'Qaboos bin Said Al Said',\n",
       " 'António Gervásio',\n",
       " 'Valdir de Moraes',\n",
       " 'Fernanda Pires da Silva',\n",
       " 'Tom Belsø',\n",
       " 'Paulo Gonçalves',\n",
       " 'Roger Scruton',\n",
       " 'Isabel-Clara Simó',\n",
       " 'Jean Delumeau',\n",
       " 'Giampaolo Pansa',\n",
       " 'José Camargo',\n",
       " 'Rocky Johnson',\n",
       " 'Bruno Nettl',\n",
       " 'Christopher Tolkien',\n",
       " 'Luiz Vieira',\n",
       " 'Barry Tuckwell',\n",
       " 'Efraín Sánchez',\n",
       " 'Khagendra Thapa Magar',\n",
       " 'Pietro Anastasi',\n",
       " 'Marilene Dabus',\n",
       " 'Cláudio Roditi',\n",
       " 'Marcelo Dolabela',\n",
       " 'Shin Kyuk-ho',\n",
       " 'Jimmy Heath',\n",
       " 'Antônio de Queiroz Galvão',\n",
       " 'Terry Jones',\n",
       " 'Sébastien Demorand',\n",
       " 'Hédi Baccouche',\n",
       " 'Theodor Wagner',\n",
       " 'Meritxell Negre',\n",
       " 'Alfred Körner',\n",
       " 'José Lemos Ferreira',\n",
       " 'Armando Uribe',\n",
       " 'Frederick Ballantyne',\n",
       " 'Clayton M. Christensen',\n",
       " 'Sérgio Noronha',\n",
       " 'Pete Stark',\n",
       " 'José Theodoro Mendes',\n",
       " 'Ibsen Pinheiro',\n",
       " 'Rob Rensenbrink',\n",
       " 'Tunai',\n",
       " 'Pedro',\n",
       " 'Kobe Bryant',\n",
       " 'Marcos César Formiga Ramos',\n",
       " 'Louis Nirenberg',\n",
       " 'Flamarion Nunes',\n",
       " 'Ronald Levinsohn',\n",
       " 'Allen Brown',\n",
       " 'Carlos Rocha',\n",
       " 'Antônio Martins Vasconcelos',\n",
       " 'Blagoja Georgievski',\n",
       " 'Manuel Resende',\n",
       " 'Frank Press',\n",
       " 'John Andretti',\n",
       " 'Anne Cox Chambers',\n",
       " 'Mary Higgins Clark',\n",
       " 'César Zabala',\n",
       " 'Rafael Ventura Melià',\n",
       " 'Wen Zengxian']"
      ]
     },
     "execution_count": 8,
     "metadata": {},
     "output_type": "execute_result"
    }
   ],
   "source": [
    "#verifique a nova lista com os nomes em letras minúsculas\n",
    "lista_nomes"
   ]
  },
  {
   "cell_type": "markdown",
   "metadata": {},
   "source": [
    "### Reminder 3\n",
    "<b>Operadores Condicionais</b><p>\n",
    "if, elif, else"
   ]
  },
  {
   "cell_type": "code",
   "execution_count": 9,
   "metadata": {},
   "outputs": [],
   "source": [
    "# atribua um valor a x. Teste como os diferentes valores alteram os resultados\n",
    "x = 1"
   ]
  },
  {
   "cell_type": "code",
   "execution_count": 10,
   "metadata": {},
   "outputs": [
    {
     "name": "stdout",
     "output_type": "stream",
     "text": [
      "x é menor que 3\n",
      "x também é menor ou igual a 2\n"
     ]
    }
   ],
   "source": [
    "if x >= 5:\n",
    "    print(\"x é maior ou igual a 5\")\n",
    "    if x > 7:\n",
    "        print(\"x também é maior que 7\")\n",
    "elif x < 3:\n",
    "    print(\"x é menor que 3\")\n",
    "    if x <= 2:\n",
    "        print('x também é menor ou igual a 2')\n",
    "else:\n",
    "    print(\"x é igual a 4\")"
   ]
  },
  {
   "cell_type": "markdown",
   "metadata": {},
   "source": [
    "## Acabou a revisão!!!\n",
    "Combinando esses 3 poderosos conceitos (loops, métodos e funcões e operadores condicionais), \n",
    "<br>vamos criar micro projetos com os quais vocês possam entender e consolidar o poder dos loops,\n",
    "<br>além claro, de enxergar novas possibilidades para solucionar projetos do dia a dia."
   ]
  },
  {
   "cell_type": "markdown",
   "metadata": {},
   "source": [
    "## Desafio 1 >>> Name rebuilder\n",
    "Neste primeiro desafio, vamos aprender a processar e tratar textos.\n",
    "<br> Dada uma lista de nomes, como consiguimos criar um padrão?\n",
    "<br> Vamos estabelecer que na lista dos nomes tratados, todos os nomes terão apenas duas partes (primeiro e último nome)."
   ]
  },
  {
   "cell_type": "markdown",
   "metadata": {},
   "source": [
    "### [parte 1]: Text classifier:\n",
    "Nesta primeira parte, vamos classificar os nomes da lista de nomes.\n",
    "<br> Nomes com duas partes, estão no formato perfeito para o nosso projeto.\n",
    "<br> Nomes com mais de duas partes ou com apenas uma parte, vão precisar de tratamento.\n",
    "<p> Precisamos identificá-los!"
   ]
  },
  {
   "cell_type": "code",
   "execution_count": 11,
   "metadata": {},
   "outputs": [
    {
     "data": {
      "text/plain": [
       "['David Stern',\n",
       " 'Don Larsen',\n",
       " 'Doug Hart',\n",
       " 'Norberto Barroca',\n",
       " 'Qasem Soleimani',\n",
       " 'Abu Mahdi al-Muhandis',\n",
       " 'Nathaël Julan',\n",
       " 'Antonio Ricardo Droher Rodrigues',\n",
       " 'Júlio Castro Caldas',\n",
       " 'Herbert Binkert',\n",
       " 'Hans Tilkowski',\n",
       " 'Ana Maria Primavesi',\n",
       " 'Luiz Parreiras',\n",
       " 'Luís Morais',\n",
       " 'Tiago Brandão',\n",
       " 'Bernt Andersson',\n",
       " 'Khamis Al-Owairan',\n",
       " 'Elizabeth Wurtzel',\n",
       " 'Neil Peart',\n",
       " 'Pilar de Espanha',\n",
       " 'Buck Henry',\n",
       " 'Peter Kirstein',\n",
       " 'Guido Messina',\n",
       " 'Wolfgang Dauner',\n",
       " 'Qaboos bin Said Al Said',\n",
       " 'António Gervásio',\n",
       " 'Valdir de Moraes',\n",
       " 'Fernanda Pires da Silva',\n",
       " 'Tom Belsø',\n",
       " 'Paulo Gonçalves',\n",
       " 'Roger Scruton',\n",
       " 'Isabel-Clara Simó',\n",
       " 'Jean Delumeau',\n",
       " 'Giampaolo Pansa',\n",
       " 'José Camargo',\n",
       " 'Rocky Johnson',\n",
       " 'Bruno Nettl',\n",
       " 'Christopher Tolkien',\n",
       " 'Luiz Vieira',\n",
       " 'Barry Tuckwell',\n",
       " 'Efraín Sánchez',\n",
       " 'Khagendra Thapa Magar',\n",
       " 'Pietro Anastasi',\n",
       " 'Marilene Dabus',\n",
       " 'Cláudio Roditi',\n",
       " 'Marcelo Dolabela',\n",
       " 'Shin Kyuk-ho',\n",
       " 'Jimmy Heath',\n",
       " 'Antônio de Queiroz Galvão',\n",
       " 'Terry Jones',\n",
       " 'Sébastien Demorand',\n",
       " 'Hédi Baccouche',\n",
       " 'Theodor Wagner',\n",
       " 'Meritxell Negre',\n",
       " 'Alfred Körner',\n",
       " 'José Lemos Ferreira',\n",
       " 'Armando Uribe',\n",
       " 'Frederick Ballantyne',\n",
       " 'Clayton M. Christensen',\n",
       " 'Sérgio Noronha',\n",
       " 'Pete Stark',\n",
       " 'José Theodoro Mendes',\n",
       " 'Ibsen Pinheiro',\n",
       " 'Rob Rensenbrink',\n",
       " 'Tunai',\n",
       " 'Pedro',\n",
       " 'Kobe Bryant',\n",
       " 'Marcos César Formiga Ramos',\n",
       " 'Louis Nirenberg',\n",
       " 'Flamarion Nunes',\n",
       " 'Ronald Levinsohn',\n",
       " 'Allen Brown',\n",
       " 'Carlos Rocha',\n",
       " 'Antônio Martins Vasconcelos',\n",
       " 'Blagoja Georgievski',\n",
       " 'Manuel Resende',\n",
       " 'Frank Press',\n",
       " 'John Andretti',\n",
       " 'Anne Cox Chambers',\n",
       " 'Mary Higgins Clark',\n",
       " 'César Zabala',\n",
       " 'Rafael Ventura Melià',\n",
       " 'Wen Zengxian']"
      ]
     },
     "execution_count": 11,
     "metadata": {},
     "output_type": "execute_result"
    }
   ],
   "source": [
    "#vamos usar o arquivo lista_nomes \n",
    "lista_nomes"
   ]
  },
  {
   "cell_type": "code",
   "execution_count": 12,
   "metadata": {},
   "outputs": [
    {
     "name": "stdout",
     "output_type": "stream",
     "text": [
      "temos  63 nomes perfeitos\n",
      "temos  18 nomes compostos com mais de 2 partes\n",
      "e temos  2 nomes únicos\n"
     ]
    }
   ],
   "source": [
    "#criamos três listas vazias que receberão os três tipos de nomes\n",
    "lista_nomes_perfeitos = []\n",
    "lista_nomes_problemas = []\n",
    "lista_nomes_unicos = []\n",
    "\n",
    "#vamos criar um loop for que vai iterar através da lista_nomes\n",
    "#os nomes dos iteradores são arbitrários em python, mas vamos usar um iterador intuitivo para nós: nome\n",
    "for nome in lista_nomes:\n",
    "    #precisamos dividir cada nome em uma nova lista com suas partes usando a função str.split()\n",
    "    nome_split = str.split(nome)\n",
    "    \n",
    "    #agora podemos verificar se os nomes estão no padrão \"Primeiro nome\" e \"Último nome\"\n",
    "    if len(nome_split) == 2:\n",
    "        #caso já esteja na formatação desejada, podemos adicioná-lo à lista adequada\n",
    "        lista_nomes_perfeitos.append(nome)\n",
    "    \n",
    "    # se estão com mais de duas partes vamos adicionar à lista de nomes com problema\n",
    "    elif len(nome_split) > 2:\n",
    "        lista_nomes_problemas.append(nome)\n",
    "    \n",
    "    #se possuem apenas uma parte vamos adicionar à lista de nomes únicos\n",
    "    else:\n",
    "        lista_nomes_unicos.append(nome)\n",
    "\n",
    "#no final, vamos verificar a quantidade de elementos em cada lista. substitua pelo método correto\n",
    "print('temos ', len(lista_nomes_perfeitos), 'nomes perfeitos')\n",
    "print('temos ', len(lista_nomes_problemas), 'nomes compostos com mais de 2 partes')\n",
    "print('e temos ', len(lista_nomes_unicos), 'nomes únicos')"
   ]
  },
  {
   "cell_type": "markdown",
   "metadata": {},
   "source": [
    "### [parte 2] Name formater:\n",
    "Nesta parte vamos adotar estratégias para transformar todos os nomes no nosso formato padrão.\n",
    "<br> Vamos descartar os nomes do meio de nomes compostos com mais de 2 termos.\n",
    "<br> Vamos imputar um nome genérico para nomes únicos."
   ]
  },
  {
   "cell_type": "code",
   "execution_count": 26,
   "metadata": {},
   "outputs": [
    {
     "name": "stdout",
     "output_type": "stream",
     "text": [
      "Inspecionando a lista de nomes perfeitos:  \n",
      " ['David Stern', 'Don Larsen', 'Doug Hart', 'Norberto Barroca', 'Qasem Soleimani', 'Nathaël Julan', 'Herbert Binkert', 'Hans Tilkowski', 'Luiz Parreiras', 'Luís Morais', 'Tiago Brandão', 'Bernt Andersson', 'Khamis Al-Owairan', 'Elizabeth Wurtzel', 'Neil Peart', 'Buck Henry', 'Peter Kirstein', 'Guido Messina', 'Wolfgang Dauner', 'António Gervásio', 'Tom Belsø', 'Paulo Gonçalves', 'Roger Scruton', 'Isabel-Clara Simó', 'Jean Delumeau', 'Giampaolo Pansa', 'José Camargo', 'Rocky Johnson', 'Bruno Nettl', 'Christopher Tolkien', 'Luiz Vieira', 'Barry Tuckwell', 'Efraín Sánchez', 'Pietro Anastasi', 'Marilene Dabus', 'Cláudio Roditi', 'Marcelo Dolabela', 'Shin Kyuk-ho', 'Jimmy Heath', 'Terry Jones', 'Sébastien Demorand', 'Hédi Baccouche', 'Theodor Wagner', 'Meritxell Negre', 'Alfred Körner', 'Armando Uribe', 'Frederick Ballantyne', 'Sérgio Noronha', 'Pete Stark', 'Ibsen Pinheiro', 'Rob Rensenbrink', 'Kobe Bryant', 'Louis Nirenberg', 'Flamarion Nunes', 'Ronald Levinsohn', 'Allen Brown', 'Carlos Rocha', 'Blagoja Georgievski', 'Manuel Resende', 'Frank Press', 'John Andretti', 'César Zabala', 'Wen Zengxian'] \n",
      "\n",
      "Inspecionando a lista de nomes compostos com mais de 2 partes:  \n",
      " ['Abu al-Muhandis', 'Antonio Rodrigues', 'Júlio Caldas', 'Ana Primavesi', 'Pilar Espanha', 'Qaboos Said', 'Valdir Moraes', 'Fernanda Silva', 'Khagendra Magar', 'Antônio Galvão', 'José Ferreira', 'Clayton Christensen', 'José Mendes', 'Marcos Ramos', 'Antônio Vasconcelos', 'Anne Chambers', 'Mary Clark', 'Rafael Melià'] \n",
      "\n",
      "Inspecionando a lista de nomes únicos:  \n",
      " ['Tunai _Silva', 'Pedro _Silva']\n"
     ]
    }
   ],
   "source": [
    "#mantive as partes que vcs já fizeram no exercício anterior e não precisam mudar, intactas\n",
    "lista_nomes_perfeitos = []\n",
    "lista_nomes_problemas = []\n",
    "lista_nomes_unicos = []\n",
    "\n",
    "for nome in lista_nomes:\n",
    "    nome_split = str.split(nome)\n",
    "    \n",
    "    if len(nome_split) == 2:\n",
    "        lista_nomes_perfeitos.append(nome)\n",
    "    \n",
    "    # se estão com mais de duas partes, elimina os termos do meio concatenando com (+) o primeiro termo, ' ', e o último.\n",
    "    elif len(nome_split) > 2:\n",
    "        #use a técnica de fatiar listas... lista_nomes[0] = 'David Stern' || lista_nomes[-1] = 'Wen Zengxian'\n",
    "        nome_rebuilt = nome_split[0] + ' ' + nome_split[-1]\n",
    "        lista_nomes_problemas.append(nome_rebuilt)\n",
    "    \n",
    "    #se possue apenas uma parte, concatenamos o primeiro termo, ' ', e o termo '_Silva' para sinalizar que é um dado inputado\n",
    "    else:\n",
    "        nome_input = nome_split[0] + ' ' + '_Silva'\n",
    "        lista_nomes_unicos.append(nome_input)\n",
    "\n",
    "#vamos inspecionar a nossa lista para ver se todos os nomes estão com o formato desejado        \n",
    "print('Inspecionando a lista de nomes perfeitos: ', '\\n', lista_nomes_perfeitos, '\\n')\n",
    "print('Inspecionando a lista de nomes compostos com mais de 2 partes: ', '\\n', lista_nomes_problemas, '\\n')\n",
    "print('Inspecionando a lista de nomes únicos: ', '\\n', lista_nomes_unicos)"
   ]
  },
  {
   "cell_type": "markdown",
   "metadata": {},
   "source": [
    "### [parte 3] Name rebuilder pipeline:\n",
    "Agora que sabemos que o programa está funcionando, precisamos que ele retorne todos os nomes para uma lista única."
   ]
  },
  {
   "cell_type": "code",
   "execution_count": 29,
   "metadata": {},
   "outputs": [
    {
     "name": "stdout",
     "output_type": "stream",
     "text": [
      "Inspecionando a lista final de nomes:  \n",
      " ['David Stern', 'Don Larsen', 'Doug Hart', 'Norberto Barroca', 'Qasem Soleimani', 'Abu al-Muhandis', 'Nathaël Julan', 'Antonio Rodrigues', 'Júlio Caldas', 'Herbert Binkert', 'Hans Tilkowski', 'Ana Primavesi', 'Luiz Parreiras', 'Luís Morais', 'Tiago Brandão', 'Bernt Andersson', 'Khamis Al-Owairan', 'Elizabeth Wurtzel', 'Neil Peart', 'Pilar Espanha', 'Buck Henry', 'Peter Kirstein', 'Guido Messina', 'Wolfgang Dauner', 'Qaboos Said', 'António Gervásio', 'Valdir Moraes', 'Fernanda Silva', 'Tom Belsø', 'Paulo Gonçalves', 'Roger Scruton', 'Isabel-Clara Simó', 'Jean Delumeau', 'Giampaolo Pansa', 'José Camargo', 'Rocky Johnson', 'Bruno Nettl', 'Christopher Tolkien', 'Luiz Vieira', 'Barry Tuckwell', 'Efraín Sánchez', 'Khagendra Magar', 'Pietro Anastasi', 'Marilene Dabus', 'Cláudio Roditi', 'Marcelo Dolabela', 'Shin Kyuk-ho', 'Jimmy Heath', 'Antônio Galvão', 'Terry Jones', 'Sébastien Demorand', 'Hédi Baccouche', 'Theodor Wagner', 'Meritxell Negre', 'Alfred Körner', 'José Ferreira', 'Armando Uribe', 'Frederick Ballantyne', 'Clayton Christensen', 'Sérgio Noronha', 'Pete Stark', 'José Mendes', 'Ibsen Pinheiro', 'Rob Rensenbrink', 'Tunai _Silva', 'Pedro _Silva', 'Kobe Bryant', 'Marcos Ramos', 'Louis Nirenberg', 'Flamarion Nunes', 'Ronald Levinsohn', 'Allen Brown', 'Carlos Rocha', 'Antônio Vasconcelos', 'Blagoja Georgievski', 'Manuel Resende', 'Frank Press', 'John Andretti', 'Anne Chambers', 'Mary Clark', 'César Zabala', 'Rafael Melià', 'Wen Zengxian']\n"
     ]
    }
   ],
   "source": [
    "# vamos eliminar as listas indesejadas. Afinal precisamos de uma lista única (name_pipeline), com os nomes tratados\n",
    "# mantive as estruturas e os comentários do que precisa ser feito. Agora é com vocês!!!\n",
    "name_pipeline = []\n",
    "\n",
    "for nome in lista_nomes:\n",
    "    #dividr nome em lista de termos\n",
    "    nome_split = str.split(nome)\n",
    "    \n",
    "    #verificar se a quantidade de termos já está no formato ideal. caso positivo, adicionar o nome à lista final\n",
    "    if len(nome_split) == 2:\n",
    "        #adicionar o nome sem tratamento direto na lista final\n",
    "        name_pipeline.append(nome)\n",
    "    \n",
    "    #aplicar o tratamento adequado para mais de dois termos e adicionar o nome tratado à lista final\n",
    "    elif len(nome_split) > 2:\n",
    "        nome_rebuilt = nome_split[0] + ' ' + nome_split[-1]\n",
    "        #adicionar o nome reconstruído à lista final\n",
    "        name_pipeline.append(nome_rebuilt)\n",
    "    \n",
    "    #imputar o termo '_Silva' e adicionar a lista final\n",
    "    else:\n",
    "        nome_input = nome_split[0] + ' ' + '_Silva'\n",
    "        #adicionar o nome com o input '_Silva' à lista final\n",
    "        name_pipeline.append(nome_input)\n",
    "        \n",
    "#verificando a lista final\n",
    "print('Inspecionando a lista final de nomes: ', '\\n', name_pipeline, end='\\n')"
   ]
  },
  {
   "cell_type": "markdown",
   "metadata": {},
   "source": [
    "## Desafio 2 >>> Gerador de jogos da Mega Sena\n",
    "Neste segundo desafio vamos aprender a gerar números aleatórios e ter certeza de que eles não vão se repetir."
   ]
  },
  {
   "cell_type": "markdown",
   "metadata": {},
   "source": [
    "### [parte 1]: Gerador de 6 números (pseudo) aleatórios:\n",
    "vamos criar um gerador de numeros aleatorios"
   ]
  },
  {
   "cell_type": "code",
   "execution_count": 30,
   "metadata": {},
   "outputs": [],
   "source": [
    "#Vamos precisar importar um módulo gerador de números inteiros aleatórios\n",
    "from random import randint"
   ]
  },
  {
   "cell_type": "code",
   "execution_count": 33,
   "metadata": {},
   "outputs": [
    {
     "name": "stdout",
     "output_type": "stream",
     "text": [
      "[11, 19, 26, 28, 50, 52]\n"
     ]
    }
   ],
   "source": [
    "# crie uma lista vazia chamada (seis_numeros). Ela vai receber os números sorteados.\n",
    "seis_numeros = []\n",
    "\n",
    "# crie um contador chamado (contador) que inicia em 0. Vamos usar esse contador para quebar o loop infinito.\n",
    "cont = 0\n",
    "\n",
    "#criando loops infinitos\n",
    "while True:\n",
    "    \n",
    "    #uma variável (num) recebe o nosso gerador de números entre 1 e 60\n",
    "    numero = randint(1, 60)\n",
    "    \n",
    "    #selecionando apenas números não repetidos\n",
    "    if num not in seis_numeros:\n",
    "        seis_numeros.append(numero)\n",
    "        cont += 1\n",
    "    # quebre o loop infinito quando o contador atingir 6\n",
    "    if cont == 6:\n",
    "        break\n",
    "    \n",
    "#colocando os números em ordem crescente\n",
    "seis_numeros.sort()\n",
    "#imprima os seis números\n",
    "print(seis_numeros)"
   ]
  },
  {
   "cell_type": "markdown",
   "metadata": {},
   "source": [
    "### [parte 2]: Gerador de jogos de 6 números (pseudo) aleatórios:\n",
    "Agora precisamos criar um loop para englobar o loop inicial"
   ]
  },
  {
   "cell_type": "code",
   "execution_count": 34,
   "metadata": {},
   "outputs": [],
   "source": [
    "#vamos criar um limite para a quantidade de jogos gerados\n",
    "quant = 7"
   ]
  },
  {
   "cell_type": "code",
   "execution_count": 35,
   "metadata": {},
   "outputs": [
    {
     "name": "stdout",
     "output_type": "stream",
     "text": [
      "jogo index: 0  lista com o jogo:  [6, 7, 18, 21, 34, 53]\n",
      "jogo index: 1  lista com o jogo:  [6, 10, 17, 45, 47, 55]\n",
      "jogo index: 2  lista com o jogo:  [16, 20, 34, 35, 53, 57]\n",
      "jogo index: 3  lista com o jogo:  [12, 28, 43, 47, 50, 52]\n",
      "jogo index: 4  lista com o jogo:  [5, 17, 26, 38, 44, 52]\n",
      "jogo index: 5  lista com o jogo:  [14, 17, 25, 28, 38, 53]\n",
      "jogo index: 6  lista com o jogo:  [4, 7, 9, 18, 40, 51]\n"
     ]
    }
   ],
   "source": [
    "#vamos manter a estrutura do exercício anterior\n",
    "seis_numeros = []\n",
    "\n",
    "#precisamos criar uma lista vazia chamada (jogos) para receber as listas de 6 números\n",
    "jogos = []\n",
    "\n",
    "#para criar um novo contador que vai interromper o novo loop infinito, tornando a afirmação falsa\n",
    "tot = 1\n",
    "\n",
    "#esse é o loop que vai repetir tudo o que fizemos. Vamos usar o iterador condicional while\n",
    "while tot <= quant:\n",
    "    \n",
    "    #------------------\n",
    "    # para isso acontecer, vamos ter que indentar todo esse loop com o contador (linha tracejada)\n",
    "    # selecione tudo entre as linhas tracejadas e aperte (Tab)\n",
    "    contador = 0 \n",
    "    while True:\n",
    "        num = randint(1, 60)\n",
    "        if num not in seis_numeros:\n",
    "            seis_numeros.append(num)\n",
    "            contador += 1\n",
    "        if contador == 6:\n",
    "            #quebrando o loop infinito\n",
    "            break    \n",
    "    seis_numeros.sort()\n",
    "    #-------------------\n",
    "    \n",
    "    ### Agora podemos continuar...\n",
    "    #vamos copiar todos os elementos da lista com 6 números para dentro da lista jogos\n",
    "    jogos.append(seis_numeros[:])\n",
    "    \n",
    "    #uma vez que copiamos os números podemos limpar a lista para receber 6 novos números\n",
    "    seis_numeros.clear()\n",
    "    \n",
    "    #por fim podemos contabilizar um novo jogo e começar tudo de novo\n",
    "    tot +=1\n",
    "    \n",
    "#existe um último tipo de loop... ele é muito comum para dicionários\n",
    "#mas também pode ser usado em listas iterando sobre seus indices e seus elementos.\n",
    "for i, j in enumerate(jogos):\n",
    "    print('jogo index:', i, ' lista com o jogo: ', j)"
   ]
  },
  {
   "cell_type": "markdown",
   "metadata": {},
   "source": [
    "### Conclusão!\n",
    "Espero que vocês tenham percebido o poder dos loops e como eles podem realizar tarefas e transformar os dados em poucas linhas de código."
   ]
  },
  {
   "cell_type": "markdown",
   "metadata": {},
   "source": [
    "## Demo Bonus >>> Song word frequency\n",
    "vamos criar um programa que vai transformar um texto em um dicionário com a frequencia em que as palavras aparecem na letra de uma música."
   ]
  },
  {
   "cell_type": "markdown",
   "metadata": {},
   "source": [
    "### [parte 1]: Escolhendo um texto:\n",
    "Vamos escolher a letra da música o dia em que a terra parou do Raul Seixas para a nossa análise. "
   ]
  },
  {
   "cell_type": "code",
   "execution_count": 16,
   "metadata": {},
   "outputs": [],
   "source": [
    "#ao passar o texto dentro de três aspas ''' (sample text)  ''' o python converte em uma grande string.\n",
    "letra = '''When I look into your eyes\n",
    "I can see a love restrained\n",
    "But, darlin', when I hold you\n",
    "Don't you know I feel the same?\n",
    "\n",
    "'Cause nothin' lasts forever\n",
    "And we both know hearts can change\n",
    "And it's hard to hold a candle\n",
    "In the cold November rain\n",
    "\n",
    "We've been through this such a long, long time\n",
    "Just tryin' to kill the pain, oh, yeah\n",
    "\n",
    "But lovers always come and lovers always go\n",
    "And no one's really sure who's lettin' go today\n",
    "Walking away\n",
    "\n",
    "If we could take the time\n",
    "To lay it on the line\n",
    "I could rest my head\n",
    "Just knowin' that you were mine\n",
    "All mine\n",
    "\n",
    "So, if you want to love me\n",
    "Then, darlin', don't refrain\n",
    "Or I'll just end up walkin'\n",
    "In the cold November rain\n",
    "\n",
    "Do you need some time on your own?\n",
    "Do you need some time all alone?\n",
    "Oh, everybody needs some time on their own\n",
    "Oh, don't you know you need some time all alone?\n",
    "\n",
    "I know it's hard to keep an open heart\n",
    "When even friends seem all to harm you\n",
    "But if you could heal a broken heart\n",
    "Wouldn't time be out to charm you?\n",
    "\n",
    "Sometimes I need some time on my own\n",
    "Sometimes I need some time all alone\n",
    "Oh, everybody needs some time on their own\n",
    "Oh, don't you know you need some time all alone?\n",
    "\n",
    "And when your fears subside\n",
    "And shadows still remain\n",
    "Oh, yeah\n",
    "\n",
    "I know that you can love me\n",
    "When there's no one left to blame\n",
    "So nevermind the darkness\n",
    "We still can find a way\n",
    "'Cause nothin' lasts forever\n",
    "Even cold November rain\n",
    "\n",
    "Don't ya think that you need somebody?\n",
    "Don't ya think that you need someone?\n",
    "Everybody needs somebody\n",
    "You're not the only one\n",
    "You're not the only one\n",
    "\n",
    "Don't ya think that you need somebody?\n",
    "Don't ya think that you need someone?\n",
    "Everybody needs somebody\n",
    "You're not the only one\n",
    "You're not the only one\n",
    "\n",
    "Don't ya think that you need somebody?\n",
    "Don't ya think that you need someone?\n",
    "Everybody needs somebody\n",
    "You're not the only one\n",
    "You're not the only one\n",
    "\n",
    "Don't ya think that you need somebody?\n",
    "Don't ya think that you need someone?\n",
    "Everybody needs somebody''' "
   ]
  },
  {
   "cell_type": "markdown",
   "metadata": {},
   "source": [
    "### [parte 2]: Convertendo o texto em uma lista de palavras:\n",
    "Com um simples comando transformamos um texto em uma lista de palavras"
   ]
  },
  {
   "cell_type": "code",
   "execution_count": 17,
   "metadata": {},
   "outputs": [],
   "source": [
    "raul = str.split(letra)"
   ]
  },
  {
   "cell_type": "markdown",
   "metadata": {},
   "source": [
    "### [parte 3]: Transformando a lista em um dicionário de frequencia:\n",
    "Através de um loop transformamos uma lista em um dicionário que conta quantas vezes cada palavra aparece na letra."
   ]
  },
  {
   "cell_type": "code",
   "execution_count": 18,
   "metadata": {
    "scrolled": true
   },
   "outputs": [
    {
     "data": {
      "text/plain": [
       "{'when': 5,\n",
       " 'i': 9,\n",
       " 'look': 1,\n",
       " 'into': 1,\n",
       " 'your': 3,\n",
       " 'eyes': 1,\n",
       " 'can': 4,\n",
       " 'see': 1,\n",
       " 'a': 5,\n",
       " 'love': 3,\n",
       " 'restrained': 1,\n",
       " 'but': 3,\n",
       " \"darlin'\": 2,\n",
       " 'hold': 2,\n",
       " 'you': 21,\n",
       " \"don't\": 12,\n",
       " 'know': 6,\n",
       " 'feel': 1,\n",
       " 'the': 13,\n",
       " 'same?': 1,\n",
       " \"'cause\": 2,\n",
       " \"nothin'\": 2,\n",
       " 'lasts': 2,\n",
       " 'forever': 2,\n",
       " 'and': 6,\n",
       " 'we': 3,\n",
       " 'both': 1,\n",
       " 'hearts': 1,\n",
       " 'change': 1,\n",
       " \"it's\": 2,\n",
       " 'hard': 2,\n",
       " 'to': 8,\n",
       " 'candle': 1,\n",
       " 'in': 2,\n",
       " 'cold': 3,\n",
       " 'november': 3,\n",
       " 'rain': 3,\n",
       " \"we've\": 1,\n",
       " 'been': 1,\n",
       " 'through': 1,\n",
       " 'this': 1,\n",
       " 'such': 1,\n",
       " 'long': 2,\n",
       " 'time': 11,\n",
       " 'just': 3,\n",
       " \"tryin'\": 1,\n",
       " 'kill': 1,\n",
       " 'pain': 1,\n",
       " 'oh': 6,\n",
       " 'yeah': 2,\n",
       " 'lovers': 2,\n",
       " 'always': 2,\n",
       " 'come': 1,\n",
       " 'go': 2,\n",
       " 'no': 2,\n",
       " \"one's\": 1,\n",
       " 'really': 1,\n",
       " 'sure': 1,\n",
       " \"who's\": 1,\n",
       " \"lettin'\": 1,\n",
       " 'today': 1,\n",
       " 'walking': 1,\n",
       " 'away': 1,\n",
       " 'if': 3,\n",
       " 'could': 3,\n",
       " 'take': 1,\n",
       " 'lay': 1,\n",
       " 'it': 1,\n",
       " 'on': 5,\n",
       " 'line': 1,\n",
       " 'rest': 1,\n",
       " 'my': 2,\n",
       " 'head': 1,\n",
       " \"knowin'\": 1,\n",
       " 'that': 10,\n",
       " 'were': 1,\n",
       " 'mine': 2,\n",
       " 'all': 6,\n",
       " 'so': 2,\n",
       " 'want': 1,\n",
       " 'me': 2,\n",
       " 'then': 1,\n",
       " 'refrain': 1,\n",
       " 'or': 1,\n",
       " \"i'll\": 1,\n",
       " 'end': 1,\n",
       " 'up': 1,\n",
       " \"walkin'\": 1,\n",
       " 'do': 2,\n",
       " 'need': 14,\n",
       " 'some': 8,\n",
       " 'own?': 1,\n",
       " 'alone?': 3,\n",
       " 'everybody': 6,\n",
       " 'needs': 6,\n",
       " 'their': 2,\n",
       " 'own': 3,\n",
       " 'keep': 1,\n",
       " 'an': 1,\n",
       " 'open': 1,\n",
       " 'heart': 2,\n",
       " 'even': 2,\n",
       " 'friends': 1,\n",
       " 'seem': 1,\n",
       " 'harm': 1,\n",
       " 'heal': 1,\n",
       " 'broken': 1,\n",
       " \"wouldn't\": 1,\n",
       " 'be': 1,\n",
       " 'out': 1,\n",
       " 'charm': 1,\n",
       " 'you?': 1,\n",
       " 'sometimes': 2,\n",
       " 'alone': 1,\n",
       " 'fears': 1,\n",
       " 'subside': 1,\n",
       " 'shadows': 1,\n",
       " 'still': 2,\n",
       " 'remain': 1,\n",
       " \"there's\": 1,\n",
       " 'one': 7,\n",
       " 'left': 1,\n",
       " 'blame': 1,\n",
       " 'nevermind': 1,\n",
       " 'darkness': 1,\n",
       " 'find': 1,\n",
       " 'way': 1,\n",
       " 'ya': 8,\n",
       " 'think': 8,\n",
       " 'somebody?': 4,\n",
       " 'someone?': 4,\n",
       " 'somebody': 4,\n",
       " \"you're\": 6,\n",
       " 'not': 6,\n",
       " 'only': 6}"
      ]
     },
     "execution_count": 18,
     "metadata": {},
     "output_type": "execute_result"
    }
   ],
   "source": [
    "#criamos um dicionário vazio\n",
    "di = {}\n",
    "\n",
    "for termo in raul:\n",
    "    #convertemos todos os termos em minúsculo (o dicionário é case sensitive) e excluímos as vírgulas \n",
    "    palavra = str.lower(termo).replace(',', '')\n",
    "    \n",
    "    #lembra desse jeito de selecionar?\n",
    "    if palavra not in di:\n",
    "        di[palavra] = 1\n",
    "    else:\n",
    "        di[palavra] += 1\n",
    "        \n",
    "di"
   ]
  },
  {
   "cell_type": "markdown",
   "metadata": {},
   "source": [
    "### [parte 4]: Dicionário :\n",
    "Neste ponto poderíamos transformar o dicionário em um dataframe e continuar a análise. \n",
    "<br> Mas como não é o intuito desse workshop, vamos apenas mostrar a contagem das palavras.\n",
    "<br> Não se preocupe em não entender os passos a seguir.\n"
   ]
  },
  {
   "cell_type": "code",
   "execution_count": 19,
   "metadata": {},
   "outputs": [
    {
     "name": "stdout",
     "output_type": "stream",
     "text": [
      "you  ::  21\n",
      "need  ::  14\n",
      "the  ::  13\n",
      "don't  ::  12\n",
      "time  ::  11\n",
      "that  ::  10\n",
      "i  ::  9\n",
      "to  ::  8\n",
      "some  ::  8\n",
      "ya  ::  8\n",
      "think  ::  8\n",
      "one  ::  7\n",
      "know  ::  6\n",
      "and  ::  6\n",
      "oh  ::  6\n",
      "all  ::  6\n",
      "everybody  ::  6\n",
      "needs  ::  6\n",
      "you're  ::  6\n",
      "not  ::  6\n",
      "only  ::  6\n",
      "when  ::  5\n",
      "a  ::  5\n",
      "on  ::  5\n",
      "can  ::  4\n",
      "somebody?  ::  4\n",
      "someone?  ::  4\n",
      "somebody  ::  4\n",
      "your  ::  3\n",
      "love  ::  3\n",
      "but  ::  3\n",
      "we  ::  3\n",
      "cold  ::  3\n",
      "november  ::  3\n",
      "rain  ::  3\n",
      "just  ::  3\n",
      "if  ::  3\n",
      "could  ::  3\n",
      "alone?  ::  3\n",
      "own  ::  3\n",
      "darlin'  ::  2\n",
      "hold  ::  2\n",
      "'cause  ::  2\n",
      "nothin'  ::  2\n",
      "lasts  ::  2\n",
      "forever  ::  2\n",
      "it's  ::  2\n",
      "hard  ::  2\n",
      "in  ::  2\n",
      "long  ::  2\n",
      "yeah  ::  2\n",
      "lovers  ::  2\n",
      "always  ::  2\n",
      "go  ::  2\n",
      "no  ::  2\n",
      "my  ::  2\n",
      "mine  ::  2\n",
      "so  ::  2\n",
      "me  ::  2\n",
      "do  ::  2\n",
      "their  ::  2\n",
      "heart  ::  2\n",
      "even  ::  2\n",
      "sometimes  ::  2\n",
      "still  ::  2\n",
      "look  ::  1\n",
      "into  ::  1\n",
      "eyes  ::  1\n",
      "see  ::  1\n",
      "restrained  ::  1\n",
      "feel  ::  1\n",
      "same?  ::  1\n",
      "both  ::  1\n",
      "hearts  ::  1\n",
      "change  ::  1\n",
      "candle  ::  1\n",
      "we've  ::  1\n",
      "been  ::  1\n",
      "through  ::  1\n",
      "this  ::  1\n",
      "such  ::  1\n",
      "tryin'  ::  1\n",
      "kill  ::  1\n",
      "pain  ::  1\n",
      "come  ::  1\n",
      "one's  ::  1\n",
      "really  ::  1\n",
      "sure  ::  1\n",
      "who's  ::  1\n",
      "lettin'  ::  1\n",
      "today  ::  1\n",
      "walking  ::  1\n",
      "away  ::  1\n",
      "take  ::  1\n",
      "lay  ::  1\n",
      "it  ::  1\n",
      "line  ::  1\n",
      "rest  ::  1\n",
      "head  ::  1\n",
      "knowin'  ::  1\n",
      "were  ::  1\n",
      "want  ::  1\n",
      "then  ::  1\n",
      "refrain  ::  1\n",
      "or  ::  1\n",
      "i'll  ::  1\n",
      "end  ::  1\n",
      "up  ::  1\n",
      "walkin'  ::  1\n",
      "own?  ::  1\n",
      "keep  ::  1\n",
      "an  ::  1\n",
      "open  ::  1\n",
      "friends  ::  1\n",
      "seem  ::  1\n",
      "harm  ::  1\n",
      "heal  ::  1\n",
      "broken  ::  1\n",
      "wouldn't  ::  1\n",
      "be  ::  1\n",
      "out  ::  1\n",
      "charm  ::  1\n",
      "you?  ::  1\n",
      "alone  ::  1\n",
      "fears  ::  1\n",
      "subside  ::  1\n",
      "shadows  ::  1\n",
      "remain  ::  1\n",
      "there's  ::  1\n",
      "left  ::  1\n",
      "blame  ::  1\n",
      "nevermind  ::  1\n",
      "darkness  ::  1\n",
      "find  ::  1\n",
      "way  ::  1\n"
     ]
    }
   ],
   "source": [
    "listofTuples = sorted(di.items() , reverse=True, key=lambda x: x[1])\n",
    " \n",
    "# Iterate over the sorted sequence\n",
    "for elem in listofTuples :\n",
    "    print(elem[0] , \" :: \" , elem[1] )    "
   ]
  }
 ],
 "metadata": {
  "kernelspec": {
   "display_name": "Python 3 (ipykernel)",
   "language": "python",
   "name": "python3"
  },
  "language_info": {
   "codemirror_mode": {
    "name": "ipython",
    "version": 3
   },
   "file_extension": ".py",
   "mimetype": "text/x-python",
   "name": "python",
   "nbconvert_exporter": "python",
   "pygments_lexer": "ipython3",
   "version": "3.9.7"
  }
 },
 "nbformat": 4,
 "nbformat_minor": 4
}
