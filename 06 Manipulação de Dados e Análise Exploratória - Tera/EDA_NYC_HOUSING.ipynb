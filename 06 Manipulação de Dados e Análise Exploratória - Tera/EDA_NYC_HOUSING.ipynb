{
 "cells": [
  {
   "cell_type": "markdown",
   "metadata": {},
   "source": [
    "<img src = \"https://images2.imgbox.com/c1/79/4H1V1tSO_o.png\" width=\"1200\">"
   ]
  },
  {
   "cell_type": "markdown",
   "metadata": {},
   "source": [
    "# Análise Exploratória de Dados - EDA\n",
    "---"
   ]
  },
  {
   "cell_type": "code",
   "execution_count": 3,
   "metadata": {
    "id": "ieAFDUDjVb-u"
   },
   "outputs": [],
   "source": [
    "import pandas as pd\n",
    "import numpy as np\n",
    "import seaborn as sns\n",
    "import matplotlib.pyplot as plt\n",
    "from pandas_profiling import ProfileReport"
   ]
  },
  {
   "cell_type": "code",
   "execution_count": 4,
   "metadata": {},
   "outputs": [],
   "source": [
    "import warnings\n",
    "warnings.filterwarnings('ignore')"
   ]
  },
  {
   "cell_type": "code",
   "execution_count": 5,
   "metadata": {
    "id": "tleAdtXRVb-y"
   },
   "outputs": [],
   "source": [
    "pd.set_option(\"display.max_columns\", None)\n",
    "ny = pd.read_csv('datasets/nyc-rolling-sales.csv')"
   ]
  },
  {
   "cell_type": "code",
   "execution_count": 6,
   "metadata": {
    "id": "8_kKWIIkVb-z",
    "outputId": "653a48be-f80b-4f98-ca3a-7645843d2623"
   },
   "outputs": [
    {
     "data": {
      "text/html": [
       "<div>\n",
       "<style scoped>\n",
       "    .dataframe tbody tr th:only-of-type {\n",
       "        vertical-align: middle;\n",
       "    }\n",
       "\n",
       "    .dataframe tbody tr th {\n",
       "        vertical-align: top;\n",
       "    }\n",
       "\n",
       "    .dataframe thead th {\n",
       "        text-align: right;\n",
       "    }\n",
       "</style>\n",
       "<table border=\"1\" class=\"dataframe\">\n",
       "  <thead>\n",
       "    <tr style=\"text-align: right;\">\n",
       "      <th></th>\n",
       "      <th>BOROUGH</th>\n",
       "      <th>NEIGHBORHOOD</th>\n",
       "      <th>BUILDING CLASS CATEGORY</th>\n",
       "      <th>TAX CLASS AT PRESENT</th>\n",
       "      <th>BLOCK</th>\n",
       "      <th>LOT</th>\n",
       "      <th>EASE-MENT</th>\n",
       "      <th>BUILDING CLASS AT PRESENT</th>\n",
       "      <th>ADDRESS</th>\n",
       "      <th>APARTMENT NUMBER</th>\n",
       "      <th>ZIP CODE</th>\n",
       "      <th>RESIDENTIAL UNITS</th>\n",
       "      <th>COMMERCIAL UNITS</th>\n",
       "      <th>TOTAL UNITS</th>\n",
       "      <th>LAND SQUARE FEET</th>\n",
       "      <th>GROSS SQUARE FEET</th>\n",
       "      <th>YEAR BUILT</th>\n",
       "      <th>TAX CLASS AT TIME OF SALE</th>\n",
       "      <th>BUILDING CLASS AT TIME OF SALE</th>\n",
       "      <th>SALE PRICE</th>\n",
       "      <th>SALE DATE</th>\n",
       "    </tr>\n",
       "  </thead>\n",
       "  <tbody>\n",
       "    <tr>\n",
       "      <th>4</th>\n",
       "      <td>1</td>\n",
       "      <td>ALPHABET CITY</td>\n",
       "      <td>07 RENTALS - WALKUP APARTMENTS</td>\n",
       "      <td>2A</td>\n",
       "      <td>392</td>\n",
       "      <td>6</td>\n",
       "      <td></td>\n",
       "      <td>C2</td>\n",
       "      <td>153 AVENUE B</td>\n",
       "      <td></td>\n",
       "      <td>10009</td>\n",
       "      <td>5</td>\n",
       "      <td>0</td>\n",
       "      <td>5</td>\n",
       "      <td>1633</td>\n",
       "      <td>6440</td>\n",
       "      <td>1900</td>\n",
       "      <td>2</td>\n",
       "      <td>C2</td>\n",
       "      <td>6625000</td>\n",
       "      <td>2017-07-19 00:00:00</td>\n",
       "    </tr>\n",
       "    <tr>\n",
       "      <th>5</th>\n",
       "      <td>1</td>\n",
       "      <td>ALPHABET CITY</td>\n",
       "      <td>07 RENTALS - WALKUP APARTMENTS</td>\n",
       "      <td>2</td>\n",
       "      <td>399</td>\n",
       "      <td>26</td>\n",
       "      <td></td>\n",
       "      <td>C7</td>\n",
       "      <td>234 EAST 4TH   STREET</td>\n",
       "      <td></td>\n",
       "      <td>10009</td>\n",
       "      <td>28</td>\n",
       "      <td>3</td>\n",
       "      <td>31</td>\n",
       "      <td>4616</td>\n",
       "      <td>18690</td>\n",
       "      <td>1900</td>\n",
       "      <td>2</td>\n",
       "      <td>C7</td>\n",
       "      <td>-</td>\n",
       "      <td>2016-12-14 00:00:00</td>\n",
       "    </tr>\n",
       "    <tr>\n",
       "      <th>6</th>\n",
       "      <td>1</td>\n",
       "      <td>ALPHABET CITY</td>\n",
       "      <td>07 RENTALS - WALKUP APARTMENTS</td>\n",
       "      <td>2</td>\n",
       "      <td>399</td>\n",
       "      <td>39</td>\n",
       "      <td></td>\n",
       "      <td>C7</td>\n",
       "      <td>197 EAST 3RD   STREET</td>\n",
       "      <td></td>\n",
       "      <td>10009</td>\n",
       "      <td>16</td>\n",
       "      <td>1</td>\n",
       "      <td>17</td>\n",
       "      <td>2212</td>\n",
       "      <td>7803</td>\n",
       "      <td>1900</td>\n",
       "      <td>2</td>\n",
       "      <td>C7</td>\n",
       "      <td>-</td>\n",
       "      <td>2016-12-09 00:00:00</td>\n",
       "    </tr>\n",
       "    <tr>\n",
       "      <th>7</th>\n",
       "      <td>1</td>\n",
       "      <td>ALPHABET CITY</td>\n",
       "      <td>07 RENTALS - WALKUP APARTMENTS</td>\n",
       "      <td>2B</td>\n",
       "      <td>402</td>\n",
       "      <td>21</td>\n",
       "      <td></td>\n",
       "      <td>C4</td>\n",
       "      <td>154 EAST 7TH STREET</td>\n",
       "      <td></td>\n",
       "      <td>10009</td>\n",
       "      <td>10</td>\n",
       "      <td>0</td>\n",
       "      <td>10</td>\n",
       "      <td>2272</td>\n",
       "      <td>6794</td>\n",
       "      <td>1913</td>\n",
       "      <td>2</td>\n",
       "      <td>C4</td>\n",
       "      <td>3936272</td>\n",
       "      <td>2016-09-23 00:00:00</td>\n",
       "    </tr>\n",
       "    <tr>\n",
       "      <th>8</th>\n",
       "      <td>1</td>\n",
       "      <td>ALPHABET CITY</td>\n",
       "      <td>07 RENTALS - WALKUP APARTMENTS</td>\n",
       "      <td>2A</td>\n",
       "      <td>404</td>\n",
       "      <td>55</td>\n",
       "      <td></td>\n",
       "      <td>C2</td>\n",
       "      <td>301 EAST 10TH   STREET</td>\n",
       "      <td></td>\n",
       "      <td>10009</td>\n",
       "      <td>6</td>\n",
       "      <td>0</td>\n",
       "      <td>6</td>\n",
       "      <td>2369</td>\n",
       "      <td>4615</td>\n",
       "      <td>1900</td>\n",
       "      <td>2</td>\n",
       "      <td>C2</td>\n",
       "      <td>8000000</td>\n",
       "      <td>2016-11-17 00:00:00</td>\n",
       "    </tr>\n",
       "  </tbody>\n",
       "</table>\n",
       "</div>"
      ],
      "text/plain": [
       "   BOROUGH   NEIGHBORHOOD                      BUILDING CLASS CATEGORY  \\\n",
       "4        1  ALPHABET CITY  07 RENTALS - WALKUP APARTMENTS                \n",
       "5        1  ALPHABET CITY  07 RENTALS - WALKUP APARTMENTS                \n",
       "6        1  ALPHABET CITY  07 RENTALS - WALKUP APARTMENTS                \n",
       "7        1  ALPHABET CITY  07 RENTALS - WALKUP APARTMENTS                \n",
       "8        1  ALPHABET CITY  07 RENTALS - WALKUP APARTMENTS                \n",
       "\n",
       "  TAX CLASS AT PRESENT  BLOCK  LOT EASE-MENT BUILDING CLASS AT PRESENT  \\\n",
       "4                   2A    392    6                                  C2   \n",
       "5                    2    399   26                                  C7   \n",
       "6                    2    399   39                                  C7   \n",
       "7                   2B    402   21                                  C4   \n",
       "8                   2A    404   55                                  C2   \n",
       "\n",
       "                  ADDRESS APARTMENT NUMBER  ZIP CODE  RESIDENTIAL UNITS  \\\n",
       "4            153 AVENUE B                      10009                  5   \n",
       "5   234 EAST 4TH   STREET                      10009                 28   \n",
       "6   197 EAST 3RD   STREET                      10009                 16   \n",
       "7     154 EAST 7TH STREET                      10009                 10   \n",
       "8  301 EAST 10TH   STREET                      10009                  6   \n",
       "\n",
       "   COMMERCIAL UNITS  TOTAL UNITS LAND SQUARE FEET GROSS SQUARE FEET  \\\n",
       "4                 0            5             1633              6440   \n",
       "5                 3           31             4616             18690   \n",
       "6                 1           17             2212              7803   \n",
       "7                 0           10             2272              6794   \n",
       "8                 0            6             2369              4615   \n",
       "\n",
       "   YEAR BUILT  TAX CLASS AT TIME OF SALE BUILDING CLASS AT TIME OF SALE  \\\n",
       "4        1900                          2                             C2   \n",
       "5        1900                          2                             C7   \n",
       "6        1900                          2                             C7   \n",
       "7        1913                          2                             C4   \n",
       "8        1900                          2                             C2   \n",
       "\n",
       "  SALE PRICE            SALE DATE  \n",
       "4    6625000  2017-07-19 00:00:00  \n",
       "5        -    2016-12-14 00:00:00  \n",
       "6        -    2016-12-09 00:00:00  \n",
       "7    3936272  2016-09-23 00:00:00  \n",
       "8    8000000  2016-11-17 00:00:00  "
      ]
     },
     "execution_count": 6,
     "metadata": {},
     "output_type": "execute_result"
    }
   ],
   "source": [
    "# 5 primeiras observações\n",
    "ny.head()"
   ]
  },
  {
   "cell_type": "code",
   "execution_count": 7,
   "metadata": {
    "id": "FXqnSNamVb-0",
    "outputId": "99801db2-bfa9-40d8-b5bc-7f7531f0bb8f"
   },
   "outputs": [
    {
     "data": {
      "text/html": [
       "<div>\n",
       "<style scoped>\n",
       "    .dataframe tbody tr th:only-of-type {\n",
       "        vertical-align: middle;\n",
       "    }\n",
       "\n",
       "    .dataframe tbody tr th {\n",
       "        vertical-align: top;\n",
       "    }\n",
       "\n",
       "    .dataframe thead th {\n",
       "        text-align: right;\n",
       "    }\n",
       "</style>\n",
       "<table border=\"1\" class=\"dataframe\">\n",
       "  <thead>\n",
       "    <tr style=\"text-align: right;\">\n",
       "      <th></th>\n",
       "      <th>BOROUGH</th>\n",
       "      <th>NEIGHBORHOOD</th>\n",
       "      <th>BUILDING CLASS CATEGORY</th>\n",
       "      <th>TAX CLASS AT PRESENT</th>\n",
       "      <th>BLOCK</th>\n",
       "      <th>LOT</th>\n",
       "      <th>EASE-MENT</th>\n",
       "      <th>BUILDING CLASS AT PRESENT</th>\n",
       "      <th>ADDRESS</th>\n",
       "      <th>APARTMENT NUMBER</th>\n",
       "      <th>ZIP CODE</th>\n",
       "      <th>RESIDENTIAL UNITS</th>\n",
       "      <th>COMMERCIAL UNITS</th>\n",
       "      <th>TOTAL UNITS</th>\n",
       "      <th>LAND SQUARE FEET</th>\n",
       "      <th>GROSS SQUARE FEET</th>\n",
       "      <th>YEAR BUILT</th>\n",
       "      <th>TAX CLASS AT TIME OF SALE</th>\n",
       "      <th>BUILDING CLASS AT TIME OF SALE</th>\n",
       "      <th>SALE PRICE</th>\n",
       "      <th>SALE DATE</th>\n",
       "    </tr>\n",
       "  </thead>\n",
       "  <tbody>\n",
       "    <tr>\n",
       "      <th>8407</th>\n",
       "      <td>5</td>\n",
       "      <td>WOODROW</td>\n",
       "      <td>02 TWO FAMILY DWELLINGS</td>\n",
       "      <td>1</td>\n",
       "      <td>7317</td>\n",
       "      <td>126</td>\n",
       "      <td></td>\n",
       "      <td>B2</td>\n",
       "      <td>112 ROBIN COURT</td>\n",
       "      <td></td>\n",
       "      <td>10309</td>\n",
       "      <td>2</td>\n",
       "      <td>0</td>\n",
       "      <td>2</td>\n",
       "      <td>11088</td>\n",
       "      <td>2160</td>\n",
       "      <td>1994</td>\n",
       "      <td>1</td>\n",
       "      <td>B2</td>\n",
       "      <td>648000</td>\n",
       "      <td>2016-12-07 00:00:00</td>\n",
       "    </tr>\n",
       "    <tr>\n",
       "      <th>8408</th>\n",
       "      <td>5</td>\n",
       "      <td>WOODROW</td>\n",
       "      <td>02 TWO FAMILY DWELLINGS</td>\n",
       "      <td>1</td>\n",
       "      <td>7339</td>\n",
       "      <td>41</td>\n",
       "      <td></td>\n",
       "      <td>B9</td>\n",
       "      <td>41 SONIA COURT</td>\n",
       "      <td></td>\n",
       "      <td>10309</td>\n",
       "      <td>2</td>\n",
       "      <td>0</td>\n",
       "      <td>2</td>\n",
       "      <td>3020</td>\n",
       "      <td>1800</td>\n",
       "      <td>1997</td>\n",
       "      <td>1</td>\n",
       "      <td>B9</td>\n",
       "      <td>-</td>\n",
       "      <td>2016-12-01 00:00:00</td>\n",
       "    </tr>\n",
       "    <tr>\n",
       "      <th>8409</th>\n",
       "      <td>5</td>\n",
       "      <td>WOODROW</td>\n",
       "      <td>02 TWO FAMILY DWELLINGS</td>\n",
       "      <td>1</td>\n",
       "      <td>7349</td>\n",
       "      <td>34</td>\n",
       "      <td></td>\n",
       "      <td>B9</td>\n",
       "      <td>37 QUAIL LANE</td>\n",
       "      <td></td>\n",
       "      <td>10309</td>\n",
       "      <td>2</td>\n",
       "      <td>0</td>\n",
       "      <td>2</td>\n",
       "      <td>2400</td>\n",
       "      <td>2575</td>\n",
       "      <td>1998</td>\n",
       "      <td>1</td>\n",
       "      <td>B9</td>\n",
       "      <td>450000</td>\n",
       "      <td>2016-11-28 00:00:00</td>\n",
       "    </tr>\n",
       "    <tr>\n",
       "      <th>8410</th>\n",
       "      <td>5</td>\n",
       "      <td>WOODROW</td>\n",
       "      <td>02 TWO FAMILY DWELLINGS</td>\n",
       "      <td>1</td>\n",
       "      <td>7349</td>\n",
       "      <td>78</td>\n",
       "      <td></td>\n",
       "      <td>B9</td>\n",
       "      <td>32 PHEASANT LANE</td>\n",
       "      <td></td>\n",
       "      <td>10309</td>\n",
       "      <td>2</td>\n",
       "      <td>0</td>\n",
       "      <td>2</td>\n",
       "      <td>2498</td>\n",
       "      <td>2377</td>\n",
       "      <td>1998</td>\n",
       "      <td>1</td>\n",
       "      <td>B9</td>\n",
       "      <td>550000</td>\n",
       "      <td>2017-04-21 00:00:00</td>\n",
       "    </tr>\n",
       "    <tr>\n",
       "      <th>8411</th>\n",
       "      <td>5</td>\n",
       "      <td>WOODROW</td>\n",
       "      <td>02 TWO FAMILY DWELLINGS</td>\n",
       "      <td>1</td>\n",
       "      <td>7351</td>\n",
       "      <td>60</td>\n",
       "      <td></td>\n",
       "      <td>B2</td>\n",
       "      <td>49 PITNEY AVENUE</td>\n",
       "      <td></td>\n",
       "      <td>10309</td>\n",
       "      <td>2</td>\n",
       "      <td>0</td>\n",
       "      <td>2</td>\n",
       "      <td>4000</td>\n",
       "      <td>1496</td>\n",
       "      <td>1925</td>\n",
       "      <td>1</td>\n",
       "      <td>B2</td>\n",
       "      <td>460000</td>\n",
       "      <td>2017-07-05 00:00:00</td>\n",
       "    </tr>\n",
       "    <tr>\n",
       "      <th>8412</th>\n",
       "      <td>5</td>\n",
       "      <td>WOODROW</td>\n",
       "      <td>22 STORE BUILDINGS</td>\n",
       "      <td>4</td>\n",
       "      <td>7100</td>\n",
       "      <td>28</td>\n",
       "      <td></td>\n",
       "      <td>K6</td>\n",
       "      <td>2730 ARTHUR KILL ROAD</td>\n",
       "      <td></td>\n",
       "      <td>10309</td>\n",
       "      <td>0</td>\n",
       "      <td>7</td>\n",
       "      <td>7</td>\n",
       "      <td>208033</td>\n",
       "      <td>64117</td>\n",
       "      <td>2001</td>\n",
       "      <td>4</td>\n",
       "      <td>K6</td>\n",
       "      <td>11693337</td>\n",
       "      <td>2016-12-21 00:00:00</td>\n",
       "    </tr>\n",
       "    <tr>\n",
       "      <th>8413</th>\n",
       "      <td>5</td>\n",
       "      <td>WOODROW</td>\n",
       "      <td>35 INDOOR PUBLIC AND CULTURAL FACILITIES</td>\n",
       "      <td>4</td>\n",
       "      <td>7105</td>\n",
       "      <td>679</td>\n",
       "      <td></td>\n",
       "      <td>P9</td>\n",
       "      <td>155 CLAY PIT ROAD</td>\n",
       "      <td></td>\n",
       "      <td>10309</td>\n",
       "      <td>0</td>\n",
       "      <td>1</td>\n",
       "      <td>1</td>\n",
       "      <td>10796</td>\n",
       "      <td>2400</td>\n",
       "      <td>2006</td>\n",
       "      <td>4</td>\n",
       "      <td>P9</td>\n",
       "      <td>69300</td>\n",
       "      <td>2016-10-27 00:00:00</td>\n",
       "    </tr>\n",
       "  </tbody>\n",
       "</table>\n",
       "</div>"
      ],
      "text/plain": [
       "      BOROUGH NEIGHBORHOOD                      BUILDING CLASS CATEGORY  \\\n",
       "8407        5      WOODROW  02 TWO FAMILY DWELLINGS                       \n",
       "8408        5      WOODROW  02 TWO FAMILY DWELLINGS                       \n",
       "8409        5      WOODROW  02 TWO FAMILY DWELLINGS                       \n",
       "8410        5      WOODROW  02 TWO FAMILY DWELLINGS                       \n",
       "8411        5      WOODROW  02 TWO FAMILY DWELLINGS                       \n",
       "8412        5      WOODROW  22 STORE BUILDINGS                            \n",
       "8413        5      WOODROW  35 INDOOR PUBLIC AND CULTURAL FACILITIES      \n",
       "\n",
       "     TAX CLASS AT PRESENT  BLOCK  LOT EASE-MENT BUILDING CLASS AT PRESENT  \\\n",
       "8407                    1   7317  126                                  B2   \n",
       "8408                    1   7339   41                                  B9   \n",
       "8409                    1   7349   34                                  B9   \n",
       "8410                    1   7349   78                                  B9   \n",
       "8411                    1   7351   60                                  B2   \n",
       "8412                    4   7100   28                                  K6   \n",
       "8413                    4   7105  679                                  P9   \n",
       "\n",
       "                    ADDRESS APARTMENT NUMBER  ZIP CODE  RESIDENTIAL UNITS  \\\n",
       "8407        112 ROBIN COURT                      10309                  2   \n",
       "8408         41 SONIA COURT                      10309                  2   \n",
       "8409          37 QUAIL LANE                      10309                  2   \n",
       "8410       32 PHEASANT LANE                      10309                  2   \n",
       "8411       49 PITNEY AVENUE                      10309                  2   \n",
       "8412  2730 ARTHUR KILL ROAD                      10309                  0   \n",
       "8413      155 CLAY PIT ROAD                      10309                  0   \n",
       "\n",
       "      COMMERCIAL UNITS  TOTAL UNITS LAND SQUARE FEET GROSS SQUARE FEET  \\\n",
       "8407                 0            2            11088              2160   \n",
       "8408                 0            2             3020              1800   \n",
       "8409                 0            2             2400              2575   \n",
       "8410                 0            2             2498              2377   \n",
       "8411                 0            2             4000              1496   \n",
       "8412                 7            7           208033             64117   \n",
       "8413                 1            1            10796              2400   \n",
       "\n",
       "      YEAR BUILT  TAX CLASS AT TIME OF SALE BUILDING CLASS AT TIME OF SALE  \\\n",
       "8407        1994                          1                             B2   \n",
       "8408        1997                          1                             B9   \n",
       "8409        1998                          1                             B9   \n",
       "8410        1998                          1                             B9   \n",
       "8411        1925                          1                             B2   \n",
       "8412        2001                          4                             K6   \n",
       "8413        2006                          4                             P9   \n",
       "\n",
       "     SALE PRICE            SALE DATE  \n",
       "8407     648000  2016-12-07 00:00:00  \n",
       "8408        -    2016-12-01 00:00:00  \n",
       "8409     450000  2016-11-28 00:00:00  \n",
       "8410     550000  2017-04-21 00:00:00  \n",
       "8411     460000  2017-07-05 00:00:00  \n",
       "8412   11693337  2016-12-21 00:00:00  \n",
       "8413      69300  2016-10-27 00:00:00  "
      ]
     },
     "execution_count": 7,
     "metadata": {},
     "output_type": "execute_result"
    }
   ],
   "source": [
    "# 5 últimas observações\n",
    "ny.tail(7)"
   ]
  },
  {
   "cell_type": "code",
   "execution_count": 8,
   "metadata": {
    "id": "Ade_55VSVb-3",
    "outputId": "70a2ae4e-8842-44aa-e3c4-b2362cbaa85a"
   },
   "outputs": [
    {
     "data": {
      "text/plain": [
       "Index(['BOROUGH', 'NEIGHBORHOOD', 'BUILDING CLASS CATEGORY',\n",
       "       'TAX CLASS AT PRESENT', 'BLOCK', 'LOT', 'EASE-MENT',\n",
       "       'BUILDING CLASS AT PRESENT', 'ADDRESS', 'APARTMENT NUMBER', 'ZIP CODE',\n",
       "       'RESIDENTIAL UNITS', 'COMMERCIAL UNITS', 'TOTAL UNITS',\n",
       "       'LAND SQUARE FEET', 'GROSS SQUARE FEET', 'YEAR BUILT',\n",
       "       'TAX CLASS AT TIME OF SALE', 'BUILDING CLASS AT TIME OF SALE',\n",
       "       'SALE PRICE', 'SALE DATE'],\n",
       "      dtype='object')"
      ]
     },
     "execution_count": 8,
     "metadata": {},
     "output_type": "execute_result"
    }
   ],
   "source": [
    "# Lista de variáveis\n",
    "ny.columns"
   ]
  },
  {
   "cell_type": "code",
   "execution_count": 9,
   "metadata": {
    "id": "QsQrOqGpVb-3",
    "outputId": "2c1021f3-7d17-4540-8e9c-0d992ff6259e"
   },
   "outputs": [
    {
     "data": {
      "text/plain": [
       "(84548, 21)"
      ]
     },
     "execution_count": 9,
     "metadata": {},
     "output_type": "execute_result"
    }
   ],
   "source": [
    "# Quantidade de observações e variáveis do dataframe\n",
    "ny.shape"
   ]
  },
  {
   "cell_type": "code",
   "execution_count": 10,
   "metadata": {
    "id": "r_IwA94xVb-4",
    "outputId": "380448e3-2004-4e60-ee7a-93c27a8e029e"
   },
   "outputs": [
    {
     "name": "stdout",
     "output_type": "stream",
     "text": [
      "<class 'pandas.core.frame.DataFrame'>\n",
      "Int64Index: 84548 entries, 4 to 8413\n",
      "Data columns (total 21 columns):\n",
      " #   Column                          Non-Null Count  Dtype \n",
      "---  ------                          --------------  ----- \n",
      " 0   BOROUGH                         84548 non-null  int64 \n",
      " 1   NEIGHBORHOOD                    84548 non-null  object\n",
      " 2   BUILDING CLASS CATEGORY         84548 non-null  object\n",
      " 3   TAX CLASS AT PRESENT            84548 non-null  object\n",
      " 4   BLOCK                           84548 non-null  int64 \n",
      " 5   LOT                             84548 non-null  int64 \n",
      " 6   EASE-MENT                       84548 non-null  object\n",
      " 7   BUILDING CLASS AT PRESENT       84548 non-null  object\n",
      " 8   ADDRESS                         84548 non-null  object\n",
      " 9   APARTMENT NUMBER                84548 non-null  object\n",
      " 10  ZIP CODE                        84548 non-null  int64 \n",
      " 11  RESIDENTIAL UNITS               84548 non-null  int64 \n",
      " 12  COMMERCIAL UNITS                84548 non-null  int64 \n",
      " 13  TOTAL UNITS                     84548 non-null  int64 \n",
      " 14  LAND SQUARE FEET                84548 non-null  object\n",
      " 15  GROSS SQUARE FEET               84548 non-null  object\n",
      " 16  YEAR BUILT                      84548 non-null  int64 \n",
      " 17  TAX CLASS AT TIME OF SALE       84548 non-null  int64 \n",
      " 18  BUILDING CLASS AT TIME OF SALE  84548 non-null  object\n",
      " 19  SALE PRICE                      84548 non-null  object\n",
      " 20  SALE DATE                       84548 non-null  object\n",
      "dtypes: int64(9), object(12)\n",
      "memory usage: 14.2+ MB\n"
     ]
    }
   ],
   "source": [
    "# Informações dos tipos de dados e valores não nulos do dataframe\n",
    "ny.info()"
   ]
  },
  {
   "cell_type": "code",
   "execution_count": 11,
   "metadata": {
    "id": "TxC1JaGkVb-4",
    "outputId": "23909706-0bfa-40c8-fe45-491de7cdb29c"
   },
   "outputs": [
    {
     "data": {
      "text/html": [
       "<div>\n",
       "<style scoped>\n",
       "    .dataframe tbody tr th:only-of-type {\n",
       "        vertical-align: middle;\n",
       "    }\n",
       "\n",
       "    .dataframe tbody tr th {\n",
       "        vertical-align: top;\n",
       "    }\n",
       "\n",
       "    .dataframe thead th {\n",
       "        text-align: right;\n",
       "    }\n",
       "</style>\n",
       "<table border=\"1\" class=\"dataframe\">\n",
       "  <thead>\n",
       "    <tr style=\"text-align: right;\">\n",
       "      <th></th>\n",
       "      <th>BOROUGH</th>\n",
       "      <th>BLOCK</th>\n",
       "      <th>LOT</th>\n",
       "      <th>ZIP CODE</th>\n",
       "      <th>RESIDENTIAL UNITS</th>\n",
       "      <th>COMMERCIAL UNITS</th>\n",
       "      <th>TOTAL UNITS</th>\n",
       "      <th>YEAR BUILT</th>\n",
       "      <th>TAX CLASS AT TIME OF SALE</th>\n",
       "    </tr>\n",
       "  </thead>\n",
       "  <tbody>\n",
       "    <tr>\n",
       "      <th>count</th>\n",
       "      <td>84548.000000</td>\n",
       "      <td>84548.000000</td>\n",
       "      <td>84548.000000</td>\n",
       "      <td>84548.000000</td>\n",
       "      <td>84548.000000</td>\n",
       "      <td>84548.000000</td>\n",
       "      <td>84548.000000</td>\n",
       "      <td>84548.000000</td>\n",
       "      <td>84548.000000</td>\n",
       "    </tr>\n",
       "    <tr>\n",
       "      <th>mean</th>\n",
       "      <td>2.998758</td>\n",
       "      <td>4237.218976</td>\n",
       "      <td>376.224015</td>\n",
       "      <td>10731.991614</td>\n",
       "      <td>2.025264</td>\n",
       "      <td>0.193559</td>\n",
       "      <td>2.249184</td>\n",
       "      <td>1789.322976</td>\n",
       "      <td>1.657485</td>\n",
       "    </tr>\n",
       "    <tr>\n",
       "      <th>std</th>\n",
       "      <td>1.289790</td>\n",
       "      <td>3568.263407</td>\n",
       "      <td>658.136814</td>\n",
       "      <td>1290.879147</td>\n",
       "      <td>16.721037</td>\n",
       "      <td>8.713183</td>\n",
       "      <td>18.972584</td>\n",
       "      <td>537.344993</td>\n",
       "      <td>0.819341</td>\n",
       "    </tr>\n",
       "    <tr>\n",
       "      <th>min</th>\n",
       "      <td>1.000000</td>\n",
       "      <td>1.000000</td>\n",
       "      <td>1.000000</td>\n",
       "      <td>0.000000</td>\n",
       "      <td>0.000000</td>\n",
       "      <td>0.000000</td>\n",
       "      <td>0.000000</td>\n",
       "      <td>0.000000</td>\n",
       "      <td>1.000000</td>\n",
       "    </tr>\n",
       "    <tr>\n",
       "      <th>25%</th>\n",
       "      <td>2.000000</td>\n",
       "      <td>1322.750000</td>\n",
       "      <td>22.000000</td>\n",
       "      <td>10305.000000</td>\n",
       "      <td>0.000000</td>\n",
       "      <td>0.000000</td>\n",
       "      <td>1.000000</td>\n",
       "      <td>1920.000000</td>\n",
       "      <td>1.000000</td>\n",
       "    </tr>\n",
       "    <tr>\n",
       "      <th>50%</th>\n",
       "      <td>3.000000</td>\n",
       "      <td>3311.000000</td>\n",
       "      <td>50.000000</td>\n",
       "      <td>11209.000000</td>\n",
       "      <td>1.000000</td>\n",
       "      <td>0.000000</td>\n",
       "      <td>1.000000</td>\n",
       "      <td>1940.000000</td>\n",
       "      <td>2.000000</td>\n",
       "    </tr>\n",
       "    <tr>\n",
       "      <th>75%</th>\n",
       "      <td>4.000000</td>\n",
       "      <td>6281.000000</td>\n",
       "      <td>1001.000000</td>\n",
       "      <td>11357.000000</td>\n",
       "      <td>2.000000</td>\n",
       "      <td>0.000000</td>\n",
       "      <td>2.000000</td>\n",
       "      <td>1965.000000</td>\n",
       "      <td>2.000000</td>\n",
       "    </tr>\n",
       "    <tr>\n",
       "      <th>max</th>\n",
       "      <td>5.000000</td>\n",
       "      <td>16322.000000</td>\n",
       "      <td>9106.000000</td>\n",
       "      <td>11694.000000</td>\n",
       "      <td>1844.000000</td>\n",
       "      <td>2261.000000</td>\n",
       "      <td>2261.000000</td>\n",
       "      <td>2017.000000</td>\n",
       "      <td>4.000000</td>\n",
       "    </tr>\n",
       "  </tbody>\n",
       "</table>\n",
       "</div>"
      ],
      "text/plain": [
       "            BOROUGH         BLOCK           LOT      ZIP CODE  \\\n",
       "count  84548.000000  84548.000000  84548.000000  84548.000000   \n",
       "mean       2.998758   4237.218976    376.224015  10731.991614   \n",
       "std        1.289790   3568.263407    658.136814   1290.879147   \n",
       "min        1.000000      1.000000      1.000000      0.000000   \n",
       "25%        2.000000   1322.750000     22.000000  10305.000000   \n",
       "50%        3.000000   3311.000000     50.000000  11209.000000   \n",
       "75%        4.000000   6281.000000   1001.000000  11357.000000   \n",
       "max        5.000000  16322.000000   9106.000000  11694.000000   \n",
       "\n",
       "       RESIDENTIAL UNITS  COMMERCIAL UNITS   TOTAL UNITS    YEAR BUILT  \\\n",
       "count       84548.000000      84548.000000  84548.000000  84548.000000   \n",
       "mean            2.025264          0.193559      2.249184   1789.322976   \n",
       "std            16.721037          8.713183     18.972584    537.344993   \n",
       "min             0.000000          0.000000      0.000000      0.000000   \n",
       "25%             0.000000          0.000000      1.000000   1920.000000   \n",
       "50%             1.000000          0.000000      1.000000   1940.000000   \n",
       "75%             2.000000          0.000000      2.000000   1965.000000   \n",
       "max          1844.000000       2261.000000   2261.000000   2017.000000   \n",
       "\n",
       "       TAX CLASS AT TIME OF SALE  \n",
       "count               84548.000000  \n",
       "mean                    1.657485  \n",
       "std                     0.819341  \n",
       "min                     1.000000  \n",
       "25%                     1.000000  \n",
       "50%                     2.000000  \n",
       "75%                     2.000000  \n",
       "max                     4.000000  "
      ]
     },
     "execution_count": 11,
     "metadata": {},
     "output_type": "execute_result"
    }
   ],
   "source": [
    "# Descrição estatística das variáveis do banco de dados\n",
    "ny.describe()"
   ]
  },
  {
   "cell_type": "code",
   "execution_count": 12,
   "metadata": {
    "id": "Gv4kptNOVb-5"
   },
   "outputs": [],
   "source": [
    "# Simplificando os nomes das colunas\n",
    "ny.columns = ny.columns.str.strip().str.lower().str.replace(' ', '_').str.replace('-', '_')\n",
    "ny.building_class_category=ny.building_class_category.str.strip().str.lower().str.replace(' ', '').str.replace('-', '_')"
   ]
  },
  {
   "cell_type": "code",
   "execution_count": 13,
   "metadata": {
    "id": "sMo4XgqEVb-5",
    "outputId": "f79b1745-9da1-4c17-8777-f7ef954a621f"
   },
   "outputs": [
    {
     "data": {
      "text/html": [
       "<div>\n",
       "<style scoped>\n",
       "    .dataframe tbody tr th:only-of-type {\n",
       "        vertical-align: middle;\n",
       "    }\n",
       "\n",
       "    .dataframe tbody tr th {\n",
       "        vertical-align: top;\n",
       "    }\n",
       "\n",
       "    .dataframe thead th {\n",
       "        text-align: right;\n",
       "    }\n",
       "</style>\n",
       "<table border=\"1\" class=\"dataframe\">\n",
       "  <thead>\n",
       "    <tr style=\"text-align: right;\">\n",
       "      <th></th>\n",
       "      <th>borough</th>\n",
       "      <th>neighborhood</th>\n",
       "      <th>building_class_category</th>\n",
       "      <th>tax_class_at_present</th>\n",
       "      <th>block</th>\n",
       "      <th>lot</th>\n",
       "      <th>ease_ment</th>\n",
       "      <th>building_class_at_present</th>\n",
       "      <th>address</th>\n",
       "      <th>apartment_number</th>\n",
       "      <th>zip_code</th>\n",
       "      <th>residential_units</th>\n",
       "      <th>commercial_units</th>\n",
       "      <th>total_units</th>\n",
       "      <th>land_square_feet</th>\n",
       "      <th>gross_square_feet</th>\n",
       "      <th>year_built</th>\n",
       "      <th>tax_class_at_time_of_sale</th>\n",
       "      <th>building_class_at_time_of_sale</th>\n",
       "      <th>sale_price</th>\n",
       "      <th>sale_date</th>\n",
       "    </tr>\n",
       "  </thead>\n",
       "  <tbody>\n",
       "    <tr>\n",
       "      <th>4</th>\n",
       "      <td>1</td>\n",
       "      <td>ALPHABET CITY</td>\n",
       "      <td>07rentals_walkupapartments</td>\n",
       "      <td>2A</td>\n",
       "      <td>392</td>\n",
       "      <td>6</td>\n",
       "      <td></td>\n",
       "      <td>C2</td>\n",
       "      <td>153 AVENUE B</td>\n",
       "      <td></td>\n",
       "      <td>10009</td>\n",
       "      <td>5</td>\n",
       "      <td>0</td>\n",
       "      <td>5</td>\n",
       "      <td>1633</td>\n",
       "      <td>6440</td>\n",
       "      <td>1900</td>\n",
       "      <td>2</td>\n",
       "      <td>C2</td>\n",
       "      <td>6625000</td>\n",
       "      <td>2017-07-19 00:00:00</td>\n",
       "    </tr>\n",
       "    <tr>\n",
       "      <th>5</th>\n",
       "      <td>1</td>\n",
       "      <td>ALPHABET CITY</td>\n",
       "      <td>07rentals_walkupapartments</td>\n",
       "      <td>2</td>\n",
       "      <td>399</td>\n",
       "      <td>26</td>\n",
       "      <td></td>\n",
       "      <td>C7</td>\n",
       "      <td>234 EAST 4TH   STREET</td>\n",
       "      <td></td>\n",
       "      <td>10009</td>\n",
       "      <td>28</td>\n",
       "      <td>3</td>\n",
       "      <td>31</td>\n",
       "      <td>4616</td>\n",
       "      <td>18690</td>\n",
       "      <td>1900</td>\n",
       "      <td>2</td>\n",
       "      <td>C7</td>\n",
       "      <td>-</td>\n",
       "      <td>2016-12-14 00:00:00</td>\n",
       "    </tr>\n",
       "    <tr>\n",
       "      <th>6</th>\n",
       "      <td>1</td>\n",
       "      <td>ALPHABET CITY</td>\n",
       "      <td>07rentals_walkupapartments</td>\n",
       "      <td>2</td>\n",
       "      <td>399</td>\n",
       "      <td>39</td>\n",
       "      <td></td>\n",
       "      <td>C7</td>\n",
       "      <td>197 EAST 3RD   STREET</td>\n",
       "      <td></td>\n",
       "      <td>10009</td>\n",
       "      <td>16</td>\n",
       "      <td>1</td>\n",
       "      <td>17</td>\n",
       "      <td>2212</td>\n",
       "      <td>7803</td>\n",
       "      <td>1900</td>\n",
       "      <td>2</td>\n",
       "      <td>C7</td>\n",
       "      <td>-</td>\n",
       "      <td>2016-12-09 00:00:00</td>\n",
       "    </tr>\n",
       "    <tr>\n",
       "      <th>7</th>\n",
       "      <td>1</td>\n",
       "      <td>ALPHABET CITY</td>\n",
       "      <td>07rentals_walkupapartments</td>\n",
       "      <td>2B</td>\n",
       "      <td>402</td>\n",
       "      <td>21</td>\n",
       "      <td></td>\n",
       "      <td>C4</td>\n",
       "      <td>154 EAST 7TH STREET</td>\n",
       "      <td></td>\n",
       "      <td>10009</td>\n",
       "      <td>10</td>\n",
       "      <td>0</td>\n",
       "      <td>10</td>\n",
       "      <td>2272</td>\n",
       "      <td>6794</td>\n",
       "      <td>1913</td>\n",
       "      <td>2</td>\n",
       "      <td>C4</td>\n",
       "      <td>3936272</td>\n",
       "      <td>2016-09-23 00:00:00</td>\n",
       "    </tr>\n",
       "    <tr>\n",
       "      <th>8</th>\n",
       "      <td>1</td>\n",
       "      <td>ALPHABET CITY</td>\n",
       "      <td>07rentals_walkupapartments</td>\n",
       "      <td>2A</td>\n",
       "      <td>404</td>\n",
       "      <td>55</td>\n",
       "      <td></td>\n",
       "      <td>C2</td>\n",
       "      <td>301 EAST 10TH   STREET</td>\n",
       "      <td></td>\n",
       "      <td>10009</td>\n",
       "      <td>6</td>\n",
       "      <td>0</td>\n",
       "      <td>6</td>\n",
       "      <td>2369</td>\n",
       "      <td>4615</td>\n",
       "      <td>1900</td>\n",
       "      <td>2</td>\n",
       "      <td>C2</td>\n",
       "      <td>8000000</td>\n",
       "      <td>2016-11-17 00:00:00</td>\n",
       "    </tr>\n",
       "  </tbody>\n",
       "</table>\n",
       "</div>"
      ],
      "text/plain": [
       "   borough   neighborhood     building_class_category tax_class_at_present  \\\n",
       "4        1  ALPHABET CITY  07rentals_walkupapartments                   2A   \n",
       "5        1  ALPHABET CITY  07rentals_walkupapartments                    2   \n",
       "6        1  ALPHABET CITY  07rentals_walkupapartments                    2   \n",
       "7        1  ALPHABET CITY  07rentals_walkupapartments                   2B   \n",
       "8        1  ALPHABET CITY  07rentals_walkupapartments                   2A   \n",
       "\n",
       "   block  lot ease_ment building_class_at_present                 address  \\\n",
       "4    392    6                                  C2            153 AVENUE B   \n",
       "5    399   26                                  C7   234 EAST 4TH   STREET   \n",
       "6    399   39                                  C7   197 EAST 3RD   STREET   \n",
       "7    402   21                                  C4     154 EAST 7TH STREET   \n",
       "8    404   55                                  C2  301 EAST 10TH   STREET   \n",
       "\n",
       "  apartment_number  zip_code  residential_units  commercial_units  \\\n",
       "4                      10009                  5                 0   \n",
       "5                      10009                 28                 3   \n",
       "6                      10009                 16                 1   \n",
       "7                      10009                 10                 0   \n",
       "8                      10009                  6                 0   \n",
       "\n",
       "   total_units land_square_feet gross_square_feet  year_built  \\\n",
       "4            5             1633              6440        1900   \n",
       "5           31             4616             18690        1900   \n",
       "6           17             2212              7803        1900   \n",
       "7           10             2272              6794        1913   \n",
       "8            6             2369              4615        1900   \n",
       "\n",
       "   tax_class_at_time_of_sale building_class_at_time_of_sale sale_price  \\\n",
       "4                          2                             C2    6625000   \n",
       "5                          2                             C7        -     \n",
       "6                          2                             C7        -     \n",
       "7                          2                             C4    3936272   \n",
       "8                          2                             C2    8000000   \n",
       "\n",
       "             sale_date  \n",
       "4  2017-07-19 00:00:00  \n",
       "5  2016-12-14 00:00:00  \n",
       "6  2016-12-09 00:00:00  \n",
       "7  2016-09-23 00:00:00  \n",
       "8  2016-11-17 00:00:00  "
      ]
     },
     "execution_count": 13,
     "metadata": {},
     "output_type": "execute_result"
    }
   ],
   "source": [
    "ny.head()"
   ]
  },
  {
   "cell_type": "code",
   "execution_count": 14,
   "metadata": {
    "id": "Z-7GmLrUVb-5",
    "outputId": "dbac54ef-024c-41d3-90cc-8dc1c8171bef"
   },
   "outputs": [
    {
     "data": {
      "text/plain": [
       "borough                           0\n",
       "neighborhood                      0\n",
       "building_class_category           0\n",
       "tax_class_at_present              0\n",
       "block                             0\n",
       "lot                               0\n",
       "ease_ment                         0\n",
       "building_class_at_present         0\n",
       "address                           0\n",
       "apartment_number                  0\n",
       "zip_code                          0\n",
       "residential_units                 0\n",
       "commercial_units                  0\n",
       "total_units                       0\n",
       "land_square_feet                  0\n",
       "gross_square_feet                 0\n",
       "year_built                        0\n",
       "tax_class_at_time_of_sale         0\n",
       "building_class_at_time_of_sale    0\n",
       "sale_price                        0\n",
       "sale_date                         0\n",
       "dtype: int64"
      ]
     },
     "execution_count": 14,
     "metadata": {},
     "output_type": "execute_result"
    }
   ],
   "source": [
    "# Somando a quantidade de valores nulos em cada variável\n",
    "ny.isnull().sum()"
   ]
  },
  {
   "cell_type": "markdown",
   "metadata": {
    "id": "bTBezVhQVb-5"
   },
   "source": [
    "## Substituindo os códigos dos burgos por seus nomes\n",
    "---"
   ]
  },
  {
   "cell_type": "code",
   "execution_count": 12,
   "metadata": {
    "id": "6b1bSdnbVb-7"
   },
   "outputs": [],
   "source": [
    "ny['borough'].replace({1: 'Manhattan', 2: 'Bronx', 3: 'Brooklyn', 4: 'Queens', 5: 'Staten Island'}, inplace=True)"
   ]
  },
  {
   "cell_type": "markdown",
   "metadata": {
    "id": "NukFGsy2Vb-7"
   },
   "source": [
    "## Investigando os valores únicos de uma coluna\n",
    "---\n",
    "Para investigar todos os valores de uma coluna selecione-a acompanhado do método .unique() \n",
    "- Para exibir mais de um output no final de uma célula, use a função display() "
   ]
  },
  {
   "cell_type": "code",
   "execution_count": 13,
   "metadata": {
    "id": "nATCXZ-QVb-7",
    "outputId": "19fc88a5-a44e-4d3e-e806-6131702e5b73"
   },
   "outputs": [
    {
     "data": {
      "text/plain": [
       "array([' '], dtype=object)"
      ]
     },
     "metadata": {},
     "output_type": "display_data"
    },
    {
     "data": {
      "text/plain": [
       "array([    4,     5,     6, ..., 26737, 26738, 26739], dtype=int64)"
      ]
     },
     "execution_count": 13,
     "metadata": {},
     "output_type": "execute_result"
    }
   ],
   "source": [
    "display(ny['ease_ment'].unique())\n",
    "\n",
    "ny['unnamed:_0'].unique()"
   ]
  },
  {
   "cell_type": "code",
   "execution_count": 14,
   "metadata": {
    "id": "KlXBhUttVb-8"
   },
   "outputs": [],
   "source": [
    "# Apagando as variáveis unnamed:_0 e ease_ment\n",
    "ny.drop(columns=['unnamed:_0', 'ease_ment'], inplace=True)"
   ]
  },
  {
   "cell_type": "code",
   "execution_count": 15,
   "metadata": {
    "id": "YOwVsCuwVb-8",
    "outputId": "05d21997-c70c-42f7-fade-7b04feb614da"
   },
   "outputs": [
    {
     "name": "stdout",
     "output_type": "stream",
     "text": [
      "<class 'pandas.core.frame.DataFrame'>\n",
      "RangeIndex: 84548 entries, 0 to 84547\n",
      "Data columns (total 20 columns):\n",
      " #   Column                          Non-Null Count  Dtype \n",
      "---  ------                          --------------  ----- \n",
      " 0   borough                         84548 non-null  object\n",
      " 1   neighborhood                    84548 non-null  object\n",
      " 2   building_class_category         84548 non-null  object\n",
      " 3   tax_class_at_present            84548 non-null  object\n",
      " 4   block                           84548 non-null  int64 \n",
      " 5   lot                             84548 non-null  int64 \n",
      " 6   building_class_at_present       84548 non-null  object\n",
      " 7   address                         84548 non-null  object\n",
      " 8   apartment_number                84548 non-null  object\n",
      " 9   zip_code                        84548 non-null  int64 \n",
      " 10  residential_units               84548 non-null  int64 \n",
      " 11  commercial_units                84548 non-null  int64 \n",
      " 12  total_units                     84548 non-null  int64 \n",
      " 13  land_square_feet                84548 non-null  object\n",
      " 14  gross_square_feet               84548 non-null  object\n",
      " 15  year_built                      84548 non-null  int64 \n",
      " 16  tax_class_at_time_of_sale       84548 non-null  int64 \n",
      " 17  building_class_at_time_of_sale  84548 non-null  object\n",
      " 18  sale_price                      84548 non-null  object\n",
      " 19  sale_date                       84548 non-null  object\n",
      "dtypes: int64(8), object(12)\n",
      "memory usage: 12.9+ MB\n"
     ]
    }
   ],
   "source": [
    "ny.info()"
   ]
  },
  {
   "cell_type": "code",
   "execution_count": 16,
   "metadata": {
    "id": "vybZCyxNVb-9",
    "outputId": "22df0ab6-06a5-46f1-d85d-dc8e62ee2132"
   },
   "outputs": [
    {
     "data": {
      "text/html": [
       "<div>\n",
       "<style scoped>\n",
       "    .dataframe tbody tr th:only-of-type {\n",
       "        vertical-align: middle;\n",
       "    }\n",
       "\n",
       "    .dataframe tbody tr th {\n",
       "        vertical-align: top;\n",
       "    }\n",
       "\n",
       "    .dataframe thead th {\n",
       "        text-align: right;\n",
       "    }\n",
       "</style>\n",
       "<table border=\"1\" class=\"dataframe\">\n",
       "  <thead>\n",
       "    <tr style=\"text-align: right;\">\n",
       "      <th></th>\n",
       "      <th>block</th>\n",
       "      <th>lot</th>\n",
       "      <th>zip_code</th>\n",
       "      <th>residential_units</th>\n",
       "      <th>commercial_units</th>\n",
       "      <th>total_units</th>\n",
       "      <th>year_built</th>\n",
       "      <th>tax_class_at_time_of_sale</th>\n",
       "    </tr>\n",
       "  </thead>\n",
       "  <tbody>\n",
       "    <tr>\n",
       "      <th>count</th>\n",
       "      <td>84548.00</td>\n",
       "      <td>84548.00</td>\n",
       "      <td>84548.00</td>\n",
       "      <td>84548.00</td>\n",
       "      <td>84548.00</td>\n",
       "      <td>84548.00</td>\n",
       "      <td>84548.00</td>\n",
       "      <td>84548.00</td>\n",
       "    </tr>\n",
       "    <tr>\n",
       "      <th>mean</th>\n",
       "      <td>4237.22</td>\n",
       "      <td>376.22</td>\n",
       "      <td>10731.99</td>\n",
       "      <td>2.03</td>\n",
       "      <td>0.19</td>\n",
       "      <td>2.25</td>\n",
       "      <td>1789.32</td>\n",
       "      <td>1.66</td>\n",
       "    </tr>\n",
       "    <tr>\n",
       "      <th>std</th>\n",
       "      <td>3568.26</td>\n",
       "      <td>658.14</td>\n",
       "      <td>1290.88</td>\n",
       "      <td>16.72</td>\n",
       "      <td>8.71</td>\n",
       "      <td>18.97</td>\n",
       "      <td>537.34</td>\n",
       "      <td>0.82</td>\n",
       "    </tr>\n",
       "    <tr>\n",
       "      <th>min</th>\n",
       "      <td>1.00</td>\n",
       "      <td>1.00</td>\n",
       "      <td>0.00</td>\n",
       "      <td>0.00</td>\n",
       "      <td>0.00</td>\n",
       "      <td>0.00</td>\n",
       "      <td>0.00</td>\n",
       "      <td>1.00</td>\n",
       "    </tr>\n",
       "    <tr>\n",
       "      <th>25%</th>\n",
       "      <td>1322.75</td>\n",
       "      <td>22.00</td>\n",
       "      <td>10305.00</td>\n",
       "      <td>0.00</td>\n",
       "      <td>0.00</td>\n",
       "      <td>1.00</td>\n",
       "      <td>1920.00</td>\n",
       "      <td>1.00</td>\n",
       "    </tr>\n",
       "    <tr>\n",
       "      <th>50%</th>\n",
       "      <td>3311.00</td>\n",
       "      <td>50.00</td>\n",
       "      <td>11209.00</td>\n",
       "      <td>1.00</td>\n",
       "      <td>0.00</td>\n",
       "      <td>1.00</td>\n",
       "      <td>1940.00</td>\n",
       "      <td>2.00</td>\n",
       "    </tr>\n",
       "    <tr>\n",
       "      <th>75%</th>\n",
       "      <td>6281.00</td>\n",
       "      <td>1001.00</td>\n",
       "      <td>11357.00</td>\n",
       "      <td>2.00</td>\n",
       "      <td>0.00</td>\n",
       "      <td>2.00</td>\n",
       "      <td>1965.00</td>\n",
       "      <td>2.00</td>\n",
       "    </tr>\n",
       "    <tr>\n",
       "      <th>max</th>\n",
       "      <td>16322.00</td>\n",
       "      <td>9106.00</td>\n",
       "      <td>11694.00</td>\n",
       "      <td>1844.00</td>\n",
       "      <td>2261.00</td>\n",
       "      <td>2261.00</td>\n",
       "      <td>2017.00</td>\n",
       "      <td>4.00</td>\n",
       "    </tr>\n",
       "  </tbody>\n",
       "</table>\n",
       "</div>"
      ],
      "text/plain": [
       "          block       lot  zip_code  residential_units  commercial_units  \\\n",
       "count  84548.00  84548.00  84548.00           84548.00          84548.00   \n",
       "mean    4237.22    376.22  10731.99               2.03              0.19   \n",
       "std     3568.26    658.14   1290.88              16.72              8.71   \n",
       "min        1.00      1.00      0.00               0.00              0.00   \n",
       "25%     1322.75     22.00  10305.00               0.00              0.00   \n",
       "50%     3311.00     50.00  11209.00               1.00              0.00   \n",
       "75%     6281.00   1001.00  11357.00               2.00              0.00   \n",
       "max    16322.00   9106.00  11694.00            1844.00           2261.00   \n",
       "\n",
       "       total_units  year_built  tax_class_at_time_of_sale  \n",
       "count     84548.00    84548.00                   84548.00  \n",
       "mean          2.25     1789.32                       1.66  \n",
       "std          18.97      537.34                       0.82  \n",
       "min           0.00        0.00                       1.00  \n",
       "25%           1.00     1920.00                       1.00  \n",
       "50%           1.00     1940.00                       2.00  \n",
       "75%           2.00     1965.00                       2.00  \n",
       "max        2261.00     2017.00                       4.00  "
      ]
     },
     "execution_count": 16,
     "metadata": {},
     "output_type": "execute_result"
    }
   ],
   "source": [
    "ny.describe().round(2)"
   ]
  },
  {
   "cell_type": "markdown",
   "metadata": {
    "id": "hGNOOckqVb-9"
   },
   "source": [
    "### Parece que sale_price, gross_sq_ft e land_sq_ft não estão como numéricas"
   ]
  },
  {
   "cell_type": "code",
   "execution_count": 17,
   "metadata": {
    "id": "Q7mWGE96Vb-9",
    "outputId": "5d674b8d-7cf9-4553-f3e5-0a11d8eeb68a"
   },
   "outputs": [
    {
     "data": {
      "text/html": [
       "<div>\n",
       "<style scoped>\n",
       "    .dataframe tbody tr th:only-of-type {\n",
       "        vertical-align: middle;\n",
       "    }\n",
       "\n",
       "    .dataframe tbody tr th {\n",
       "        vertical-align: top;\n",
       "    }\n",
       "\n",
       "    .dataframe thead th {\n",
       "        text-align: right;\n",
       "    }\n",
       "</style>\n",
       "<table border=\"1\" class=\"dataframe\">\n",
       "  <thead>\n",
       "    <tr style=\"text-align: right;\">\n",
       "      <th></th>\n",
       "      <th>count</th>\n",
       "      <th>unique</th>\n",
       "      <th>top</th>\n",
       "      <th>freq</th>\n",
       "      <th>mean</th>\n",
       "      <th>std</th>\n",
       "      <th>min</th>\n",
       "      <th>25%</th>\n",
       "      <th>50%</th>\n",
       "      <th>75%</th>\n",
       "      <th>max</th>\n",
       "    </tr>\n",
       "  </thead>\n",
       "  <tbody>\n",
       "    <tr>\n",
       "      <th>borough</th>\n",
       "      <td>84548</td>\n",
       "      <td>5</td>\n",
       "      <td>Queens</td>\n",
       "      <td>26736</td>\n",
       "      <td>NaN</td>\n",
       "      <td>NaN</td>\n",
       "      <td>NaN</td>\n",
       "      <td>NaN</td>\n",
       "      <td>NaN</td>\n",
       "      <td>NaN</td>\n",
       "      <td>NaN</td>\n",
       "    </tr>\n",
       "    <tr>\n",
       "      <th>neighborhood</th>\n",
       "      <td>84548</td>\n",
       "      <td>254</td>\n",
       "      <td>FLUSHING-NORTH</td>\n",
       "      <td>3068</td>\n",
       "      <td>NaN</td>\n",
       "      <td>NaN</td>\n",
       "      <td>NaN</td>\n",
       "      <td>NaN</td>\n",
       "      <td>NaN</td>\n",
       "      <td>NaN</td>\n",
       "      <td>NaN</td>\n",
       "    </tr>\n",
       "    <tr>\n",
       "      <th>building_class_category</th>\n",
       "      <td>84548</td>\n",
       "      <td>47</td>\n",
       "      <td>01onefamilydwellings</td>\n",
       "      <td>18235</td>\n",
       "      <td>NaN</td>\n",
       "      <td>NaN</td>\n",
       "      <td>NaN</td>\n",
       "      <td>NaN</td>\n",
       "      <td>NaN</td>\n",
       "      <td>NaN</td>\n",
       "      <td>NaN</td>\n",
       "    </tr>\n",
       "    <tr>\n",
       "      <th>tax_class_at_present</th>\n",
       "      <td>84548</td>\n",
       "      <td>11</td>\n",
       "      <td>1</td>\n",
       "      <td>38633</td>\n",
       "      <td>NaN</td>\n",
       "      <td>NaN</td>\n",
       "      <td>NaN</td>\n",
       "      <td>NaN</td>\n",
       "      <td>NaN</td>\n",
       "      <td>NaN</td>\n",
       "      <td>NaN</td>\n",
       "    </tr>\n",
       "    <tr>\n",
       "      <th>block</th>\n",
       "      <td>84548.0</td>\n",
       "      <td>NaN</td>\n",
       "      <td>NaN</td>\n",
       "      <td>NaN</td>\n",
       "      <td>4237.21898</td>\n",
       "      <td>3568.26341</td>\n",
       "      <td>1.0</td>\n",
       "      <td>1322.75</td>\n",
       "      <td>3311.0</td>\n",
       "      <td>6281.0</td>\n",
       "      <td>16322.0</td>\n",
       "    </tr>\n",
       "    <tr>\n",
       "      <th>lot</th>\n",
       "      <td>84548.0</td>\n",
       "      <td>NaN</td>\n",
       "      <td>NaN</td>\n",
       "      <td>NaN</td>\n",
       "      <td>376.22401</td>\n",
       "      <td>658.13681</td>\n",
       "      <td>1.0</td>\n",
       "      <td>22.0</td>\n",
       "      <td>50.0</td>\n",
       "      <td>1001.0</td>\n",
       "      <td>9106.0</td>\n",
       "    </tr>\n",
       "    <tr>\n",
       "      <th>building_class_at_present</th>\n",
       "      <td>84548</td>\n",
       "      <td>167</td>\n",
       "      <td>D4</td>\n",
       "      <td>12663</td>\n",
       "      <td>NaN</td>\n",
       "      <td>NaN</td>\n",
       "      <td>NaN</td>\n",
       "      <td>NaN</td>\n",
       "      <td>NaN</td>\n",
       "      <td>NaN</td>\n",
       "      <td>NaN</td>\n",
       "    </tr>\n",
       "    <tr>\n",
       "      <th>address</th>\n",
       "      <td>84548</td>\n",
       "      <td>67563</td>\n",
       "      <td>131-05 40TH   ROAD</td>\n",
       "      <td>210</td>\n",
       "      <td>NaN</td>\n",
       "      <td>NaN</td>\n",
       "      <td>NaN</td>\n",
       "      <td>NaN</td>\n",
       "      <td>NaN</td>\n",
       "      <td>NaN</td>\n",
       "      <td>NaN</td>\n",
       "    </tr>\n",
       "    <tr>\n",
       "      <th>apartment_number</th>\n",
       "      <td>84548</td>\n",
       "      <td>3989</td>\n",
       "      <td></td>\n",
       "      <td>65496</td>\n",
       "      <td>NaN</td>\n",
       "      <td>NaN</td>\n",
       "      <td>NaN</td>\n",
       "      <td>NaN</td>\n",
       "      <td>NaN</td>\n",
       "      <td>NaN</td>\n",
       "      <td>NaN</td>\n",
       "    </tr>\n",
       "    <tr>\n",
       "      <th>zip_code</th>\n",
       "      <td>84548.0</td>\n",
       "      <td>NaN</td>\n",
       "      <td>NaN</td>\n",
       "      <td>NaN</td>\n",
       "      <td>10731.99161</td>\n",
       "      <td>1290.87915</td>\n",
       "      <td>0.0</td>\n",
       "      <td>10305.0</td>\n",
       "      <td>11209.0</td>\n",
       "      <td>11357.0</td>\n",
       "      <td>11694.0</td>\n",
       "    </tr>\n",
       "    <tr>\n",
       "      <th>residential_units</th>\n",
       "      <td>84548.0</td>\n",
       "      <td>NaN</td>\n",
       "      <td>NaN</td>\n",
       "      <td>NaN</td>\n",
       "      <td>2.02526</td>\n",
       "      <td>16.72104</td>\n",
       "      <td>0.0</td>\n",
       "      <td>0.0</td>\n",
       "      <td>1.0</td>\n",
       "      <td>2.0</td>\n",
       "      <td>1844.0</td>\n",
       "    </tr>\n",
       "    <tr>\n",
       "      <th>commercial_units</th>\n",
       "      <td>84548.0</td>\n",
       "      <td>NaN</td>\n",
       "      <td>NaN</td>\n",
       "      <td>NaN</td>\n",
       "      <td>0.19356</td>\n",
       "      <td>8.71318</td>\n",
       "      <td>0.0</td>\n",
       "      <td>0.0</td>\n",
       "      <td>0.0</td>\n",
       "      <td>0.0</td>\n",
       "      <td>2261.0</td>\n",
       "    </tr>\n",
       "    <tr>\n",
       "      <th>total_units</th>\n",
       "      <td>84548.0</td>\n",
       "      <td>NaN</td>\n",
       "      <td>NaN</td>\n",
       "      <td>NaN</td>\n",
       "      <td>2.24918</td>\n",
       "      <td>18.97258</td>\n",
       "      <td>0.0</td>\n",
       "      <td>1.0</td>\n",
       "      <td>1.0</td>\n",
       "      <td>2.0</td>\n",
       "      <td>2261.0</td>\n",
       "    </tr>\n",
       "    <tr>\n",
       "      <th>land_square_feet</th>\n",
       "      <td>84548</td>\n",
       "      <td>6062</td>\n",
       "      <td>-</td>\n",
       "      <td>26252</td>\n",
       "      <td>NaN</td>\n",
       "      <td>NaN</td>\n",
       "      <td>NaN</td>\n",
       "      <td>NaN</td>\n",
       "      <td>NaN</td>\n",
       "      <td>NaN</td>\n",
       "      <td>NaN</td>\n",
       "    </tr>\n",
       "    <tr>\n",
       "      <th>gross_square_feet</th>\n",
       "      <td>84548</td>\n",
       "      <td>5691</td>\n",
       "      <td>-</td>\n",
       "      <td>27612</td>\n",
       "      <td>NaN</td>\n",
       "      <td>NaN</td>\n",
       "      <td>NaN</td>\n",
       "      <td>NaN</td>\n",
       "      <td>NaN</td>\n",
       "      <td>NaN</td>\n",
       "      <td>NaN</td>\n",
       "    </tr>\n",
       "    <tr>\n",
       "      <th>year_built</th>\n",
       "      <td>84548.0</td>\n",
       "      <td>NaN</td>\n",
       "      <td>NaN</td>\n",
       "      <td>NaN</td>\n",
       "      <td>1789.32298</td>\n",
       "      <td>537.34499</td>\n",
       "      <td>0.0</td>\n",
       "      <td>1920.0</td>\n",
       "      <td>1940.0</td>\n",
       "      <td>1965.0</td>\n",
       "      <td>2017.0</td>\n",
       "    </tr>\n",
       "    <tr>\n",
       "      <th>tax_class_at_time_of_sale</th>\n",
       "      <td>84548.0</td>\n",
       "      <td>NaN</td>\n",
       "      <td>NaN</td>\n",
       "      <td>NaN</td>\n",
       "      <td>1.65748</td>\n",
       "      <td>0.81934</td>\n",
       "      <td>1.0</td>\n",
       "      <td>1.0</td>\n",
       "      <td>2.0</td>\n",
       "      <td>2.0</td>\n",
       "      <td>4.0</td>\n",
       "    </tr>\n",
       "    <tr>\n",
       "      <th>building_class_at_time_of_sale</th>\n",
       "      <td>84548</td>\n",
       "      <td>166</td>\n",
       "      <td>R4</td>\n",
       "      <td>12989</td>\n",
       "      <td>NaN</td>\n",
       "      <td>NaN</td>\n",
       "      <td>NaN</td>\n",
       "      <td>NaN</td>\n",
       "      <td>NaN</td>\n",
       "      <td>NaN</td>\n",
       "      <td>NaN</td>\n",
       "    </tr>\n",
       "    <tr>\n",
       "      <th>sale_price</th>\n",
       "      <td>84548</td>\n",
       "      <td>10008</td>\n",
       "      <td>-</td>\n",
       "      <td>14561</td>\n",
       "      <td>NaN</td>\n",
       "      <td>NaN</td>\n",
       "      <td>NaN</td>\n",
       "      <td>NaN</td>\n",
       "      <td>NaN</td>\n",
       "      <td>NaN</td>\n",
       "      <td>NaN</td>\n",
       "    </tr>\n",
       "    <tr>\n",
       "      <th>sale_date</th>\n",
       "      <td>84548</td>\n",
       "      <td>364</td>\n",
       "      <td>2017-06-29 00:00:00</td>\n",
       "      <td>544</td>\n",
       "      <td>NaN</td>\n",
       "      <td>NaN</td>\n",
       "      <td>NaN</td>\n",
       "      <td>NaN</td>\n",
       "      <td>NaN</td>\n",
       "      <td>NaN</td>\n",
       "      <td>NaN</td>\n",
       "    </tr>\n",
       "  </tbody>\n",
       "</table>\n",
       "</div>"
      ],
      "text/plain": [
       "                                  count unique                   top   freq  \\\n",
       "borough                           84548      5                Queens  26736   \n",
       "neighborhood                      84548    254        FLUSHING-NORTH   3068   \n",
       "building_class_category           84548     47  01onefamilydwellings  18235   \n",
       "tax_class_at_present              84548     11                     1  38633   \n",
       "block                           84548.0    NaN                   NaN    NaN   \n",
       "lot                             84548.0    NaN                   NaN    NaN   \n",
       "building_class_at_present         84548    167                    D4  12663   \n",
       "address                           84548  67563    131-05 40TH   ROAD    210   \n",
       "apartment_number                  84548   3989                        65496   \n",
       "zip_code                        84548.0    NaN                   NaN    NaN   \n",
       "residential_units               84548.0    NaN                   NaN    NaN   \n",
       "commercial_units                84548.0    NaN                   NaN    NaN   \n",
       "total_units                     84548.0    NaN                   NaN    NaN   \n",
       "land_square_feet                  84548   6062                   -    26252   \n",
       "gross_square_feet                 84548   5691                   -    27612   \n",
       "year_built                      84548.0    NaN                   NaN    NaN   \n",
       "tax_class_at_time_of_sale       84548.0    NaN                   NaN    NaN   \n",
       "building_class_at_time_of_sale    84548    166                    R4  12989   \n",
       "sale_price                        84548  10008                   -    14561   \n",
       "sale_date                         84548    364   2017-06-29 00:00:00    544   \n",
       "\n",
       "                                       mean         std  min      25%  \\\n",
       "borough                                 NaN         NaN  NaN      NaN   \n",
       "neighborhood                            NaN         NaN  NaN      NaN   \n",
       "building_class_category                 NaN         NaN  NaN      NaN   \n",
       "tax_class_at_present                    NaN         NaN  NaN      NaN   \n",
       "block                            4237.21898  3568.26341  1.0  1322.75   \n",
       "lot                               376.22401   658.13681  1.0     22.0   \n",
       "building_class_at_present               NaN         NaN  NaN      NaN   \n",
       "address                                 NaN         NaN  NaN      NaN   \n",
       "apartment_number                        NaN         NaN  NaN      NaN   \n",
       "zip_code                        10731.99161  1290.87915  0.0  10305.0   \n",
       "residential_units                   2.02526    16.72104  0.0      0.0   \n",
       "commercial_units                    0.19356     8.71318  0.0      0.0   \n",
       "total_units                         2.24918    18.97258  0.0      1.0   \n",
       "land_square_feet                        NaN         NaN  NaN      NaN   \n",
       "gross_square_feet                       NaN         NaN  NaN      NaN   \n",
       "year_built                       1789.32298   537.34499  0.0   1920.0   \n",
       "tax_class_at_time_of_sale           1.65748     0.81934  1.0      1.0   \n",
       "building_class_at_time_of_sale          NaN         NaN  NaN      NaN   \n",
       "sale_price                              NaN         NaN  NaN      NaN   \n",
       "sale_date                               NaN         NaN  NaN      NaN   \n",
       "\n",
       "                                    50%      75%      max  \n",
       "borough                             NaN      NaN      NaN  \n",
       "neighborhood                        NaN      NaN      NaN  \n",
       "building_class_category             NaN      NaN      NaN  \n",
       "tax_class_at_present                NaN      NaN      NaN  \n",
       "block                            3311.0   6281.0  16322.0  \n",
       "lot                                50.0   1001.0   9106.0  \n",
       "building_class_at_present           NaN      NaN      NaN  \n",
       "address                             NaN      NaN      NaN  \n",
       "apartment_number                    NaN      NaN      NaN  \n",
       "zip_code                        11209.0  11357.0  11694.0  \n",
       "residential_units                   1.0      2.0   1844.0  \n",
       "commercial_units                    0.0      0.0   2261.0  \n",
       "total_units                         1.0      2.0   2261.0  \n",
       "land_square_feet                    NaN      NaN      NaN  \n",
       "gross_square_feet                   NaN      NaN      NaN  \n",
       "year_built                       1940.0   1965.0   2017.0  \n",
       "tax_class_at_time_of_sale           2.0      2.0      4.0  \n",
       "building_class_at_time_of_sale      NaN      NaN      NaN  \n",
       "sale_price                          NaN      NaN      NaN  \n",
       "sale_date                           NaN      NaN      NaN  "
      ]
     },
     "execution_count": 17,
     "metadata": {},
     "output_type": "execute_result"
    }
   ],
   "source": [
    "# vamos investigar mais profundamente\n",
    "ny.describe(include='all').round(5).T"
   ]
  },
  {
   "cell_type": "markdown",
   "metadata": {
    "id": "sYvzkrLzVb--"
   },
   "source": [
    "> **Observações**\n",
    "<li> Não só sale_price, land_sq_ft e gross_sq_ft não estão como números, como apresentam '-' como o valor mais frequente.\n",
    "    Precisamos converte eles em números e escolher uma estratégia para lidar com os dados faltantes\n",
    "<li> Nenhumas das datas está como datetime.\n",
    "<li> Não temos nenhuma categórica representada como tal.    "
   ]
  },
  {
   "cell_type": "code",
   "execution_count": 18,
   "metadata": {
    "id": "yVPa5R1bVb--",
    "outputId": "10c2a4c7-a758-45e8-fdc5-60f9607ec151"
   },
   "outputs": [
    {
     "data": {
      "text/plain": [
       "array(['6625000', ' -  ', '3936272', ..., '408092', '11693337', '69300'],\n",
       "      dtype=object)"
      ]
     },
     "execution_count": 18,
     "metadata": {},
     "output_type": "execute_result"
    }
   ],
   "source": [
    "ny['sale_price'].unique()"
   ]
  },
  {
   "cell_type": "code",
   "execution_count": 19,
   "metadata": {
    "id": "tnwuaeEWVb--",
    "outputId": "86841b13-0d4e-45c7-b062-bb8c723bdf4c"
   },
   "outputs": [
    {
     "data": {
      "text/plain": [
       "array([ 6625000.,       nan,  3936272., ...,   408092., 11693337.,\n",
       "          69300.])"
      ]
     },
     "execution_count": 19,
     "metadata": {},
     "output_type": "execute_result"
    }
   ],
   "source": [
    "ny['sale_price'] = pd.to_numeric(ny['sale_price'], errors='coerce')\n",
    "ny['sale_price'].unique()"
   ]
  },
  {
   "cell_type": "markdown",
   "metadata": {
    "id": "VZ-PJdTnVb--"
   },
   "source": [
    "### Convertendo colunas em numéricas"
   ]
  },
  {
   "cell_type": "code",
   "execution_count": 20,
   "metadata": {
    "id": "fXmSq6CaVb-_"
   },
   "outputs": [],
   "source": [
    "ny['sale_price'] = pd.to_numeric(ny['sale_price'], errors='coerce')\n",
    "ny['land_square_feet'] = pd.to_numeric(ny['land_square_feet'], errors='coerce')\n",
    "ny['gross_square_feet'] = pd.to_numeric(ny['gross_square_feet'], errors='coerce')"
   ]
  },
  {
   "cell_type": "markdown",
   "metadata": {
    "id": "mCdwBWN0Vb-_"
   },
   "source": [
    "### Substituindo '  ' por None em apartment_number"
   ]
  },
  {
   "cell_type": "code",
   "execution_count": 21,
   "metadata": {
    "id": "U9Dnb4qZVb-_",
    "outputId": "1dce6e7d-8e51-4f33-f8ce-6958198d6987"
   },
   "outputs": [
    {
     "data": {
      "text/plain": [
       "        65496\n",
       "4         298\n",
       "3A        295\n",
       "2         275\n",
       "3B        275\n",
       "        ...  \n",
       "ST50        1\n",
       "ST54        1\n",
       "SU13        1\n",
       "SU21        1\n",
       "363         1\n",
       "Name: apartment_number, Length: 3989, dtype: int64"
      ]
     },
     "execution_count": 21,
     "metadata": {},
     "output_type": "execute_result"
    }
   ],
   "source": [
    "ny['apartment_number'].value_counts()"
   ]
  },
  {
   "cell_type": "code",
   "execution_count": 22,
   "metadata": {
    "id": "kREkIW2AVb-_"
   },
   "outputs": [],
   "source": [
    "ny['apartment_number'] = ny['apartment_number'].replace(' ', np.nan)"
   ]
  },
  {
   "cell_type": "code",
   "execution_count": 23,
   "metadata": {
    "id": "7TSGJbfaVb-_",
    "outputId": "a04a600c-52af-40f1-da28-b21841e32716"
   },
   "outputs": [
    {
     "data": {
      "text/plain": [
       "'NULLs:'"
      ]
     },
     "metadata": {},
     "output_type": "display_data"
    },
    {
     "data": {
      "text/plain": [
       "65496"
      ]
     },
     "metadata": {},
     "output_type": "display_data"
    },
    {
     "data": {
      "text/plain": [
       "4       298\n",
       "3A      295\n",
       "3B      275\n",
       "2       275\n",
       "2B      272\n",
       "       ... \n",
       "ST50      1\n",
       "ST54      1\n",
       "SU13      1\n",
       "SU21      1\n",
       "363       1\n",
       "Name: apartment_number, Length: 3988, dtype: int64"
      ]
     },
     "execution_count": 23,
     "metadata": {},
     "output_type": "execute_result"
    }
   ],
   "source": [
    "display('NULLs:', ny['apartment_number'].isnull().sum())\n",
    "ny['apartment_number'].value_counts()"
   ]
  },
  {
   "cell_type": "markdown",
   "metadata": {
    "id": "c30Y7jIoVb_A"
   },
   "source": [
    "### Apartment Number não segue um padrão, além de terem muitos dados faltantes.\n",
    "É melhor droparmos."
   ]
  },
  {
   "cell_type": "code",
   "execution_count": 24,
   "metadata": {
    "id": "xtqZKdomVb_A"
   },
   "outputs": [],
   "source": [
    "ny.drop(columns='apartment_number', inplace=True)"
   ]
  },
  {
   "cell_type": "markdown",
   "metadata": {
    "id": "C9WNeSpaVb_A"
   },
   "source": [
    "### Convertendo data para datetime"
   ]
  },
  {
   "cell_type": "code",
   "execution_count": 25,
   "metadata": {
    "id": "tPMRzlmjVb_A"
   },
   "outputs": [],
   "source": [
    "ny['sale_date'] = pd.to_datetime(ny['sale_date'])"
   ]
  },
  {
   "cell_type": "markdown",
   "metadata": {
    "id": "HxxU2s-xVb_A"
   },
   "source": [
    "## Hora de converter as categóricas\n",
    "---"
   ]
  },
  {
   "cell_type": "code",
   "execution_count": 26,
   "metadata": {
    "id": "r-Qmu2CTVb_A",
    "outputId": "51bf8800-0e10-4288-97f0-4a9a9af0d277"
   },
   "outputs": [
    {
     "data": {
      "text/plain": [
       "borough                               5\n",
       "neighborhood                        254\n",
       "building_class_category              47\n",
       "tax_class_at_present                 11\n",
       "block                             11566\n",
       "lot                                2627\n",
       "building_class_at_present           167\n",
       "address                           67563\n",
       "zip_code                            186\n",
       "residential_units                   176\n",
       "commercial_units                     55\n",
       "total_units                         192\n",
       "land_square_feet                   6061\n",
       "gross_square_feet                  5690\n",
       "year_built                          158\n",
       "tax_class_at_time_of_sale             4\n",
       "building_class_at_time_of_sale      166\n",
       "sale_price                        10007\n",
       "sale_date                           364\n",
       "dtype: int64"
      ]
     },
     "execution_count": 26,
     "metadata": {},
     "output_type": "execute_result"
    }
   ],
   "source": [
    "ny.nunique()"
   ]
  },
  {
   "cell_type": "markdown",
   "metadata": {
    "id": "PeLIEcbGVb_B"
   },
   "source": [
    "### Convertendo categóricas\n",
    "\n",
    "- Mas primeiro vamos resgatar o que significam"
   ]
  },
  {
   "cell_type": "markdown",
   "metadata": {
    "id": "ZopSg4gBVb_D"
   },
   "source": [
    "#### tax_class"
   ]
  },
  {
   "cell_type": "code",
   "execution_count": 27,
   "metadata": {
    "id": "RL3xlzD-Vb_D",
    "outputId": "f870877d-7ea7-4398-aec8-66bd0bc432f8"
   },
   "outputs": [
    {
     "data": {
      "text/plain": [
       "array([' ', '1', '1A', '1B', '1C', '2', '2A', '2B', '2C', '3', '4'],\n",
       "      dtype=object)"
      ]
     },
     "execution_count": 27,
     "metadata": {},
     "output_type": "execute_result"
    }
   ],
   "source": [
    "ny['tax_class_at_present'].sort_values().unique()"
   ]
  },
  {
   "cell_type": "code",
   "execution_count": 28,
   "metadata": {
    "id": "NnfY0IvZVb_E",
    "outputId": "a3ca5ef1-e098-4be2-b1e9-7c24e4517910"
   },
   "outputs": [
    {
     "data": {
      "text/plain": [
       "1     38633\n",
       "2     30919\n",
       "4      6140\n",
       "2A     2521\n",
       "2C     1915\n",
       "1A     1444\n",
       "1B     1234\n",
       "2B      814\n",
       "        738\n",
       "1C      186\n",
       "3         4\n",
       "Name: tax_class_at_present, dtype: int64"
      ]
     },
     "execution_count": 28,
     "metadata": {},
     "output_type": "execute_result"
    }
   ],
   "source": [
    "ny['tax_class_at_present'].sort_values().value_counts()"
   ]
  },
  {
   "cell_type": "code",
   "execution_count": 29,
   "metadata": {
    "id": "pG2UuPVeVb_F",
    "outputId": "de0afb9c-cd04-4463-d608-1f791ad7e554"
   },
   "outputs": [
    {
     "data": {
      "text/plain": [
       "array([1, 2, 3, 4], dtype=int64)"
      ]
     },
     "metadata": {},
     "output_type": "display_data"
    },
    {
     "data": {
      "text/plain": [
       "array([' ', '1', '1A', '1B', '1C', '2', '2A', '2B', '2C', '3', '4'],\n",
       "      dtype=object)"
      ]
     },
     "execution_count": 29,
     "metadata": {},
     "output_type": "execute_result"
    }
   ],
   "source": [
    "display(ny['tax_class_at_time_of_sale'].sort_values().unique())\n",
    "ny['tax_class_at_present'].sort_values().unique()"
   ]
  },
  {
   "cell_type": "code",
   "execution_count": 30,
   "metadata": {
    "id": "b2VS4mi0Vb_F"
   },
   "outputs": [],
   "source": [
    "ny['tax_class_at_present'] = ny['tax_class_at_present'].replace(' ', np.nan)"
   ]
  },
  {
   "cell_type": "code",
   "execution_count": 31,
   "metadata": {
    "id": "HAWYid_MVb_F"
   },
   "outputs": [],
   "source": [
    "# observando que as colunas de tax_class apresentam espaços em branco (' '), \n",
    "# vamos substituílos por NaN. Ao final rode a célula acima para ver o resultado\n",
    "\n",
    "ny['tax_class_at_time_of_sale'] = ny['tax_class_at_time_of_sale'].replace(' ', np.nan).apply(str)\n",
    "ny['tax_class_at_present'] = ny['tax_class_at_present'].replace(' ', np.nan) "
   ]
  },
  {
   "cell_type": "markdown",
   "metadata": {
    "id": "-D5kylPAVb_G"
   },
   "source": [
    "Os valores foram subdivididos. O dicionário de dados trata apenas das classes e não das subclasses. \n",
    "<p>Pesquisando, encontramos as subclasses 2, 2A, 2B, 2C, em https://www1.nyc.gov/site/finance/taxes/definitions-of-property-assessment-terms.page. \n",
    "<p>Então vamos criar o nosso dicionário subistituir os códigos e transformar o dtype em categoria."
   ]
  },
  {
   "cell_type": "code",
   "execution_count": 32,
   "metadata": {
    "id": "bpZdjRByVb_G"
   },
   "outputs": [],
   "source": [
    "ny_txclass_dict = {'1': 'Mostly Res buildings up to 3 Units', \n",
    "                   '1B': 'Mostly Res buildings up to 3 Units', \n",
    "                   '1C': 'Mostly Res buildings up to 3 Units',\n",
    "                   '2': 'Primarily Res 11+ Units',\n",
    "                   '2A': 'Primarily Res 4 - 6 Rent',\n",
    "                   '2B': 'Primarily Res 7 - 10 Rent',\n",
    "                   '2C': 'Primarily Res 2 - 10 Coop / Cond',\n",
    "                   '3': 'Utility property',\n",
    "                   '4': 'Com, Ind, Fact, Office and Others'            \n",
    "                  }"
   ]
  },
  {
   "cell_type": "code",
   "execution_count": 33,
   "metadata": {
    "id": "K1T6yR08Vb_G"
   },
   "outputs": [],
   "source": [
    "ny['tax_class_at_time_of_sale'] = ny['tax_class_at_time_of_sale'].replace(ny_txclass_dict).astype('category')\n",
    "ny['tax_class_at_present'] = ny['tax_class_at_present'].replace(ny_txclass_dict).astype('category')"
   ]
  },
  {
   "cell_type": "markdown",
   "metadata": {
    "id": "yV5wnYkGVb_H"
   },
   "source": [
    "#### building_class\n"
   ]
  },
  {
   "cell_type": "code",
   "execution_count": 34,
   "metadata": {
    "id": "YiWtmEA0Vb_H",
    "outputId": "ba707487-ee7d-4e26-c371-f92db9de1424"
   },
   "outputs": [
    {
     "data": {
      "text/plain": [
       "'_building_class_at_present:'"
      ]
     },
     "metadata": {},
     "output_type": "display_data"
    },
    {
     "data": {
      "text/plain": [
       "array([' ', 'A0', 'A1', 'A2', 'A3', 'A4', 'A5', 'A6', 'A7', 'A9', 'B1',\n",
       "       'B2', 'B3', 'B9', 'C0', 'C1', 'C2', 'C3', 'C4', 'C5', 'C6', 'C7',\n",
       "       'C8', 'C9', 'CM', 'D0', 'D1', 'D2', 'D3', 'D4', 'D5', 'D6', 'D7',\n",
       "       'D8', 'D9', 'E1', 'E2', 'E7', 'E9', 'F1', 'F2', 'F4', 'F5', 'F9',\n",
       "       'G0', 'G1', 'G2', 'G3', 'G4', 'G5', 'G6', 'G7', 'G8', 'G9', 'GU',\n",
       "       'GW', 'H1', 'H2', 'H3', 'H4', 'H6', 'H8', 'H9', 'HB', 'HH', 'HR',\n",
       "       'HS', 'I1', 'I3', 'I4', 'I5', 'I6', 'I7', 'I9', 'J1', 'J4', 'J5',\n",
       "       'J8', 'J9', 'K1', 'K2', 'K3', 'K4', 'K5', 'K6', 'K7', 'K8', 'K9',\n",
       "       'L1', 'L3', 'L8', 'L9', 'M1', 'M2', 'M3', 'M4', 'M9', 'N2', 'N9',\n",
       "       'O1', 'O2', 'O3', 'O4', 'O5', 'O6', 'O7', 'O8', 'O9', 'P2', 'P5',\n",
       "       'P6', 'P7', 'P8', 'P9', 'Q1', 'Q8', 'Q9', 'R0', 'R1', 'R2', 'R3',\n",
       "       'R4', 'R5', 'R6', 'R7', 'R8', 'R9', 'RA', 'RB', 'RG', 'RH', 'RK',\n",
       "       'RP', 'RR', 'RS', 'RT', 'RW', 'S0', 'S1', 'S2', 'S3', 'S4', 'S5',\n",
       "       'S9', 'T2', 'U1', 'U6', 'V0', 'V1', 'V2', 'V3', 'V6', 'V9', 'W1',\n",
       "       'W2', 'W3', 'W4', 'W6', 'W8', 'W9', 'Y1', 'Y3', 'Z0', 'Z2', 'Z3',\n",
       "       'Z7', 'Z9'], dtype=object)"
      ]
     },
     "metadata": {},
     "output_type": "display_data"
    },
    {
     "data": {
      "text/plain": [
       "'_building_class_at_time_of_sale:'"
      ]
     },
     "metadata": {},
     "output_type": "display_data"
    },
    {
     "data": {
      "text/plain": [
       "array(['A0', 'A1', 'A2', 'A3', 'A4', 'A5', 'A6', 'A7', 'A9', 'B1', 'B2',\n",
       "       'B3', 'B9', 'C0', 'C1', 'C2', 'C3', 'C4', 'C5', 'C6', 'C7', 'C8',\n",
       "       'C9', 'CM', 'D0', 'D1', 'D2', 'D3', 'D4', 'D5', 'D6', 'D7', 'D8',\n",
       "       'D9', 'E1', 'E2', 'E7', 'E9', 'F1', 'F2', 'F4', 'F5', 'F9', 'G0',\n",
       "       'G1', 'G2', 'G3', 'G4', 'G5', 'G6', 'G7', 'G8', 'G9', 'GU', 'GW',\n",
       "       'H1', 'H2', 'H3', 'H4', 'H6', 'H8', 'H9', 'HB', 'HH', 'HR', 'HS',\n",
       "       'I1', 'I3', 'I4', 'I5', 'I6', 'I7', 'I9', 'J1', 'J4', 'J5', 'J8',\n",
       "       'J9', 'K1', 'K2', 'K3', 'K4', 'K5', 'K6', 'K7', 'K8', 'K9', 'L1',\n",
       "       'L3', 'L8', 'L9', 'M1', 'M2', 'M3', 'M4', 'M9', 'N2', 'N9', 'O1',\n",
       "       'O2', 'O3', 'O4', 'O5', 'O6', 'O7', 'O8', 'O9', 'P2', 'P5', 'P6',\n",
       "       'P7', 'P8', 'P9', 'Q1', 'Q8', 'Q9', 'R0', 'R1', 'R2', 'R3', 'R4',\n",
       "       'R5', 'R6', 'R7', 'R8', 'R9', 'RA', 'RB', 'RG', 'RH', 'RK', 'RP',\n",
       "       'RR', 'RS', 'RT', 'RW', 'S0', 'S1', 'S2', 'S3', 'S4', 'S5', 'S9',\n",
       "       'T2', 'U1', 'U6', 'V0', 'V1', 'V2', 'V3', 'V6', 'V9', 'W1', 'W2',\n",
       "       'W3', 'W4', 'W6', 'W8', 'W9', 'Y1', 'Y3', 'Z0', 'Z2', 'Z3', 'Z7',\n",
       "       'Z9'], dtype=object)"
      ]
     },
     "metadata": {},
     "output_type": "display_data"
    }
   ],
   "source": [
    "display('_building_class_at_present:', ny['building_class_at_present'].sort_values().unique())\n",
    "display('_building_class_at_time_of_sale:', ny['building_class_at_time_of_sale'].sort_values().unique())"
   ]
  },
  {
   "cell_type": "markdown",
   "metadata": {
    "id": "RK1BlEQ_Vb_H"
   },
   "source": [
    "#### Essas variáveis são pouco ou nada intuitivas...\n",
    "Por sorte temos o que elas significam no site https://www1.nyc.gov/assets/finance/jump/hlpbldgcode.html\n",
    "<p>Melhor que isso, podemos importar a tabela, ler como DataFrame e converter em dicionário para passar como parâmetro no replace."
   ]
  },
  {
   "cell_type": "code",
   "execution_count": 35,
   "metadata": {
    "id": "onjoIe2hVb_I",
    "outputId": "2ad0bba7-dfa7-43e5-859e-ce531d6772fb",
    "scrolled": true
   },
   "outputs": [
    {
     "data": {
      "text/plain": [
       "242"
      ]
     },
     "metadata": {},
     "output_type": "display_data"
    },
    {
     "data": {
      "text/plain": [
       "{'A': 'A',\n",
       " 'A0': 'CAPE COD',\n",
       " 'A1': 'TWO STORIES - DETACHED SM OR MID',\n",
       " 'A2': 'ONE STORY - PERMANENT LIVING QUARTER',\n",
       " 'A3': 'LARGE SUBURBAN RESIDENCE',\n",
       " 'A4': 'CITY RESIDENCE ONE FAMILY',\n",
       " 'A5': 'ONE FAMILY ATTACHED OR SEMI-DETACHED',\n",
       " 'A6': 'SUMMER COTTAGE',\n",
       " 'A7': 'MANSION TYPE OR TOWN HOUSE',\n",
       " 'A8': 'BUNGALOW COLONY - COOPERATIVELY OWNED LAND',\n",
       " 'A9': 'MISCELLANEOUS ONE FAMILY',\n",
       " 'B': 'B',\n",
       " 'B1': 'TWO FAMILY BRICK',\n",
       " 'B2': 'TWO FAMILY FRAME',\n",
       " 'B3': 'TWO FAMILY CONVERTED FROM ONE FAMILY',\n",
       " 'B9': 'MISCELLANEOUS TWO FAMILY',\n",
       " 'C': 'C',\n",
       " 'C0': 'THREE FAMILIES',\n",
       " 'C1': 'OVER SIX FAMILIES WITHOUT STORES',\n",
       " 'C2': 'FIVE TO SIX FAMILIES',\n",
       " 'C3': 'FOUR FAMILIES',\n",
       " 'C4': 'OLD LAW TENEMENT',\n",
       " 'C5': 'CONVERTED DWELLINGS OR ROOMING HOUSE',\n",
       " 'C6': 'WALK-UP COOPERATIVE',\n",
       " 'C7': 'WALK-UP APT. OVER SIX FAMILIES WITH STORES',\n",
       " 'C8': 'WALK-UP CO-OP; CONVERSION FROM LOFT/WAREHOUSE',\n",
       " 'C9': 'GARDEN APARTMENTS',\n",
       " 'CM': 'MOBILE HOMES/TRAILER PARKS',\n",
       " 'D': 'D',\n",
       " 'D0': 'ELEVATOR CO-OP; CONVERSION FROM LOFT/WAREHOUSE',\n",
       " 'D1': 'ELEVATOR APT; SEMI-FIREPROOF WITHOUT STORES',\n",
       " 'D2': 'ELEVATOR APT; ARTISTS IN RESIDENCE',\n",
       " 'D3': 'ELEVATOR APT; FIREPROOF WITHOUT STORES',\n",
       " 'D4': 'ELEVATOR COOPERATIVE',\n",
       " 'D5': 'ELEVATOR APT; CONVERTED',\n",
       " 'D6': 'ELEVATOR APT; FIREPROOF WITH STORES',\n",
       " 'D7': 'ELEVATOR APT; SEMI-FIREPROOF WITH STORES',\n",
       " 'D8': 'ELEVATOR APT; LUXURY TYPE',\n",
       " 'D9': 'ELEVATOR APT; MISCELLANEOUS',\n",
       " 'E': 'E',\n",
       " 'E1': 'FIREPROOF WAREHOUSE',\n",
       " 'E2': 'CONTRACTORS WAREHOUSE',\n",
       " 'E3': 'SEMI-FIREPROOF WAREHOUSE',\n",
       " 'E4': 'METAL FRAME WAREHOUSE',\n",
       " 'E7': 'SELF-STORAGE WAREHOUSES',\n",
       " 'E9': 'MISCELLANEOUS WAREHOUSE',\n",
       " 'F': 'F',\n",
       " 'F1': 'FACTORY; HEAVY MANUFACTURING - FIREPROOF',\n",
       " 'F2': 'FACTORY; SPECIAL CONSTRUCTION - FIREPROOF',\n",
       " 'F4': 'FACTORY; INDUSTRIAL SEMI-FIREPROOF',\n",
       " 'F5': 'FACTORY; LIGHT MANUFACTURING',\n",
       " 'F8': 'FACTORY; TANK FARM',\n",
       " 'F9': 'FACTORY; INDUSTRIAL-MISCELLANEOUS',\n",
       " 'G': 'G',\n",
       " 'G0': 'GARAGE; RESIDENTIAL TAX CLASS 1',\n",
       " 'G1': 'ALL PARKING GARAGES',\n",
       " 'G2': 'AUTO BODY/COLLISION OR AUTO REPAIR',\n",
       " 'G3': 'GAS STATION WITH RETAIL STORE',\n",
       " 'G4': 'GAS STATION WITH SERVICE/AUTO REPAIR',\n",
       " 'G5': 'GAS STATION ONLY WITH/WITHOUT SMALL KIOSK',\n",
       " 'G6': 'LICENSED PARKING LOT',\n",
       " 'G7': 'UNLICENSED PARKING LOT',\n",
       " 'G8': 'CAR SALES/RENTAL WITH SHOWROOM',\n",
       " 'G9': 'MISCELLANEOUS GARAGE',\n",
       " 'GU': 'CAR SALES OR RENTAL LOTS WITHOUT SHOWROOM',\n",
       " 'GW': 'CAR WASH OR LUBRITORIUM FACILITY',\n",
       " 'H': 'H',\n",
       " 'HB': 'BOUTIQUE: 10-100 ROOMS, W/LUXURY FACILITIES, THEMED, STYLISH, W/FULL SVC ACCOMMODATIONS',\n",
       " 'HH': 'HOSTELS- BED RENTALS IN DORMITORY-LIKE SETTINGS W/SHARED ROOMS & BATHROOMS',\n",
       " 'HR': 'SRO- 1 OR 2 PEOPLE HOUSED IN INDIVIDUAL ROOMS IN MULTIPLE DWELLING AFFORDABLE HOUSING',\n",
       " 'HS': 'EXTENDED STAY/SUITE: AMENITIES SIMILAR TO APT; TYPICALLY CHARGE WEEKLY RATES & LESS EXPENSIVE THAN FULL-SERVICE HOTEL',\n",
       " 'H1': 'LUXURY HOTEL',\n",
       " 'H2': 'FULL SERVICE HOTEL',\n",
       " 'H3': 'LIMITED SERVICE; MANY AFFILIATED WITH NATIONAL CHAIN',\n",
       " 'H4': 'MOTEL',\n",
       " 'H5': 'HOTEL; PRIVATE CLUB, LUXURY TYPE',\n",
       " 'H6': 'APARTMENT HOTEL',\n",
       " 'H7': 'APARTMENT HOTEL - COOPERATIVELY OWNED',\n",
       " 'H8': 'DORMITORY',\n",
       " 'H9': 'MISCELLANEOUS HOTEL',\n",
       " 'I': 'I',\n",
       " 'I1': 'HOSPITAL, SANITARIUM, MENTAL INSTITUTION',\n",
       " 'I2': 'INFIRMARY',\n",
       " 'I3': 'DISPENSARY',\n",
       " 'I4': 'HOSPITAL; STAFF FACILITY',\n",
       " 'I5': 'HEALTH CENTER, CHILD CENTER, CLINIC',\n",
       " 'I6': 'NURSING HOME',\n",
       " 'I7': 'ADULT CARE FACILITY',\n",
       " 'I9': 'MISCELLANEOUS HOSPITAL, HEALTH CARE FACILITY',\n",
       " 'J': 'J',\n",
       " 'J1': 'THEATRE; ART TYPE LESS THAN 400 SEATS',\n",
       " 'J2': 'THEATRE; ART TYPE MORE THAN 400 SEATS',\n",
       " 'J3': 'MOTION PICTURE THEATRE WITH BALCONY',\n",
       " 'J4': 'LEGITIMATE THEATRE, SOLE USE',\n",
       " 'J5': 'THEATRE IN MIXED-USE BUILDING',\n",
       " 'J6': 'TELEVISION STUDIO',\n",
       " 'J7': 'OFF BROADWAY TYPE THEATRE',\n",
       " 'J8': 'MULTIPLEX PICTURE THEATRE',\n",
       " 'J9': 'MISCELLANEOUS THEATRE',\n",
       " 'K': 'K',\n",
       " 'K1': 'ONE STORY RETAIL BUILDING',\n",
       " 'K2': 'MULTI-STORY RETAIL BUILDING (2 OR MORE)',\n",
       " 'K3': 'MULTI-STORY DEPARTMENT STORE',\n",
       " 'K4': 'PREDOMINANT RETAIL WITH OTHER USES',\n",
       " 'K5': 'STAND-ALONE FOOD ESTABLISHMENT',\n",
       " 'K6': 'SHOPPING CENTER WITH OR WITHOUT PARKING',\n",
       " 'K7': 'BANKING FACILITIES WITH OR WITHOUT PARKING',\n",
       " 'K8': \"BIG BOX RETAIL: NOT AFFIXED & STANDING ON OWN LOT W/PARKING, E.G. COSTCO & BJ'S\",\n",
       " 'K9': 'MISCELLANEOUS STORE BUILDING',\n",
       " 'L': 'L',\n",
       " 'L1': 'LOFT; OVER 8 STORIES (MID MANH. TYPE)',\n",
       " 'L2': 'LOFT; FIREPROOF AND STORAGE TYPE WITHOUT STORES',\n",
       " 'L3': 'LOFT; SEMI-FIREPROOF',\n",
       " 'L8': 'LOFT; WITH RETAIL STORES OTHER THAN TYPE ONE',\n",
       " 'L9': 'MISCELLANEOUS LOFT',\n",
       " 'M': 'M',\n",
       " 'M1': 'CHURCH, SYNAGOGUE, CHAPEL',\n",
       " 'M2': 'MISSION HOUSE (NON-RESIDENTIAL)',\n",
       " 'M3': 'PARSONAGE, RECTORY',\n",
       " 'M4': 'CONVENT',\n",
       " 'M9': 'MISCELLANEOUS RELIGIOUS FACILITY',\n",
       " 'N': 'N',\n",
       " 'N1': 'ASYLUM',\n",
       " 'N2': 'HOME FOR INDIGENT CHILDREN, AGED, HOMELESS',\n",
       " 'N3': 'ORPHANAGE',\n",
       " 'N4': 'DETENTION HOUSE FOR WAYWARD GIRLS',\n",
       " 'N9': 'MISCELLANEOUS ASYLUM, HOME',\n",
       " 'O': 'O',\n",
       " 'O1': 'OFFICE ONLY - 1 STORY',\n",
       " 'O2': 'OFFICE ONLY 2 - 6 STORIES',\n",
       " 'O3': 'OFFICE ONLY 7 - 19 STORIES',\n",
       " 'O4': 'OFFICE ONLY WITH OR WITHOUT COMM - 20 STORIES OR MORE',\n",
       " 'O5': 'OFFICE WITH COMM - 1 TO 6 STORIES',\n",
       " 'O6': 'OFFICE WITH COMM 7 - 19 STORIES',\n",
       " 'O7': 'PROFESSIONAL BUILDINGS/STAND ALONE FUNERAL HOMES',\n",
       " 'O8': 'OFFICE WITH APARTMENTS ONLY (NO COMM)',\n",
       " 'O9': 'MISCELLANEOUS AND OLD STYLE BANK BLDGS.',\n",
       " 'P': 'P',\n",
       " 'P1': 'CONCERT HALL',\n",
       " 'P2': 'LODGE ROOM',\n",
       " 'P3': 'YWCA, YMCA, YWHA, YMHA, PAL',\n",
       " 'P4': 'BEACH CLUB',\n",
       " 'P5': 'COMMUNITY CENTER',\n",
       " 'P6': 'AMUSEMENT PLACE, BATH HOUSE, BOAT HOUSE',\n",
       " 'P7': 'MUSEUM',\n",
       " 'P8': 'LIBRARY',\n",
       " 'P9': 'MISCELLANEOUS INDOOR PUBLIC ASSEMBLY',\n",
       " 'Q': 'Q',\n",
       " 'Q1': 'PARKS/RECREATION FACILTY',\n",
       " 'Q2': 'PLAYGROUND',\n",
       " 'Q3': 'OUTDOOR POOL',\n",
       " 'Q4': 'BEACH',\n",
       " 'Q5': 'GOLF COURSE',\n",
       " 'Q6': 'STADIUM, RACE TRACK, BASEBALL FIELD',\n",
       " 'Q7': 'TENNIS COURT',\n",
       " 'Q8': 'MARINA, YACHT CLUB',\n",
       " 'Q9': 'MISCELLANEOUS OUTDOOR RECREATIONAL FACILITY',\n",
       " 'R': 'R',\n",
       " 'RA': 'CULTURAL, MEDICAL, EDUCATIONAL, ETC.',\n",
       " 'RB': 'OFFICE SPACE',\n",
       " 'RG': 'INDOOR PARKING',\n",
       " 'RH': 'HOTEL/BOATEL',\n",
       " 'RK': 'RETAIL SPACE',\n",
       " 'RP': 'OUTDOOR PARKING',\n",
       " 'RR': 'CONDO RENTALS',\n",
       " 'RS': 'NON-BUSINESS STORAGE SPACE',\n",
       " 'RT': 'TERRACES/GARDENS/CABANAS',\n",
       " 'RW': 'WAREHOUSE/FACTORY/INDUSTRIAL',\n",
       " 'R0': 'SPECIAL CONDOMINIUM BILLING LOT',\n",
       " 'R1': 'CONDO; RESIDENTIAL UNIT IN 2-10 UNIT BLDG.',\n",
       " 'R2': 'CONDO; RESIDENTIAL UNIT IN WALK-UP BLDG.',\n",
       " 'R3': 'CONDO; RESIDENTIAL UNIT IN 1-3 STORY BLDG.',\n",
       " 'R4': 'CONDO; RESIDENTIAL UNIT IN ELEVATOR BLDG.',\n",
       " 'R5': 'MISCELLANEOUS COMMERCIAL',\n",
       " 'R6': 'CONDO; RESID.UNIT OF 1-3 UNIT BLDG-ORIG CLASS 1',\n",
       " 'R7': 'CONDO; COMML.UNIT OF 1-3 UNIT BLDG-ORIG CLASS 1',\n",
       " 'R8': 'CONDO; COMML.UNIT OF 2-10 UNIT BLDG.',\n",
       " 'R9': 'CO-OP WITHIN A CONDOMINIUM',\n",
       " 'S': 'S',\n",
       " 'S0': 'PRIMARILY 1 FAMILY WITH 2 STORES OR OFFICES',\n",
       " 'S1': 'PRIMARILY 1 FAMILY WITH 1 STORE OR OFFICE',\n",
       " 'S2': 'PRIMARILY 2 FAMILY WITH 1 STORE OR OFFICE',\n",
       " 'S3': 'PRIMARILY 3 FAMILY WITH 1 STORE OR OFFICE',\n",
       " 'S4': 'PRIMARILY 4 FAMILY WITH 1 STORE OROFFICE',\n",
       " 'S5': 'PRIMARILY 5-6 FAMILY WITH 1 STORE OR OFFICE',\n",
       " 'S9': 'SINGLE OR MULTIPLE DWELLING WITH STORES OR OFFICES',\n",
       " 'T': 'T',\n",
       " 'T1': 'AIRPORT, AIRFIELD, TERMINAL',\n",
       " 'T2': 'PIER, DOCK, BULKHEAD',\n",
       " 'T9': 'MISCELLANEOUS TRANSPORTATION FACILITY',\n",
       " 'U': 'U',\n",
       " 'U0': 'UTILITY COMPANY LAND AND BUILDING',\n",
       " 'U1': 'BRIDGE, TUNNEL, HIGHWAY',\n",
       " 'U2': 'GAS OR ELECTRIC UTILITY',\n",
       " 'U3': 'CEILING RAILROAD',\n",
       " 'U4': 'TELEPHONE UTILITY',\n",
       " 'U5': 'COMMUNICATION FACILITY OTHER THAN TELEPHONE',\n",
       " 'U6': 'RAILROAD - PRIVATE OWNERSHIP',\n",
       " 'U7': 'TRANSPORTATION - PUBLIC OWNERSHIP',\n",
       " 'U8': 'REVOCABLE CONSENT',\n",
       " 'U9': 'MISCELLANEOUS UTILITY PROPERTY',\n",
       " 'V': 'V',\n",
       " 'V0': 'ZONED RESIDENTIAL; NOT MANHATTAN',\n",
       " 'V1': 'ZONED COMMERCIAL OR MANHATTAN RESIDENTIAL',\n",
       " 'V2': 'ZONED COMMERCIAL ADJACENT TO CLASS 1 DWELLING: NOT MANHATTAN',\n",
       " 'V3': 'ZONED PRIMARILY RESIDENTIAL; NOT MANHATTAN',\n",
       " 'V4': 'POLICE OR FIRE DEPARTMENT',\n",
       " 'V5': 'SCHOOL SITE OR YARD',\n",
       " 'V6': 'LIBRARY, HOSPITAL OR MUSEUM',\n",
       " 'V7': 'PORT AUTHORITY OF NEW YORK AND NEW JERSEY',\n",
       " 'V8': 'NEW YORK STATE OR US GOVERNMENT',\n",
       " 'V9': 'MISCELLANEOUS VACANT LAND',\n",
       " 'W': 'W',\n",
       " 'W1': 'PUBLIC ELEMENTARY, JUNIOR OR SENIOR HIGH',\n",
       " 'W2': 'PAROCHIAL SCHOOL, YESHIVA',\n",
       " 'W3': 'SCHOOL OR ACADEMY',\n",
       " 'W4': 'TRAINING SCHOOL',\n",
       " 'W5': 'CITY UNIVERSITY',\n",
       " 'W6': 'OTHER COLLEGE AND UNIVERSITY',\n",
       " 'W7': 'THEOLOGICAL SEMINARY',\n",
       " 'W8': 'OTHER PRIVATE SCHOOL',\n",
       " 'W9': 'MISCELLANEOUS EDUCATIONAL FACILITY',\n",
       " 'Y': 'Y',\n",
       " 'Y1': 'FIRE DEPARTMENT',\n",
       " 'Y2': 'POLICE DEPARTMENT',\n",
       " 'Y3': 'PRISON, JAIL, HOUSE OF DETENTION',\n",
       " 'Y4': 'MILITARY AND NAVAL INSTALLATION',\n",
       " 'Y5': 'DEPARTMENT OF REAL ESTATE',\n",
       " 'Y6': 'DEPARTMENT OF SANITATION',\n",
       " 'Y7': 'DEPARTMENT OF PORTS AND TERMINALS',\n",
       " 'Y8': 'DEPARTMENT OF PUBLIC WORKS',\n",
       " 'Y9': 'DEPARTMENT OF ENVIRONMENTAL PROTECTION',\n",
       " 'Z': 'Z',\n",
       " 'Z0': 'TENNIS COURT, POOL, SHED, ETC.',\n",
       " 'Z1': 'COURT HOUSE',\n",
       " 'Z2': 'PUBLIC PARKING AREA',\n",
       " 'Z3': 'POST OFFICE',\n",
       " 'Z4': 'FOREIGN GOVERNMENT',\n",
       " 'Z5': 'UNITED NATIONS',\n",
       " 'Z7': 'EASEMENT',\n",
       " 'Z8': 'CEMETERY',\n",
       " 'Z9': 'OTHER MISCELLANEOUS'}"
      ]
     },
     "execution_count": 35,
     "metadata": {},
     "output_type": "execute_result"
    }
   ],
   "source": [
    "ny_building_class = pd.read_html('https://www1.nyc.gov/assets/finance/jump/hlpbldgcode.html')[0] # selecionando o primeiro elemento da lista (que contém o dataframe)\n",
    "ny_building_class.set_index(['Building Code', 'Description'])\n",
    "ny_bclass = ny_building_class.to_dict('split') # separando o índex, nome das colundas e os dados em listas\n",
    "ny_lists = ny_bclass.get('data') # selecionando apenas a lista de listas dos dados\n",
    "ny_dict = {k[0]: k[1] for k in ny_lists} # dict comprehension para transformar a lista de listas em dicionário\n",
    "display(len(ny_dict)) # mostrando a quantidade de itens do dicionário\n",
    "ny_dict"
   ]
  },
  {
   "cell_type": "markdown",
   "metadata": {
    "id": "3nh6Ad1TVb_I"
   },
   "source": [
    "### Substituindo os códigos e transformando os dtypes em category em uma só linha"
   ]
  },
  {
   "cell_type": "code",
   "execution_count": 36,
   "metadata": {
    "id": "HyKbdbVhVb_I"
   },
   "outputs": [],
   "source": [
    "ny['building_class_at_present'] = ny['building_class_at_present'].replace(ny_dict).astype('category')\n",
    "ny['building_class_at_time_of_sale'] = ny['building_class_at_time_of_sale'].replace(ny_dict).astype('category')"
   ]
  },
  {
   "cell_type": "markdown",
   "metadata": {
    "id": "7rl3fjl9Vb_J"
   },
   "source": [
    "### Vamos transformar o zip_code em categórica já que não faz sentido fazermos operações algébricas (+, - ,* ,/)  ou agregações de valores (mean, std)  "
   ]
  },
  {
   "cell_type": "code",
   "execution_count": 37,
   "metadata": {
    "id": "FApB3U82Vb_J"
   },
   "outputs": [],
   "source": [
    "ny['zip_code'] = ny['zip_code'].apply(str).astype('category')"
   ]
  },
  {
   "cell_type": "markdown",
   "metadata": {
    "id": "ko8eT4RWVb_J"
   },
   "source": [
    "### Continuando, vamos converter em categóricas"
   ]
  },
  {
   "cell_type": "code",
   "execution_count": 38,
   "metadata": {
    "id": "hjQFVJflVb_K",
    "outputId": "3d1fc341-18e9-45cc-d9ff-23e5784c7422"
   },
   "outputs": [
    {
     "name": "stdout",
     "output_type": "stream",
     "text": [
      "<class 'pandas.core.frame.DataFrame'>\n",
      "RangeIndex: 84548 entries, 0 to 84547\n",
      "Data columns (total 19 columns):\n",
      " #   Column                          Non-Null Count  Dtype         \n",
      "---  ------                          --------------  -----         \n",
      " 0   borough                         84548 non-null  object        \n",
      " 1   neighborhood                    84548 non-null  object        \n",
      " 2   building_class_category         84548 non-null  object        \n",
      " 3   tax_class_at_present            83810 non-null  category      \n",
      " 4   block                           84548 non-null  int64         \n",
      " 5   lot                             84548 non-null  int64         \n",
      " 6   building_class_at_present       84548 non-null  category      \n",
      " 7   address                         84548 non-null  object        \n",
      " 8   zip_code                        84548 non-null  category      \n",
      " 9   residential_units               84548 non-null  int64         \n",
      " 10  commercial_units                84548 non-null  int64         \n",
      " 11  total_units                     84548 non-null  int64         \n",
      " 12  land_square_feet                58296 non-null  float64       \n",
      " 13  gross_square_feet               56936 non-null  float64       \n",
      " 14  year_built                      84548 non-null  int64         \n",
      " 15  tax_class_at_time_of_sale       84548 non-null  category      \n",
      " 16  building_class_at_time_of_sale  84548 non-null  category      \n",
      " 17  sale_price                      69987 non-null  float64       \n",
      " 18  sale_date                       84548 non-null  datetime64[ns]\n",
      "dtypes: category(5), datetime64[ns](1), float64(3), int64(6), object(4)\n",
      "memory usage: 9.7+ MB\n"
     ]
    }
   ],
   "source": [
    "ny.info()"
   ]
  },
  {
   "cell_type": "markdown",
   "metadata": {
    "id": "j97ZD_GFVb_K"
   },
   "source": [
    "### Agora temos um dataset mais verdadeiro."
   ]
  },
  {
   "cell_type": "code",
   "execution_count": 39,
   "metadata": {
    "id": "PugTcHTCVb_K",
    "outputId": "442971ca-be4e-4d8e-e646-1aa07f2982a8"
   },
   "outputs": [
    {
     "data": {
      "text/html": [
       "<div>\n",
       "<style scoped>\n",
       "    .dataframe tbody tr th:only-of-type {\n",
       "        vertical-align: middle;\n",
       "    }\n",
       "\n",
       "    .dataframe tbody tr th {\n",
       "        vertical-align: top;\n",
       "    }\n",
       "\n",
       "    .dataframe thead th {\n",
       "        text-align: right;\n",
       "    }\n",
       "</style>\n",
       "<table border=\"1\" class=\"dataframe\">\n",
       "  <thead>\n",
       "    <tr style=\"text-align: right;\">\n",
       "      <th></th>\n",
       "      <th>count</th>\n",
       "      <th>unique</th>\n",
       "      <th>top</th>\n",
       "      <th>freq</th>\n",
       "      <th>mean</th>\n",
       "      <th>min</th>\n",
       "      <th>25%</th>\n",
       "      <th>50%</th>\n",
       "      <th>75%</th>\n",
       "      <th>max</th>\n",
       "      <th>std</th>\n",
       "    </tr>\n",
       "  </thead>\n",
       "  <tbody>\n",
       "    <tr>\n",
       "      <th>borough</th>\n",
       "      <td>84548</td>\n",
       "      <td>5</td>\n",
       "      <td>Queens</td>\n",
       "      <td>26736</td>\n",
       "      <td>NaN</td>\n",
       "      <td>NaN</td>\n",
       "      <td>NaN</td>\n",
       "      <td>NaN</td>\n",
       "      <td>NaN</td>\n",
       "      <td>NaN</td>\n",
       "      <td>NaN</td>\n",
       "    </tr>\n",
       "    <tr>\n",
       "      <th>neighborhood</th>\n",
       "      <td>84548</td>\n",
       "      <td>254</td>\n",
       "      <td>FLUSHING-NORTH</td>\n",
       "      <td>3068</td>\n",
       "      <td>NaN</td>\n",
       "      <td>NaN</td>\n",
       "      <td>NaN</td>\n",
       "      <td>NaN</td>\n",
       "      <td>NaN</td>\n",
       "      <td>NaN</td>\n",
       "      <td>NaN</td>\n",
       "    </tr>\n",
       "    <tr>\n",
       "      <th>building_class_category</th>\n",
       "      <td>84548</td>\n",
       "      <td>47</td>\n",
       "      <td>01onefamilydwellings</td>\n",
       "      <td>18235</td>\n",
       "      <td>NaN</td>\n",
       "      <td>NaN</td>\n",
       "      <td>NaN</td>\n",
       "      <td>NaN</td>\n",
       "      <td>NaN</td>\n",
       "      <td>NaN</td>\n",
       "      <td>NaN</td>\n",
       "    </tr>\n",
       "    <tr>\n",
       "      <th>tax_class_at_present</th>\n",
       "      <td>83810</td>\n",
       "      <td>8</td>\n",
       "      <td>Mostly Res buildings up to 3 Units</td>\n",
       "      <td>40053</td>\n",
       "      <td>NaN</td>\n",
       "      <td>NaN</td>\n",
       "      <td>NaN</td>\n",
       "      <td>NaN</td>\n",
       "      <td>NaN</td>\n",
       "      <td>NaN</td>\n",
       "      <td>NaN</td>\n",
       "    </tr>\n",
       "    <tr>\n",
       "      <th>block</th>\n",
       "      <td>84548.0</td>\n",
       "      <td>NaN</td>\n",
       "      <td>NaN</td>\n",
       "      <td>NaN</td>\n",
       "      <td>4237.21898</td>\n",
       "      <td>1.0</td>\n",
       "      <td>1322.75</td>\n",
       "      <td>3311.0</td>\n",
       "      <td>6281.0</td>\n",
       "      <td>16322.0</td>\n",
       "      <td>3568.26341</td>\n",
       "    </tr>\n",
       "    <tr>\n",
       "      <th>lot</th>\n",
       "      <td>84548.0</td>\n",
       "      <td>NaN</td>\n",
       "      <td>NaN</td>\n",
       "      <td>NaN</td>\n",
       "      <td>376.22401</td>\n",
       "      <td>1.0</td>\n",
       "      <td>22.0</td>\n",
       "      <td>50.0</td>\n",
       "      <td>1001.0</td>\n",
       "      <td>9106.0</td>\n",
       "      <td>658.13681</td>\n",
       "    </tr>\n",
       "    <tr>\n",
       "      <th>building_class_at_present</th>\n",
       "      <td>84548</td>\n",
       "      <td>167</td>\n",
       "      <td>ELEVATOR COOPERATIVE</td>\n",
       "      <td>12663</td>\n",
       "      <td>NaN</td>\n",
       "      <td>NaN</td>\n",
       "      <td>NaN</td>\n",
       "      <td>NaN</td>\n",
       "      <td>NaN</td>\n",
       "      <td>NaN</td>\n",
       "      <td>NaN</td>\n",
       "    </tr>\n",
       "    <tr>\n",
       "      <th>address</th>\n",
       "      <td>84548</td>\n",
       "      <td>67563</td>\n",
       "      <td>131-05 40TH   ROAD</td>\n",
       "      <td>210</td>\n",
       "      <td>NaN</td>\n",
       "      <td>NaN</td>\n",
       "      <td>NaN</td>\n",
       "      <td>NaN</td>\n",
       "      <td>NaN</td>\n",
       "      <td>NaN</td>\n",
       "      <td>NaN</td>\n",
       "    </tr>\n",
       "    <tr>\n",
       "      <th>zip_code</th>\n",
       "      <td>84548</td>\n",
       "      <td>186</td>\n",
       "      <td>10314</td>\n",
       "      <td>1687</td>\n",
       "      <td>NaN</td>\n",
       "      <td>NaN</td>\n",
       "      <td>NaN</td>\n",
       "      <td>NaN</td>\n",
       "      <td>NaN</td>\n",
       "      <td>NaN</td>\n",
       "      <td>NaN</td>\n",
       "    </tr>\n",
       "    <tr>\n",
       "      <th>residential_units</th>\n",
       "      <td>84548.0</td>\n",
       "      <td>NaN</td>\n",
       "      <td>NaN</td>\n",
       "      <td>NaN</td>\n",
       "      <td>2.02526</td>\n",
       "      <td>0.0</td>\n",
       "      <td>0.0</td>\n",
       "      <td>1.0</td>\n",
       "      <td>2.0</td>\n",
       "      <td>1844.0</td>\n",
       "      <td>16.72104</td>\n",
       "    </tr>\n",
       "    <tr>\n",
       "      <th>commercial_units</th>\n",
       "      <td>84548.0</td>\n",
       "      <td>NaN</td>\n",
       "      <td>NaN</td>\n",
       "      <td>NaN</td>\n",
       "      <td>0.19356</td>\n",
       "      <td>0.0</td>\n",
       "      <td>0.0</td>\n",
       "      <td>0.0</td>\n",
       "      <td>0.0</td>\n",
       "      <td>2261.0</td>\n",
       "      <td>8.71318</td>\n",
       "    </tr>\n",
       "    <tr>\n",
       "      <th>total_units</th>\n",
       "      <td>84548.0</td>\n",
       "      <td>NaN</td>\n",
       "      <td>NaN</td>\n",
       "      <td>NaN</td>\n",
       "      <td>2.24918</td>\n",
       "      <td>0.0</td>\n",
       "      <td>1.0</td>\n",
       "      <td>1.0</td>\n",
       "      <td>2.0</td>\n",
       "      <td>2261.0</td>\n",
       "      <td>18.97258</td>\n",
       "    </tr>\n",
       "    <tr>\n",
       "      <th>land_square_feet</th>\n",
       "      <td>58296.0</td>\n",
       "      <td>NaN</td>\n",
       "      <td>NaN</td>\n",
       "      <td>NaN</td>\n",
       "      <td>3941.67578</td>\n",
       "      <td>0.0</td>\n",
       "      <td>1650.0</td>\n",
       "      <td>2325.0</td>\n",
       "      <td>3500.0</td>\n",
       "      <td>4252327.0</td>\n",
       "      <td>41983.97271</td>\n",
       "    </tr>\n",
       "    <tr>\n",
       "      <th>gross_square_feet</th>\n",
       "      <td>56936.0</td>\n",
       "      <td>NaN</td>\n",
       "      <td>NaN</td>\n",
       "      <td>NaN</td>\n",
       "      <td>4045.70748</td>\n",
       "      <td>0.0</td>\n",
       "      <td>1046.75</td>\n",
       "      <td>1680.0</td>\n",
       "      <td>2560.0</td>\n",
       "      <td>3750565.0</td>\n",
       "      <td>35032.49053</td>\n",
       "    </tr>\n",
       "    <tr>\n",
       "      <th>year_built</th>\n",
       "      <td>84548.0</td>\n",
       "      <td>NaN</td>\n",
       "      <td>NaN</td>\n",
       "      <td>NaN</td>\n",
       "      <td>1789.32298</td>\n",
       "      <td>0.0</td>\n",
       "      <td>1920.0</td>\n",
       "      <td>1940.0</td>\n",
       "      <td>1965.0</td>\n",
       "      <td>2017.0</td>\n",
       "      <td>537.34499</td>\n",
       "    </tr>\n",
       "    <tr>\n",
       "      <th>tax_class_at_time_of_sale</th>\n",
       "      <td>84548</td>\n",
       "      <td>4</td>\n",
       "      <td>Mostly Res buildings up to 3 Units</td>\n",
       "      <td>41533</td>\n",
       "      <td>NaN</td>\n",
       "      <td>NaN</td>\n",
       "      <td>NaN</td>\n",
       "      <td>NaN</td>\n",
       "      <td>NaN</td>\n",
       "      <td>NaN</td>\n",
       "      <td>NaN</td>\n",
       "    </tr>\n",
       "    <tr>\n",
       "      <th>building_class_at_time_of_sale</th>\n",
       "      <td>84548</td>\n",
       "      <td>166</td>\n",
       "      <td>CONDO; RESIDENTIAL UNIT IN ELEVATOR BLDG.</td>\n",
       "      <td>12989</td>\n",
       "      <td>NaN</td>\n",
       "      <td>NaN</td>\n",
       "      <td>NaN</td>\n",
       "      <td>NaN</td>\n",
       "      <td>NaN</td>\n",
       "      <td>NaN</td>\n",
       "      <td>NaN</td>\n",
       "    </tr>\n",
       "    <tr>\n",
       "      <th>sale_price</th>\n",
       "      <td>69987.0</td>\n",
       "      <td>NaN</td>\n",
       "      <td>NaN</td>\n",
       "      <td>NaN</td>\n",
       "      <td>1276456.49776</td>\n",
       "      <td>0.0</td>\n",
       "      <td>225000.0</td>\n",
       "      <td>530000.0</td>\n",
       "      <td>950000.0</td>\n",
       "      <td>2210000000.0</td>\n",
       "      <td>11405255.34599</td>\n",
       "    </tr>\n",
       "    <tr>\n",
       "      <th>sale_date</th>\n",
       "      <td>84548</td>\n",
       "      <td>NaN</td>\n",
       "      <td>NaN</td>\n",
       "      <td>NaN</td>\n",
       "      <td>2017-02-26 10:03:23.018403584</td>\n",
       "      <td>2016-09-01 00:00:00</td>\n",
       "      <td>2016-11-29 00:00:00</td>\n",
       "      <td>2017-02-28 00:00:00</td>\n",
       "      <td>2017-05-26 00:00:00</td>\n",
       "      <td>2017-08-31 00:00:00</td>\n",
       "      <td>NaN</td>\n",
       "    </tr>\n",
       "  </tbody>\n",
       "</table>\n",
       "</div>"
      ],
      "text/plain": [
       "                                  count unique  \\\n",
       "borough                           84548      5   \n",
       "neighborhood                      84548    254   \n",
       "building_class_category           84548     47   \n",
       "tax_class_at_present              83810      8   \n",
       "block                           84548.0    NaN   \n",
       "lot                             84548.0    NaN   \n",
       "building_class_at_present         84548    167   \n",
       "address                           84548  67563   \n",
       "zip_code                          84548    186   \n",
       "residential_units               84548.0    NaN   \n",
       "commercial_units                84548.0    NaN   \n",
       "total_units                     84548.0    NaN   \n",
       "land_square_feet                58296.0    NaN   \n",
       "gross_square_feet               56936.0    NaN   \n",
       "year_built                      84548.0    NaN   \n",
       "tax_class_at_time_of_sale         84548      4   \n",
       "building_class_at_time_of_sale    84548    166   \n",
       "sale_price                      69987.0    NaN   \n",
       "sale_date                         84548    NaN   \n",
       "\n",
       "                                                                      top  \\\n",
       "borough                                                            Queens   \n",
       "neighborhood                                               FLUSHING-NORTH   \n",
       "building_class_category                              01onefamilydwellings   \n",
       "tax_class_at_present                   Mostly Res buildings up to 3 Units   \n",
       "block                                                                 NaN   \n",
       "lot                                                                   NaN   \n",
       "building_class_at_present                            ELEVATOR COOPERATIVE   \n",
       "address                                                131-05 40TH   ROAD   \n",
       "zip_code                                                            10314   \n",
       "residential_units                                                     NaN   \n",
       "commercial_units                                                      NaN   \n",
       "total_units                                                           NaN   \n",
       "land_square_feet                                                      NaN   \n",
       "gross_square_feet                                                     NaN   \n",
       "year_built                                                            NaN   \n",
       "tax_class_at_time_of_sale              Mostly Res buildings up to 3 Units   \n",
       "building_class_at_time_of_sale  CONDO; RESIDENTIAL UNIT IN ELEVATOR BLDG.   \n",
       "sale_price                                                            NaN   \n",
       "sale_date                                                             NaN   \n",
       "\n",
       "                                 freq                           mean  \\\n",
       "borough                         26736                            NaN   \n",
       "neighborhood                     3068                            NaN   \n",
       "building_class_category         18235                            NaN   \n",
       "tax_class_at_present            40053                            NaN   \n",
       "block                             NaN                     4237.21898   \n",
       "lot                               NaN                      376.22401   \n",
       "building_class_at_present       12663                            NaN   \n",
       "address                           210                            NaN   \n",
       "zip_code                         1687                            NaN   \n",
       "residential_units                 NaN                        2.02526   \n",
       "commercial_units                  NaN                        0.19356   \n",
       "total_units                       NaN                        2.24918   \n",
       "land_square_feet                  NaN                     3941.67578   \n",
       "gross_square_feet                 NaN                     4045.70748   \n",
       "year_built                        NaN                     1789.32298   \n",
       "tax_class_at_time_of_sale       41533                            NaN   \n",
       "building_class_at_time_of_sale  12989                            NaN   \n",
       "sale_price                        NaN                  1276456.49776   \n",
       "sale_date                         NaN  2017-02-26 10:03:23.018403584   \n",
       "\n",
       "                                                min                  25%  \\\n",
       "borough                                         NaN                  NaN   \n",
       "neighborhood                                    NaN                  NaN   \n",
       "building_class_category                         NaN                  NaN   \n",
       "tax_class_at_present                            NaN                  NaN   \n",
       "block                                           1.0              1322.75   \n",
       "lot                                             1.0                 22.0   \n",
       "building_class_at_present                       NaN                  NaN   \n",
       "address                                         NaN                  NaN   \n",
       "zip_code                                        NaN                  NaN   \n",
       "residential_units                               0.0                  0.0   \n",
       "commercial_units                                0.0                  0.0   \n",
       "total_units                                     0.0                  1.0   \n",
       "land_square_feet                                0.0               1650.0   \n",
       "gross_square_feet                               0.0              1046.75   \n",
       "year_built                                      0.0               1920.0   \n",
       "tax_class_at_time_of_sale                       NaN                  NaN   \n",
       "building_class_at_time_of_sale                  NaN                  NaN   \n",
       "sale_price                                      0.0             225000.0   \n",
       "sale_date                       2016-09-01 00:00:00  2016-11-29 00:00:00   \n",
       "\n",
       "                                                50%                  75%  \\\n",
       "borough                                         NaN                  NaN   \n",
       "neighborhood                                    NaN                  NaN   \n",
       "building_class_category                         NaN                  NaN   \n",
       "tax_class_at_present                            NaN                  NaN   \n",
       "block                                        3311.0               6281.0   \n",
       "lot                                            50.0               1001.0   \n",
       "building_class_at_present                       NaN                  NaN   \n",
       "address                                         NaN                  NaN   \n",
       "zip_code                                        NaN                  NaN   \n",
       "residential_units                               1.0                  2.0   \n",
       "commercial_units                                0.0                  0.0   \n",
       "total_units                                     1.0                  2.0   \n",
       "land_square_feet                             2325.0               3500.0   \n",
       "gross_square_feet                            1680.0               2560.0   \n",
       "year_built                                   1940.0               1965.0   \n",
       "tax_class_at_time_of_sale                       NaN                  NaN   \n",
       "building_class_at_time_of_sale                  NaN                  NaN   \n",
       "sale_price                                 530000.0             950000.0   \n",
       "sale_date                       2017-02-28 00:00:00  2017-05-26 00:00:00   \n",
       "\n",
       "                                                max             std  \n",
       "borough                                         NaN             NaN  \n",
       "neighborhood                                    NaN             NaN  \n",
       "building_class_category                         NaN             NaN  \n",
       "tax_class_at_present                            NaN             NaN  \n",
       "block                                       16322.0      3568.26341  \n",
       "lot                                          9106.0       658.13681  \n",
       "building_class_at_present                       NaN             NaN  \n",
       "address                                         NaN             NaN  \n",
       "zip_code                                        NaN             NaN  \n",
       "residential_units                            1844.0        16.72104  \n",
       "commercial_units                             2261.0         8.71318  \n",
       "total_units                                  2261.0        18.97258  \n",
       "land_square_feet                          4252327.0     41983.97271  \n",
       "gross_square_feet                         3750565.0     35032.49053  \n",
       "year_built                                   2017.0       537.34499  \n",
       "tax_class_at_time_of_sale                       NaN             NaN  \n",
       "building_class_at_time_of_sale                  NaN             NaN  \n",
       "sale_price                             2210000000.0  11405255.34599  \n",
       "sale_date                       2017-08-31 00:00:00             NaN  "
      ]
     },
     "execution_count": 39,
     "metadata": {},
     "output_type": "execute_result"
    }
   ],
   "source": [
    "ny.describe(include='all', datetime_is_numeric=True).round(5).T"
   ]
  },
  {
   "cell_type": "markdown",
   "metadata": {
    "id": "9YrigNiqVb_K"
   },
   "source": [
    "### Algumas colunas estão com o nome muito grande, o que pode diminuir a nossa agilidade. \n",
    "<lo> É hora de mudá-las"
   ]
  },
  {
   "cell_type": "code",
   "execution_count": 40,
   "metadata": {
    "id": "MauvudVEVb_L",
    "outputId": "7d7dc362-a367-444c-80a3-c7136297bcae"
   },
   "outputs": [
    {
     "data": {
      "text/plain": [
       "Index(['borough', 'neighborhood', 'building_class_category',\n",
       "       'tax_class_at_present', 'block', 'lot', 'building_class_at_present',\n",
       "       'address', 'zip_code', 'residential_units', 'commercial_units',\n",
       "       'total_units', 'land_square_feet', 'gross_square_feet', 'year_built',\n",
       "       'tax_class_at_time_of_sale', 'building_class_at_time_of_sale',\n",
       "       'sale_price', 'sale_date'],\n",
       "      dtype='object')"
      ]
     },
     "execution_count": 40,
     "metadata": {},
     "output_type": "execute_result"
    }
   ],
   "source": [
    "#extraindo os nomes\n",
    "ny.columns"
   ]
  },
  {
   "cell_type": "code",
   "execution_count": 41,
   "metadata": {
    "id": "p4j1cAj9Vb_L"
   },
   "outputs": [],
   "source": [
    "#criando um dicionário em cima das variáveis a serem mudadas\n",
    "ny.rename(columns = {'building_class_category': 'build_clss_cat',\n",
    "       'tax_class_at_present': 'tx_class_now', 'building_class_at_present': 'building_class_now', \n",
    "       'land_square_feet':  'land_sq_ft', 'gross_square_feet': 'gross_sq_ft', 'tax_class_at_time_of_sale': 'tx_class_at_sale',\n",
    "       'building_class_at_time_of_sale': 'building_class_at_sale'}, inplace=True)"
   ]
  },
  {
   "cell_type": "code",
   "execution_count": 42,
   "metadata": {
    "id": "n8lHEjPdVb_L",
    "outputId": "41eb7252-8ea8-4f81-9964-0f6e508fffff"
   },
   "outputs": [
    {
     "name": "stdout",
     "output_type": "stream",
     "text": [
      "<class 'pandas.core.frame.DataFrame'>\n",
      "RangeIndex: 84548 entries, 0 to 84547\n",
      "Data columns (total 19 columns):\n",
      " #   Column                  Non-Null Count  Dtype         \n",
      "---  ------                  --------------  -----         \n",
      " 0   borough                 84548 non-null  object        \n",
      " 1   neighborhood            84548 non-null  object        \n",
      " 2   build_clss_cat          84548 non-null  object        \n",
      " 3   tx_class_now            83810 non-null  category      \n",
      " 4   block                   84548 non-null  int64         \n",
      " 5   lot                     84548 non-null  int64         \n",
      " 6   building_class_now      84548 non-null  category      \n",
      " 7   address                 84548 non-null  object        \n",
      " 8   zip_code                84548 non-null  category      \n",
      " 9   residential_units       84548 non-null  int64         \n",
      " 10  commercial_units        84548 non-null  int64         \n",
      " 11  total_units             84548 non-null  int64         \n",
      " 12  land_sq_ft              58296 non-null  float64       \n",
      " 13  gross_sq_ft             56936 non-null  float64       \n",
      " 14  year_built              84548 non-null  int64         \n",
      " 15  tx_class_at_sale        84548 non-null  category      \n",
      " 16  building_class_at_sale  84548 non-null  category      \n",
      " 17  sale_price              69987 non-null  float64       \n",
      " 18  sale_date               84548 non-null  datetime64[ns]\n",
      "dtypes: category(5), datetime64[ns](1), float64(3), int64(6), object(4)\n",
      "memory usage: 9.7+ MB\n"
     ]
    }
   ],
   "source": [
    "ny.info()"
   ]
  },
  {
   "cell_type": "markdown",
   "metadata": {
    "id": "WN5YpG8qVb_M"
   },
   "source": [
    "## Vamos explorar o nosso df graficamente \n",
    "---"
   ]
  },
  {
   "cell_type": "markdown",
   "metadata": {
    "id": "-xbeidcJVb_M"
   },
   "source": [
    "### Vamos começar com uma linha na biblioteca matplotlib "
   ]
  },
  {
   "cell_type": "code",
   "execution_count": 77,
   "metadata": {
    "id": "ZNes-qPKVb_M",
    "outputId": "eea5d6e4-a0c6-4c01-98a1-087bdde51136"
   },
   "outputs": [
    {
     "data": {
      "image/png": "[encoded data removed]",
      "text/plain": [
       "<Figure size 576x396 with 1 Axes>"
      ]
     },
     "metadata": {},
     "output_type": "display_data"
    }
   ],
   "source": [
    "# Essas linhas de código criam a moldura e a exibem. Agora vamos recheá-la com os dados que quermos visualizar.\n",
    "fig, ax = plt.subplots();"
   ]
  },
  {
   "cell_type": "code",
   "execution_count": 78,
   "metadata": {
    "id": "-j-Pa45nVb_M",
    "outputId": "c27a2387-fe14-4add-86b8-34653f293731"
   },
   "outputs": [
    {
     "data": {
      "image/png": "[encoded data removed]",
      "text/plain": [
       "<Figure size 864x360 with 1 Axes>"
      ]
     },
     "metadata": {},
     "output_type": "display_data"
    }
   ],
   "source": [
    "fig, ax = plt.subplots()\n",
    "fig.set_size_inches(12, 5)\n",
    "\n",
    "# vamos entender como foi a média mensal de imóveis durante o período de um ano registrado.\n",
    "# quando plotamos com matplotlib, tudo é manual, até informar a ordem das datas, é necessário.\n",
    "\n",
    "ax.plot(ny['sale_date'].sort_values().unique(), ny['sale_price'].groupby(ny.sale_date).mean())\n",
    "plt.xticks(rotation=45);"
   ]
  },
  {
   "cell_type": "code",
   "execution_count": 81,
   "metadata": {
    "id": "puAqwuKwVb_N",
    "outputId": "f0b86b3d-87fa-4005-87e6-e40657b3801e"
   },
   "outputs": [
    {
     "data": {
      "image/png": "[encoded data removed]",
      "text/plain": [
       "<Figure size 1440x720 with 10 Axes>"
      ]
     },
     "metadata": {},
     "output_type": "display_data"
    }
   ],
   "source": [
    "# vamos plotar uma matriz de gráficos: 1 com a média de cada região da cidade, seguido de sua mínima e sua máxima \n",
    "# para ser possível compara, vamos manter o mesmo y para todos os gráficos\n",
    "\n",
    "fig, ax = plt.subplots(5, 2, sharey=True)\n",
    "fig.set_size_inches(20, 10)\n",
    "\n",
    "### Bronx\n",
    "ax[0,0].set_ylabel('Bronx (AVG)')\n",
    "ny_bronx = ny[ny['borough']== 'Bronx']\n",
    "#média\n",
    "ax[0,0].plot(ny_bronx['sale_date'].sort_values().unique(), ny_bronx['sale_price'].groupby(ny.sale_date).mean())\n",
    "#mediana\n",
    "ax[0,1].set_ylabel('Bronx (min-med)')\n",
    "ax[0,1].plot(ny_bronx['sale_date'].sort_values().unique(), ny_bronx['sale_price'].groupby(ny.sale_date).median(), c='g')\n",
    "#mínima\n",
    "ax[0,1].plot(ny_bronx['sale_date'].sort_values().unique(), ny_bronx['sale_price'].groupby(ny.sale_date).min(), c='r')\n",
    "\n",
    "\n",
    "### Brooklyn\n",
    "ax[1,0].set_ylabel('Brooklyn (AVG)')\n",
    "ny_Brooklyn = ny[ny['borough']== 'Brooklyn']\n",
    "#média\n",
    "ax[1,0].plot(ny_Brooklyn['sale_date'].sort_values().unique(), ny_Brooklyn['sale_price'].groupby(ny.sale_date).mean())\n",
    "#mediana\n",
    "ax[1,1].set_ylabel('Brooklyn (min-med)')\n",
    "ax[1,1].plot(ny_Brooklyn['sale_date'].sort_values().unique(), ny_Brooklyn['sale_price'].groupby(ny.sale_date).median(), c='g')\n",
    "#mínima\n",
    "ax[1,1].plot(ny_Brooklyn['sale_date'].sort_values().unique(), ny_Brooklyn['sale_price'].groupby(ny.sale_date).min(), c='r')\n",
    "\n",
    "\n",
    "### Manhattan\n",
    "ny_manhattan = ny[ny['borough']== 'Manhattan']\n",
    "ax[2,0].set_ylabel('Manhattan (AVG)')\n",
    "ax[2,0].plot(ny_manhattan['sale_date'].sort_values().unique(), ny_manhattan['sale_price'].groupby(ny.sale_date).mean())\n",
    "#mediana\n",
    "ax[2,1].set_ylabel('Manhattan (min-med)')\n",
    "ax[2,1].plot(ny_manhattan['sale_date'].sort_values().unique(), ny_manhattan['sale_price'].groupby(ny.sale_date).median(), c='g')\n",
    "#mínima\n",
    "ax[2,1].plot(ny_manhattan['sale_date'].sort_values().unique(), ny_manhattan['sale_price'].groupby(ny.sale_date).min(), c='r')\n",
    "\n",
    "\n",
    "### Queens\n",
    "ny_queens = ny[ny['borough']== 'Queens']\n",
    "ax[3,0].set_ylabel('Queens (AVG)')\n",
    "ax[3,0].plot(ny_queens['sale_date'].sort_values().unique(), ny_queens['sale_price'].groupby(ny.sale_date).mean())\n",
    "#mediana\n",
    "ax[3,1].set_ylabel('Queens (min-med)')\n",
    "ax[3,1].plot(ny_queens['sale_date'].sort_values().unique(), ny_queens['sale_price'].groupby(ny.sale_date).median(), c='g')\n",
    "#mínima\n",
    "ax[3,1].plot(ny_queens['sale_date'].sort_values().unique(), ny_queens['sale_price'].groupby(ny.sale_date).min(), c='r')\n",
    "\n",
    "\n",
    "### Staten Island\n",
    "ny_staten = ny[ny['borough']== 'Staten Island']\n",
    "ax[4,0].set_ylabel('Steten Island (AVG)')\n",
    "ax[4,0].plot(ny_staten['sale_date'].sort_values().unique(), ny_staten['sale_price'].groupby(ny.sale_date).mean())\n",
    "#mediana\n",
    "ax[4,1].set_ylabel('Steten Island (min-med)')\n",
    "ax[4,1].plot(ny_staten['sale_date'].sort_values().unique(), ny_staten['sale_price'].groupby(ny.sale_date).median(), c='g')\n",
    "#mínima\n",
    "ax[4,1].plot(ny_staten['sale_date'].sort_values().unique(), ny_staten['sale_price'].groupby(ny.sale_date).min(), c='r')\n",
    "\n",
    "\n",
    "#vamos entender como foi a média mensal de imóveis durante o período de um ano registrado.\n",
    "#quando plotamos com matplotlib, tudo é manual, até informar a ordem das datas, é necessário.\n",
    "\n",
    "plt.show()"
   ]
  },
  {
   "cell_type": "markdown",
   "metadata": {
    "id": "xhZQ4PL1Vb_N"
   },
   "source": [
    "#### Olhando para esse gráfico dá para perceber 3 coisas e pensar uma quarta:\n",
    "<li> Os dados são referentes as vendas de imóveis entre setembro de 2016 e agosto de 2017;\n",
    "<li> Os preços médios medianos e mínimos em Manhattan são muito maiores que os dos demais boroughs;\n",
    "<li> Cada região tem uma dinâmica própria;   \n",
    "<li> Se eu tiver que escrever tudo isso de código a cada análise, vou trabalhar nesse dataset para sempre.\n",
    "<p> Calma. O Matplotlib é especialmente importante por sua performance e por seu nível de detalhamento em criar EXATAMENTE a visualização que você quiser, mas existem bibliotecas que são bem mais concisas para ganharmos agilidade nas nossas análises.    \n"
   ]
  },
  {
   "cell_type": "markdown",
   "metadata": {
    "id": "fRjV6ZeiVb_O"
   },
   "source": [
    "### Seaborn\n",
    "Para se ter uma ideia de como funciona essa biblioteca, vamos plotar um histograma em matplotlib e um gráfico de distribuição em seaborn"
   ]
  },
  {
   "cell_type": "code",
   "execution_count": 79,
   "metadata": {
    "id": "ordEOXROVb_O",
    "outputId": "e6ebe3fd-ce2f-482d-a746-cd918812a380"
   },
   "outputs": [
    {
     "data": {
      "image/png": "[encoded data removed]",
      "text/plain": [
       "<Figure size 576x396 with 1 Axes>"
      ]
     },
     "metadata": {},
     "output_type": "display_data"
    }
   ],
   "source": [
    "fig, ax = plt.subplots()\n",
    "ax.hist(ny['year_built']);"
   ]
  },
  {
   "cell_type": "markdown",
   "metadata": {
    "id": "bKCE1EIfVb_O"
   },
   "source": [
    "Perceba que mesmo com 30 bins, é muito dificil ter uma ideia qualquer sobre como os dados se comportam.\n",
    "<p> Agora vamos o distplot do seaborn. Ele mostra onde está a concentração dos dados sem que tenhamos que ficar tentando adivinhar.<p>\n",
    "    É muito mais simples e nos dá confiança para tomar decisões que precisamos tomar."
   ]
  },
  {
   "cell_type": "code",
   "execution_count": 80,
   "metadata": {
    "id": "IpX8ZwPoVb_O",
    "outputId": "84ee27c6-6679-45a9-ab93-ee79e95e40da"
   },
   "outputs": [
    {
     "data": {
      "image/png": "[encoded data removed]",
      "text/plain": [
       "<Figure size 576x396 with 1 Axes>"
      ]
     },
     "metadata": {},
     "output_type": "display_data"
    }
   ],
   "source": [
    "ax = sns.histplot(ny['year_built'], kde=True, bins=20);"
   ]
  },
  {
   "cell_type": "code",
   "execution_count": 48,
   "metadata": {
    "id": "qR3hjv07Vb_P",
    "outputId": "9bea97a6-b908-44a4-cf8c-bf1d775389ed"
   },
   "outputs": [
    {
     "data": {
      "text/plain": [
       "False    77578\n",
       "True      6970\n",
       "Name: year_built, dtype: int64"
      ]
     },
     "execution_count": 48,
     "metadata": {},
     "output_type": "execute_result"
    }
   ],
   "source": [
    "(ny['year_built']== 0).value_counts()"
   ]
  },
  {
   "cell_type": "markdown",
   "metadata": {
    "id": "XHiYPCI_Vb_P"
   },
   "source": [
    "### Vamos preencher os anos faltantes com a mediana de cada borough"
   ]
  },
  {
   "cell_type": "code",
   "execution_count": 49,
   "metadata": {
    "id": "ekrCoGB0Vb_P",
    "outputId": "68ab7f75-061b-47e5-9d41-05e960b47fb6"
   },
   "outputs": [
    {
     "data": {
      "text/html": [
       "<div>\n",
       "<style scoped>\n",
       "    .dataframe tbody tr th:only-of-type {\n",
       "        vertical-align: middle;\n",
       "    }\n",
       "\n",
       "    .dataframe tbody tr th {\n",
       "        vertical-align: top;\n",
       "    }\n",
       "\n",
       "    .dataframe thead th {\n",
       "        text-align: right;\n",
       "    }\n",
       "</style>\n",
       "<table border=\"1\" class=\"dataframe\">\n",
       "  <thead>\n",
       "    <tr style=\"text-align: right;\">\n",
       "      <th></th>\n",
       "      <th>year_built</th>\n",
       "      <th>sale_price</th>\n",
       "    </tr>\n",
       "    <tr>\n",
       "      <th>borough</th>\n",
       "      <th></th>\n",
       "      <th></th>\n",
       "    </tr>\n",
       "  </thead>\n",
       "  <tbody>\n",
       "    <tr>\n",
       "      <th>Bronx</th>\n",
       "      <td>1932.0</td>\n",
       "      <td>270000.0</td>\n",
       "    </tr>\n",
       "    <tr>\n",
       "      <th>Brooklyn</th>\n",
       "      <td>1930.0</td>\n",
       "      <td>420000.0</td>\n",
       "    </tr>\n",
       "    <tr>\n",
       "      <th>Manhattan</th>\n",
       "      <td>1938.0</td>\n",
       "      <td>1150000.0</td>\n",
       "    </tr>\n",
       "    <tr>\n",
       "      <th>Queens</th>\n",
       "      <td>1945.0</td>\n",
       "      <td>495000.0</td>\n",
       "    </tr>\n",
       "    <tr>\n",
       "      <th>Staten Island</th>\n",
       "      <td>1973.0</td>\n",
       "      <td>465000.0</td>\n",
       "    </tr>\n",
       "  </tbody>\n",
       "</table>\n",
       "</div>"
      ],
      "text/plain": [
       "               year_built  sale_price\n",
       "borough                              \n",
       "Bronx              1932.0    270000.0\n",
       "Brooklyn           1930.0    420000.0\n",
       "Manhattan          1938.0   1150000.0\n",
       "Queens             1945.0    495000.0\n",
       "Staten Island      1973.0    465000.0"
      ]
     },
     "execution_count": 49,
     "metadata": {},
     "output_type": "execute_result"
    }
   ],
   "source": [
    "ny[['borough','year_built','neighborhood', 'address', 'sale_price']].groupby(['borough']).median()"
   ]
  },
  {
   "cell_type": "code",
   "execution_count": 84,
   "metadata": {
    "id": "SoI7wDynVb_P",
    "outputId": "41f25e4c-95c5-4d5b-80eb-e195f5b06287"
   },
   "outputs": [],
   "source": [
    "ny['year_built'][ny['borough'] == 'Bronx'] = ny['year_built'][ny['borough'] == 'Bronx'].replace(0, 1932).astype('int64')\n",
    "ny['year_built'][ny['borough'] == 'Brooklyn'] = ny['year_built'][ny['borough'] == 'Brooklyn'].replace(0, 1930).astype('int64')\n",
    "ny['year_built'][ny['borough'] == 'Manhattan'] = ny['year_built'][ny['borough'] == 'Manhattan'].replace(0, 1938).astype('int64')\n",
    "ny['year_built'][ny['borough'] == 'Queens'] = ny['year_built'][ny['borough'] == 'Queens'].replace(0, 1945).astype('int64')\n",
    "ny['year_built'][ny['borough'] == 'Staten Island'] = ny['year_built'][ny['borough'] == 'Staten Island'].replace(0, 1973).astype('int64')"
   ]
  },
  {
   "cell_type": "markdown",
   "metadata": {
    "id": "XRPNJYZzVb_Q"
   },
   "source": [
    "### Vamos substituir a data dessas duas linhas do dataset"
   ]
  },
  {
   "cell_type": "code",
   "execution_count": 85,
   "metadata": {
    "id": "HNrx17uAVb_Q"
   },
   "outputs": [],
   "source": [
    "ny['year_built'][ny['year_built'] < 1800] = ny['year_built'][ny['year_built'] < 1800].replace({1111: 1900, 1680: 1810})"
   ]
  },
  {
   "cell_type": "code",
   "execution_count": 82,
   "metadata": {
    "id": "1fUvJy3qVb_Q",
    "outputId": "e98fe0fe-f913-4354-8d86-eca3d74d7f21"
   },
   "outputs": [
    {
     "data": {
      "text/plain": [
       "False    69987\n",
       "Name: year_built, dtype: int64"
      ]
     },
     "metadata": {},
     "output_type": "display_data"
    },
    {
     "data": {
      "image/png": "[encoded data removed]",
      "text/plain": [
       "<Figure size 576x396 with 1 Axes>"
      ]
     },
     "metadata": {},
     "output_type": "display_data"
    }
   ],
   "source": [
    "#substituindo os zeros e as duas linhas isoladas antes de 1800\n",
    "display((ny['year_built']== 0).value_counts())\n",
    "ax = sns.histplot(ny['year_built'], kde=True)"
   ]
  },
  {
   "cell_type": "code",
   "execution_count": 53,
   "metadata": {
    "id": "BmVmg0YeVb_Q",
    "outputId": "bc516331-e992-4c04-ef01-dc87256cddb9"
   },
   "outputs": [
    {
     "data": {
      "image/png": "[encoded data removed]",
      "text/plain": [
       "<Figure size 576x396 with 1 Axes>"
      ]
     },
     "metadata": {},
     "output_type": "display_data"
    }
   ],
   "source": [
    "ax = plt.hist(ny['year_built'])"
   ]
  },
  {
   "cell_type": "code",
   "execution_count": 54,
   "metadata": {
    "id": "p65BmSaKVb_Q",
    "outputId": "9a19309e-c630-4ebb-e4f0-9e2b1946fe7e"
   },
   "outputs": [
    {
     "data": {
      "image/png": "[encoded data removed]",
      "text/plain": [
       "<Figure size 576x396 with 1 Axes>"
      ]
     },
     "metadata": {},
     "output_type": "display_data"
    }
   ],
   "source": [
    "ax = sns.histplot(ny['year_built'], kde=True)"
   ]
  },
  {
   "cell_type": "markdown",
   "metadata": {
    "id": "iOe30-DpVb_R"
   },
   "source": [
    "### Precisamos adotar uma medida drástica: Apagar as linhas com preços de venda vazios\n",
    "como uma das nossas principais análises é sobre os preços substituir esses valores pode enviesar a análise.\n",
    "<li> vamos abrir mão de mais de 17% dos nossos dados."
   ]
  },
  {
   "cell_type": "code",
   "execution_count": 55,
   "metadata": {
    "id": "DMxoFnM9Vb_R",
    "outputId": "85337ec8-521b-4e02-e51d-c4c399207b19"
   },
   "outputs": [
    {
     "data": {
      "text/plain": [
       "False    0.827778\n",
       "True     0.172222\n",
       "Name: sale_price, dtype: float64"
      ]
     },
     "execution_count": 55,
     "metadata": {},
     "output_type": "execute_result"
    }
   ],
   "source": [
    "(ny['sale_price'].isnull()).value_counts(normalize=True)"
   ]
  },
  {
   "cell_type": "code",
   "execution_count": 56,
   "metadata": {
    "id": "isZ5ARD3Vb_R"
   },
   "outputs": [],
   "source": [
    "ny.dropna(subset=['sale_price'], inplace=True)"
   ]
  },
  {
   "cell_type": "markdown",
   "metadata": {
    "id": "eCEObcx3Vb_R"
   },
   "source": [
    "### Comparando Seaborn com Matplotlib em um gráfico"
   ]
  },
  {
   "cell_type": "markdown",
   "metadata": {
    "id": "TmfXbSyrVb_S"
   },
   "source": [
    "#### Scatterplot com Matplotlib"
   ]
  },
  {
   "cell_type": "code",
   "execution_count": 57,
   "metadata": {
    "id": "yWyQgZG4Vb_S",
    "outputId": "fa662b81-6629-4a40-8a62-ff2f175a4d36"
   },
   "outputs": [
    {
     "data": {
      "image/png": "[encoded data removed]",
      "text/plain": [
       "<Figure size 576x396 with 1 Axes>"
      ]
     },
     "metadata": {},
     "output_type": "display_data"
    }
   ],
   "source": [
    "fig, ax = plt.subplots()\n",
    "ax = plt.scatter(ny['year_built'], ny['sale_price'], alpha=0.5, s=10)"
   ]
  },
  {
   "cell_type": "markdown",
   "metadata": {
    "id": "fSJIIvyfVb_S"
   },
   "source": [
    "Ok. Esse até pareceu simples... agora imagine se quiséssemos separar as regiões por cores...\n",
    "<p><b> Com Seaborn isso é muiiiito mais simples!!! </b>"
   ]
  },
  {
   "cell_type": "markdown",
   "metadata": {
    "id": "dS6MVIbTVb_S"
   },
   "source": [
    "#### Scatterplot com Seaborn"
   ]
  },
  {
   "cell_type": "code",
   "execution_count": 58,
   "metadata": {
    "id": "kEbfzTLXVb_S",
    "outputId": "3dd87fb2-1857-4a42-fd41-918166dabec6"
   },
   "outputs": [
    {
     "data": {
      "image/png": "[encoded data removed]",
      "text/plain": [
       "<Figure size 576x396 with 1 Axes>"
      ]
     },
     "metadata": {},
     "output_type": "display_data"
    }
   ],
   "source": [
    "# basta passar a coluna que você desejar como hue e ele automaticamente incorpora cores e uma legenda\n",
    "sns.scatterplot(x='year_built', y='sale_price', data=ny, alpha=0.5, hue='borough', s=25);"
   ]
  },
  {
   "cell_type": "markdown",
   "metadata": {
    "id": "KFTnVLlcVb_S"
   },
   "source": [
    "##### Melhor que isso, vamos criar um gráfico para cada região, passando um <b>ÚNICO</b> argumento!\n",
    "Ok.. é um tipo de gráfico específico para relacionar variáveis. Mas são DOIS argumentos..."
   ]
  },
  {
   "cell_type": "markdown",
   "metadata": {
    "id": "kV1bz1iRVb_T"
   },
   "source": [
    "#### Relplot com Seaborn"
   ]
  },
  {
   "cell_type": "code",
   "execution_count": 59,
   "metadata": {
    "id": "gd6fBaBFVb_T",
    "outputId": "59a54822-87da-4c3a-b5fb-52cfdaf39f47"
   },
   "outputs": [
    {
     "data": {
      "image/png": "[encoded data removed]",
      "text/plain": [
       "<Figure size 1894.75x360 with 5 Axes>"
      ]
     },
     "metadata": {},
     "output_type": "display_data"
    }
   ],
   "source": [
    "# O relplot aceita dois kinds \"scatter\" ou \"line\" e para alterar, basta mudar um parâmetro\n",
    "# Para criar subplots, podemos usar tanto o argumento col, quanto row \n",
    "sns.relplot(x='year_built', y='sale_price', data=ny, alpha=0.5, kind='scatter', col='borough', hue='borough');"
   ]
  },
  {
   "cell_type": "code",
   "execution_count": 60,
   "metadata": {
    "id": "yz-gmPZYVb_T",
    "outputId": "ad8dcfb0-768b-4817-c7bb-ec379163b29d"
   },
   "outputs": [
    {
     "data": {
      "text/plain": [
       "<seaborn.axisgrid.FacetGrid at 0x22f8798cd60>"
      ]
     },
     "metadata": {},
     "output_type": "display_data"
    },
    {
     "data": {
      "image/png": "[encoded data removed]",
      "text/plain": [
       "<Figure size 1894.75x360 with 5 Axes>"
      ]
     },
     "metadata": {},
     "output_type": "display_data"
    },
    {
     "data": {
      "image/png": "[encoded data removed]",
      "text/plain": [
       "<Figure size 1894.75x360 with 5 Axes>"
      ]
     },
     "metadata": {},
     "output_type": "display_data"
    }
   ],
   "source": [
    "# Um ponto importante sobre o seaborn é que, nos gráficos de linhas, ele está sempre passando amostras aleatórias com um intervalo de confiança de 95% \n",
    "display(sns.relplot(x='year_built', y='sale_price', data=ny, alpha=0.5, kind='line', col='borough', hue='borough'))\n",
    "\n",
    "# Se quisermos desativar o estimador e plotar todos os dados, precisamos indicar isso.  \n",
    "sns.relplot(x='year_built', y='sale_price', data=ny, alpha=0.5, kind='line', col='borough', hue='borough', estimator=None);"
   ]
  },
  {
   "cell_type": "markdown",
   "metadata": {
    "id": "YdL72BbVVb_T"
   },
   "source": [
    "### Recuperando o foco\n",
    "- Os gráficos são muito legais, mas o propósito deles é nos ajudar a fazer análises.\n",
    "- Lembrando dos scatterplots, tínhamos uma concentração no valor das vendas de imóveis construídos entre 1900 - 1950 e a partir de 2000\n",
    "- Vimos que essa dinâmica muda de acordo com a região e que Manhattan concentra com maior preço de venda, não importa o ano da construção\n",
    "- Imóveis dos anos 70 e 80 aparentemente tiveram uma alta de preço no Bronx e no Queens\n",
    "- Entendemos melhor as dinâmicas de preços dos imóveis vendidos entre 2016 e 2017. Mas e a quantidade?"
   ]
  },
  {
   "cell_type": "markdown",
   "metadata": {
    "id": "eQci0sFTVb_T"
   },
   "source": [
    "### Vamos investigar a quantidade de imóveis vendidos por região"
   ]
  },
  {
   "cell_type": "markdown",
   "metadata": {
    "id": "kO3J2DDbVb_T"
   },
   "source": [
    "### Catplot()"
   ]
  },
  {
   "cell_type": "code",
   "execution_count": 61,
   "metadata": {
    "id": "qBnM7CRZVb_T",
    "outputId": "5e4bda8e-c2f0-499f-c0ff-b2f1fbd34ea1"
   },
   "outputs": [
    {
     "data": {
      "image/png": "[encoded data removed]",
      "text/plain": [
       "<Figure size 360x360 with 1 Axes>"
      ]
     },
     "metadata": {},
     "output_type": "display_data"
    }
   ],
   "source": [
    "# Se você passar apenas um argumento e setar o kind para 'count', ele vira um countplot ()\n",
    "sns.catplot(x='borough', data=ny, kind='count');"
   ]
  },
  {
   "cell_type": "code",
   "execution_count": 62,
   "metadata": {
    "id": "LOOb4lUUVb_U",
    "outputId": "f9eab2ad-fb60-4438-b506-3bca9c984e04"
   },
   "outputs": [
    {
     "data": {
      "image/png": "[encoded data removed]",
      "text/plain": [
       "<Figure size 576x396 with 1 Axes>"
      ]
     },
     "metadata": {},
     "output_type": "display_data"
    }
   ],
   "source": [
    "# Não desista do Matplotlib!\n",
    "#obs.: Eu tive que ajustar a ordem para que tivessem a mesma cor já usada no dataset. O Seaborn faz isso automaticamente.\n",
    "fig, ax = plt.subplots()\n",
    "ax.bar(\"Manhattan\", ny[ny['borough'] == 'Manhattan']['borough'].value_counts())\n",
    "ax.bar(\"Bronx\", ny[ny['borough'] == 'Bronx']['borough'].value_counts())\n",
    "ax.bar(\"Brooklyn\", ny[ny['borough'] == 'Brooklyn']['borough'].value_counts())\n",
    "ax.bar(\"Queens\", ny[ny['borough'] == 'Queens']['borough'].value_counts())\n",
    "ax.bar(\"Staten Island\", ny[ny['borough'] == 'Staten Island']['borough'].value_counts())\n",
    "ax.set_title('Quantidade de imóveis vendidos por região');"
   ]
  },
  {
   "cell_type": "code",
   "execution_count": 63,
   "metadata": {
    "id": "kbP4BEQKVb_U",
    "outputId": "defdc9b6-bf4f-4cc3-887d-e49eb546b9ec"
   },
   "outputs": [
    {
     "data": {
      "image/png": "[encoded data removed]",
      "text/plain": [
       "<Figure size 360x360 with 1 Axes>"
      ]
     },
     "metadata": {},
     "output_type": "display_data"
    }
   ],
   "source": [
    "# Mas quando plotamos o preço vs a região fica clara a discrepância. \n",
    "sns.catplot(x='borough', y='sale_price', data=ny, kind='bar');"
   ]
  },
  {
   "cell_type": "markdown",
   "metadata": {
    "id": "2Xgfojj_Vb_U"
   },
   "source": [
    "Ao mesmo tempo, nos acende uma luz vermelha. \n",
    "<br>Essa barrinha no topo de cada região é o intervalo de confiança.\n",
    "<br>Veja que ela é muito maior em Manhattan do que nas demais regiões.\n",
    "<br><br>\n",
    "Podemos investigar trocando o intervalo de confiança pelo desvio padrão."
   ]
  },
  {
   "cell_type": "code",
   "execution_count": 64,
   "metadata": {
    "id": "DjEszA65Vb_V",
    "outputId": "692ec511-702a-432d-82ed-cd7439c097cc"
   },
   "outputs": [
    {
     "data": {
      "image/png": "[encoded data removed]",
      "text/plain": [
       "<Figure size 360x360 with 1 Axes>"
      ]
     },
     "metadata": {},
     "output_type": "display_data"
    }
   ],
   "source": [
    "sns.catplot(x='borough', y='sale_price', data=ny, kind='bar', ci='sd');"
   ]
  },
  {
   "cell_type": "markdown",
   "metadata": {
    "id": "ShqwIIiGVb_W"
   },
   "source": [
    "Ok! Isso não é muito intuitivo.. o que isso significa?"
   ]
  },
  {
   "cell_type": "markdown",
   "metadata": {
    "id": "zJjdgb2xVb_W"
   },
   "source": [
    "### Boxplot\n",
    "Talvez esse seja o gráfico que melhor explique a distribuição dos dados dentro de uma variável"
   ]
  },
  {
   "cell_type": "code",
   "execution_count": 65,
   "metadata": {
    "id": "4NRl_L7FVb_W",
    "outputId": "2dc3ee09-362b-434e-9b4c-a58ce14a605e"
   },
   "outputs": [
    {
     "data": {
      "image/png": "[encoded data removed]",
      "text/plain": [
       "<Figure size 576x396 with 1 Axes>"
      ]
     },
     "metadata": {},
     "output_type": "display_data"
    }
   ],
   "source": [
    "sns.boxplot(x='borough', y='sale_price', data=ny);"
   ]
  },
  {
   "cell_type": "markdown",
   "metadata": {
    "id": "aLfCZBGYVb_W"
   },
   "source": [
    "#### Isso mesmo! Os preços em Manhattan são tão absurdamente altos que os 95% dos dados cabem todos em uma linha.\n",
    "Precisamos criar um recorte para podermos entender e comparar o comportamento dos dados."
   ]
  },
  {
   "cell_type": "markdown",
   "metadata": {
    "id": "ukfRXB0MVb_W"
   },
   "source": [
    "### Quantos imóveis existem com valor acima de U$ 100.000.000.000?"
   ]
  },
  {
   "cell_type": "code",
   "execution_count": 66,
   "metadata": {
    "id": "fSNNm6RfVb_X",
    "outputId": "7cc3e940-5a0d-4052-a03c-6aba207463d6"
   },
   "outputs": [
    {
     "name": "stdout",
     "output_type": "stream",
     "text": [
      "Manhattan: 35\n",
      "Bronx: 1\n",
      "Brooklyn: 7\n",
      "Queens: 4\n",
      "Staten Island: 1\n"
     ]
    }
   ],
   "source": [
    "print('Manhattan:', len(ny[(ny.borough == 'Manhattan') & (ny.sale_price > 100000000)]), end='\\n')\n",
    "print('Bronx:', len(ny[(ny.borough == 'Bronx') & (ny.sale_price > 100000000)]), end='\\n')\n",
    "print('Brooklyn:', len(ny[(ny.borough == 'Brooklyn') & (ny.sale_price > 100000000)]),end='\\n')\n",
    "print('Queens:', len(ny[(ny.borough == 'Queens') & (ny.sale_price > 100000000)]),end='\\n')\n",
    "print('Staten Island:', len(ny[(ny.borough == 'Staten Island') & (ny.sale_price > 100000000)]), end='\\n')"
   ]
  },
  {
   "cell_type": "markdown",
   "metadata": {
    "id": "In16E5E3Vb_X"
   },
   "source": [
    "#### Será que existe algo de errado com eles?"
   ]
  },
  {
   "cell_type": "code",
   "execution_count": 67,
   "metadata": {
    "id": "fxnpHGiXVb_X",
    "outputId": "dec8cdd9-6c1d-450b-b866-779f9e914900",
    "scrolled": true
   },
   "outputs": [
    {
     "data": {
      "text/html": [
       "<div>\n",
       "<style scoped>\n",
       "    .dataframe tbody tr th:only-of-type {\n",
       "        vertical-align: middle;\n",
       "    }\n",
       "\n",
       "    .dataframe tbody tr th {\n",
       "        vertical-align: top;\n",
       "    }\n",
       "\n",
       "    .dataframe thead th {\n",
       "        text-align: right;\n",
       "    }\n",
       "</style>\n",
       "<table border=\"1\" class=\"dataframe\">\n",
       "  <thead>\n",
       "    <tr style=\"text-align: right;\">\n",
       "      <th></th>\n",
       "      <th>borough</th>\n",
       "      <th>neighborhood</th>\n",
       "      <th>build_clss_cat</th>\n",
       "      <th>tx_class_now</th>\n",
       "      <th>block</th>\n",
       "      <th>lot</th>\n",
       "      <th>building_class_now</th>\n",
       "      <th>address</th>\n",
       "      <th>zip_code</th>\n",
       "      <th>residential_units</th>\n",
       "      <th>commercial_units</th>\n",
       "      <th>total_units</th>\n",
       "      <th>land_sq_ft</th>\n",
       "      <th>gross_sq_ft</th>\n",
       "      <th>year_built</th>\n",
       "      <th>tx_class_at_sale</th>\n",
       "      <th>building_class_at_sale</th>\n",
       "      <th>sale_price</th>\n",
       "      <th>sale_date</th>\n",
       "    </tr>\n",
       "  </thead>\n",
       "  <tbody>\n",
       "    <tr>\n",
       "      <th>931</th>\n",
       "      <td>Manhattan</td>\n",
       "      <td>CHELSEA</td>\n",
       "      <td>21officebuildings</td>\n",
       "      <td>Com, Ind, Fact, Office and Others</td>\n",
       "      <td>801</td>\n",
       "      <td>24</td>\n",
       "      <td>OFFICE ONLY 7 - 19 STORIES</td>\n",
       "      <td>119 WEST 25TH   STREET</td>\n",
       "      <td>10001</td>\n",
       "      <td>0</td>\n",
       "      <td>13</td>\n",
       "      <td>13</td>\n",
       "      <td>9875.0</td>\n",
       "      <td>113062.0</td>\n",
       "      <td>1906</td>\n",
       "      <td>Com, Ind, Fact, Office and Others</td>\n",
       "      <td>OFFICE ONLY 7 - 19 STORIES</td>\n",
       "      <td>1.500000e+08</td>\n",
       "      <td>2016-12-16</td>\n",
       "    </tr>\n",
       "    <tr>\n",
       "      <th>941</th>\n",
       "      <td>Manhattan</td>\n",
       "      <td>CHELSEA</td>\n",
       "      <td>22storebuildings</td>\n",
       "      <td>Com, Ind, Fact, Office and Others</td>\n",
       "      <td>773</td>\n",
       "      <td>1</td>\n",
       "      <td>MULTI-STORY RETAIL BUILDING (2 OR MORE)</td>\n",
       "      <td>258 8 AVENUE</td>\n",
       "      <td>10011</td>\n",
       "      <td>0</td>\n",
       "      <td>4</td>\n",
       "      <td>4</td>\n",
       "      <td>19750.0</td>\n",
       "      <td>39500.0</td>\n",
       "      <td>1932</td>\n",
       "      <td>Com, Ind, Fact, Office and Others</td>\n",
       "      <td>MULTI-STORY RETAIL BUILDING (2 OR MORE)</td>\n",
       "      <td>1.072500e+08</td>\n",
       "      <td>2017-08-08</td>\n",
       "    </tr>\n",
       "    <tr>\n",
       "      <th>950</th>\n",
       "      <td>Manhattan</td>\n",
       "      <td>CHELSEA</td>\n",
       "      <td>25luxuryhotels</td>\n",
       "      <td>Com, Ind, Fact, Office and Others</td>\n",
       "      <td>801</td>\n",
       "      <td>71</td>\n",
       "      <td>LUXURY HOTEL</td>\n",
       "      <td>152 WEST 26TH STREET</td>\n",
       "      <td>10001</td>\n",
       "      <td>0</td>\n",
       "      <td>1</td>\n",
       "      <td>1</td>\n",
       "      <td>9826.0</td>\n",
       "      <td>122236.0</td>\n",
       "      <td>2010</td>\n",
       "      <td>Com, Ind, Fact, Office and Others</td>\n",
       "      <td>LUXURY HOTEL</td>\n",
       "      <td>1.397250e+08</td>\n",
       "      <td>2016-12-05</td>\n",
       "    </tr>\n",
       "    <tr>\n",
       "      <th>1122</th>\n",
       "      <td>Manhattan</td>\n",
       "      <td>CIVIC CENTER</td>\n",
       "      <td>07rentals_walkupapartments</td>\n",
       "      <td>Primarily Res 7 - 10 Rent</td>\n",
       "      <td>175</td>\n",
       "      <td>19</td>\n",
       "      <td>WALK-UP APT. OVER SIX FAMILIES WITH STORES</td>\n",
       "      <td>41 WHITE STREET</td>\n",
       "      <td>10013</td>\n",
       "      <td>7</td>\n",
       "      <td>1</td>\n",
       "      <td>8</td>\n",
       "      <td>2633.0</td>\n",
       "      <td>12000.0</td>\n",
       "      <td>1915</td>\n",
       "      <td>Primarily Res 11+ Units</td>\n",
       "      <td>WALK-UP APT. OVER SIX FAMILIES WITH STORES</td>\n",
       "      <td>1.415000e+08</td>\n",
       "      <td>2017-07-13</td>\n",
       "    </tr>\n",
       "    <tr>\n",
       "      <th>2046</th>\n",
       "      <td>Manhattan</td>\n",
       "      <td>FASHION</td>\n",
       "      <td>21officebuildings</td>\n",
       "      <td>Com, Ind, Fact, Office and Others</td>\n",
       "      <td>784</td>\n",
       "      <td>64</td>\n",
       "      <td>OFFICE WITH COMM 7 - 19 STORIES</td>\n",
       "      <td>240 WEST 35TH STREET</td>\n",
       "      <td>10001</td>\n",
       "      <td>0</td>\n",
       "      <td>35</td>\n",
       "      <td>35</td>\n",
       "      <td>9875.0</td>\n",
       "      <td>145372.0</td>\n",
       "      <td>1924</td>\n",
       "      <td>Com, Ind, Fact, Office and Others</td>\n",
       "      <td>OFFICE WITH COMM 7 - 19 STORIES</td>\n",
       "      <td>1.080000e+08</td>\n",
       "      <td>2016-12-20</td>\n",
       "    </tr>\n",
       "    <tr>\n",
       "      <th>2050</th>\n",
       "      <td>Manhattan</td>\n",
       "      <td>FASHION</td>\n",
       "      <td>21officebuildings</td>\n",
       "      <td>Com, Ind, Fact, Office and Others</td>\n",
       "      <td>833</td>\n",
       "      <td>11</td>\n",
       "      <td>OFFICE ONLY WITH OR WITHOUT COMM - 20 STORIES ...</td>\n",
       "      <td>1250 BROADWAY</td>\n",
       "      <td>10001</td>\n",
       "      <td>0</td>\n",
       "      <td>55</td>\n",
       "      <td>55</td>\n",
       "      <td>30750.0</td>\n",
       "      <td>645977.0</td>\n",
       "      <td>1969</td>\n",
       "      <td>Com, Ind, Fact, Office and Others</td>\n",
       "      <td>OFFICE ONLY WITH OR WITHOUT COMM - 20 STORIES ...</td>\n",
       "      <td>5.650000e+08</td>\n",
       "      <td>2016-11-01</td>\n",
       "    </tr>\n",
       "    <tr>\n",
       "      <th>2064</th>\n",
       "      <td>Manhattan</td>\n",
       "      <td>FASHION</td>\n",
       "      <td>25luxuryhotels</td>\n",
       "      <td>Com, Ind, Fact, Office and Others</td>\n",
       "      <td>760</td>\n",
       "      <td>18</td>\n",
       "      <td>FULL SERVICE HOTEL</td>\n",
       "      <td>341 WEST 36TH   STREET</td>\n",
       "      <td>10018</td>\n",
       "      <td>0</td>\n",
       "      <td>1</td>\n",
       "      <td>1</td>\n",
       "      <td>7406.0</td>\n",
       "      <td>81000.0</td>\n",
       "      <td>2007</td>\n",
       "      <td>Com, Ind, Fact, Office and Others</td>\n",
       "      <td>FULL SERVICE HOTEL</td>\n",
       "      <td>1.055927e+08</td>\n",
       "      <td>2017-08-16</td>\n",
       "    </tr>\n",
       "    <tr>\n",
       "      <th>2066</th>\n",
       "      <td>Manhattan</td>\n",
       "      <td>FASHION</td>\n",
       "      <td>25luxuryhotels</td>\n",
       "      <td>Com, Ind, Fact, Office and Others</td>\n",
       "      <td>763</td>\n",
       "      <td>28</td>\n",
       "      <td>FULL SERVICE HOTEL</td>\n",
       "      <td>311 WEST 39TH   STREET</td>\n",
       "      <td>10018</td>\n",
       "      <td>0</td>\n",
       "      <td>1</td>\n",
       "      <td>1</td>\n",
       "      <td>7406.0</td>\n",
       "      <td>177000.0</td>\n",
       "      <td>2010</td>\n",
       "      <td>Com, Ind, Fact, Office and Others</td>\n",
       "      <td>FULL SERVICE HOTEL</td>\n",
       "      <td>1.281778e+08</td>\n",
       "      <td>2016-09-29</td>\n",
       "    </tr>\n",
       "    <tr>\n",
       "      <th>2067</th>\n",
       "      <td>Manhattan</td>\n",
       "      <td>FASHION</td>\n",
       "      <td>25luxuryhotels</td>\n",
       "      <td>Com, Ind, Fact, Office and Others</td>\n",
       "      <td>806</td>\n",
       "      <td>76</td>\n",
       "      <td>LUXURY HOTEL</td>\n",
       "      <td>371 7 AVENUE</td>\n",
       "      <td>10001</td>\n",
       "      <td>529</td>\n",
       "      <td>9</td>\n",
       "      <td>538</td>\n",
       "      <td>19011.0</td>\n",
       "      <td>473391.0</td>\n",
       "      <td>1929</td>\n",
       "      <td>Com, Ind, Fact, Office and Others</td>\n",
       "      <td>LUXURY HOTEL</td>\n",
       "      <td>2.125000e+08</td>\n",
       "      <td>2016-12-20</td>\n",
       "    </tr>\n",
       "    <tr>\n",
       "      <th>2068</th>\n",
       "      <td>Manhattan</td>\n",
       "      <td>FASHION</td>\n",
       "      <td>25luxuryhotels</td>\n",
       "      <td>Com, Ind, Fact, Office and Others</td>\n",
       "      <td>837</td>\n",
       "      <td>6</td>\n",
       "      <td>FULL SERVICE HOTEL</td>\n",
       "      <td>63-67 WEST 35TH STREET</td>\n",
       "      <td>10001</td>\n",
       "      <td>0</td>\n",
       "      <td>1</td>\n",
       "      <td>1</td>\n",
       "      <td>7406.0</td>\n",
       "      <td>122859.0</td>\n",
       "      <td>2008</td>\n",
       "      <td>Com, Ind, Fact, Office and Others</td>\n",
       "      <td>FULL SERVICE HOTEL</td>\n",
       "      <td>1.396575e+08</td>\n",
       "      <td>2016-12-05</td>\n",
       "    </tr>\n",
       "    <tr>\n",
       "      <th>2090</th>\n",
       "      <td>Manhattan</td>\n",
       "      <td>FINANCIAL</td>\n",
       "      <td>08rentals_elevatorapartments</td>\n",
       "      <td>Primarily Res 11+ Units</td>\n",
       "      <td>27</td>\n",
       "      <td>9</td>\n",
       "      <td>ELEVATOR APT; CONVERTED</td>\n",
       "      <td>63 WALL STREET</td>\n",
       "      <td>10005</td>\n",
       "      <td>476</td>\n",
       "      <td>6</td>\n",
       "      <td>482</td>\n",
       "      <td>17623.0</td>\n",
       "      <td>400531.0</td>\n",
       "      <td>1929</td>\n",
       "      <td>Primarily Res 11+ Units</td>\n",
       "      <td>ELEVATOR APT; CONVERTED</td>\n",
       "      <td>2.391146e+08</td>\n",
       "      <td>2016-09-30</td>\n",
       "    </tr>\n",
       "    <tr>\n",
       "      <th>2091</th>\n",
       "      <td>Manhattan</td>\n",
       "      <td>FINANCIAL</td>\n",
       "      <td>08rentals_elevatorapartments</td>\n",
       "      <td>Primarily Res 11+ Units</td>\n",
       "      <td>27</td>\n",
       "      <td>17</td>\n",
       "      <td>ELEVATOR APT; CONVERTED</td>\n",
       "      <td>67 WALL STREET</td>\n",
       "      <td>10005</td>\n",
       "      <td>317</td>\n",
       "      <td>6</td>\n",
       "      <td>323</td>\n",
       "      <td>12127.0</td>\n",
       "      <td>303175.0</td>\n",
       "      <td>1921</td>\n",
       "      <td>Primarily Res 11+ Units</td>\n",
       "      <td>ELEVATOR APT; CONVERTED</td>\n",
       "      <td>1.823916e+08</td>\n",
       "      <td>2016-09-30</td>\n",
       "    </tr>\n",
       "    <tr>\n",
       "      <th>2557</th>\n",
       "      <td>Manhattan</td>\n",
       "      <td>FINANCIAL</td>\n",
       "      <td>21officebuildings</td>\n",
       "      <td>Com, Ind, Fact, Office and Others</td>\n",
       "      <td>29</td>\n",
       "      <td>1</td>\n",
       "      <td>OFFICE ONLY WITH OR WITHOUT COMM - 20 STORIES ...</td>\n",
       "      <td>85 BROAD STREET</td>\n",
       "      <td>10004</td>\n",
       "      <td>0</td>\n",
       "      <td>1</td>\n",
       "      <td>1</td>\n",
       "      <td>42762.0</td>\n",
       "      <td>993569.0</td>\n",
       "      <td>1983</td>\n",
       "      <td>Com, Ind, Fact, Office and Others</td>\n",
       "      <td>OFFICE ONLY WITH OR WITHOUT COMM - 20 STORIES ...</td>\n",
       "      <td>6.520000e+08</td>\n",
       "      <td>2017-05-24</td>\n",
       "    </tr>\n",
       "    <tr>\n",
       "      <th>2559</th>\n",
       "      <td>Manhattan</td>\n",
       "      <td>FINANCIAL</td>\n",
       "      <td>21officebuildings</td>\n",
       "      <td>Com, Ind, Fact, Office and Others</td>\n",
       "      <td>40</td>\n",
       "      <td>3</td>\n",
       "      <td>OFFICE ONLY WITH OR WITHOUT COMM - 20 STORIES ...</td>\n",
       "      <td>60 WALL STREET</td>\n",
       "      <td>10005</td>\n",
       "      <td>0</td>\n",
       "      <td>1</td>\n",
       "      <td>1</td>\n",
       "      <td>53632.0</td>\n",
       "      <td>1617206.0</td>\n",
       "      <td>1987</td>\n",
       "      <td>Com, Ind, Fact, Office and Others</td>\n",
       "      <td>OFFICE ONLY WITH OR WITHOUT COMM - 20 STORIES ...</td>\n",
       "      <td>1.040000e+09</td>\n",
       "      <td>2017-01-24</td>\n",
       "    </tr>\n",
       "    <tr>\n",
       "      <th>2564</th>\n",
       "      <td>Manhattan</td>\n",
       "      <td>FINANCIAL</td>\n",
       "      <td>25luxuryhotels</td>\n",
       "      <td>Com, Ind, Fact, Office and Others</td>\n",
       "      <td>10</td>\n",
       "      <td>33</td>\n",
       "      <td>FULL SERVICE HOTEL</td>\n",
       "      <td>8 STONE STREET</td>\n",
       "      <td>10004</td>\n",
       "      <td>0</td>\n",
       "      <td>1</td>\n",
       "      <td>1</td>\n",
       "      <td>6834.0</td>\n",
       "      <td>143730.0</td>\n",
       "      <td>2007</td>\n",
       "      <td>Com, Ind, Fact, Office and Others</td>\n",
       "      <td>FULL SERVICE HOTEL</td>\n",
       "      <td>1.001072e+08</td>\n",
       "      <td>2016-09-29</td>\n",
       "    </tr>\n",
       "    <tr>\n",
       "      <th>2565</th>\n",
       "      <td>Manhattan</td>\n",
       "      <td>FINANCIAL</td>\n",
       "      <td>25luxuryhotels</td>\n",
       "      <td>Com, Ind, Fact, Office and Others</td>\n",
       "      <td>52</td>\n",
       "      <td>8</td>\n",
       "      <td>FULL SERVICE HOTEL</td>\n",
       "      <td>133 GREENWICH STREET</td>\n",
       "      <td>10006</td>\n",
       "      <td>0</td>\n",
       "      <td>318</td>\n",
       "      <td>318</td>\n",
       "      <td>6109.0</td>\n",
       "      <td>130054.0</td>\n",
       "      <td>2014</td>\n",
       "      <td>Com, Ind, Fact, Office and Others</td>\n",
       "      <td>FULL SERVICE HOTEL</td>\n",
       "      <td>2.033450e+08</td>\n",
       "      <td>2016-12-22</td>\n",
       "    </tr>\n",
       "    <tr>\n",
       "      <th>3022</th>\n",
       "      <td>Manhattan</td>\n",
       "      <td>FLATIRON</td>\n",
       "      <td>21officebuildings</td>\n",
       "      <td>Com, Ind, Fact, Office and Others</td>\n",
       "      <td>829</td>\n",
       "      <td>16</td>\n",
       "      <td>OFFICE WITH COMM 7 - 19 STORIES</td>\n",
       "      <td>31 WEST 27TH STREET</td>\n",
       "      <td>10001</td>\n",
       "      <td>0</td>\n",
       "      <td>15</td>\n",
       "      <td>15</td>\n",
       "      <td>9876.0</td>\n",
       "      <td>106800.0</td>\n",
       "      <td>1910</td>\n",
       "      <td>Com, Ind, Fact, Office and Others</td>\n",
       "      <td>OFFICE WITH COMM 7 - 19 STORIES</td>\n",
       "      <td>1.260000e+08</td>\n",
       "      <td>2017-07-13</td>\n",
       "    </tr>\n",
       "    <tr>\n",
       "      <th>4149</th>\n",
       "      <td>Manhattan</td>\n",
       "      <td>GREENWICH VILLAGE-CENTRAL</td>\n",
       "      <td>21officebuildings</td>\n",
       "      <td>Com, Ind, Fact, Office and Others</td>\n",
       "      <td>563</td>\n",
       "      <td>31</td>\n",
       "      <td>OFFICE WITH COMM 7 - 19 STORIES</td>\n",
       "      <td>817 BROADWAY</td>\n",
       "      <td>10003</td>\n",
       "      <td>0</td>\n",
       "      <td>15</td>\n",
       "      <td>15</td>\n",
       "      <td>8175.0</td>\n",
       "      <td>114000.0</td>\n",
       "      <td>1900</td>\n",
       "      <td>Com, Ind, Fact, Office and Others</td>\n",
       "      <td>OFFICE WITH COMM 7 - 19 STORIES</td>\n",
       "      <td>1.090000e+08</td>\n",
       "      <td>2016-11-21</td>\n",
       "    </tr>\n",
       "    <tr>\n",
       "      <th>4151</th>\n",
       "      <td>Manhattan</td>\n",
       "      <td>GREENWICH VILLAGE-CENTRAL</td>\n",
       "      <td>21officebuildings</td>\n",
       "      <td>Com, Ind, Fact, Office and Others</td>\n",
       "      <td>577</td>\n",
       "      <td>19</td>\n",
       "      <td>OFFICE WITH COMM - 1 TO 6 STORIES</td>\n",
       "      <td>34-42 W 14 STREET</td>\n",
       "      <td>10011</td>\n",
       "      <td>0</td>\n",
       "      <td>6</td>\n",
       "      <td>6</td>\n",
       "      <td>25297.0</td>\n",
       "      <td>151541.0</td>\n",
       "      <td>1930</td>\n",
       "      <td>Com, Ind, Fact, Office and Others</td>\n",
       "      <td>OFFICE WITH COMM - 1 TO 6 STORIES</td>\n",
       "      <td>1.530000e+08</td>\n",
       "      <td>2017-01-10</td>\n",
       "    </tr>\n",
       "    <tr>\n",
       "      <th>4781</th>\n",
       "      <td>Manhattan</td>\n",
       "      <td>GREENWICH VILLAGE-WEST</td>\n",
       "      <td>21officebuildings</td>\n",
       "      <td>Com, Ind, Fact, Office and Others</td>\n",
       "      <td>603</td>\n",
       "      <td>28</td>\n",
       "      <td>OFFICE ONLY 7 - 19 STORIES</td>\n",
       "      <td>95 MORTON STREET</td>\n",
       "      <td>10014</td>\n",
       "      <td>0</td>\n",
       "      <td>11</td>\n",
       "      <td>11</td>\n",
       "      <td>20019.0</td>\n",
       "      <td>154328.0</td>\n",
       "      <td>1911</td>\n",
       "      <td>Com, Ind, Fact, Office and Others</td>\n",
       "      <td>OFFICE ONLY 7 - 19 STORIES</td>\n",
       "      <td>2.059618e+08</td>\n",
       "      <td>2017-04-05</td>\n",
       "    </tr>\n",
       "    <tr>\n",
       "      <th>6312</th>\n",
       "      <td>Manhattan</td>\n",
       "      <td>JAVITS CENTER</td>\n",
       "      <td>21officebuildings</td>\n",
       "      <td>Com, Ind, Fact, Office and Others</td>\n",
       "      <td>705</td>\n",
       "      <td>45</td>\n",
       "      <td>OFFICE WITH COMM - 1 TO 6 STORIES</td>\n",
       "      <td>504-514 WEST 34TH   STREET</td>\n",
       "      <td>10001</td>\n",
       "      <td>0</td>\n",
       "      <td>1</td>\n",
       "      <td>1</td>\n",
       "      <td>9875.0</td>\n",
       "      <td>11250.0</td>\n",
       "      <td>1900</td>\n",
       "      <td>Com, Ind, Fact, Office and Others</td>\n",
       "      <td>OFFICE WITH COMM - 1 TO 6 STORIES</td>\n",
       "      <td>1.247000e+08</td>\n",
       "      <td>2016-12-15</td>\n",
       "    </tr>\n",
       "    <tr>\n",
       "      <th>6317</th>\n",
       "      <td>Manhattan</td>\n",
       "      <td>JAVITS CENTER</td>\n",
       "      <td>21officebuildings</td>\n",
       "      <td>Com, Ind, Fact, Office and Others</td>\n",
       "      <td>732</td>\n",
       "      <td>36</td>\n",
       "      <td>OFFICE ONLY 7 - 19 STORIES</td>\n",
       "      <td>433-447 NINTH AVENUE</td>\n",
       "      <td>10001</td>\n",
       "      <td>0</td>\n",
       "      <td>2</td>\n",
       "      <td>2</td>\n",
       "      <td>39779.0</td>\n",
       "      <td>350000.0</td>\n",
       "      <td>1962</td>\n",
       "      <td>Com, Ind, Fact, Office and Others</td>\n",
       "      <td>OFFICE ONLY 7 - 19 STORIES</td>\n",
       "      <td>3.300000e+08</td>\n",
       "      <td>2016-12-06</td>\n",
       "    </tr>\n",
       "    <tr>\n",
       "      <th>6332</th>\n",
       "      <td>Manhattan</td>\n",
       "      <td>KIPS BAY</td>\n",
       "      <td>08rentals_elevatorapartments</td>\n",
       "      <td>Primarily Res 11+ Units</td>\n",
       "      <td>934</td>\n",
       "      <td>1</td>\n",
       "      <td>ELEVATOR APT; FIREPROOF WITH STORES</td>\n",
       "      <td>460-520 2ND AVENUE</td>\n",
       "      <td>10016</td>\n",
       "      <td>894</td>\n",
       "      <td>8</td>\n",
       "      <td>902</td>\n",
       "      <td>141836.0</td>\n",
       "      <td>829024.0</td>\n",
       "      <td>1975</td>\n",
       "      <td>Primarily Res 11+ Units</td>\n",
       "      <td>ELEVATOR APT; FIREPROOF WITH STORES</td>\n",
       "      <td>6.200000e+08</td>\n",
       "      <td>2016-12-08</td>\n",
       "    </tr>\n",
       "    <tr>\n",
       "      <th>6681</th>\n",
       "      <td>Manhattan</td>\n",
       "      <td>KIPS BAY</td>\n",
       "      <td>26otherhotels</td>\n",
       "      <td>Com, Ind, Fact, Office and Others</td>\n",
       "      <td>929</td>\n",
       "      <td>38</td>\n",
       "      <td>DORMITORY</td>\n",
       "      <td>340 EAST 24TH   STREET</td>\n",
       "      <td>10010</td>\n",
       "      <td>0</td>\n",
       "      <td>254</td>\n",
       "      <td>254</td>\n",
       "      <td>18344.0</td>\n",
       "      <td>113056.0</td>\n",
       "      <td>2015</td>\n",
       "      <td>Com, Ind, Fact, Office and Others</td>\n",
       "      <td>DORMITORY</td>\n",
       "      <td>1.740000e+08</td>\n",
       "      <td>2016-11-03</td>\n",
       "    </tr>\n",
       "    <tr>\n",
       "      <th>7446</th>\n",
       "      <td>Manhattan</td>\n",
       "      <td>MIDTOWN CBD</td>\n",
       "      <td>21officebuildings</td>\n",
       "      <td>Com, Ind, Fact, Office and Others</td>\n",
       "      <td>1291</td>\n",
       "      <td>21</td>\n",
       "      <td>OFFICE WITH COMM 7 - 19 STORIES</td>\n",
       "      <td>551 MADISON AVENUE</td>\n",
       "      <td>10022</td>\n",
       "      <td>0</td>\n",
       "      <td>1</td>\n",
       "      <td>1</td>\n",
       "      <td>7541.0</td>\n",
       "      <td>125495.0</td>\n",
       "      <td>1922</td>\n",
       "      <td>Com, Ind, Fact, Office and Others</td>\n",
       "      <td>OFFICE WITH COMM 7 - 19 STORIES</td>\n",
       "      <td>1.550000e+08</td>\n",
       "      <td>2017-01-19</td>\n",
       "    </tr>\n",
       "    <tr>\n",
       "      <th>7447</th>\n",
       "      <td>Manhattan</td>\n",
       "      <td>MIDTOWN CBD</td>\n",
       "      <td>21officebuildings</td>\n",
       "      <td>Com, Ind, Fact, Office and Others</td>\n",
       "      <td>1301</td>\n",
       "      <td>1</td>\n",
       "      <td>OFFICE ONLY WITH OR WITHOUT COMM - 20 STORIES ...</td>\n",
       "      <td>245 PARK AVENUE</td>\n",
       "      <td>10167</td>\n",
       "      <td>0</td>\n",
       "      <td>35</td>\n",
       "      <td>35</td>\n",
       "      <td>81336.0</td>\n",
       "      <td>1586886.0</td>\n",
       "      <td>1966</td>\n",
       "      <td>Com, Ind, Fact, Office and Others</td>\n",
       "      <td>OFFICE ONLY WITH OR WITHOUT COMM - 20 STORIES ...</td>\n",
       "      <td>2.210000e+09</td>\n",
       "      <td>2017-05-05</td>\n",
       "    </tr>\n",
       "    <tr>\n",
       "      <th>7452</th>\n",
       "      <td>Manhattan</td>\n",
       "      <td>MIDTOWN CBD</td>\n",
       "      <td>22storebuildings</td>\n",
       "      <td>Com, Ind, Fact, Office and Others</td>\n",
       "      <td>1292</td>\n",
       "      <td>69</td>\n",
       "      <td>PREDOMINANT RETAIL WITH OTHER USES</td>\n",
       "      <td>727 5TH AVENUE</td>\n",
       "      <td>10022</td>\n",
       "      <td>0</td>\n",
       "      <td>1</td>\n",
       "      <td>1</td>\n",
       "      <td>10677.0</td>\n",
       "      <td>119867.0</td>\n",
       "      <td>1940</td>\n",
       "      <td>Com, Ind, Fact, Office and Others</td>\n",
       "      <td>PREDOMINANT RETAIL WITH OTHER USES</td>\n",
       "      <td>1.316670e+08</td>\n",
       "      <td>2017-02-01</td>\n",
       "    </tr>\n",
       "    <tr>\n",
       "      <th>7458</th>\n",
       "      <td>Manhattan</td>\n",
       "      <td>MIDTOWN CBD</td>\n",
       "      <td>43condoofficebuildings</td>\n",
       "      <td>NaN</td>\n",
       "      <td>1300</td>\n",
       "      <td>1007</td>\n",
       "      <td></td>\n",
       "      <td>237 PARK AVENUE</td>\n",
       "      <td>0</td>\n",
       "      <td>0</td>\n",
       "      <td>0</td>\n",
       "      <td>0</td>\n",
       "      <td>NaN</td>\n",
       "      <td>NaN</td>\n",
       "      <td>1938</td>\n",
       "      <td>Com, Ind, Fact, Office and Others</td>\n",
       "      <td>OFFICE SPACE</td>\n",
       "      <td>2.508678e+08</td>\n",
       "      <td>2017-06-29</td>\n",
       "    </tr>\n",
       "    <tr>\n",
       "      <th>8723</th>\n",
       "      <td>Manhattan</td>\n",
       "      <td>MIDTOWN EAST</td>\n",
       "      <td>43condoofficebuildings</td>\n",
       "      <td>Com, Ind, Fact, Office and Others</td>\n",
       "      <td>1360</td>\n",
       "      <td>1008</td>\n",
       "      <td>OFFICE SPACE</td>\n",
       "      <td>866 UNITED NATIONS PLAZA</td>\n",
       "      <td>10017</td>\n",
       "      <td>0</td>\n",
       "      <td>0</td>\n",
       "      <td>1</td>\n",
       "      <td>NaN</td>\n",
       "      <td>NaN</td>\n",
       "      <td>1967</td>\n",
       "      <td>Com, Ind, Fact, Office and Others</td>\n",
       "      <td>OFFICE SPACE</td>\n",
       "      <td>2.175000e+08</td>\n",
       "      <td>2017-03-30</td>\n",
       "    </tr>\n",
       "    <tr>\n",
       "      <th>9594</th>\n",
       "      <td>Manhattan</td>\n",
       "      <td>MIDTOWN WEST</td>\n",
       "      <td>21officebuildings</td>\n",
       "      <td>Com, Ind, Fact, Office and Others</td>\n",
       "      <td>1026</td>\n",
       "      <td>21</td>\n",
       "      <td>OFFICE WITH COMM - 1 TO 6 STORIES</td>\n",
       "      <td>1706-1720 BROADWAY</td>\n",
       "      <td>10019</td>\n",
       "      <td>0</td>\n",
       "      <td>2</td>\n",
       "      <td>2</td>\n",
       "      <td>8848.0</td>\n",
       "      <td>52150.0</td>\n",
       "      <td>1918</td>\n",
       "      <td>Com, Ind, Fact, Office and Others</td>\n",
       "      <td>OFFICE WITH COMM - 1 TO 6 STORIES</td>\n",
       "      <td>2.681242e+08</td>\n",
       "      <td>2017-01-05</td>\n",
       "    </tr>\n",
       "    <tr>\n",
       "      <th>10468</th>\n",
       "      <td>Manhattan</td>\n",
       "      <td>MURRAY HILL</td>\n",
       "      <td>26otherhotels</td>\n",
       "      <td>Com, Ind, Fact, Office and Others</td>\n",
       "      <td>889</td>\n",
       "      <td>55</td>\n",
       "      <td>BOUTIQUE: 10-100 ROOMS, W/LUXURY FACILITIES, T...</td>\n",
       "      <td>150 EAST 34TH   STREET</td>\n",
       "      <td>10016</td>\n",
       "      <td>0</td>\n",
       "      <td>2</td>\n",
       "      <td>2</td>\n",
       "      <td>10399.0</td>\n",
       "      <td>176584.0</td>\n",
       "      <td>1987</td>\n",
       "      <td>Com, Ind, Fact, Office and Others</td>\n",
       "      <td>BOUTIQUE: 10-100 ROOMS, W/LUXURY FACILITIES, T...</td>\n",
       "      <td>1.180000e+08</td>\n",
       "      <td>2017-06-20</td>\n",
       "    </tr>\n",
       "    <tr>\n",
       "      <th>11650</th>\n",
       "      <td>Manhattan</td>\n",
       "      <td>TRIBECA</td>\n",
       "      <td>25luxuryhotels</td>\n",
       "      <td>Com, Ind, Fact, Office and Others</td>\n",
       "      <td>211</td>\n",
       "      <td>29</td>\n",
       "      <td>LUXURY HOTEL</td>\n",
       "      <td>370 CANAL STREET</td>\n",
       "      <td>10013</td>\n",
       "      <td>0</td>\n",
       "      <td>1</td>\n",
       "      <td>1</td>\n",
       "      <td>10622.0</td>\n",
       "      <td>160545.0</td>\n",
       "      <td>2007</td>\n",
       "      <td>Com, Ind, Fact, Office and Others</td>\n",
       "      <td>LUXURY HOTEL</td>\n",
       "      <td>1.099150e+08</td>\n",
       "      <td>2016-09-29</td>\n",
       "    </tr>\n",
       "    <tr>\n",
       "      <th>11653</th>\n",
       "      <td>Manhattan</td>\n",
       "      <td>TRIBECA</td>\n",
       "      <td>43condoofficebuildings</td>\n",
       "      <td>Com, Ind, Fact, Office and Others</td>\n",
       "      <td>212</td>\n",
       "      <td>1301</td>\n",
       "      <td>OFFICE SPACE</td>\n",
       "      <td>50 VARICK STREET</td>\n",
       "      <td>10013</td>\n",
       "      <td>0</td>\n",
       "      <td>0</td>\n",
       "      <td>1</td>\n",
       "      <td>NaN</td>\n",
       "      <td>NaN</td>\n",
       "      <td>1960</td>\n",
       "      <td>Com, Ind, Fact, Office and Others</td>\n",
       "      <td>OFFICE SPACE</td>\n",
       "      <td>1.350000e+08</td>\n",
       "      <td>2017-08-07</td>\n",
       "    </tr>\n",
       "    <tr>\n",
       "      <th>16412</th>\n",
       "      <td>Manhattan</td>\n",
       "      <td>UPPER WEST SIDE (59-79)</td>\n",
       "      <td>26otherhotels</td>\n",
       "      <td>Com, Ind, Fact, Office and Others</td>\n",
       "      <td>1184</td>\n",
       "      <td>77</td>\n",
       "      <td>APARTMENT HOTEL</td>\n",
       "      <td>305 WEST END AVENUE</td>\n",
       "      <td>10023</td>\n",
       "      <td>0</td>\n",
       "      <td>1</td>\n",
       "      <td>1</td>\n",
       "      <td>13825.0</td>\n",
       "      <td>184060.0</td>\n",
       "      <td>1923</td>\n",
       "      <td>Com, Ind, Fact, Office and Others</td>\n",
       "      <td>APARTMENT HOTEL</td>\n",
       "      <td>1.450000e+08</td>\n",
       "      <td>2016-12-05</td>\n",
       "    </tr>\n",
       "    <tr>\n",
       "      <th>16556</th>\n",
       "      <td>Manhattan</td>\n",
       "      <td>UPPER WEST SIDE (79-96)</td>\n",
       "      <td>08rentals_elevatorapartments</td>\n",
       "      <td>Primarily Res 11+ Units</td>\n",
       "      <td>1200</td>\n",
       "      <td>19</td>\n",
       "      <td>ELEVATOR APT; SEMI-FIREPROOF WITH STORES</td>\n",
       "      <td>21 WEST 86TH   STREET</td>\n",
       "      <td>10024</td>\n",
       "      <td>153</td>\n",
       "      <td>2</td>\n",
       "      <td>155</td>\n",
       "      <td>11531.0</td>\n",
       "      <td>141498.0</td>\n",
       "      <td>1927</td>\n",
       "      <td>Primarily Res 11+ Units</td>\n",
       "      <td>ELEVATOR APT; SEMI-FIREPROOF WITH STORES</td>\n",
       "      <td>1.725000e+08</td>\n",
       "      <td>2016-11-01</td>\n",
       "    </tr>\n",
       "    <tr>\n",
       "      <th>20553</th>\n",
       "      <td>Bronx</td>\n",
       "      <td>KINGSBRIDGE HTS/UNIV HTS</td>\n",
       "      <td>32hospitalandhealthfacilities</td>\n",
       "      <td>Com, Ind, Fact, Office and Others</td>\n",
       "      <td>3220</td>\n",
       "      <td>37</td>\n",
       "      <td>NURSING HOME</td>\n",
       "      <td>100 WEST KINGSBRIDGE RD</td>\n",
       "      <td>10468</td>\n",
       "      <td>0</td>\n",
       "      <td>1</td>\n",
       "      <td>1</td>\n",
       "      <td>51944.0</td>\n",
       "      <td>235297.0</td>\n",
       "      <td>1975</td>\n",
       "      <td>Com, Ind, Fact, Office and Others</td>\n",
       "      <td>NURSING HOME</td>\n",
       "      <td>1.100000e+08</td>\n",
       "      <td>2016-09-20</td>\n",
       "    </tr>\n",
       "    <tr>\n",
       "      <th>35389</th>\n",
       "      <td>Brooklyn</td>\n",
       "      <td>DOWNTOWN-FULTON FERRY</td>\n",
       "      <td>29commercialgarages</td>\n",
       "      <td>Com, Ind, Fact, Office and Others</td>\n",
       "      <td>54</td>\n",
       "      <td>1</td>\n",
       "      <td>UNLICENSED PARKING LOT</td>\n",
       "      <td>85 JAY STREET</td>\n",
       "      <td>11201</td>\n",
       "      <td>0</td>\n",
       "      <td>0</td>\n",
       "      <td>0</td>\n",
       "      <td>134988.0</td>\n",
       "      <td>0.0</td>\n",
       "      <td>1930</td>\n",
       "      <td>Com, Ind, Fact, Office and Others</td>\n",
       "      <td>UNLICENSED PARKING LOT</td>\n",
       "      <td>3.450000e+08</td>\n",
       "      <td>2016-12-20</td>\n",
       "    </tr>\n",
       "    <tr>\n",
       "      <th>35458</th>\n",
       "      <td>Brooklyn</td>\n",
       "      <td>DOWNTOWN-FULTON MALL</td>\n",
       "      <td>11acondo_rentals</td>\n",
       "      <td>Primarily Res 11+ Units</td>\n",
       "      <td>165</td>\n",
       "      <td>1001</td>\n",
       "      <td>CONDO RENTALS</td>\n",
       "      <td>236 LIVINGSTON STREET</td>\n",
       "      <td>11201</td>\n",
       "      <td>8</td>\n",
       "      <td>3</td>\n",
       "      <td>11</td>\n",
       "      <td>18175.0</td>\n",
       "      <td>5802.0</td>\n",
       "      <td>2009</td>\n",
       "      <td>Primarily Res 11+ Units</td>\n",
       "      <td>CONDO RENTALS</td>\n",
       "      <td>1.542500e+08</td>\n",
       "      <td>2016-12-15</td>\n",
       "    </tr>\n",
       "    <tr>\n",
       "      <th>35841</th>\n",
       "      <td>Brooklyn</td>\n",
       "      <td>DOWNTOWN-METROTECH</td>\n",
       "      <td>21officebuildings</td>\n",
       "      <td>Com, Ind, Fact, Office and Others</td>\n",
       "      <td>63</td>\n",
       "      <td>1</td>\n",
       "      <td>OFFICE WITH COMM 7 - 19 STORIES</td>\n",
       "      <td>55 PROSPECT STREET</td>\n",
       "      <td>11201</td>\n",
       "      <td>0</td>\n",
       "      <td>2</td>\n",
       "      <td>2</td>\n",
       "      <td>20704.0</td>\n",
       "      <td>206000.0</td>\n",
       "      <td>1967</td>\n",
       "      <td>Com, Ind, Fact, Office and Others</td>\n",
       "      <td>OFFICE WITH COMM 7 - 19 STORIES</td>\n",
       "      <td>1.381064e+08</td>\n",
       "      <td>2017-03-31</td>\n",
       "    </tr>\n",
       "    <tr>\n",
       "      <th>35850</th>\n",
       "      <td>Brooklyn</td>\n",
       "      <td>DOWNTOWN-METROTECH</td>\n",
       "      <td>21officebuildings</td>\n",
       "      <td>Com, Ind, Fact, Office and Others</td>\n",
       "      <td>77</td>\n",
       "      <td>1</td>\n",
       "      <td>OFFICE WITH COMM 7 - 19 STORIES</td>\n",
       "      <td>77 SANDS STREET</td>\n",
       "      <td>11201</td>\n",
       "      <td>0</td>\n",
       "      <td>5</td>\n",
       "      <td>5</td>\n",
       "      <td>14800.0</td>\n",
       "      <td>191800.0</td>\n",
       "      <td>1962</td>\n",
       "      <td>Com, Ind, Fact, Office and Others</td>\n",
       "      <td>OFFICE WITH COMM 7 - 19 STORIES</td>\n",
       "      <td>1.213132e+08</td>\n",
       "      <td>2017-03-31</td>\n",
       "    </tr>\n",
       "    <tr>\n",
       "      <th>35852</th>\n",
       "      <td>Brooklyn</td>\n",
       "      <td>DOWNTOWN-METROTECH</td>\n",
       "      <td>21officebuildings</td>\n",
       "      <td>Com, Ind, Fact, Office and Others</td>\n",
       "      <td>87</td>\n",
       "      <td>5</td>\n",
       "      <td>OFFICE WITH COMM 7 - 19 STORIES</td>\n",
       "      <td>175 PEARL STREET</td>\n",
       "      <td>11201</td>\n",
       "      <td>0</td>\n",
       "      <td>3</td>\n",
       "      <td>3</td>\n",
       "      <td>21218.0</td>\n",
       "      <td>191688.0</td>\n",
       "      <td>1918</td>\n",
       "      <td>Com, Ind, Fact, Office and Others</td>\n",
       "      <td>OFFICE WITH COMM 7 - 19 STORIES</td>\n",
       "      <td>1.028738e+08</td>\n",
       "      <td>2017-03-31</td>\n",
       "    </tr>\n",
       "    <tr>\n",
       "      <th>35857</th>\n",
       "      <td>Brooklyn</td>\n",
       "      <td>DOWNTOWN-METROTECH</td>\n",
       "      <td>26otherhotels</td>\n",
       "      <td>Com, Ind, Fact, Office and Others</td>\n",
       "      <td>87</td>\n",
       "      <td>9</td>\n",
       "      <td>DORMITORY</td>\n",
       "      <td>90 SANDS STREET</td>\n",
       "      <td>11201</td>\n",
       "      <td>0</td>\n",
       "      <td>1</td>\n",
       "      <td>1</td>\n",
       "      <td>21175.0</td>\n",
       "      <td>363100.0</td>\n",
       "      <td>1992</td>\n",
       "      <td>Com, Ind, Fact, Office and Others</td>\n",
       "      <td>DORMITORY</td>\n",
       "      <td>1.350000e+08</td>\n",
       "      <td>2017-08-29</td>\n",
       "    </tr>\n",
       "    <tr>\n",
       "      <th>48607</th>\n",
       "      <td>Brooklyn</td>\n",
       "      <td>WILLIAMSBURG-NORTH</td>\n",
       "      <td>41taxclass4_other</td>\n",
       "      <td>Com, Ind, Fact, Office and Others</td>\n",
       "      <td>2287</td>\n",
       "      <td>16</td>\n",
       "      <td>OTHER MISCELLANEOUS</td>\n",
       "      <td>20 NORTH 12 STREET</td>\n",
       "      <td>11249</td>\n",
       "      <td>0</td>\n",
       "      <td>0</td>\n",
       "      <td>0</td>\n",
       "      <td>60400.0</td>\n",
       "      <td>0.0</td>\n",
       "      <td>1930</td>\n",
       "      <td>Com, Ind, Fact, Office and Others</td>\n",
       "      <td>OTHER MISCELLANEOUS</td>\n",
       "      <td>1.600000e+08</td>\n",
       "      <td>2017-04-19</td>\n",
       "    </tr>\n",
       "    <tr>\n",
       "      <th>55051</th>\n",
       "      <td>Queens</td>\n",
       "      <td>ELMHURST</td>\n",
       "      <td>08rentals_elevatorapartments</td>\n",
       "      <td>Primarily Res 11+ Units</td>\n",
       "      <td>2857</td>\n",
       "      <td>36</td>\n",
       "      <td>ELEVATOR APT; SEMI-FIREPROOF WITH STORES</td>\n",
       "      <td>90-02 QUEENS BOULEVARD</td>\n",
       "      <td>11373</td>\n",
       "      <td>144</td>\n",
       "      <td>1</td>\n",
       "      <td>145</td>\n",
       "      <td>54500.0</td>\n",
       "      <td>248200.0</td>\n",
       "      <td>1964</td>\n",
       "      <td>Primarily Res 11+ Units</td>\n",
       "      <td>ELEVATOR APT; SEMI-FIREPROOF WITH STORES</td>\n",
       "      <td>1.250000e+08</td>\n",
       "      <td>2016-12-01</td>\n",
       "    </tr>\n",
       "    <tr>\n",
       "      <th>66508</th>\n",
       "      <td>Queens</td>\n",
       "      <td>LONG ISLAND CITY</td>\n",
       "      <td>27factories</td>\n",
       "      <td>Com, Ind, Fact, Office and Others</td>\n",
       "      <td>281</td>\n",
       "      <td>1</td>\n",
       "      <td>FACTORY; INDUSTRIAL-MISCELLANEOUS</td>\n",
       "      <td>31-00 47TH   AVENUE</td>\n",
       "      <td>11101</td>\n",
       "      <td>0</td>\n",
       "      <td>51</td>\n",
       "      <td>51</td>\n",
       "      <td>120000.0</td>\n",
       "      <td>568000.0</td>\n",
       "      <td>1922</td>\n",
       "      <td>Com, Ind, Fact, Office and Others</td>\n",
       "      <td>FACTORY; INDUSTRIAL-MISCELLANEOUS</td>\n",
       "      <td>2.575000e+08</td>\n",
       "      <td>2016-12-22</td>\n",
       "    </tr>\n",
       "    <tr>\n",
       "      <th>66585</th>\n",
       "      <td>Queens</td>\n",
       "      <td>LONG ISLAND CITY</td>\n",
       "      <td>31commercialvacantland</td>\n",
       "      <td>Com, Ind, Fact, Office and Others</td>\n",
       "      <td>403</td>\n",
       "      <td>11</td>\n",
       "      <td>ZONED COMMERCIAL OR MANHATTAN RESIDENTIAL</td>\n",
       "      <td>29-37 41ST AVENUE</td>\n",
       "      <td>11101</td>\n",
       "      <td>0</td>\n",
       "      <td>0</td>\n",
       "      <td>0</td>\n",
       "      <td>5096.0</td>\n",
       "      <td>NaN</td>\n",
       "      <td>1945</td>\n",
       "      <td>Com, Ind, Fact, Office and Others</td>\n",
       "      <td>ZONED COMMERCIAL OR MANHATTAN RESIDENTIAL</td>\n",
       "      <td>1.734397e+08</td>\n",
       "      <td>2016-12-08</td>\n",
       "    </tr>\n",
       "    <tr>\n",
       "      <th>69905</th>\n",
       "      <td>Queens</td>\n",
       "      <td>REGO PARK</td>\n",
       "      <td>21officebuildings</td>\n",
       "      <td>Com, Ind, Fact, Office and Others</td>\n",
       "      <td>2079</td>\n",
       "      <td>1</td>\n",
       "      <td>OFFICE WITH COMM 7 - 19 STORIES</td>\n",
       "      <td>95-25 QUEENS BOULEVARD</td>\n",
       "      <td>11374</td>\n",
       "      <td>0</td>\n",
       "      <td>10</td>\n",
       "      <td>10</td>\n",
       "      <td>74290.0</td>\n",
       "      <td>357760.0</td>\n",
       "      <td>1975</td>\n",
       "      <td>Com, Ind, Fact, Office and Others</td>\n",
       "      <td>OFFICE WITH COMM 7 - 19 STORIES</td>\n",
       "      <td>1.398749e+08</td>\n",
       "      <td>2017-03-28</td>\n",
       "    </tr>\n",
       "    <tr>\n",
       "      <th>76700</th>\n",
       "      <td>Staten Island</td>\n",
       "      <td>BLOOMFIELD</td>\n",
       "      <td>31commercialvacantland</td>\n",
       "      <td>Com, Ind, Fact, Office and Others</td>\n",
       "      <td>1835</td>\n",
       "      <td>150</td>\n",
       "      <td>ZONED COMMERCIAL OR MANHATTAN RESIDENTIAL</td>\n",
       "      <td>500 BLOOMFIELD ROAD</td>\n",
       "      <td>0</td>\n",
       "      <td>0</td>\n",
       "      <td>0</td>\n",
       "      <td>0</td>\n",
       "      <td>4252327.0</td>\n",
       "      <td>NaN</td>\n",
       "      <td>1973</td>\n",
       "      <td>Com, Ind, Fact, Office and Others</td>\n",
       "      <td>ZONED COMMERCIAL OR MANHATTAN RESIDENTIAL</td>\n",
       "      <td>1.220000e+08</td>\n",
       "      <td>2016-11-16</td>\n",
       "    </tr>\n",
       "  </tbody>\n",
       "</table>\n",
       "</div>"
      ],
      "text/plain": [
       "             borough               neighborhood  \\\n",
       "931        Manhattan                    CHELSEA   \n",
       "941        Manhattan                    CHELSEA   \n",
       "950        Manhattan                    CHELSEA   \n",
       "1122       Manhattan               CIVIC CENTER   \n",
       "2046       Manhattan                    FASHION   \n",
       "2050       Manhattan                    FASHION   \n",
       "2064       Manhattan                    FASHION   \n",
       "2066       Manhattan                    FASHION   \n",
       "2067       Manhattan                    FASHION   \n",
       "2068       Manhattan                    FASHION   \n",
       "2090       Manhattan                  FINANCIAL   \n",
       "2091       Manhattan                  FINANCIAL   \n",
       "2557       Manhattan                  FINANCIAL   \n",
       "2559       Manhattan                  FINANCIAL   \n",
       "2564       Manhattan                  FINANCIAL   \n",
       "2565       Manhattan                  FINANCIAL   \n",
       "3022       Manhattan                   FLATIRON   \n",
       "4149       Manhattan  GREENWICH VILLAGE-CENTRAL   \n",
       "4151       Manhattan  GREENWICH VILLAGE-CENTRAL   \n",
       "4781       Manhattan     GREENWICH VILLAGE-WEST   \n",
       "6312       Manhattan              JAVITS CENTER   \n",
       "6317       Manhattan              JAVITS CENTER   \n",
       "6332       Manhattan                   KIPS BAY   \n",
       "6681       Manhattan                   KIPS BAY   \n",
       "7446       Manhattan                MIDTOWN CBD   \n",
       "7447       Manhattan                MIDTOWN CBD   \n",
       "7452       Manhattan                MIDTOWN CBD   \n",
       "7458       Manhattan                MIDTOWN CBD   \n",
       "8723       Manhattan               MIDTOWN EAST   \n",
       "9594       Manhattan               MIDTOWN WEST   \n",
       "10468      Manhattan                MURRAY HILL   \n",
       "11650      Manhattan                    TRIBECA   \n",
       "11653      Manhattan                    TRIBECA   \n",
       "16412      Manhattan    UPPER WEST SIDE (59-79)   \n",
       "16556      Manhattan    UPPER WEST SIDE (79-96)   \n",
       "20553          Bronx   KINGSBRIDGE HTS/UNIV HTS   \n",
       "35389       Brooklyn      DOWNTOWN-FULTON FERRY   \n",
       "35458       Brooklyn       DOWNTOWN-FULTON MALL   \n",
       "35841       Brooklyn         DOWNTOWN-METROTECH   \n",
       "35850       Brooklyn         DOWNTOWN-METROTECH   \n",
       "35852       Brooklyn         DOWNTOWN-METROTECH   \n",
       "35857       Brooklyn         DOWNTOWN-METROTECH   \n",
       "48607       Brooklyn         WILLIAMSBURG-NORTH   \n",
       "55051         Queens                   ELMHURST   \n",
       "66508         Queens           LONG ISLAND CITY   \n",
       "66585         Queens           LONG ISLAND CITY   \n",
       "69905         Queens                  REGO PARK   \n",
       "76700  Staten Island                 BLOOMFIELD   \n",
       "\n",
       "                      build_clss_cat                       tx_class_now  \\\n",
       "931                21officebuildings  Com, Ind, Fact, Office and Others   \n",
       "941                 22storebuildings  Com, Ind, Fact, Office and Others   \n",
       "950                   25luxuryhotels  Com, Ind, Fact, Office and Others   \n",
       "1122      07rentals_walkupapartments          Primarily Res 7 - 10 Rent   \n",
       "2046               21officebuildings  Com, Ind, Fact, Office and Others   \n",
       "2050               21officebuildings  Com, Ind, Fact, Office and Others   \n",
       "2064                  25luxuryhotels  Com, Ind, Fact, Office and Others   \n",
       "2066                  25luxuryhotels  Com, Ind, Fact, Office and Others   \n",
       "2067                  25luxuryhotels  Com, Ind, Fact, Office and Others   \n",
       "2068                  25luxuryhotels  Com, Ind, Fact, Office and Others   \n",
       "2090    08rentals_elevatorapartments            Primarily Res 11+ Units   \n",
       "2091    08rentals_elevatorapartments            Primarily Res 11+ Units   \n",
       "2557               21officebuildings  Com, Ind, Fact, Office and Others   \n",
       "2559               21officebuildings  Com, Ind, Fact, Office and Others   \n",
       "2564                  25luxuryhotels  Com, Ind, Fact, Office and Others   \n",
       "2565                  25luxuryhotels  Com, Ind, Fact, Office and Others   \n",
       "3022               21officebuildings  Com, Ind, Fact, Office and Others   \n",
       "4149               21officebuildings  Com, Ind, Fact, Office and Others   \n",
       "4151               21officebuildings  Com, Ind, Fact, Office and Others   \n",
       "4781               21officebuildings  Com, Ind, Fact, Office and Others   \n",
       "6312               21officebuildings  Com, Ind, Fact, Office and Others   \n",
       "6317               21officebuildings  Com, Ind, Fact, Office and Others   \n",
       "6332    08rentals_elevatorapartments            Primarily Res 11+ Units   \n",
       "6681                   26otherhotels  Com, Ind, Fact, Office and Others   \n",
       "7446               21officebuildings  Com, Ind, Fact, Office and Others   \n",
       "7447               21officebuildings  Com, Ind, Fact, Office and Others   \n",
       "7452                22storebuildings  Com, Ind, Fact, Office and Others   \n",
       "7458          43condoofficebuildings                                NaN   \n",
       "8723          43condoofficebuildings  Com, Ind, Fact, Office and Others   \n",
       "9594               21officebuildings  Com, Ind, Fact, Office and Others   \n",
       "10468                  26otherhotels  Com, Ind, Fact, Office and Others   \n",
       "11650                 25luxuryhotels  Com, Ind, Fact, Office and Others   \n",
       "11653         43condoofficebuildings  Com, Ind, Fact, Office and Others   \n",
       "16412                  26otherhotels  Com, Ind, Fact, Office and Others   \n",
       "16556   08rentals_elevatorapartments            Primarily Res 11+ Units   \n",
       "20553  32hospitalandhealthfacilities  Com, Ind, Fact, Office and Others   \n",
       "35389            29commercialgarages  Com, Ind, Fact, Office and Others   \n",
       "35458               11acondo_rentals            Primarily Res 11+ Units   \n",
       "35841              21officebuildings  Com, Ind, Fact, Office and Others   \n",
       "35850              21officebuildings  Com, Ind, Fact, Office and Others   \n",
       "35852              21officebuildings  Com, Ind, Fact, Office and Others   \n",
       "35857                  26otherhotels  Com, Ind, Fact, Office and Others   \n",
       "48607              41taxclass4_other  Com, Ind, Fact, Office and Others   \n",
       "55051   08rentals_elevatorapartments            Primarily Res 11+ Units   \n",
       "66508                    27factories  Com, Ind, Fact, Office and Others   \n",
       "66585         31commercialvacantland  Com, Ind, Fact, Office and Others   \n",
       "69905              21officebuildings  Com, Ind, Fact, Office and Others   \n",
       "76700         31commercialvacantland  Com, Ind, Fact, Office and Others   \n",
       "\n",
       "       block   lot                                 building_class_now  \\\n",
       "931      801    24                         OFFICE ONLY 7 - 19 STORIES   \n",
       "941      773     1            MULTI-STORY RETAIL BUILDING (2 OR MORE)   \n",
       "950      801    71                                       LUXURY HOTEL   \n",
       "1122     175    19         WALK-UP APT. OVER SIX FAMILIES WITH STORES   \n",
       "2046     784    64                    OFFICE WITH COMM 7 - 19 STORIES   \n",
       "2050     833    11  OFFICE ONLY WITH OR WITHOUT COMM - 20 STORIES ...   \n",
       "2064     760    18                                 FULL SERVICE HOTEL   \n",
       "2066     763    28                                 FULL SERVICE HOTEL   \n",
       "2067     806    76                                       LUXURY HOTEL   \n",
       "2068     837     6                                 FULL SERVICE HOTEL   \n",
       "2090      27     9                            ELEVATOR APT; CONVERTED   \n",
       "2091      27    17                            ELEVATOR APT; CONVERTED   \n",
       "2557      29     1  OFFICE ONLY WITH OR WITHOUT COMM - 20 STORIES ...   \n",
       "2559      40     3  OFFICE ONLY WITH OR WITHOUT COMM - 20 STORIES ...   \n",
       "2564      10    33                                 FULL SERVICE HOTEL   \n",
       "2565      52     8                                 FULL SERVICE HOTEL   \n",
       "3022     829    16                    OFFICE WITH COMM 7 - 19 STORIES   \n",
       "4149     563    31                    OFFICE WITH COMM 7 - 19 STORIES   \n",
       "4151     577    19                  OFFICE WITH COMM - 1 TO 6 STORIES   \n",
       "4781     603    28                         OFFICE ONLY 7 - 19 STORIES   \n",
       "6312     705    45                  OFFICE WITH COMM - 1 TO 6 STORIES   \n",
       "6317     732    36                         OFFICE ONLY 7 - 19 STORIES   \n",
       "6332     934     1                ELEVATOR APT; FIREPROOF WITH STORES   \n",
       "6681     929    38                                          DORMITORY   \n",
       "7446    1291    21                    OFFICE WITH COMM 7 - 19 STORIES   \n",
       "7447    1301     1  OFFICE ONLY WITH OR WITHOUT COMM - 20 STORIES ...   \n",
       "7452    1292    69                 PREDOMINANT RETAIL WITH OTHER USES   \n",
       "7458    1300  1007                                                      \n",
       "8723    1360  1008                                       OFFICE SPACE   \n",
       "9594    1026    21                  OFFICE WITH COMM - 1 TO 6 STORIES   \n",
       "10468    889    55  BOUTIQUE: 10-100 ROOMS, W/LUXURY FACILITIES, T...   \n",
       "11650    211    29                                       LUXURY HOTEL   \n",
       "11653    212  1301                                       OFFICE SPACE   \n",
       "16412   1184    77                                    APARTMENT HOTEL   \n",
       "16556   1200    19           ELEVATOR APT; SEMI-FIREPROOF WITH STORES   \n",
       "20553   3220    37                                       NURSING HOME   \n",
       "35389     54     1                             UNLICENSED PARKING LOT   \n",
       "35458    165  1001                                      CONDO RENTALS   \n",
       "35841     63     1                    OFFICE WITH COMM 7 - 19 STORIES   \n",
       "35850     77     1                    OFFICE WITH COMM 7 - 19 STORIES   \n",
       "35852     87     5                    OFFICE WITH COMM 7 - 19 STORIES   \n",
       "35857     87     9                                          DORMITORY   \n",
       "48607   2287    16                                OTHER MISCELLANEOUS   \n",
       "55051   2857    36           ELEVATOR APT; SEMI-FIREPROOF WITH STORES   \n",
       "66508    281     1                  FACTORY; INDUSTRIAL-MISCELLANEOUS   \n",
       "66585    403    11          ZONED COMMERCIAL OR MANHATTAN RESIDENTIAL   \n",
       "69905   2079     1                    OFFICE WITH COMM 7 - 19 STORIES   \n",
       "76700   1835   150          ZONED COMMERCIAL OR MANHATTAN RESIDENTIAL   \n",
       "\n",
       "                          address zip_code  residential_units  \\\n",
       "931        119 WEST 25TH   STREET    10001                  0   \n",
       "941                  258 8 AVENUE    10011                  0   \n",
       "950          152 WEST 26TH STREET    10001                  0   \n",
       "1122              41 WHITE STREET    10013                  7   \n",
       "2046         240 WEST 35TH STREET    10001                  0   \n",
       "2050                1250 BROADWAY    10001                  0   \n",
       "2064       341 WEST 36TH   STREET    10018                  0   \n",
       "2066       311 WEST 39TH   STREET    10018                  0   \n",
       "2067                 371 7 AVENUE    10001                529   \n",
       "2068       63-67 WEST 35TH STREET    10001                  0   \n",
       "2090               63 WALL STREET    10005                476   \n",
       "2091               67 WALL STREET    10005                317   \n",
       "2557              85 BROAD STREET    10004                  0   \n",
       "2559               60 WALL STREET    10005                  0   \n",
       "2564               8 STONE STREET    10004                  0   \n",
       "2565         133 GREENWICH STREET    10006                  0   \n",
       "3022          31 WEST 27TH STREET    10001                  0   \n",
       "4149                 817 BROADWAY    10003                  0   \n",
       "4151            34-42 W 14 STREET    10011                  0   \n",
       "4781             95 MORTON STREET    10014                  0   \n",
       "6312   504-514 WEST 34TH   STREET    10001                  0   \n",
       "6317         433-447 NINTH AVENUE    10001                  0   \n",
       "6332           460-520 2ND AVENUE    10016                894   \n",
       "6681       340 EAST 24TH   STREET    10010                  0   \n",
       "7446           551 MADISON AVENUE    10022                  0   \n",
       "7447              245 PARK AVENUE    10167                  0   \n",
       "7452               727 5TH AVENUE    10022                  0   \n",
       "7458              237 PARK AVENUE        0                  0   \n",
       "8723     866 UNITED NATIONS PLAZA    10017                  0   \n",
       "9594           1706-1720 BROADWAY    10019                  0   \n",
       "10468      150 EAST 34TH   STREET    10016                  0   \n",
       "11650            370 CANAL STREET    10013                  0   \n",
       "11653            50 VARICK STREET    10013                  0   \n",
       "16412         305 WEST END AVENUE    10023                  0   \n",
       "16556       21 WEST 86TH   STREET    10024                153   \n",
       "20553     100 WEST KINGSBRIDGE RD    10468                  0   \n",
       "35389               85 JAY STREET    11201                  0   \n",
       "35458       236 LIVINGSTON STREET    11201                  8   \n",
       "35841          55 PROSPECT STREET    11201                  0   \n",
       "35850             77 SANDS STREET    11201                  0   \n",
       "35852            175 PEARL STREET    11201                  0   \n",
       "35857             90 SANDS STREET    11201                  0   \n",
       "48607          20 NORTH 12 STREET    11249                  0   \n",
       "55051      90-02 QUEENS BOULEVARD    11373                144   \n",
       "66508         31-00 47TH   AVENUE    11101                  0   \n",
       "66585           29-37 41ST AVENUE    11101                  0   \n",
       "69905      95-25 QUEENS BOULEVARD    11374                  0   \n",
       "76700         500 BLOOMFIELD ROAD        0                  0   \n",
       "\n",
       "       commercial_units  total_units  land_sq_ft  gross_sq_ft  year_built  \\\n",
       "931                  13           13      9875.0     113062.0        1906   \n",
       "941                   4            4     19750.0      39500.0        1932   \n",
       "950                   1            1      9826.0     122236.0        2010   \n",
       "1122                  1            8      2633.0      12000.0        1915   \n",
       "2046                 35           35      9875.0     145372.0        1924   \n",
       "2050                 55           55     30750.0     645977.0        1969   \n",
       "2064                  1            1      7406.0      81000.0        2007   \n",
       "2066                  1            1      7406.0     177000.0        2010   \n",
       "2067                  9          538     19011.0     473391.0        1929   \n",
       "2068                  1            1      7406.0     122859.0        2008   \n",
       "2090                  6          482     17623.0     400531.0        1929   \n",
       "2091                  6          323     12127.0     303175.0        1921   \n",
       "2557                  1            1     42762.0     993569.0        1983   \n",
       "2559                  1            1     53632.0    1617206.0        1987   \n",
       "2564                  1            1      6834.0     143730.0        2007   \n",
       "2565                318          318      6109.0     130054.0        2014   \n",
       "3022                 15           15      9876.0     106800.0        1910   \n",
       "4149                 15           15      8175.0     114000.0        1900   \n",
       "4151                  6            6     25297.0     151541.0        1930   \n",
       "4781                 11           11     20019.0     154328.0        1911   \n",
       "6312                  1            1      9875.0      11250.0        1900   \n",
       "6317                  2            2     39779.0     350000.0        1962   \n",
       "6332                  8          902    141836.0     829024.0        1975   \n",
       "6681                254          254     18344.0     113056.0        2015   \n",
       "7446                  1            1      7541.0     125495.0        1922   \n",
       "7447                 35           35     81336.0    1586886.0        1966   \n",
       "7452                  1            1     10677.0     119867.0        1940   \n",
       "7458                  0            0         NaN          NaN        1938   \n",
       "8723                  0            1         NaN          NaN        1967   \n",
       "9594                  2            2      8848.0      52150.0        1918   \n",
       "10468                 2            2     10399.0     176584.0        1987   \n",
       "11650                 1            1     10622.0     160545.0        2007   \n",
       "11653                 0            1         NaN          NaN        1960   \n",
       "16412                 1            1     13825.0     184060.0        1923   \n",
       "16556                 2          155     11531.0     141498.0        1927   \n",
       "20553                 1            1     51944.0     235297.0        1975   \n",
       "35389                 0            0    134988.0          0.0        1930   \n",
       "35458                 3           11     18175.0       5802.0        2009   \n",
       "35841                 2            2     20704.0     206000.0        1967   \n",
       "35850                 5            5     14800.0     191800.0        1962   \n",
       "35852                 3            3     21218.0     191688.0        1918   \n",
       "35857                 1            1     21175.0     363100.0        1992   \n",
       "48607                 0            0     60400.0          0.0        1930   \n",
       "55051                 1          145     54500.0     248200.0        1964   \n",
       "66508                51           51    120000.0     568000.0        1922   \n",
       "66585                 0            0      5096.0          NaN        1945   \n",
       "69905                10           10     74290.0     357760.0        1975   \n",
       "76700                 0            0   4252327.0          NaN        1973   \n",
       "\n",
       "                        tx_class_at_sale  \\\n",
       "931    Com, Ind, Fact, Office and Others   \n",
       "941    Com, Ind, Fact, Office and Others   \n",
       "950    Com, Ind, Fact, Office and Others   \n",
       "1122             Primarily Res 11+ Units   \n",
       "2046   Com, Ind, Fact, Office and Others   \n",
       "2050   Com, Ind, Fact, Office and Others   \n",
       "2064   Com, Ind, Fact, Office and Others   \n",
       "2066   Com, Ind, Fact, Office and Others   \n",
       "2067   Com, Ind, Fact, Office and Others   \n",
       "2068   Com, Ind, Fact, Office and Others   \n",
       "2090             Primarily Res 11+ Units   \n",
       "2091             Primarily Res 11+ Units   \n",
       "2557   Com, Ind, Fact, Office and Others   \n",
       "2559   Com, Ind, Fact, Office and Others   \n",
       "2564   Com, Ind, Fact, Office and Others   \n",
       "2565   Com, Ind, Fact, Office and Others   \n",
       "3022   Com, Ind, Fact, Office and Others   \n",
       "4149   Com, Ind, Fact, Office and Others   \n",
       "4151   Com, Ind, Fact, Office and Others   \n",
       "4781   Com, Ind, Fact, Office and Others   \n",
       "6312   Com, Ind, Fact, Office and Others   \n",
       "6317   Com, Ind, Fact, Office and Others   \n",
       "6332             Primarily Res 11+ Units   \n",
       "6681   Com, Ind, Fact, Office and Others   \n",
       "7446   Com, Ind, Fact, Office and Others   \n",
       "7447   Com, Ind, Fact, Office and Others   \n",
       "7452   Com, Ind, Fact, Office and Others   \n",
       "7458   Com, Ind, Fact, Office and Others   \n",
       "8723   Com, Ind, Fact, Office and Others   \n",
       "9594   Com, Ind, Fact, Office and Others   \n",
       "10468  Com, Ind, Fact, Office and Others   \n",
       "11650  Com, Ind, Fact, Office and Others   \n",
       "11653  Com, Ind, Fact, Office and Others   \n",
       "16412  Com, Ind, Fact, Office and Others   \n",
       "16556            Primarily Res 11+ Units   \n",
       "20553  Com, Ind, Fact, Office and Others   \n",
       "35389  Com, Ind, Fact, Office and Others   \n",
       "35458            Primarily Res 11+ Units   \n",
       "35841  Com, Ind, Fact, Office and Others   \n",
       "35850  Com, Ind, Fact, Office and Others   \n",
       "35852  Com, Ind, Fact, Office and Others   \n",
       "35857  Com, Ind, Fact, Office and Others   \n",
       "48607  Com, Ind, Fact, Office and Others   \n",
       "55051            Primarily Res 11+ Units   \n",
       "66508  Com, Ind, Fact, Office and Others   \n",
       "66585  Com, Ind, Fact, Office and Others   \n",
       "69905  Com, Ind, Fact, Office and Others   \n",
       "76700  Com, Ind, Fact, Office and Others   \n",
       "\n",
       "                                  building_class_at_sale    sale_price  \\\n",
       "931                           OFFICE ONLY 7 - 19 STORIES  1.500000e+08   \n",
       "941              MULTI-STORY RETAIL BUILDING (2 OR MORE)  1.072500e+08   \n",
       "950                                         LUXURY HOTEL  1.397250e+08   \n",
       "1122          WALK-UP APT. OVER SIX FAMILIES WITH STORES  1.415000e+08   \n",
       "2046                     OFFICE WITH COMM 7 - 19 STORIES  1.080000e+08   \n",
       "2050   OFFICE ONLY WITH OR WITHOUT COMM - 20 STORIES ...  5.650000e+08   \n",
       "2064                                  FULL SERVICE HOTEL  1.055927e+08   \n",
       "2066                                  FULL SERVICE HOTEL  1.281778e+08   \n",
       "2067                                        LUXURY HOTEL  2.125000e+08   \n",
       "2068                                  FULL SERVICE HOTEL  1.396575e+08   \n",
       "2090                             ELEVATOR APT; CONVERTED  2.391146e+08   \n",
       "2091                             ELEVATOR APT; CONVERTED  1.823916e+08   \n",
       "2557   OFFICE ONLY WITH OR WITHOUT COMM - 20 STORIES ...  6.520000e+08   \n",
       "2559   OFFICE ONLY WITH OR WITHOUT COMM - 20 STORIES ...  1.040000e+09   \n",
       "2564                                  FULL SERVICE HOTEL  1.001072e+08   \n",
       "2565                                  FULL SERVICE HOTEL  2.033450e+08   \n",
       "3022                     OFFICE WITH COMM 7 - 19 STORIES  1.260000e+08   \n",
       "4149                     OFFICE WITH COMM 7 - 19 STORIES  1.090000e+08   \n",
       "4151                   OFFICE WITH COMM - 1 TO 6 STORIES  1.530000e+08   \n",
       "4781                          OFFICE ONLY 7 - 19 STORIES  2.059618e+08   \n",
       "6312                   OFFICE WITH COMM - 1 TO 6 STORIES  1.247000e+08   \n",
       "6317                          OFFICE ONLY 7 - 19 STORIES  3.300000e+08   \n",
       "6332                 ELEVATOR APT; FIREPROOF WITH STORES  6.200000e+08   \n",
       "6681                                           DORMITORY  1.740000e+08   \n",
       "7446                     OFFICE WITH COMM 7 - 19 STORIES  1.550000e+08   \n",
       "7447   OFFICE ONLY WITH OR WITHOUT COMM - 20 STORIES ...  2.210000e+09   \n",
       "7452                  PREDOMINANT RETAIL WITH OTHER USES  1.316670e+08   \n",
       "7458                                        OFFICE SPACE  2.508678e+08   \n",
       "8723                                        OFFICE SPACE  2.175000e+08   \n",
       "9594                   OFFICE WITH COMM - 1 TO 6 STORIES  2.681242e+08   \n",
       "10468  BOUTIQUE: 10-100 ROOMS, W/LUXURY FACILITIES, T...  1.180000e+08   \n",
       "11650                                       LUXURY HOTEL  1.099150e+08   \n",
       "11653                                       OFFICE SPACE  1.350000e+08   \n",
       "16412                                    APARTMENT HOTEL  1.450000e+08   \n",
       "16556           ELEVATOR APT; SEMI-FIREPROOF WITH STORES  1.725000e+08   \n",
       "20553                                       NURSING HOME  1.100000e+08   \n",
       "35389                             UNLICENSED PARKING LOT  3.450000e+08   \n",
       "35458                                      CONDO RENTALS  1.542500e+08   \n",
       "35841                    OFFICE WITH COMM 7 - 19 STORIES  1.381064e+08   \n",
       "35850                    OFFICE WITH COMM 7 - 19 STORIES  1.213132e+08   \n",
       "35852                    OFFICE WITH COMM 7 - 19 STORIES  1.028738e+08   \n",
       "35857                                          DORMITORY  1.350000e+08   \n",
       "48607                                OTHER MISCELLANEOUS  1.600000e+08   \n",
       "55051           ELEVATOR APT; SEMI-FIREPROOF WITH STORES  1.250000e+08   \n",
       "66508                  FACTORY; INDUSTRIAL-MISCELLANEOUS  2.575000e+08   \n",
       "66585          ZONED COMMERCIAL OR MANHATTAN RESIDENTIAL  1.734397e+08   \n",
       "69905                    OFFICE WITH COMM 7 - 19 STORIES  1.398749e+08   \n",
       "76700          ZONED COMMERCIAL OR MANHATTAN RESIDENTIAL  1.220000e+08   \n",
       "\n",
       "       sale_date  \n",
       "931   2016-12-16  \n",
       "941   2017-08-08  \n",
       "950   2016-12-05  \n",
       "1122  2017-07-13  \n",
       "2046  2016-12-20  \n",
       "2050  2016-11-01  \n",
       "2064  2017-08-16  \n",
       "2066  2016-09-29  \n",
       "2067  2016-12-20  \n",
       "2068  2016-12-05  \n",
       "2090  2016-09-30  \n",
       "2091  2016-09-30  \n",
       "2557  2017-05-24  \n",
       "2559  2017-01-24  \n",
       "2564  2016-09-29  \n",
       "2565  2016-12-22  \n",
       "3022  2017-07-13  \n",
       "4149  2016-11-21  \n",
       "4151  2017-01-10  \n",
       "4781  2017-04-05  \n",
       "6312  2016-12-15  \n",
       "6317  2016-12-06  \n",
       "6332  2016-12-08  \n",
       "6681  2016-11-03  \n",
       "7446  2017-01-19  \n",
       "7447  2017-05-05  \n",
       "7452  2017-02-01  \n",
       "7458  2017-06-29  \n",
       "8723  2017-03-30  \n",
       "9594  2017-01-05  \n",
       "10468 2017-06-20  \n",
       "11650 2016-09-29  \n",
       "11653 2017-08-07  \n",
       "16412 2016-12-05  \n",
       "16556 2016-11-01  \n",
       "20553 2016-09-20  \n",
       "35389 2016-12-20  \n",
       "35458 2016-12-15  \n",
       "35841 2017-03-31  \n",
       "35850 2017-03-31  \n",
       "35852 2017-03-31  \n",
       "35857 2017-08-29  \n",
       "48607 2017-04-19  \n",
       "55051 2016-12-01  \n",
       "66508 2016-12-22  \n",
       "66585 2016-12-08  \n",
       "69905 2017-03-28  \n",
       "76700 2016-11-16  "
      ]
     },
     "execution_count": 67,
     "metadata": {},
     "output_type": "execute_result"
    }
   ],
   "source": [
    "ny[ny.sale_price > 100000000]"
   ]
  },
  {
   "cell_type": "markdown",
   "metadata": {
    "id": "nQKCG1IdVb_X"
   },
   "source": [
    "### Parece estar tudo normal com esses dados. \n",
    "Mais que isso, são imóveis tão exclusivos que é possível pesquisar na internet para atualizar os dados faltantes.\n",
    "<br> Mas não vamos fazer isso. É melhor criarmos um select nos dados para entendermos melhor a distribuição dos valores (a pesar desses hiper outliers) "
   ]
  },
  {
   "cell_type": "code",
   "execution_count": 68,
   "metadata": {
    "id": "PXomwy73Vb_X"
   },
   "outputs": [],
   "source": [
    "# Investigando valores abaixo de 30000000, acima de 5MM, tudo o que é outlier em Manhattan.\n",
    "# tendo isso em mente, podemos setar nosso recorte e analizar o comportamento dos dados por região\n",
    "ny_lowbud = ny[ny.sale_price < 5000000]"
   ]
  },
  {
   "cell_type": "code",
   "execution_count": 69,
   "metadata": {
    "id": "Qzbb9ItDVb_Y",
    "outputId": "7cc462a8-6b39-4e28-ffbc-4eb6f30510f6"
   },
   "outputs": [
    {
     "data": {
      "image/png": "[encoded data removed]",
      "text/plain": [
       "<Figure size 576x396 with 1 Axes>"
      ]
     },
     "metadata": {},
     "output_type": "display_data"
    }
   ],
   "source": [
    "ny_lowbud = ny[ny.sale_price < 5000000]\n",
    "sns.boxplot(x='borough', y='sale_price', data=ny_lowbud);"
   ]
  },
  {
   "cell_type": "code",
   "execution_count": 70,
   "metadata": {
    "id": "REj3JPhcVb_Y",
    "outputId": "b8569f4d-29fc-45a4-d6fc-790d65dc9f3e",
    "scrolled": false
   },
   "outputs": [
    {
     "data": {
      "image/png": "[encoded data removed]",
      "text/plain": [
       "<Figure size 576x396 with 1 Axes>"
      ]
     },
     "metadata": {},
     "output_type": "display_data"
    }
   ],
   "source": [
    "ny_highbud = ny[(ny.sale_price > 5000000)]\n",
    "sns.boxplot(x='borough', y='sale_price', data=ny_highbud);"
   ]
  },
  {
   "cell_type": "code",
   "execution_count": 71,
   "metadata": {
    "id": "amMduVSFVb_Y",
    "outputId": "f1a7af1d-f573-474f-f835-006b46e3682c"
   },
   "outputs": [
    {
     "data": {
      "text/html": [
       "<div>\n",
       "<style scoped>\n",
       "    .dataframe tbody tr th:only-of-type {\n",
       "        vertical-align: middle;\n",
       "    }\n",
       "\n",
       "    .dataframe tbody tr th {\n",
       "        vertical-align: top;\n",
       "    }\n",
       "\n",
       "    .dataframe thead th {\n",
       "        text-align: right;\n",
       "    }\n",
       "</style>\n",
       "<table border=\"1\" class=\"dataframe\">\n",
       "  <thead>\n",
       "    <tr style=\"text-align: right;\">\n",
       "      <th></th>\n",
       "      <th>sale_date</th>\n",
       "    </tr>\n",
       "    <tr>\n",
       "      <th>borough</th>\n",
       "      <th></th>\n",
       "    </tr>\n",
       "  </thead>\n",
       "  <tbody>\n",
       "    <tr>\n",
       "      <th>Bronx</th>\n",
       "      <td>7</td>\n",
       "    </tr>\n",
       "    <tr>\n",
       "      <th>Brooklyn</th>\n",
       "      <td>36</td>\n",
       "    </tr>\n",
       "    <tr>\n",
       "      <th>Manhattan</th>\n",
       "      <td>116</td>\n",
       "    </tr>\n",
       "    <tr>\n",
       "      <th>Queens</th>\n",
       "      <td>12</td>\n",
       "    </tr>\n",
       "    <tr>\n",
       "      <th>Staten Island</th>\n",
       "      <td>2</td>\n",
       "    </tr>\n",
       "  </tbody>\n",
       "</table>\n",
       "</div>"
      ],
      "text/plain": [
       "               sale_date\n",
       "borough                 \n",
       "Bronx                  7\n",
       "Brooklyn              36\n",
       "Manhattan            116\n",
       "Queens                12\n",
       "Staten Island          2"
      ]
     },
     "execution_count": 71,
     "metadata": {},
     "output_type": "execute_result"
    }
   ],
   "source": [
    "ny_highbud[['sale_date']][ny_highbud.sale_price > 35000000].groupby(ny_highbud['borough']).count()"
   ]
  },
  {
   "cell_type": "code",
   "execution_count": 72,
   "metadata": {
    "id": "P760AdYbVb_Y",
    "outputId": "6a77eb03-1a51-41b2-e655-eadb2580daa1"
   },
   "outputs": [
    {
     "data": {
      "image/png": "[encoded data removed]",
      "text/plain": [
       "<Figure size 576x396 with 1 Axes>"
      ]
     },
     "metadata": {},
     "output_type": "display_data"
    }
   ],
   "source": [
    "ny_highbud_ltde = ny[(ny.sale_price > 5000000) & (ny.sale_price < 35000000)]\n",
    "sns.boxplot(x='borough', y='sale_price', data=ny_highbud_ltde);"
   ]
  },
  {
   "cell_type": "markdown",
   "metadata": {
    "id": "pC3jMPvAVb_Z"
   },
   "source": [
    "#### Será que desses valores, temos muitos zeros?\n",
    "Precisamos verificar já que valores muito baixos como esses que podem ser fruto de herança, por exemplo, depreciam o valor dos imóveis na região."
   ]
  },
  {
   "cell_type": "code",
   "execution_count": 73,
   "metadata": {
    "id": "xDU9z_Y4Vb_f",
    "outputId": "c672af80-833f-42d2-8a5c-360ad90b49e5"
   },
   "outputs": [
    {
     "data": {
      "text/html": [
       "<div>\n",
       "<style scoped>\n",
       "    .dataframe tbody tr th:only-of-type {\n",
       "        vertical-align: middle;\n",
       "    }\n",
       "\n",
       "    .dataframe tbody tr th {\n",
       "        vertical-align: top;\n",
       "    }\n",
       "\n",
       "    .dataframe thead th {\n",
       "        text-align: right;\n",
       "    }\n",
       "</style>\n",
       "<table border=\"1\" class=\"dataframe\">\n",
       "  <thead>\n",
       "    <tr style=\"text-align: right;\">\n",
       "      <th></th>\n",
       "      <th>sale_date</th>\n",
       "    </tr>\n",
       "    <tr>\n",
       "      <th>borough</th>\n",
       "      <th></th>\n",
       "    </tr>\n",
       "  </thead>\n",
       "  <tbody>\n",
       "    <tr>\n",
       "      <th>Bronx</th>\n",
       "      <td>1986</td>\n",
       "    </tr>\n",
       "    <tr>\n",
       "      <th>Brooklyn</th>\n",
       "      <td>8650</td>\n",
       "    </tr>\n",
       "    <tr>\n",
       "      <th>Manhattan</th>\n",
       "      <td>129</td>\n",
       "    </tr>\n",
       "    <tr>\n",
       "      <th>Queens</th>\n",
       "      <td>263</td>\n",
       "    </tr>\n",
       "    <tr>\n",
       "      <th>Staten Island</th>\n",
       "      <td>108</td>\n",
       "    </tr>\n",
       "  </tbody>\n",
       "</table>\n",
       "</div>"
      ],
      "text/plain": [
       "               sale_date\n",
       "borough                 \n",
       "Bronx               1986\n",
       "Brooklyn            8650\n",
       "Manhattan            129\n",
       "Queens               263\n",
       "Staten Island        108"
      ]
     },
     "execution_count": 73,
     "metadata": {},
     "output_type": "execute_result"
    }
   ],
   "source": [
    "ny_lowbud[['sale_date']][ny_lowbud.sale_price < 20].groupby(ny_lowbud['borough']).count()"
   ]
  },
  {
   "cell_type": "code",
   "execution_count": 74,
   "metadata": {
    "id": "rPpTBI79Vb_f",
    "outputId": "10b21ba0-1002-41b9-aaf8-afdc7dafccf3"
   },
   "outputs": [
    {
     "data": {
      "image/png": "[encoded data removed]",
      "text/plain": [
       "<Figure size 576x396 with 1 Axes>"
      ]
     },
     "metadata": {},
     "output_type": "display_data"
    }
   ],
   "source": [
    "#vamos criar um recorte para os nossos dados excluindo valores acima de 5MM e abaixo de 20\n",
    "ny_lowbud_ltde = ny[(ny.sale_price > 20) & (ny.sale_price < 5000000)]\n",
    "sns.boxplot(x='borough', y='sale_price', data=ny_lowbud_ltde);"
   ]
  },
  {
   "cell_type": "markdown",
   "metadata": {
    "id": "ydOLxSwgVb_f"
   },
   "source": [
    "#### Essa visualização explica onde estão os quartis e os outliers dos preços por cada região.\n",
    "Mas esses não são os únicos fatores que influenciam os preços. Temos ainda o tamanho e o tipo de imóveis."
   ]
  },
  {
   "cell_type": "code",
   "execution_count": 75,
   "metadata": {
    "id": "bjpby1akVb_g",
    "outputId": "905600aa-329f-4d10-865c-f43094d46a28"
   },
   "outputs": [
    {
     "data": {
      "image/png": "[encoded data removed]",
      "text/plain": [
       "<Figure size 576x396 with 2 Axes>"
      ]
     },
     "metadata": {},
     "output_type": "display_data"
    }
   ],
   "source": [
    "sns.heatmap(ny_lowbud_ltde.corr(), annot=True, vmin=-1, vmax=1, cmap='RdYlGn_r');"
   ]
  },
  {
   "cell_type": "code",
   "execution_count": 76,
   "metadata": {
    "id": "BDdc3gjqVb_g",
    "outputId": "b062d5eb-e00c-4af4-b44e-63c287659d31"
   },
   "outputs": [
    {
     "data": {
      "image/png": "[encoded data removed]",
      "text/plain": [
       "<Figure size 576x396 with 2 Axes>"
      ]
     },
     "metadata": {},
     "output_type": "display_data"
    }
   ],
   "source": [
    "sns.heatmap(ny_highbud_ltde.corr(), annot=True, vmin=-1, vmax=1, cmap='RdYlGn_r');"
   ]
  },
  {
   "cell_type": "markdown",
   "metadata": {},
   "source": [
    "---"
   ]
  }
 ],
 "metadata": {
  "colab": {
   "name": "EDA_NYC_HOUSING.ipynb",
   "provenance": []
  },
  "kernelspec": {
   "display_name": "Python 3 (ipykernel)",
   "language": "python",
   "name": "python3"
  },
  "language_info": {
   "codemirror_mode": {
    "name": "ipython",
    "version": 3
   },
   "file_extension": ".py",
   "mimetype": "text/x-python",
   "name": "python",
   "nbconvert_exporter": "python",
   "pygments_lexer": "ipython3",
   "version": "3.9.7"
  }
 },
 "nbformat": 4,
 "nbformat_minor": 1
}
