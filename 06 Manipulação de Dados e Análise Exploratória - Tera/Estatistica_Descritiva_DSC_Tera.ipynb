{
 "cells": [
  {
   "cell_type": "markdown",
   "metadata": {},
   "source": [
    "<img src = \"https://images2.imgbox.com/c1/79/4H1V1tSO_o.png\" width=\"1200\">"
   ]
  },
  {
   "cell_type": "markdown",
   "metadata": {
    "id": "3Zgb1r5LMNYw"
   },
   "source": [
    "# Importação das bibliotecas que serão utilizados"
   ]
  },
  {
   "cell_type": "code",
   "execution_count": 1,
   "metadata": {
    "id": "s05ntdL1MNYx"
   },
   "outputs": [],
   "source": [
    "import pandas as pd\n",
    "import statistics\n",
    "import math\n",
    "import numpy as np\n",
    "import seaborn as sns"
   ]
  },
  {
   "cell_type": "markdown",
   "metadata": {
    "id": "cWdzTXR_MNYy"
   },
   "source": [
    "# Leitura do banco de dados\n",
    "O banco consiste em dados fornecidos pelo Airbnb referentes a locações na cidade de Berlim, na Alemanha."
   ]
  },
  {
   "cell_type": "code",
   "execution_count": 2,
   "metadata": {
    "id": "rVvRK3tfMNYz"
   },
   "outputs": [],
   "source": [
    "df = pd.read_csv(\"http://data.insideairbnb.com/germany/be/berlin/2021-09-21/visualisations/listings.csv\")"
   ]
  },
  {
   "cell_type": "markdown",
   "metadata": {
    "id": "3gES9NXPMNYz"
   },
   "source": [
    "# Visualização do banco de dados"
   ]
  },
  {
   "cell_type": "code",
   "execution_count": 3,
   "metadata": {
    "colab": {
     "base_uri": "https://localhost:8080/",
     "height": 478
    },
    "id": "Q6dHvV-HMNYz",
    "outputId": "e871f2a3-1226-488a-ac81-0cda1234d549"
   },
   "outputs": [
    {
     "data": {
      "text/html": [
       "<div>\n",
       "<style scoped>\n",
       "    .dataframe tbody tr th:only-of-type {\n",
       "        vertical-align: middle;\n",
       "    }\n",
       "\n",
       "    .dataframe tbody tr th {\n",
       "        vertical-align: top;\n",
       "    }\n",
       "\n",
       "    .dataframe thead th {\n",
       "        text-align: right;\n",
       "    }\n",
       "</style>\n",
       "<table border=\"1\" class=\"dataframe\">\n",
       "  <thead>\n",
       "    <tr style=\"text-align: right;\">\n",
       "      <th></th>\n",
       "      <th>id</th>\n",
       "      <th>name</th>\n",
       "      <th>host_id</th>\n",
       "      <th>host_name</th>\n",
       "      <th>neighbourhood_group</th>\n",
       "      <th>neighbourhood</th>\n",
       "      <th>latitude</th>\n",
       "      <th>longitude</th>\n",
       "      <th>room_type</th>\n",
       "      <th>price</th>\n",
       "      <th>minimum_nights</th>\n",
       "      <th>number_of_reviews</th>\n",
       "      <th>last_review</th>\n",
       "      <th>reviews_per_month</th>\n",
       "      <th>calculated_host_listings_count</th>\n",
       "      <th>availability_365</th>\n",
       "      <th>number_of_reviews_ltm</th>\n",
       "      <th>license</th>\n",
       "    </tr>\n",
       "  </thead>\n",
       "  <tbody>\n",
       "    <tr>\n",
       "      <th>0</th>\n",
       "      <td>2015</td>\n",
       "      <td>Berlin-Mitte Value! Quiet courtyard/very central</td>\n",
       "      <td>2217</td>\n",
       "      <td>Ion</td>\n",
       "      <td>Mitte</td>\n",
       "      <td>Brunnenstr. Süd</td>\n",
       "      <td>52.53305</td>\n",
       "      <td>13.40394</td>\n",
       "      <td>Entire home/apt</td>\n",
       "      <td>77</td>\n",
       "      <td>90</td>\n",
       "      <td>143</td>\n",
       "      <td>2021-07-22</td>\n",
       "      <td>2.15</td>\n",
       "      <td>5</td>\n",
       "      <td>326</td>\n",
       "      <td>10</td>\n",
       "      <td>NaN</td>\n",
       "    </tr>\n",
       "    <tr>\n",
       "      <th>1</th>\n",
       "      <td>3176</td>\n",
       "      <td>Fabulous Flat in great Location</td>\n",
       "      <td>3718</td>\n",
       "      <td>Britta</td>\n",
       "      <td>Pankow</td>\n",
       "      <td>Prenzlauer Berg Südwest</td>\n",
       "      <td>52.53471</td>\n",
       "      <td>13.41810</td>\n",
       "      <td>Entire home/apt</td>\n",
       "      <td>90</td>\n",
       "      <td>62</td>\n",
       "      <td>147</td>\n",
       "      <td>2017-03-20</td>\n",
       "      <td>1.12</td>\n",
       "      <td>1</td>\n",
       "      <td>93</td>\n",
       "      <td>1</td>\n",
       "      <td>NaN</td>\n",
       "    </tr>\n",
       "    <tr>\n",
       "      <th>2</th>\n",
       "      <td>7071</td>\n",
       "      <td>BrightRoom with sunny greenview!</td>\n",
       "      <td>17391</td>\n",
       "      <td>BrightRoom</td>\n",
       "      <td>Pankow</td>\n",
       "      <td>Helmholtzplatz</td>\n",
       "      <td>52.54301</td>\n",
       "      <td>13.41534</td>\n",
       "      <td>Private room</td>\n",
       "      <td>33</td>\n",
       "      <td>1</td>\n",
       "      <td>293</td>\n",
       "      <td>2019-12-11</td>\n",
       "      <td>2.40</td>\n",
       "      <td>1</td>\n",
       "      <td>0</td>\n",
       "      <td>0</td>\n",
       "      <td>NaN</td>\n",
       "    </tr>\n",
       "    <tr>\n",
       "      <th>3</th>\n",
       "      <td>9991</td>\n",
       "      <td>Geourgeous flat - outstanding views</td>\n",
       "      <td>33852</td>\n",
       "      <td>Philipp</td>\n",
       "      <td>Pankow</td>\n",
       "      <td>Prenzlauer Berg Südwest</td>\n",
       "      <td>52.53269</td>\n",
       "      <td>13.41805</td>\n",
       "      <td>Entire home/apt</td>\n",
       "      <td>180</td>\n",
       "      <td>6</td>\n",
       "      <td>8</td>\n",
       "      <td>2020-01-04</td>\n",
       "      <td>0.16</td>\n",
       "      <td>1</td>\n",
       "      <td>0</td>\n",
       "      <td>0</td>\n",
       "      <td>03/Z/RA/003410-18</td>\n",
       "    </tr>\n",
       "    <tr>\n",
       "      <th>4</th>\n",
       "      <td>14325</td>\n",
       "      <td>Apartment in Prenzlauer Berg</td>\n",
       "      <td>55531</td>\n",
       "      <td>Chris + Oliver</td>\n",
       "      <td>Pankow</td>\n",
       "      <td>Prenzlauer Berg Nordwest</td>\n",
       "      <td>52.54813</td>\n",
       "      <td>13.40366</td>\n",
       "      <td>Entire home/apt</td>\n",
       "      <td>70</td>\n",
       "      <td>90</td>\n",
       "      <td>26</td>\n",
       "      <td>2013-02-01</td>\n",
       "      <td>0.26</td>\n",
       "      <td>3</td>\n",
       "      <td>102</td>\n",
       "      <td>1</td>\n",
       "      <td>NaN</td>\n",
       "    </tr>\n",
       "  </tbody>\n",
       "</table>\n",
       "</div>"
      ],
      "text/plain": [
       "      id                                              name  host_id  \\\n",
       "0   2015  Berlin-Mitte Value! Quiet courtyard/very central     2217   \n",
       "1   3176                   Fabulous Flat in great Location     3718   \n",
       "2   7071                  BrightRoom with sunny greenview!    17391   \n",
       "3   9991               Geourgeous flat - outstanding views    33852   \n",
       "4  14325                      Apartment in Prenzlauer Berg    55531   \n",
       "\n",
       "        host_name neighbourhood_group             neighbourhood  latitude  \\\n",
       "0             Ion               Mitte           Brunnenstr. Süd  52.53305   \n",
       "1          Britta              Pankow   Prenzlauer Berg Südwest  52.53471   \n",
       "2      BrightRoom              Pankow            Helmholtzplatz  52.54301   \n",
       "3         Philipp              Pankow   Prenzlauer Berg Südwest  52.53269   \n",
       "4  Chris + Oliver              Pankow  Prenzlauer Berg Nordwest  52.54813   \n",
       "\n",
       "   longitude        room_type  price  minimum_nights  number_of_reviews  \\\n",
       "0   13.40394  Entire home/apt     77              90                143   \n",
       "1   13.41810  Entire home/apt     90              62                147   \n",
       "2   13.41534     Private room     33               1                293   \n",
       "3   13.41805  Entire home/apt    180               6                  8   \n",
       "4   13.40366  Entire home/apt     70              90                 26   \n",
       "\n",
       "  last_review  reviews_per_month  calculated_host_listings_count  \\\n",
       "0  2021-07-22               2.15                               5   \n",
       "1  2017-03-20               1.12                               1   \n",
       "2  2019-12-11               2.40                               1   \n",
       "3  2020-01-04               0.16                               1   \n",
       "4  2013-02-01               0.26                               3   \n",
       "\n",
       "   availability_365  number_of_reviews_ltm            license  \n",
       "0               326                     10                NaN  \n",
       "1                93                      1                NaN  \n",
       "2                 0                      0                NaN  \n",
       "3                 0                      0  03/Z/RA/003410-18  \n",
       "4               102                      1                NaN  "
      ]
     },
     "execution_count": 3,
     "metadata": {},
     "output_type": "execute_result"
    }
   ],
   "source": [
    "df.head()"
   ]
  },
  {
   "cell_type": "markdown",
   "metadata": {
    "id": "-asbez59MNY0"
   },
   "source": [
    "# Dicionário das variáveis\n",
    "* `id` - número de id gerado para identificar o imóvel\n",
    "* `name` - nome da propriedade anunciada\n",
    "* `host_id` - número de id do proprietário (anfitrião) da propriedade\n",
    "* `host_name` - nome do anfitrião\n",
    "* `neighbourhood_group` - esta coluna não contém nenhum valor válido\n",
    "* `neighbourhood` - nome do bairro\n",
    "* `latitude` - coordenada da latitude da propriedade\n",
    "* `longitude` - coordenada da longitude da propriedade\n",
    "* `room_type` - informa o tipo de quarto que é oferecido\n",
    "* `price` - preço para alugar o imóvel\n",
    "* `minimum_nights` - quantidade mínima de noites para reservar\n",
    "* `number_of_reviews` - número de reviews que a propriedade possui\n",
    "* `last_review` - data do último review\n",
    "* `reviews_per_month` - quantidade de reviews por mês\n",
    "* `calculated_host_listings_count` - quantidade de imóveis do mesmo anfitrião\n",
    "* `availability_365` - número de dias de disponibilidade dentro de 365 dias"
   ]
  },
  {
   "cell_type": "markdown",
   "metadata": {
    "id": "nBnMNc4SMNY0"
   },
   "source": [
    "# Análise descritiva"
   ]
  },
  {
   "cell_type": "markdown",
   "metadata": {
    "id": "m_ZhhEHfMNY1"
   },
   "source": [
    "## Cálculo da média dos preços"
   ]
  },
  {
   "cell_type": "code",
   "execution_count": 4,
   "metadata": {
    "colab": {
     "base_uri": "https://localhost:8080/"
    },
    "id": "1t4cWm3xMNY1",
    "outputId": "1d17bdcf-3ee0-4836-ee6e-fd2847fd4a78"
   },
   "outputs": [
    {
     "data": {
      "text/plain": [
       "75.18963254593176"
      ]
     },
     "execution_count": 4,
     "metadata": {},
     "output_type": "execute_result"
    }
   ],
   "source": [
    "df['price'].mean()"
   ]
  },
  {
   "cell_type": "markdown",
   "metadata": {
    "id": "Z0wTfrijMNY1"
   },
   "source": [
    "É o mesmo que:"
   ]
  },
  {
   "cell_type": "code",
   "execution_count": 5,
   "metadata": {
    "colab": {
     "base_uri": "https://localhost:8080/"
    },
    "id": "J2UITvgGMNY1",
    "outputId": "dc2e1344-e3ad-47bd-a6fd-82088bd3e829"
   },
   "outputs": [
    {
     "data": {
      "text/plain": [
       "75.18963254593176"
      ]
     },
     "execution_count": 5,
     "metadata": {},
     "output_type": "execute_result"
    }
   ],
   "source": [
    "df.price.mean()"
   ]
  },
  {
   "cell_type": "markdown",
   "metadata": {
    "id": "xZWE1i-4MNY1"
   },
   "source": [
    "## Cálculo da mediana dos preços"
   ]
  },
  {
   "cell_type": "code",
   "execution_count": 6,
   "metadata": {
    "colab": {
     "base_uri": "https://localhost:8080/"
    },
    "id": "ypT0NQ7uMNY2",
    "outputId": "70d98d11-37a7-434a-bc7d-fffcf39d8c85"
   },
   "outputs": [
    {
     "data": {
      "text/plain": [
       "55.0"
      ]
     },
     "execution_count": 6,
     "metadata": {},
     "output_type": "execute_result"
    }
   ],
   "source": [
    "df['price'].median()"
   ]
  },
  {
   "cell_type": "markdown",
   "metadata": {
    "id": "FOF8BWcmMNY2"
   },
   "source": [
    "## Cálculo da moda dos preços"
   ]
  },
  {
   "cell_type": "code",
   "execution_count": 7,
   "metadata": {
    "colab": {
     "base_uri": "https://localhost:8080/"
    },
    "id": "8cRQ4LWzMNY2",
    "outputId": "b52caae0-a164-4b5f-b39a-383e89fa7ef7"
   },
   "outputs": [
    {
     "data": {
      "text/plain": [
       "50"
      ]
     },
     "execution_count": 7,
     "metadata": {},
     "output_type": "execute_result"
    }
   ],
   "source": [
    "statistics.mode(df.price)"
   ]
  },
  {
   "cell_type": "markdown",
   "metadata": {
    "id": "GTFUAIJfMNY2"
   },
   "source": [
    "## Cálculo da amplitude dos preços"
   ]
  },
  {
   "cell_type": "markdown",
   "metadata": {
    "id": "TbY2bLm3MNY2"
   },
   "source": [
    "### Cálculo dos valores mínimo e máximo"
   ]
  },
  {
   "cell_type": "code",
   "execution_count": 8,
   "metadata": {
    "colab": {
     "base_uri": "https://localhost:8080/"
    },
    "id": "qNFhF_ECMNY2",
    "outputId": "1f797b7a-8b62-4695-b5f2-772b91a88f47"
   },
   "outputs": [
    {
     "data": {
      "text/plain": [
       "0"
      ]
     },
     "execution_count": 8,
     "metadata": {},
     "output_type": "execute_result"
    }
   ],
   "source": [
    "df['price'].min()"
   ]
  },
  {
   "cell_type": "code",
   "execution_count": 9,
   "metadata": {
    "colab": {
     "base_uri": "https://localhost:8080/"
    },
    "id": "YlJnDIjsMNY3",
    "outputId": "036e3c74-2c56-4a4f-f166-c153a0ab8368"
   },
   "outputs": [
    {
     "data": {
      "text/plain": [
       "8000"
      ]
     },
     "execution_count": 9,
     "metadata": {},
     "output_type": "execute_result"
    }
   ],
   "source": [
    "df['price'].max()"
   ]
  },
  {
   "cell_type": "markdown",
   "metadata": {
    "id": "E56RJaO3MNY3"
   },
   "source": [
    "O valor mínimo de zero não parece ser um valor real. Então, vamos filtrar o banco de dados para excluir o valor zero e então calcular a amplitude:"
   ]
  },
  {
   "cell_type": "code",
   "execution_count": 10,
   "metadata": {
    "id": "ZZ5wn-ZKMNY3"
   },
   "outputs": [],
   "source": [
    "df_filtered = df[df['price']>0]"
   ]
  },
  {
   "cell_type": "code",
   "execution_count": 11,
   "metadata": {
    "colab": {
     "base_uri": "https://localhost:8080/"
    },
    "id": "8tMiFBmlMNY3",
    "outputId": "e8d9666c-a742-4ae4-c931-2d3c7981b64f"
   },
   "outputs": [
    {
     "data": {
      "text/plain": [
       "8"
      ]
     },
     "execution_count": 11,
     "metadata": {},
     "output_type": "execute_result"
    }
   ],
   "source": [
    "df_filtered['price'].min()"
   ]
  },
  {
   "cell_type": "code",
   "execution_count": 12,
   "metadata": {
    "colab": {
     "base_uri": "https://localhost:8080/"
    },
    "id": "yDu29ZIPMNY4",
    "outputId": "735bac58-1e05-47e1-802f-1d60896858ff"
   },
   "outputs": [
    {
     "data": {
      "text/plain": [
       "7992"
      ]
     },
     "execution_count": 12,
     "metadata": {},
     "output_type": "execute_result"
    }
   ],
   "source": [
    "amplitude = df_filtered['price'].max() - df_filtered['price'].min()\n",
    "amplitude"
   ]
  },
  {
   "cell_type": "markdown",
   "metadata": {
    "id": "x77X74xBMNY4"
   },
   "source": [
    "## Cálculo da variância dos preços"
   ]
  },
  {
   "cell_type": "code",
   "execution_count": 13,
   "metadata": {
    "colab": {
     "base_uri": "https://localhost:8080/"
    },
    "id": "Q_pPw9ihMNY4",
    "outputId": "00b135bb-dd05-46ce-f7d5-53a1d0ac109e"
   },
   "outputs": [
    {
     "data": {
      "text/plain": [
       "15048.148212081367"
      ]
     },
     "execution_count": 13,
     "metadata": {},
     "output_type": "execute_result"
    }
   ],
   "source": [
    "df.price.var()"
   ]
  },
  {
   "cell_type": "markdown",
   "metadata": {
    "id": "-SIvNw0gMNY5"
   },
   "source": [
    "## Cálculo do desvio-padrão dos preços"
   ]
  },
  {
   "cell_type": "code",
   "execution_count": 14,
   "metadata": {
    "colab": {
     "base_uri": "https://localhost:8080/"
    },
    "id": "CNluXPF5MNY5",
    "outputId": "bd50aeb3-3e0b-41d1-9deb-c07e930a970b"
   },
   "outputs": [
    {
     "data": {
      "text/plain": [
       "122.67089390756622"
      ]
     },
     "execution_count": 14,
     "metadata": {},
     "output_type": "execute_result"
    }
   ],
   "source": [
    "df.price.std()"
   ]
  },
  {
   "cell_type": "markdown",
   "metadata": {
    "id": "V4-wU50MMNY5"
   },
   "source": [
    "Note que o desvio-padrão corresponde à raiz quadrada da variância:"
   ]
  },
  {
   "cell_type": "code",
   "execution_count": 15,
   "metadata": {
    "colab": {
     "base_uri": "https://localhost:8080/"
    },
    "id": "-G__Ki35MNY5",
    "outputId": "c202a441-c2fe-4f49-e376-35d833051c1f"
   },
   "outputs": [
    {
     "data": {
      "text/plain": [
       "122.67089390756622"
      ]
     },
     "execution_count": 15,
     "metadata": {},
     "output_type": "execute_result"
    }
   ],
   "source": [
    "math.sqrt(df.price.var())"
   ]
  },
  {
   "cell_type": "markdown",
   "metadata": {
    "id": "t565T4yEMNY5"
   },
   "source": [
    "# Cálculo dos percentis dos preços"
   ]
  },
  {
   "cell_type": "markdown",
   "metadata": {
    "id": "REcMNisQMNY5"
   },
   "source": [
    "Percentil 25% (equivalente ao quartil 1):"
   ]
  },
  {
   "cell_type": "code",
   "execution_count": 16,
   "metadata": {
    "colab": {
     "base_uri": "https://localhost:8080/"
    },
    "id": "HFINaZhDMNY5",
    "outputId": "7b0ea0ae-a296-4d6b-d637-2f4448db6cb8"
   },
   "outputs": [
    {
     "data": {
      "text/plain": [
       "35.0"
      ]
     },
     "execution_count": 16,
     "metadata": {},
     "output_type": "execute_result"
    }
   ],
   "source": [
    "np.percentile(df.price, 25)"
   ]
  },
  {
   "cell_type": "markdown",
   "metadata": {
    "id": "kUvin9llMNY5"
   },
   "source": [
    "Cálculo de múltiplos percentis:"
   ]
  },
  {
   "cell_type": "code",
   "execution_count": 17,
   "metadata": {
    "colab": {
     "base_uri": "https://localhost:8080/"
    },
    "id": "dZtZ5hwCMNY5",
    "outputId": "4d57f96f-b5cf-4d3f-aa0f-fec0b774884d"
   },
   "outputs": [
    {
     "data": {
      "text/plain": [
       "array([ 35.,  55.,  85., 185.])"
      ]
     },
     "execution_count": 17,
     "metadata": {},
     "output_type": "execute_result"
    }
   ],
   "source": [
    "np.percentile(df.price, [25, 50, 75, 95])"
   ]
  },
  {
   "cell_type": "markdown",
   "metadata": {
    "id": "3nVDoYe2MNY6"
   },
   "source": [
    "## Análise descritiva completa dos preços"
   ]
  },
  {
   "cell_type": "code",
   "execution_count": 18,
   "metadata": {
    "colab": {
     "base_uri": "https://localhost:8080/"
    },
    "id": "01gU1hNXMNY6",
    "outputId": "b047685f-e94d-4547-ba33-1cfc5d64906e"
   },
   "outputs": [
    {
     "data": {
      "text/plain": [
       "count    18288.000000\n",
       "mean        75.189633\n",
       "std        122.670894\n",
       "min          0.000000\n",
       "25%         35.000000\n",
       "50%         55.000000\n",
       "75%         85.000000\n",
       "max       8000.000000\n",
       "Name: price, dtype: float64"
      ]
     },
     "execution_count": 18,
     "metadata": {},
     "output_type": "execute_result"
    }
   ],
   "source": [
    "df.price.describe()"
   ]
  },
  {
   "cell_type": "markdown",
   "metadata": {
    "id": "9sE4jAL_MNY6"
   },
   "source": [
    "## Análise descritiva completa de todas as variáveis numéricas do banco"
   ]
  },
  {
   "cell_type": "code",
   "execution_count": 19,
   "metadata": {
    "colab": {
     "base_uri": "https://localhost:8080/",
     "height": 364
    },
    "id": "K-ZUWPJEMNY6",
    "outputId": "23e06070-cb6c-4bdf-c23b-67127a6da4f1"
   },
   "outputs": [
    {
     "data": {
      "text/html": [
       "<div>\n",
       "<style scoped>\n",
       "    .dataframe tbody tr th:only-of-type {\n",
       "        vertical-align: middle;\n",
       "    }\n",
       "\n",
       "    .dataframe tbody tr th {\n",
       "        vertical-align: top;\n",
       "    }\n",
       "\n",
       "    .dataframe thead th {\n",
       "        text-align: right;\n",
       "    }\n",
       "</style>\n",
       "<table border=\"1\" class=\"dataframe\">\n",
       "  <thead>\n",
       "    <tr style=\"text-align: right;\">\n",
       "      <th></th>\n",
       "      <th>id</th>\n",
       "      <th>host_id</th>\n",
       "      <th>latitude</th>\n",
       "      <th>longitude</th>\n",
       "      <th>price</th>\n",
       "      <th>minimum_nights</th>\n",
       "      <th>number_of_reviews</th>\n",
       "      <th>reviews_per_month</th>\n",
       "      <th>calculated_host_listings_count</th>\n",
       "      <th>availability_365</th>\n",
       "      <th>number_of_reviews_ltm</th>\n",
       "    </tr>\n",
       "  </thead>\n",
       "  <tbody>\n",
       "    <tr>\n",
       "      <th>count</th>\n",
       "      <td>1.828800e+04</td>\n",
       "      <td>1.828800e+04</td>\n",
       "      <td>18288.000000</td>\n",
       "      <td>18288.000000</td>\n",
       "      <td>18288.000000</td>\n",
       "      <td>18288.000000</td>\n",
       "      <td>18288.000000</td>\n",
       "      <td>14716.000000</td>\n",
       "      <td>18288.000000</td>\n",
       "      <td>18288.000000</td>\n",
       "      <td>18288.000000</td>\n",
       "    </tr>\n",
       "    <tr>\n",
       "      <th>mean</th>\n",
       "      <td>2.557156e+07</td>\n",
       "      <td>9.337946e+07</td>\n",
       "      <td>52.509968</td>\n",
       "      <td>13.405091</td>\n",
       "      <td>75.189633</td>\n",
       "      <td>9.324256</td>\n",
       "      <td>22.789042</td>\n",
       "      <td>0.815542</td>\n",
       "      <td>3.025153</td>\n",
       "      <td>85.560860</td>\n",
       "      <td>2.679899</td>\n",
       "    </tr>\n",
       "    <tr>\n",
       "      <th>std</th>\n",
       "      <td>1.540011e+07</td>\n",
       "      <td>1.083088e+08</td>\n",
       "      <td>0.032444</td>\n",
       "      <td>0.063322</td>\n",
       "      <td>122.670894</td>\n",
       "      <td>34.238860</td>\n",
       "      <td>51.019422</td>\n",
       "      <td>1.577983</td>\n",
       "      <td>7.454440</td>\n",
       "      <td>124.507031</td>\n",
       "      <td>9.356743</td>\n",
       "    </tr>\n",
       "    <tr>\n",
       "      <th>min</th>\n",
       "      <td>2.015000e+03</td>\n",
       "      <td>1.581000e+03</td>\n",
       "      <td>52.340070</td>\n",
       "      <td>13.097150</td>\n",
       "      <td>0.000000</td>\n",
       "      <td>1.000000</td>\n",
       "      <td>0.000000</td>\n",
       "      <td>0.010000</td>\n",
       "      <td>1.000000</td>\n",
       "      <td>0.000000</td>\n",
       "      <td>0.000000</td>\n",
       "    </tr>\n",
       "    <tr>\n",
       "      <th>25%</th>\n",
       "      <td>1.218794e+07</td>\n",
       "      <td>1.194556e+07</td>\n",
       "      <td>52.489530</td>\n",
       "      <td>13.367973</td>\n",
       "      <td>35.000000</td>\n",
       "      <td>2.000000</td>\n",
       "      <td>1.000000</td>\n",
       "      <td>0.090000</td>\n",
       "      <td>1.000000</td>\n",
       "      <td>0.000000</td>\n",
       "      <td>0.000000</td>\n",
       "    </tr>\n",
       "    <tr>\n",
       "      <th>50%</th>\n",
       "      <td>2.385470e+07</td>\n",
       "      <td>4.352120e+07</td>\n",
       "      <td>52.509740</td>\n",
       "      <td>13.414855</td>\n",
       "      <td>55.000000</td>\n",
       "      <td>3.000000</td>\n",
       "      <td>4.000000</td>\n",
       "      <td>0.300000</td>\n",
       "      <td>1.000000</td>\n",
       "      <td>0.000000</td>\n",
       "      <td>0.000000</td>\n",
       "    </tr>\n",
       "    <tr>\n",
       "      <th>75%</th>\n",
       "      <td>3.968697e+07</td>\n",
       "      <td>1.449065e+08</td>\n",
       "      <td>52.533253</td>\n",
       "      <td>13.439183</td>\n",
       "      <td>85.000000</td>\n",
       "      <td>5.000000</td>\n",
       "      <td>17.000000</td>\n",
       "      <td>1.000000</td>\n",
       "      <td>2.000000</td>\n",
       "      <td>162.000000</td>\n",
       "      <td>2.000000</td>\n",
       "    </tr>\n",
       "    <tr>\n",
       "      <th>max</th>\n",
       "      <td>5.238006e+07</td>\n",
       "      <td>4.238179e+08</td>\n",
       "      <td>52.656110</td>\n",
       "      <td>13.757360</td>\n",
       "      <td>8000.000000</td>\n",
       "      <td>1124.000000</td>\n",
       "      <td>655.000000</td>\n",
       "      <td>90.860000</td>\n",
       "      <td>76.000000</td>\n",
       "      <td>365.000000</td>\n",
       "      <td>447.000000</td>\n",
       "    </tr>\n",
       "  </tbody>\n",
       "</table>\n",
       "</div>"
      ],
      "text/plain": [
       "                 id       host_id      latitude     longitude         price  \\\n",
       "count  1.828800e+04  1.828800e+04  18288.000000  18288.000000  18288.000000   \n",
       "mean   2.557156e+07  9.337946e+07     52.509968     13.405091     75.189633   \n",
       "std    1.540011e+07  1.083088e+08      0.032444      0.063322    122.670894   \n",
       "min    2.015000e+03  1.581000e+03     52.340070     13.097150      0.000000   \n",
       "25%    1.218794e+07  1.194556e+07     52.489530     13.367973     35.000000   \n",
       "50%    2.385470e+07  4.352120e+07     52.509740     13.414855     55.000000   \n",
       "75%    3.968697e+07  1.449065e+08     52.533253     13.439183     85.000000   \n",
       "max    5.238006e+07  4.238179e+08     52.656110     13.757360   8000.000000   \n",
       "\n",
       "       minimum_nights  number_of_reviews  reviews_per_month  \\\n",
       "count    18288.000000       18288.000000       14716.000000   \n",
       "mean         9.324256          22.789042           0.815542   \n",
       "std         34.238860          51.019422           1.577983   \n",
       "min          1.000000           0.000000           0.010000   \n",
       "25%          2.000000           1.000000           0.090000   \n",
       "50%          3.000000           4.000000           0.300000   \n",
       "75%          5.000000          17.000000           1.000000   \n",
       "max       1124.000000         655.000000          90.860000   \n",
       "\n",
       "       calculated_host_listings_count  availability_365  number_of_reviews_ltm  \n",
       "count                    18288.000000      18288.000000           18288.000000  \n",
       "mean                         3.025153         85.560860               2.679899  \n",
       "std                          7.454440        124.507031               9.356743  \n",
       "min                          1.000000          0.000000               0.000000  \n",
       "25%                          1.000000          0.000000               0.000000  \n",
       "50%                          1.000000          0.000000               0.000000  \n",
       "75%                          2.000000        162.000000               2.000000  \n",
       "max                         76.000000        365.000000             447.000000  "
      ]
     },
     "execution_count": 19,
     "metadata": {},
     "output_type": "execute_result"
    }
   ],
   "source": [
    "df.describe()"
   ]
  },
  {
   "cell_type": "markdown",
   "metadata": {
    "id": "lrXupjRqMNY6"
   },
   "source": [
    "Cuidado para não tratar variáveis como `id` e `host_id` como numéricas. Elas não representam quantidades, são apenas para identificação. Não faz sentido pensar em média, desvio-padrão para elas..."
   ]
  },
  {
   "cell_type": "markdown",
   "metadata": {
    "id": "5tcPjKI5MNY6"
   },
   "source": [
    "# Visualização gráfica"
   ]
  },
  {
   "cell_type": "markdown",
   "metadata": {
    "id": "q20LioKvMNY6"
   },
   "source": [
    "## Boxplot dos preços"
   ]
  },
  {
   "cell_type": "code",
   "execution_count": 20,
   "metadata": {
    "colab": {
     "base_uri": "https://localhost:8080/",
     "height": 283
    },
    "id": "ti8MA-8BMNY6",
    "outputId": "39c9bd0c-00eb-4db0-c3ec-63ee4da439eb"
   },
   "outputs": [
    {
     "data": {
      "image/png": "[encoded data removed]",
      "text/plain": [
       "<Figure size 432x288 with 1 Axes>"
      ]
     },
     "metadata": {
      "needs_background": "light"
     },
     "output_type": "display_data"
    }
   ],
   "source": [
    "df.price.plot(kind = \"box\");"
   ]
  },
  {
   "cell_type": "markdown",
   "metadata": {
    "id": "_J8EUXXFMNY7"
   },
   "source": [
    "Ou, usando a biblioteca `seaborn`:"
   ]
  },
  {
   "cell_type": "code",
   "execution_count": 21,
   "metadata": {
    "colab": {
     "base_uri": "https://localhost:8080/",
     "height": 270
    },
    "id": "ZBxhVFwBMNY7",
    "outputId": "2432ec3c-0b4a-424f-d9dd-e0f5bba4a5d6"
   },
   "outputs": [
    {
     "data": {
      "image/png": "[encoded data removed]",
      "text/plain": [
       "<Figure size 432x288 with 1 Axes>"
      ]
     },
     "metadata": {
      "needs_background": "light"
     },
     "output_type": "display_data"
    }
   ],
   "source": [
    "sns.boxplot(data=df, y='price');"
   ]
  },
  {
   "cell_type": "markdown",
   "metadata": {
    "id": "8Kcajc75MNY7"
   },
   "source": [
    "Como há muitos outliers, com valores em altos, fica difícil visualizar a distribuição dos dados. Uma alternativa é modificar os limites do eixo y:"
   ]
  },
  {
   "cell_type": "code",
   "execution_count": 22,
   "metadata": {
    "colab": {
     "base_uri": "https://localhost:8080/",
     "height": 274
    },
    "id": "zCixeTBqMNY7",
    "outputId": "58861f86-67c1-4d6f-ff7c-57054095aa27"
   },
   "outputs": [
    {
     "data": {
      "image/png": "[encoded data removed]",
      "text/plain": [
       "<Figure size 432x288 with 1 Axes>"
      ]
     },
     "metadata": {
      "needs_background": "light"
     },
     "output_type": "display_data"
    }
   ],
   "source": [
    "ax = sns.boxplot(data=df, y='price')\n",
    "ax.set(ylim=(-10, 250));"
   ]
  },
  {
   "cell_type": "markdown",
   "metadata": {
    "id": "ECTsTDXpMNY7"
   },
   "source": [
    "Outra alternativa seria plotar os dados excluindo determinados valores. No exemplo abaixo, excluí os dados com preços acima de 185."
   ]
  },
  {
   "cell_type": "code",
   "execution_count": 23,
   "metadata": {
    "colab": {
     "base_uri": "https://localhost:8080/",
     "height": 270
    },
    "id": "wbLZEZ3bMNY7",
    "outputId": "6c95d856-22e0-4149-c66b-ff6f9dedd75a"
   },
   "outputs": [
    {
     "data": {
      "image/png": "[encoded data removed]",
      "text/plain": [
       "<Figure size 432x288 with 1 Axes>"
      ]
     },
     "metadata": {
      "needs_background": "light"
     },
     "output_type": "display_data"
    }
   ],
   "source": [
    "sns.boxplot(data=df[df.price <= 185], y='price');"
   ]
  },
  {
   "cell_type": "markdown",
   "metadata": {
    "id": "CeYGz5PtMNY7"
   },
   "source": [
    "## Histograma dos preços"
   ]
  },
  {
   "cell_type": "code",
   "execution_count": 24,
   "metadata": {
    "colab": {
     "base_uri": "https://localhost:8080/",
     "height": 283
    },
    "id": "juBY2fIpMNY7",
    "outputId": "4c934499-3500-4567-e39a-fa6a2daf0d94"
   },
   "outputs": [
    {
     "data": {
      "image/png": "[encoded data removed]",
      "text/plain": [
       "<Figure size 432x288 with 1 Axes>"
      ]
     },
     "metadata": {
      "needs_background": "light"
     },
     "output_type": "display_data"
    }
   ],
   "source": [
    "df.price.plot(kind = \"hist\");"
   ]
  },
  {
   "cell_type": "markdown",
   "metadata": {
    "id": "AsfqGq_2MNY8"
   },
   "source": [
    "Ou, usando a biblioteca `seaborn`:"
   ]
  },
  {
   "cell_type": "code",
   "execution_count": 25,
   "metadata": {
    "colab": {
     "base_uri": "https://localhost:8080/",
     "height": 300
    },
    "id": "D4wsEkNkMNY8",
    "outputId": "33579608-8189-44e5-99a8-47718b2a89c6"
   },
   "outputs": [
    {
     "data": {
      "image/png": "[encoded data removed]",
      "text/plain": [
       "<Figure size 432x288 with 1 Axes>"
      ]
     },
     "metadata": {
      "needs_background": "light"
     },
     "output_type": "display_data"
    }
   ],
   "source": [
    "sns.histplot(data=df, x='price');"
   ]
  },
  {
   "cell_type": "markdown",
   "metadata": {
    "id": "hu_s5a5qMNY8"
   },
   "source": [
    "Como a distribuição é muito assimétrica, fica difícil visualizar a distribuição dos dados. Vale a pena plotar um histograma sem os valores mais altos. Vamos plotar sem os preços acima de 200:"
   ]
  },
  {
   "cell_type": "code",
   "execution_count": 26,
   "metadata": {
    "colab": {
     "base_uri": "https://localhost:8080/",
     "height": 297
    },
    "id": "yOs7h2WvMNY8",
    "outputId": "0c0d3162-cb60-4451-d3d9-b4762a0dab9b"
   },
   "outputs": [
    {
     "data": {
      "image/png": "[encoded data removed]",
      "text/plain": [
       "<Figure size 432x288 with 1 Axes>"
      ]
     },
     "metadata": {
      "needs_background": "light"
     },
     "output_type": "display_data"
    }
   ],
   "source": [
    "sns.histplot(data=df[df.price <= 200], x='price', binwidth=10);\n",
    "# o binwidth estabelece que queremos que as barras seja definidas por intervalos de $10"
   ]
  },
  {
   "cell_type": "markdown",
   "metadata": {
    "id": "WUpMJ094MNY8"
   },
   "source": [
    "## Gráfico de densidade dos preços"
   ]
  },
  {
   "cell_type": "code",
   "execution_count": 27,
   "metadata": {
    "colab": {
     "base_uri": "https://localhost:8080/",
     "height": 297
    },
    "id": "5EcqttKuMNY8",
    "outputId": "a3a1f047-1014-4ba4-c04b-6023e8ad5a63"
   },
   "outputs": [
    {
     "data": {
      "image/png": "[encoded data removed]",
      "text/plain": [
       "<Figure size 432x288 with 1 Axes>"
      ]
     },
     "metadata": {
      "needs_background": "light"
     },
     "output_type": "display_data"
    }
   ],
   "source": [
    "sns.kdeplot(data=df[df.price <= 200], x='price');"
   ]
  },
  {
   "cell_type": "markdown",
   "metadata": {
    "id": "c0DqihPmMNY8"
   },
   "source": [
    "# Análise descritiva por grupo"
   ]
  },
  {
   "cell_type": "markdown",
   "metadata": {
    "id": "vjNLJv8NMNY8"
   },
   "source": [
    "Vamos agora repetir as análises de preço, mas por tipo de acomodação."
   ]
  },
  {
   "cell_type": "markdown",
   "metadata": {
    "id": "jnOIetfvMNY8"
   },
   "source": [
    "## Estatísticas descritivas"
   ]
  },
  {
   "cell_type": "code",
   "execution_count": 28,
   "metadata": {
    "colab": {
     "base_uri": "https://localhost:8080/",
     "height": 206
    },
    "id": "Cqa8fqYoMNY9",
    "outputId": "cd83c714-ef77-4b70-89dd-6757bbc12232"
   },
   "outputs": [
    {
     "data": {
      "text/html": [
       "<div>\n",
       "<style scoped>\n",
       "    .dataframe tbody tr th:only-of-type {\n",
       "        vertical-align: middle;\n",
       "    }\n",
       "\n",
       "    .dataframe tbody tr th {\n",
       "        vertical-align: top;\n",
       "    }\n",
       "\n",
       "    .dataframe thead th {\n",
       "        text-align: right;\n",
       "    }\n",
       "</style>\n",
       "<table border=\"1\" class=\"dataframe\">\n",
       "  <thead>\n",
       "    <tr style=\"text-align: right;\">\n",
       "      <th></th>\n",
       "      <th>count</th>\n",
       "      <th>mean</th>\n",
       "      <th>std</th>\n",
       "      <th>min</th>\n",
       "      <th>25%</th>\n",
       "      <th>50%</th>\n",
       "      <th>75%</th>\n",
       "      <th>max</th>\n",
       "    </tr>\n",
       "    <tr>\n",
       "      <th>room_type</th>\n",
       "      <th></th>\n",
       "      <th></th>\n",
       "      <th></th>\n",
       "      <th></th>\n",
       "      <th></th>\n",
       "      <th></th>\n",
       "      <th></th>\n",
       "      <th></th>\n",
       "    </tr>\n",
       "  </thead>\n",
       "  <tbody>\n",
       "    <tr>\n",
       "      <th>Entire home/apt</th>\n",
       "      <td>10373.0</td>\n",
       "      <td>93.878627</td>\n",
       "      <td>95.266111</td>\n",
       "      <td>9.0</td>\n",
       "      <td>52.0</td>\n",
       "      <td>74.0</td>\n",
       "      <td>103.0</td>\n",
       "      <td>3455.0</td>\n",
       "    </tr>\n",
       "    <tr>\n",
       "      <th>Hotel room</th>\n",
       "      <td>165.0</td>\n",
       "      <td>191.854545</td>\n",
       "      <td>231.326431</td>\n",
       "      <td>0.0</td>\n",
       "      <td>104.0</td>\n",
       "      <td>145.0</td>\n",
       "      <td>204.0</td>\n",
       "      <td>2025.0</td>\n",
       "    </tr>\n",
       "    <tr>\n",
       "      <th>Private room</th>\n",
       "      <td>7533.0</td>\n",
       "      <td>47.851454</td>\n",
       "      <td>145.709480</td>\n",
       "      <td>8.0</td>\n",
       "      <td>27.0</td>\n",
       "      <td>35.0</td>\n",
       "      <td>50.0</td>\n",
       "      <td>8000.0</td>\n",
       "    </tr>\n",
       "    <tr>\n",
       "      <th>Shared room</th>\n",
       "      <td>217.0</td>\n",
       "      <td>42.138249</td>\n",
       "      <td>53.895383</td>\n",
       "      <td>9.0</td>\n",
       "      <td>20.0</td>\n",
       "      <td>27.0</td>\n",
       "      <td>40.0</td>\n",
       "      <td>500.0</td>\n",
       "    </tr>\n",
       "  </tbody>\n",
       "</table>\n",
       "</div>"
      ],
      "text/plain": [
       "                   count        mean         std  min    25%    50%    75%  \\\n",
       "room_type                                                                    \n",
       "Entire home/apt  10373.0   93.878627   95.266111  9.0   52.0   74.0  103.0   \n",
       "Hotel room         165.0  191.854545  231.326431  0.0  104.0  145.0  204.0   \n",
       "Private room      7533.0   47.851454  145.709480  8.0   27.0   35.0   50.0   \n",
       "Shared room        217.0   42.138249   53.895383  9.0   20.0   27.0   40.0   \n",
       "\n",
       "                    max  \n",
       "room_type                \n",
       "Entire home/apt  3455.0  \n",
       "Hotel room       2025.0  \n",
       "Private room     8000.0  \n",
       "Shared room       500.0  "
      ]
     },
     "execution_count": 28,
     "metadata": {},
     "output_type": "execute_result"
    }
   ],
   "source": [
    "df.groupby('room_type').price.describe()"
   ]
  },
  {
   "cell_type": "markdown",
   "metadata": {
    "id": "BVM2XCVYMNY9"
   },
   "source": [
    "Podemos perceber que as acomodações do tipo \"casa ou apartamento inteiro\" são as mais frequentes no app, em Berlim. E, que as acomodações com média e mediana de preço mais elevados são os quartos de hotel."
   ]
  },
  {
   "cell_type": "markdown",
   "metadata": {
    "id": "NdF8QcS-MNY9"
   },
   "source": [
    "## Análise gráfica"
   ]
  },
  {
   "cell_type": "code",
   "execution_count": 29,
   "metadata": {
    "colab": {
     "base_uri": "https://localhost:8080/",
     "height": 298
    },
    "id": "U-yt26viMNY9",
    "outputId": "c7114bad-cb4c-42fe-9810-e2ec38123c94"
   },
   "outputs": [
    {
     "data": {
      "image/png": "[encoded data removed]",
      "text/plain": [
       "<Figure size 432x288 with 1 Axes>"
      ]
     },
     "metadata": {
      "needs_background": "light"
     },
     "output_type": "display_data"
    }
   ],
   "source": [
    "sns.boxplot(data=df[df.price <= 180], y='price', x='room_type');"
   ]
  },
  {
   "cell_type": "markdown",
   "metadata": {
    "id": "GPH-B-heMNY9"
   },
   "source": [
    "O boxplot facilita a visualização das estatísticas descritivas. É possível observar que os preços de quartos de hotel tendem a ser mais altos que os das demais acomodações."
   ]
  },
  {
   "cell_type": "code",
   "execution_count": 30,
   "metadata": {
    "colab": {
     "base_uri": "https://localhost:8080/",
     "height": 297
    },
    "id": "F3aIhwaDMNY9",
    "outputId": "73847c17-5180-41cd-cb59-36330110d18d"
   },
   "outputs": [
    {
     "data": {
      "image/png": "[encoded data removed]",
      "text/plain": [
       "<Figure size 432x288 with 1 Axes>"
      ]
     },
     "metadata": {
      "needs_background": "light"
     },
     "output_type": "display_data"
    }
   ],
   "source": [
    "sns.kdeplot(data=df[df.price <= 200], x='price', hue='room_type');"
   ]
  },
  {
   "cell_type": "markdown",
   "metadata": {
    "id": "agwYKLmgMNY9"
   },
   "source": [
    "# Gráficos para visualizar a relação entre duas variáveis numéricas"
   ]
  },
  {
   "cell_type": "code",
   "execution_count": 31,
   "metadata": {
    "colab": {
     "base_uri": "https://localhost:8080/",
     "height": 298
    },
    "id": "LrLjYKAoMNY9",
    "outputId": "04cd26ee-effa-4162-c21e-3fffe1c1c014"
   },
   "outputs": [
    {
     "data": {
      "image/png": "[encoded data removed]",
      "text/plain": [
       "<Figure size 432x288 with 1 Axes>"
      ]
     },
     "metadata": {
      "needs_background": "light"
     },
     "output_type": "display_data"
    }
   ],
   "source": [
    "sns.scatterplot(data=df[df.price <= 200],y='price',x='number_of_reviews');"
   ]
  },
  {
   "cell_type": "code",
   "execution_count": 32,
   "metadata": {
    "colab": {
     "base_uri": "https://localhost:8080/",
     "height": 298
    },
    "id": "DuJdT6MxMNY9",
    "outputId": "61165168-d951-497d-c1f9-ecdef1543fe6"
   },
   "outputs": [
    {
     "data": {
      "image/png": "[encoded data removed]",
      "text/plain": [
       "<Figure size 432x288 with 1 Axes>"
      ]
     },
     "metadata": {
      "needs_background": "light"
     },
     "output_type": "display_data"
    }
   ],
   "source": [
    "sns.scatterplot(data=df[df.price <= 200],y='price',x='number_of_reviews', hue='room_type');"
   ]
  },
  {
   "cell_type": "markdown",
   "metadata": {
    "id": "F6v3damjMNY9"
   },
   "source": [
    "Não parece haver uma relação entre o preço de uma acomodação e a quantidade de reviews que ela recebe."
   ]
  }
 ],
 "metadata": {
  "colab": {
   "name": "Estatística Descritiva - DSC Tera.ipynb",
   "provenance": []
  },
  "interpreter": {
   "hash": "aee8b7b246df8f9039afb4144a1f6fd8d2ca17a180786b69acc140d282b71a49"
  },
  "kernelspec": {
   "display_name": "Python 3 (ipykernel)",
   "language": "python",
   "name": "python3"
  },
  "language_info": {
   "codemirror_mode": {
    "name": "ipython",
    "version": 3
   },
   "file_extension": ".py",
   "mimetype": "text/x-python",
   "name": "python",
   "nbconvert_exporter": "python",
   "pygments_lexer": "ipython3",
   "version": "3.9.7"
  }
 },
 "nbformat": 4,
 "nbformat_minor": 1
}
