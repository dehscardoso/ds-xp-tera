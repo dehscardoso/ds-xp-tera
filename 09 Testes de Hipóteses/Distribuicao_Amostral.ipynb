{
 "cells": [
  {
   "cell_type": "code",
   "execution_count": 1,
   "metadata": {},
   "outputs": [],
   "source": [
    "from random import gauss\n",
    "from statistics import mean, stdev\n",
    "import numpy as np\n",
    "import math"
   ]
  },
  {
   "cell_type": "code",
   "execution_count": 2,
   "metadata": {},
   "outputs": [],
   "source": [
    "n = 100 # tamanho da amostra \n",
    "media = 1.7 # média populacional\n",
    "sigma = 0.1 # # desvio padrão populacional "
   ]
  },
  {
   "cell_type": "markdown",
   "metadata": {},
   "source": [
    "## Distribuição Amostral"
   ]
  },
  {
   "cell_type": "code",
   "execution_count": 3,
   "metadata": {},
   "outputs": [
    {
     "name": "stdout",
     "output_type": "stream",
     "text": [
      "[1.6956741079325066, 1.7513432089346561, 1.600297830338621, 1.577663416533151, 1.890671840817466, 1.618200233169181, 1.4974606254378338, 1.6937671262765888, 1.7411097610510013, 1.5735881959677485, 1.5693432045220788, 1.713027296509298, 1.8559630456733012, 1.6711651751906504, 1.7808868595466376, 1.8472743368222684, 1.7230361318988063, 1.7445353797802723, 1.8457126618837782, 1.634321717256391, 1.4675618436810036, 1.847357147926882, 1.5016678276880506, 1.7889819288341746, 1.6917751537393468, 1.8220155095959876, 1.6534128753292212, 1.7692080423780765, 1.77319491143716, 1.8040343318702845, 1.785704825266616, 1.7505680879153367, 1.5973405263581355, 1.807239005259996, 1.7115435882602443, 1.77802436712947, 1.6544575000056512, 1.7325177889729773, 1.915678479532374, 1.6415852663534798, 1.8856933299327956, 1.6201773123898013, 1.6162883251393887, 1.7227744561354104, 1.61080367660908, 1.601906468297952, 1.6687180032624958, 1.768852672879863, 1.6346352235888042, 1.6000377756326916, 1.6966637259271873, 1.6877287854007357, 1.717034063896842, 1.7448328896900824, 1.8115343942529663, 1.752696922939382, 1.7413780138319834, 1.6680740098956688, 1.762767809725641, 1.8496327538861232, 1.5439870153258555, 1.5239741871325054, 1.7697752888891833, 1.6896512031759967, 1.7043487740521046, 1.772125756482856, 1.6642287309831247, 1.855641834937158, 1.783501174545015, 1.9087244466962867, 1.573906291240156, 1.6704571736412288, 1.597546020534287, 1.7165266332584264, 1.6181096740720964, 1.4719341188122474, 1.5672821475920007, 1.6363983979539927, 1.8853915195655468, 1.8444167549909034, 1.547343810532043, 1.6862743912793183, 1.6951730301199908, 1.6341039609580088, 1.668172033473418, 1.6616794747185242, 1.6117598303894194, 1.865396600023468, 1.7327913203118985, 1.6799645425635739, 1.7744367481885295, 1.8333183040475776, 1.6922022359077227, 1.6103804590998023, 1.6571246670421198, 1.657047572916971, 1.6804474257650859, 1.6452163927838452, 1.6778385699725926, 1.7842677368750417]\n"
     ]
    }
   ],
   "source": [
    "# Gerando uma amostra de dados provenientes de uma normal com a média e desvio padrão estabelecidos no código acima.\n",
    "\n",
    "valores = [gauss(media, sigma) for i in range(0,n)] \n",
    "print(valores)"
   ]
  },
  {
   "cell_type": "code",
   "execution_count": 4,
   "metadata": {},
   "outputs": [
    {
     "data": {
      "text/plain": [
       "1.7027400802724153"
      ]
     },
     "execution_count": 4,
     "metadata": {},
     "output_type": "execute_result"
    }
   ],
   "source": [
    "mean(valores) #média amostral"
   ]
  },
  {
   "cell_type": "code",
   "execution_count": 5,
   "metadata": {},
   "outputs": [
    {
     "data": {
      "text/plain": [
       "0.010300117205182561"
      ]
     },
     "execution_count": 5,
     "metadata": {},
     "output_type": "execute_result"
    }
   ],
   "source": [
    "np.var(valores) # variancia amostral "
   ]
  },
  {
   "cell_type": "code",
   "execution_count": 6,
   "metadata": {},
   "outputs": [
    {
     "data": {
      "text/plain": [
       "0.01"
      ]
     },
     "execution_count": 6,
     "metadata": {},
     "output_type": "execute_result"
    }
   ],
   "source": [
    "sigma/np.sqrt(n) #Desvio padrão populacional/ raiz do tamanho da amostra = variancia amostral "
   ]
  },
  {
   "cell_type": "markdown",
   "metadata": {},
   "source": [
    "## Tabela Z"
   ]
  },
  {
   "cell_type": "code",
   "execution_count": 7,
   "metadata": {},
   "outputs": [
    {
     "name": "stdout",
     "output_type": "stream",
     "text": [
      "1.959963984540054\n",
      "1.6448536269514722\n"
     ]
    }
   ],
   "source": [
    "import scipy.stats as st\n",
    "import numpy as np\n",
    "\n",
    "#stats.norm.ppf(1 - alpha) (use alpha = alpha/2 for two-sided)\n",
    "\n",
    "Confianca = 1 - (0.05/2) #Bilateral \n",
    "print(st.norm.ppf(Confianca)) # Valor Z - 95% de confiança, alpha = 0.05 \n",
    "\n",
    "Confianca = 1 - (0.05) #Unilateral (não divide por 2 ) \n",
    "print(st.norm.ppf(Confianca)) # Valor Z - 95% de confiança, alpha = 0.05 "
   ]
  },
  {
   "cell_type": "markdown",
   "metadata": {},
   "source": [
    "## Intervalo de confiança Z"
   ]
  },
  {
   "cell_type": "code",
   "execution_count": 8,
   "metadata": {},
   "outputs": [
    {
     "data": {
      "text/plain": [
       "(481.0800720309199, 488.9199279690801)"
      ]
     },
     "execution_count": 8,
     "metadata": {},
     "output_type": "execute_result"
    }
   ],
   "source": [
    "media = 485\n",
    "desvio = np.sqrt(100)\n",
    "n = 25\n",
    "\n",
    "st.norm.interval(0.95, loc=media, scale=desvio/np.sqrt(n))"
   ]
  },
  {
   "cell_type": "markdown",
   "metadata": {},
   "source": [
    "## Tabela T"
   ]
  },
  {
   "cell_type": "code",
   "execution_count": 9,
   "metadata": {},
   "outputs": [
    {
     "data": {
      "text/plain": [
       "1.729132811521367"
      ]
     },
     "execution_count": 9,
     "metadata": {},
     "output_type": "execute_result"
    }
   ],
   "source": [
    "# find T critical value\n",
    "Confianca = 1 - (0.10/2) # Bilateral\n",
    "st.t.ppf(q=Confianca,df=19) #df = graus de liberdade "
   ]
  },
  {
   "cell_type": "markdown",
   "metadata": {},
   "source": [
    "## Intervalo de confiança t"
   ]
  },
  {
   "cell_type": "code",
   "execution_count": 10,
   "metadata": {},
   "outputs": [
    {
     "name": "stdout",
     "output_type": "stream",
     "text": [
      "(9.297978390370137, 10.702021609629863)\n",
      "(9.420031223696933, 10.579968776303065)\n"
     ]
    }
   ],
   "source": [
    "media = 10\n",
    "s = 1.5\n",
    "n = 20\n",
    "\n",
    "#95% \n",
    "print(st.t.interval(0.95, df = n -1,  loc=media, scale=s/np.sqrt(n)))\n",
    "\n",
    "#90%\n",
    "print(st.t.interval(0.90, df = n -1,  loc=media, scale=s/np.sqrt(n)))"
   ]
  }
 ],
 "metadata": {
  "kernelspec": {
   "display_name": "Python 3 (ipykernel)",
   "language": "python",
   "name": "python3"
  },
  "language_info": {
   "codemirror_mode": {
    "name": "ipython",
    "version": 3
   },
   "file_extension": ".py",
   "mimetype": "text/x-python",
   "name": "python",
   "nbconvert_exporter": "python",
   "pygments_lexer": "ipython3",
   "version": "3.9.7"
  }
 },
 "nbformat": 4,
 "nbformat_minor": 2
}
