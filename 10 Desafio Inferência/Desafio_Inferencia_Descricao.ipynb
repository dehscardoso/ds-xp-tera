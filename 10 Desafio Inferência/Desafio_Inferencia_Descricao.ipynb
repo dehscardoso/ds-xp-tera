{
 "cells": [
  {
   "cell_type": "markdown",
   "id": "9c532a91",
   "metadata": {},
   "source": [
    "<img src = \"https://images2.imgbox.com/c1/79/4H1V1tSO_o.png\" width=\"1200\">"
   ]
  },
  {
   "cell_type": "markdown",
   "id": "18af9cff",
   "metadata": {},
   "source": [
    "# DESAFIO 1 - INFERÊNCIA ESTATÍSTICA\n",
    "---"
   ]
  },
  {
   "cell_type": "markdown",
   "id": "2563dd79",
   "metadata": {},
   "source": [
    "## Depressão e Hábitos Saudáveis\n",
    "---\n",
    "\n",
    "O transtorno depressivo representa um grande problema de saúde pública e é apontado como uma das principais causas de doenças e debilitações segundo a Organização Mundial da Saúde (OMS). A depressão resulta de uma interação complexa de fatores sociais, psicológicos e biológicos e, embora o acesso a diagnósticos e tratamentos esteja aumentando, muitos ainda não possuem acesso ao controle adequado dos sintomas depressivos.\n",
    "\n",
    "Para garantir um estilo de vida saudável, a OMS recomenda a prática regular de exercícios, bem como a adoção de uma dieta saudável rica em alimentos in natura e com reduzido teor de gordura saturada, sal e açucares refinados.\n",
    "\n",
    "Neste desafio, utilizaremos dados de uma pesquisa realizada anualmente nos Estados Unidos para avaliar: \n",
    "\n",
    "(1) qual o perfil de indivíduos (adultos maiores de 18 anos) com sintomas depressivos nos EUA no período de 2005-2006, e \n",
    "\n",
    "(2) se hábitos saudáveis de alimentação e atividade física estão associados a menores índices de depressão nesta população.\n",
    "\n"
   ]
  },
  {
   "cell_type": "markdown",
   "id": "7beef3af",
   "metadata": {},
   "source": [
    "## National Health and Nutrition Examination Survey\n",
    "---\n",
    "\n",
    "O National Health and Nutrition Examination Survey (NHANES) é uma pesquisa anual conduzida pelo National Center for Health Statistics (NCHS) do Centro de Controle e Prevenção de Doenças (Centers for Disease Control - CDC) para avaliar a saúde e nutrição de adultos e crianças dos Estados Unidos. Dados coletados incluem questões demográficas, socioeconômicas, dietéticas e relacionadas à saúde, com o componente de exame contendo medidas médicas, odontológicas, fisiológicas e exames laboratoriais.\n",
    "\n",
    "A pesquisa examina uma amostra de cerca de 5.000 pessoas a cada ano, selecionada à partir de amostragem complexa a fim de selecionar uma amostra representativa da população civil não institucionalizada dos EUA. Sendo assim, as análises utilizando este estudo devem ser realizadas utilizando técnicas e ferramentas que levem em conta a amostragem complexa.\n",
    "\n",
    "Neste desafio, no entanto, iremos assumir que os dados foram obtidos usando uma amostra aleatória da população de interesse e utilizaremos técnicas e ferramentas de análise usuais para amostras aleatórias para fins didáticos."
   ]
  },
  {
   "cell_type": "markdown",
   "id": "8f2dd820",
   "metadata": {},
   "source": [
    "## Patient Health Questionnaire-9 (PHQ-9)\n",
    "---\n",
    "\n",
    "O Patient Health Questionnaire-9 (PHQ-9) é um instrumento utilizado para avaliar o grau de depressão em pacientes. O questionário consiste de 9 itens em que os respondentes indicam a frequência (0 = “nenhuma vez”, 1 = “menos de uma semana”, 2 = “uma semana ou mais” e 3 = “quase todos os dias”) de sintomas de depressão nas duas últimas semanas.\n",
    "\n",
    "O PHQ-9 inclui os seguintes itens para a pergunta “Nas últimas 2 semanas, com que frequência você ficou incomodado por algum dos problemas a seguir?” (0 = “nenhuma vez”, 1 = “menos de uma semana”, 2 = “uma semana ou mais” e 3 = “quase todos os dias”):\n",
    "\n",
    "1 - Pouco interesse ou pouco prazer em fazer as coisas\n",
    "\n",
    "2 - Se sentiu para baixo, deprimido(a) ou sem perspectiva\n",
    "\n",
    "3 - Dificuldade para pegar no sono ou permanecer dormindo ou dormiu mais do que o costume\n",
    "\n",
    "4 - Se sentiu cansado(a) ou com pouca energia\n",
    "\n",
    "5 - Falta de apetite ou comeu demais\n",
    "\n",
    "6 - Se sentiu mal consigo mesmo(a) ou achou que é um fracasso ou que decepcionou sua família ou a você mesmo(a)\n",
    "\n",
    "7 - Dificuldade para se concentrar nas coisas (como ler o jornal ou ver televisão)\n",
    "\n",
    "8 - Teve lentidão para se movimentar ou falar (a ponto de outras pessoas perceberem), ou ao contrário, esteve tão agitado(a) que você ficava andando de um lado para o outro mais do que costume\n",
    "\n",
    "9 - Pensou em se ferir de alguma maneira ou que seria melhor estar morto(a)\n",
    "\n",
    "O escore total é calculado à partir da soma dos itens 1-9 e varia de 0 a 27, em que maiores valores do escore indicam maiores frequências de sintomas de depressão. Aqueles com pontuação maior ou igual a 5 para o escore total de PHQ-9 são considerados como tendo sintomas leves (5-9), moderados (10-14), moderadamente severos (15-19) e severos de depressão (>= 20)."
   ]
  },
  {
   "cell_type": "markdown",
   "id": "0a68a616",
   "metadata": {},
   "source": [
    "## Healthy Eating Index - (HEI)\n",
    "---\n",
    "\n",
    "O Healthy Eating Index (HEI) é uma medida de qualidade da dieta baseado nas orientações dietéticas do governo federal americano (Dietary Guidelines for Americans). O HEI utiliza diferentes grupos alimentares para o cálculo do escore, variando de 0 a 100, em que maiores valores do escore refletem dietas mais próximas das orientações alimentares em vigor.\n",
    "\n",
    "O índice é composto por 13 componentes baseados nos grupos alimentares descritos nas recomendações dietéticas. Detalhes dos valores máximos e interpretações estão descritos no quadro abaixo:\n",
    "\n",
    "<img src = \"https://images2.imgbox.com/9d/6e/oxnBar7B_o.png\" width=\"800\">"
   ]
  },
  {
   "cell_type": "markdown",
   "id": "c3af8a68",
   "metadata": {},
   "source": [
    "## Physical Activity Guidelines for Americans (PAGA)\n",
    "---\n",
    "\n",
    "O Physical Activity Guidelines for Americans (PAG) é emitido pelo Departamento de Saúde e Serviços Humanos (U.S. Department of Health and Human Services (HHS)) e possui recomendações de atividades físicas. Este documento é utilizado em conjunto com as orientações dietéticas para americanos (Dietary Guidelines for Americans) para promover a importância de ser fisicamente ativo e seguir uma dieta saudável.\n",
    "\n",
    "O PAGA recomenda que adultos se engajem em pelo menos 150 minutos de atividades aeróbicas de intensidade moderada ou 75 minutos de atividades aeróbicas de intensidade vigorosa semanalmente. A partir dos dados coletados do NHANES, é possível calcular o número de minutos de atividades físicas, definido como a total minutos semannais de atividades físicas moderadas + 2*(total minutos de atividades aeróbicas vigorosas)."
   ]
  },
  {
   "cell_type": "markdown",
   "id": "06d39d91",
   "metadata": {},
   "source": [
    "# Roteiro para o Desafio\n",
    "---\n",
    "\n",
    "## 1 - Bases de dados\n",
    "---\n",
    "\n",
    "Segue os seguintes bancos de dados em formato csv:\n",
    "\n",
    "https://drive.google.com/drive/folders/1N4sCFSZDXLYzccP-9t0JXGkF06wiAQS-?usp=sharing\n",
    "\n",
    "`DEMO_PHQ.csv:` banco de dados contendo 5334 observações de adultos pesquisados no NHANES 2005-2006, segue PDF com detalhamento das variáveis:\n",
    "\n",
    "https://drive.google.com/file/d/1a4bGPp-ZY2zZlqtkF_b_E9cPwiFAUznj/view?usp=sharing\n",
    "\n",
    "`PAG_HEI.csv:` banco de dados contendo 9424 observações de crianças e adultos pesquisados no NHANES 2005-2006, segue PDF com detalhamento das variáveis:\n",
    "\n",
    "https://drive.google.com/file/d/1Qc63Z0t5v7zHKUszWOQlHVCwBWG1Ps7i/view?usp=sharing"
   ]
  },
  {
   "cell_type": "markdown",
   "id": "afe593f0",
   "metadata": {},
   "source": [
    "## 2 - Tratamento de dados\n",
    "---\n",
    "\n",
    "1. Faça a leitura dos bancos de dados e faça o tratamento que julgar necessário para as variáveis (exemplo: tratamento das categorias 7 = “Se recusou a responder” e 9 = “Não sabe”).\n",
    "\n",
    "2. Em seguida, combine os dois bancos de dados fornecidos, utilizando a variável SEQN como chave única. O banco de dados final deve conter 5334 observações dos adultos respondentes do NHANES.\n",
    "\n",
    "3. Crie a variável phq9 - escore Patient Health Questionnaire-9 como a soma das variáveis DPQ010 a DPQ090\n",
    "\n",
    "4. Crie a variável phq_grp - grupo de sintomas de depressão que assume 0 (“sem sintomas”) se phq9 < 5, 1 (“sintomas leves”) se 5 <= phq9 < 10, 2 (“sintomas moderados”) se 10 <= phq9 < 15, 3 (“sintomas moderadamente severos”) se 15 <= phq9 < 19 e 4 (“sintomas severos”) se phq9 >= 20 "
   ]
  },
  {
   "cell_type": "markdown",
   "id": "495602be",
   "metadata": {},
   "source": [
    "## 3 - EDA: Análise Univariada\n",
    "---\n",
    "\n",
    "1. Faça uma análise univariada de todas as variáveis da análise.\n",
    "\n",
    "2. Julgue como proceder com os casos faltantes nas variáveis.\n",
    "\n",
    "3. Re-agrupe ou re-codifique as variáveis que julgar necessário."
   ]
  },
  {
   "cell_type": "markdown",
   "id": "97b6d35d",
   "metadata": {},
   "source": [
    "# 4 - EDA: Análise Bivariada\n",
    "---\n",
    "\n",
    "1. Faça uma análise bivariada de sintomas de depressão (phq9 ou phq_grp) com as características demográficas. Descreva o perfil com maiores incidências de sintomas de depressão.\n",
    "\n",
    "2. Faça uma análise bivariada de características demográficas x hábitos saudáveis. Qual perfil possui hábitos mais saudáveis?\n",
    "\n",
    "3. Faça uma análise bivariada de sintomas de depressão (phq9 ou phq_grp) com os hábitos saudáveis (variáveis de atividade física e healthy eating index). O que podemos observar?"
   ]
  },
  {
   "cell_type": "markdown",
   "id": "c22e4d35",
   "metadata": {},
   "source": [
    "PHQ9 apresenta correlação negativa com escolaridade, aderência ao Physical Activity Guideline\n",
    "\n",
    "PHQ9 apresenta correlação positiva com DPQ20 e DPQ40"
   ]
  },
  {
   "cell_type": "markdown",
   "id": "e55a1a72",
   "metadata": {},
   "source": [
    "# 5 - Testes de hipóteses\n",
    "---\n",
    "\n",
    "1. Faça o(s) teste(s) de hipóteses adequado(s) para avaliar a significância estatística das diferenças nas características demográficas apontadas na análise bivariada. Quais são as características apresentam diferenças estatisticamente significativas para a frequência de sintomas de depressão?\n",
    "\n",
    "2. Faça o(s) teste(s) de hipóteses adequado(s) para avaliar se existe associação entre hábitos saudáveis e sintomas de depressão."
   ]
  },
  {
   "cell_type": "markdown",
   "id": "f62c9864",
   "metadata": {},
   "source": [
    "# 6 - Aspectos da análise\n",
    "---\n",
    "\n",
    "1. Qual o tipo de estudo está sendo empregado pelo NHANES? experimental ou **observacional**?\n",
    "\n",
    "2. Discuta as possíveis fontes de viés presentes na análise\n",
    "\n",
    "3. A partir da análise realizada, podemos afirmar que hábitos saudáveis possuem um efeito causal na prevenção de depressão?\n",
    "\n",
    "4. Quais são as fraquezas das análises realizadas? O que pode ser feito para melhorar?\n",
    "\n",
    "5. Quais outras variáveis/informações poderiam ter sido coletadas para esta análise?"
   ]
  },
  {
   "cell_type": "markdown",
   "id": "6f69ee33",
   "metadata": {},
   "source": [
    "---"
   ]
  }
 ],
 "metadata": {
  "kernelspec": {
   "display_name": "Python 3 (ipykernel)",
   "language": "python",
   "name": "python3"
  },
  "language_info": {
   "codemirror_mode": {
    "name": "ipython",
    "version": 3
   },
   "file_extension": ".py",
   "mimetype": "text/x-python",
   "name": "python",
   "nbconvert_exporter": "python",
   "pygments_lexer": "ipython3",
   "version": "3.9.7"
  }
 },
 "nbformat": 4,
 "nbformat_minor": 5
}
