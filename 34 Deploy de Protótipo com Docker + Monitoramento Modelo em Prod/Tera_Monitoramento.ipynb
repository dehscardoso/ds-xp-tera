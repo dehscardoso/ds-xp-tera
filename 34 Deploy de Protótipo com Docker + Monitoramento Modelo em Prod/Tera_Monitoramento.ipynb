{
  "cells": [
    {
      "cell_type": "markdown",
      "id": "af9f9bb1",
      "metadata": {
        "id": "af9f9bb1"
      },
      "source": [
        "# 0 Setup"
      ]
    },
    {
      "cell_type": "markdown",
      "id": "557f89db",
      "metadata": {
        "id": "557f89db"
      },
      "source": [
        "## 0.1 Imports"
      ]
    },
    {
      "cell_type": "code",
      "execution_count": null,
      "id": "ac9f805a",
      "metadata": {
        "id": "ac9f805a"
      },
      "outputs": [],
      "source": [
        "import matplotlib.pyplot as plt\n",
        "import numpy as np\n",
        "from scipy.stats import ks_2samp\n",
        "import seaborn as sns\n",
        "from sklearn.datasets import make_classification\n",
        "from sklearn.ensemble import RandomForestClassifier\n",
        "from sklearn.metrics import (\n",
        "    precision_score,\n",
        "    recall_score,\n",
        "    roc_auc_score,\n",
        "    accuracy_score\n",
        ")\n",
        "from sklearn.model_selection import train_test_split"
      ]
    },
    {
      "cell_type": "markdown",
      "id": "c1568a22",
      "metadata": {
        "id": "c1568a22"
      },
      "source": [
        "## 0.2 Funções"
      ]
    },
    {
      "cell_type": "code",
      "execution_count": null,
      "id": "bf3cc80d",
      "metadata": {
        "id": "bf3cc80d"
      },
      "outputs": [],
      "source": [
        "def evaluation(y_true, y_pred, y_pred_proba):\n",
        "    print(f\"Acurácia: {accuracy_score(y_true, y_pred)}\")\n",
        "    print(f\"Precision: {precision_score(y_true, y_pred)}\")\n",
        "    print(f\"Recall: {recall_score(y_true, y_pred)}\")\n",
        "    print(f\"AUC:  {roc_auc_score(y_true, y_pred_proba)}\")"
      ]
    },
    {
      "cell_type": "markdown",
      "id": "91201477",
      "metadata": {
        "id": "91201477"
      },
      "source": [
        "# 1 Dados"
      ]
    },
    {
      "cell_type": "markdown",
      "id": "6b7536e3",
      "metadata": {
        "id": "6b7536e3"
      },
      "source": [
        "## 1.1 Gerar dados"
      ]
    },
    {
      "cell_type": "markdown",
      "id": "bd9c2795",
      "metadata": {
        "id": "bd9c2795"
      },
      "source": [
        "Vamos criar um conjunto de dados aleatório com a função `make_classification`. Vamos ter na nossa base 100k pontos e 4 variáveis, das quais apenas duas serão informativas, as outras duas serão ruído."
      ]
    },
    {
      "cell_type": "code",
      "execution_count": null,
      "id": "55f6b1f1",
      "metadata": {
        "id": "55f6b1f1"
      },
      "outputs": [],
      "source": [
        "X, y = make_classification(\n",
        "    n_samples=100_000,\n",
        "    n_features=4,\n",
        "    n_informative=2,\n",
        "    flip_y=0.05\n",
        ")"
      ]
    },
    {
      "cell_type": "code",
      "source": [
        "X.shape, y.shape"
      ],
      "metadata": {
        "colab": {
          "base_uri": "https://localhost:8080/"
        },
        "id": "PqpeB0e0iPk8",
        "outputId": "f523fd9d-eabe-4216-c210-4fb6690fc01a"
      },
      "id": "PqpeB0e0iPk8",
      "execution_count": null,
      "outputs": [
        {
          "output_type": "execute_result",
          "data": {
            "text/plain": [
              "((100000, 4), (100000,))"
            ]
          },
          "metadata": {},
          "execution_count": 4
        }
      ]
    },
    {
      "cell_type": "markdown",
      "id": "ccc8f8f6",
      "metadata": {
        "id": "ccc8f8f6"
      },
      "source": [
        "## 1.2 Dividir os dados"
      ]
    },
    {
      "cell_type": "markdown",
      "id": "e0536c91",
      "metadata": {
        "id": "e0536c91"
      },
      "source": [
        "Antes de fazermos o treinamento do modelo, vamos dividir o nosso conjunto de dados em três:\n",
        "\n",
        "- **Treino**: usado no treinamento do modelo;\n",
        "- **Validação**: usado para verificar as métricas de qualidade do modelo;\n",
        "- **Teste**: usado para simular os dados que chegariam no modelo em produção."
      ]
    },
    {
      "cell_type": "code",
      "execution_count": null,
      "id": "c5a915d7",
      "metadata": {
        "id": "c5a915d7"
      },
      "outputs": [],
      "source": [
        "X_train, X_val, y_train, y_val = train_test_split(X, y, test_size=5_000)"
      ]
    },
    {
      "cell_type": "code",
      "execution_count": null,
      "id": "6f5a057d",
      "metadata": {
        "id": "6f5a057d"
      },
      "outputs": [],
      "source": [
        "X_train, X_test, y_train, y_test = train_test_split(\n",
        "    X_train,\n",
        "    y_train,\n",
        "    test_size=5_000\n",
        ")"
      ]
    },
    {
      "cell_type": "code",
      "execution_count": null,
      "id": "cfd855d7",
      "metadata": {
        "colab": {
          "base_uri": "https://localhost:8080/"
        },
        "id": "cfd855d7",
        "outputId": "123aed44-556c-403a-ff3e-f07f5474c6d5"
      },
      "outputs": [
        {
          "output_type": "execute_result",
          "data": {
            "text/plain": [
              "((90000, 4), (5000, 4), (5000, 4))"
            ]
          },
          "metadata": {},
          "execution_count": 7
        }
      ],
      "source": [
        "X_train.shape, X_val.shape, X_test.shape"
      ]
    },
    {
      "cell_type": "markdown",
      "id": "b2764f9c",
      "metadata": {
        "id": "b2764f9c"
      },
      "source": [
        "Para mostrarmos o que acontece quando as variáveis são alteradas, vamos adicionar muito ruído no conjunto de dados de teste, criando um novo conjunto de variáveis explicativas."
      ]
    },
    {
      "cell_type": "code",
      "execution_count": null,
      "id": "fd8e4a92",
      "metadata": {
        "id": "fd8e4a92"
      },
      "outputs": [],
      "source": [
        "X_test_shift = (\n",
        "    X_test + \n",
        "    np.random.randn(X_test.shape[0]).reshape(-1,1) + \n",
        "    np.random.random_sample(X_test.shape[0]).reshape(-1,1)\n",
        ")"
      ]
    },
    {
      "cell_type": "markdown",
      "id": "4c84a3df",
      "metadata": {
        "id": "4c84a3df"
      },
      "source": [
        "# 2 Treino do modelo"
      ]
    },
    {
      "cell_type": "markdown",
      "id": "363ad9ec",
      "metadata": {
        "id": "363ad9ec"
      },
      "source": [
        "Com os dados em mãos, podemos treinar o modelo. Como aqui estamos interessados apenas em um exemplo simples e não em fazer um super modelo, vamos utilizar a RandomForest padrão do `scikit-learn`."
      ]
    },
    {
      "cell_type": "code",
      "execution_count": null,
      "id": "f910ade1",
      "metadata": {
        "colab": {
          "base_uri": "https://localhost:8080/"
        },
        "id": "f910ade1",
        "outputId": "e663aae6-12be-4fe0-8484-fe21edddda93"
      },
      "outputs": [
        {
          "output_type": "execute_result",
          "data": {
            "text/plain": [
              "RandomForestClassifier()"
            ]
          },
          "metadata": {},
          "execution_count": 9
        }
      ],
      "source": [
        "clf = RandomForestClassifier()\n",
        "clf.fit(X_train, y_train)"
      ]
    },
    {
      "cell_type": "markdown",
      "id": "fbe05e9f",
      "metadata": {
        "id": "fbe05e9f"
      },
      "source": [
        "Como sempre, também vamos fazer a avaliação de performance do modelo em um conjunto de dados nunca visto (validação)."
      ]
    },
    {
      "cell_type": "code",
      "execution_count": null,
      "id": "57c09c3b",
      "metadata": {
        "id": "57c09c3b"
      },
      "outputs": [],
      "source": [
        "preds_val = clf.predict(X_val)\n",
        "preds_prob_val = clf.predict_proba(X_val)[:,1]"
      ]
    },
    {
      "cell_type": "code",
      "execution_count": null,
      "id": "48eff1d3",
      "metadata": {
        "scrolled": true,
        "colab": {
          "base_uri": "https://localhost:8080/"
        },
        "id": "48eff1d3",
        "outputId": "e5ef7e09-b430-4dbb-bf36-95de63da853e"
      },
      "outputs": [
        {
          "output_type": "stream",
          "name": "stdout",
          "text": [
            "Acurácia: 0.964\n",
            "Precision: 0.9694688414889168\n",
            "Recall: 0.9558762886597938\n",
            "AUC:  0.9712128115303774\n"
          ]
        }
      ],
      "source": [
        "evaluation(y_val, preds_val, preds_prob_val)"
      ]
    },
    {
      "cell_type": "markdown",
      "id": "5e02100f",
      "metadata": {
        "id": "5e02100f"
      },
      "source": [
        "# 3 Monitoramento"
      ]
    },
    {
      "cell_type": "markdown",
      "id": "a4599366",
      "metadata": {
        "id": "a4599366"
      },
      "source": [
        "Nessa seção, vamos descrever algumas possibilidades de testes para verificar se houve mudança de conceito nos dados ou se o modelo continua com a performance adequada."
      ]
    },
    {
      "cell_type": "markdown",
      "id": "5d5cb2cc",
      "metadata": {
        "id": "5d5cb2cc"
      },
      "source": [
        "## 3.1 Estatística descritiva"
      ]
    },
    {
      "cell_type": "markdown",
      "id": "c989a50f",
      "metadata": {
        "id": "c989a50f"
      },
      "source": [
        "Vamos começar falando das variáveis explicativas. A alteração na distribuição de uma variável pode ser o suficiente para que o modelo perca performance rapidamente, por isso devemos estar atentos a qualquer tipo de mudança que elas possam sofrer (mudança de comportamento, sazonalidade, crises, etc.).\n",
        "\n",
        "Uma maneira de verificar se houveram alterações e analisando as variáveis utilizando medidas de centralidade como média e mediana, por exemplo. Um outra forma, mais visual e manual, é analisando o gráfico das distribuições."
      ]
    },
    {
      "cell_type": "markdown",
      "id": "9e4a3d3b",
      "metadata": {
        "id": "9e4a3d3b"
      },
      "source": [
        "### 3.1.1 Distribuições"
      ]
    },
    {
      "cell_type": "markdown",
      "id": "87b82125",
      "metadata": {
        "id": "87b82125"
      },
      "source": [
        "Pelo gráfico abaixo, vemos claramente que o conjunto de dados modificado não segue a mesma distribuição dos conjuntos de treino e teste."
      ]
    },
    {
      "cell_type": "code",
      "execution_count": null,
      "id": "1b16a354",
      "metadata": {
        "colab": {
          "base_uri": "https://localhost:8080/",
          "height": 428
        },
        "id": "1b16a354",
        "outputId": "463dfb4a-2a8c-42a2-f760-e71f0ccbc9f2"
      },
      "outputs": [
        {
          "output_type": "display_data",
          "data": {
            "text/plain": [
              "<Figure size 864x504 with 1 Axes>"
            ],
            "image/png": "[encoded data removed]"
          },
          "metadata": {
            "needs_background": "light"
          }
        }
      ],
      "source": [
        "fig, ax = plt.subplots(figsize=(12,7))\n",
        "sns.kdeplot(X_train[:, 0], ax=ax, label=\"train\")\n",
        "sns.kdeplot(X_test[:, 0], ax=ax, label=\"test\")\n",
        "sns.kdeplot(X_test_shift[:, 0], ax=ax, label=\"test_shift\")\n",
        "plt.legend();"
      ]
    },
    {
      "cell_type": "markdown",
      "id": "41416b0d",
      "metadata": {
        "id": "41416b0d"
      },
      "source": [
        "### 3.1.2 Média"
      ]
    },
    {
      "cell_type": "markdown",
      "id": "2a5875ad",
      "metadata": {
        "id": "2a5875ad"
      },
      "source": [
        "A média é umas medidas mais simples que podemos avaliar quando queremos entender algum tipo de desvio de comportamento. Uma mudança na média da variável pode indicar uma mudança de conceito."
      ]
    },
    {
      "cell_type": "code",
      "execution_count": null,
      "id": "b5576c45",
      "metadata": {
        "colab": {
          "base_uri": "https://localhost:8080/"
        },
        "id": "b5576c45",
        "outputId": "6f6b2ce7-d016-494c-a9bf-68c1a9ed09a0"
      },
      "outputs": [
        {
          "output_type": "execute_result",
          "data": {
            "text/plain": [
              "(-0.001929329394919779, -0.00023285083321707525)"
            ]
          },
          "metadata": {},
          "execution_count": 13
        }
      ],
      "source": [
        "X_train[:, 0].mean(), X_test[:, 0].mean()"
      ]
    },
    {
      "cell_type": "code",
      "execution_count": null,
      "id": "c292c9d4",
      "metadata": {
        "colab": {
          "base_uri": "https://localhost:8080/"
        },
        "id": "c292c9d4",
        "outputId": "3885ec49-b2a1-4535-8704-ce7a1deefd79"
      },
      "outputs": [
        {
          "output_type": "execute_result",
          "data": {
            "text/plain": [
              "(-0.001929329394919779, 0.5099532944759658)"
            ]
          },
          "metadata": {},
          "execution_count": 14
        }
      ],
      "source": [
        "X_train[:, 0].mean(), X_test_shift[:, 0].mean()"
      ]
    },
    {
      "cell_type": "markdown",
      "id": "3270cf93",
      "metadata": {
        "id": "3270cf93"
      },
      "source": [
        "## 3.2 KS-test"
      ]
    },
    {
      "cell_type": "markdown",
      "id": "bd8094a6",
      "metadata": {
        "id": "bd8094a6"
      },
      "source": [
        "Apesar de simples e fáceis de compreender, as medidas descritivas podem sofrer com:\n",
        "\n",
        "- o baixo volume de dados, fazendo com que a média empírica seja diferente, mesmo que ligeiramente;\n",
        "- falta de um limite definido para decidir o que são medidas iguais e o que são medidas diferentes.\n",
        "\n",
        "Um modo de mitigar esses problemas é com a utilização de testes estatísticos. Um teste famoso é o chamado **Teste KS**, de *Komolgorov-Smirnov*. A ideia dele é identificar se duas amostras vieram da mesma distribuição. Ele testa essa hipótese, comparando as distribuições acumuladas (**cdf**, do inglês *cummulative distribution function*) das duas amostras. O valor do teste é basicamente a maior diferença encontrada entre as duas curvas.\n",
        "\n",
        "![KS test example](https://imgs.search.brave.com/AsWF21YrlPW01s8K5tcPqPxagO0TBTQpt4hv7MDDx6g/rs:fit:580:478:1/g:ce/aHR0cHM6Ly91cGxv/YWQud2lraW1lZGlh/Lm9yZy93aWtpcGVk/aWEvY29tbW9ucy9j/L2NmL0tTX0V4YW1w/bGUucG5n)\n",
        "\n",
        "Vamos analisar então as nossas distribuições."
      ]
    },
    {
      "cell_type": "code",
      "execution_count": null,
      "id": "f5f6f7bd",
      "metadata": {
        "colab": {
          "base_uri": "https://localhost:8080/",
          "height": 432
        },
        "id": "f5f6f7bd",
        "outputId": "dc9a45fd-28d1-4223-f312-3a5d08ecb6d8"
      },
      "outputs": [
        {
          "output_type": "display_data",
          "data": {
            "text/plain": [
              "<Figure size 864x504 with 1 Axes>"
            ],
            "image/png": "[encoded data removed]"
          },
          "metadata": {
            "needs_background": "light"
          }
        }
      ],
      "source": [
        "fig, ax = plt.subplots(figsize=(12,7))\n",
        "sns.ecdfplot(X_train[:, 0], ax=ax, label=\"train\")\n",
        "sns.ecdfplot(X_test[:, 0], ax=ax, label=\"test\")\n",
        "sns.ecdfplot(X_test_shift[:, 0], ax=ax, label=\"test_shift\")\n",
        "plt.legend();"
      ]
    },
    {
      "cell_type": "markdown",
      "id": "f9e80ec3",
      "metadata": {
        "id": "f9e80ec3"
      },
      "source": [
        "Podemos ver que as distribuições acumuladas de treino e teste seguem a mesma cdf. Isso fica evidente pelo resultado do teste, no qual temos um p_valor > 0.05. Isso significa que não temos evidência suficiente para falar que essas distribuições são diferentes."
      ]
    },
    {
      "cell_type": "code",
      "execution_count": null,
      "id": "d0617bd7",
      "metadata": {
        "scrolled": false,
        "colab": {
          "base_uri": "https://localhost:8080/"
        },
        "id": "d0617bd7",
        "outputId": "04dee661-ec9f-4fa6-fc5c-2894218b76f4"
      },
      "outputs": [
        {
          "output_type": "execute_result",
          "data": {
            "text/plain": [
              "KstestResult(statistic=0.007966666666666677, pvalue=0.9221024657160614)"
            ]
          },
          "metadata": {},
          "execution_count": 16
        }
      ],
      "source": [
        "ks_2samp(X_train[:, 0], X_test[:, 0])"
      ]
    },
    {
      "cell_type": "markdown",
      "id": "aa5dfce4",
      "metadata": {
        "id": "aa5dfce4"
      },
      "source": [
        "Já quando testamos com os dados modificados, temos um valor muito menor que 0.05. Assim como vimos graficamente, o teste indica que temos evidências suficientes para dizer que as duas amostras vieram de diferentes distribuições."
      ]
    },
    {
      "cell_type": "code",
      "execution_count": null,
      "id": "bc246395",
      "metadata": {
        "colab": {
          "base_uri": "https://localhost:8080/"
        },
        "id": "bc246395",
        "outputId": "a7f91a13-028f-4a52-bd87-80d7922f1bd2"
      },
      "outputs": [
        {
          "output_type": "execute_result",
          "data": {
            "text/plain": [
              "KstestResult(statistic=0.2373333333333334, pvalue=3.1074057297522626e-235)"
            ]
          },
          "metadata": {},
          "execution_count": 17
        }
      ],
      "source": [
        "ks_2samp(X_train[:, 0], X_test_shift[:, 0])"
      ]
    },
    {
      "cell_type": "markdown",
      "id": "96e730ad",
      "metadata": {
        "id": "96e730ad"
      },
      "source": [
        "## 3.3 Distribuição da saída"
      ]
    },
    {
      "cell_type": "markdown",
      "id": "6773341e",
      "metadata": {
        "id": "6773341e"
      },
      "source": [
        "Da mesma forma como fizemos com as variáveis de entrada, podemos analisar a distribuição da saída. No caso de um regressor, basta aplicarmos o teste estatístico nas amostras previstas de validação e de teste. Como estamos lidando com um classificador, podemos analisar como está a distribuição de probabilidades na saída."
      ]
    },
    {
      "cell_type": "code",
      "execution_count": null,
      "id": "a71bbf17",
      "metadata": {
        "colab": {
          "base_uri": "https://localhost:8080/"
        },
        "id": "a71bbf17",
        "outputId": "57840f67-d7ed-4042-e4c3-0902fb33067a"
      },
      "outputs": [
        {
          "output_type": "execute_result",
          "data": {
            "text/plain": [
              "KstestResult(statistic=0.0258, pvalue=0.0717092782360969)"
            ]
          },
          "metadata": {},
          "execution_count": 18
        }
      ],
      "source": [
        "preds_prob_test = clf.predict_proba(X_test)[:, 1]\n",
        "ks_2samp(preds_prob_val, preds_prob_test)"
      ]
    },
    {
      "cell_type": "code",
      "execution_count": null,
      "id": "2f021413",
      "metadata": {
        "colab": {
          "base_uri": "https://localhost:8080/"
        },
        "id": "2f021413",
        "outputId": "b35502de-26ee-4d42-9814-27f1afed2539"
      },
      "outputs": [
        {
          "output_type": "execute_result",
          "data": {
            "text/plain": [
              "KstestResult(statistic=0.4744, pvalue=0.0)"
            ]
          },
          "metadata": {},
          "execution_count": 19
        }
      ],
      "source": [
        "preds_prob_test_shift = clf.predict_proba(X_test_shift)[:, 1]\n",
        "ks_2samp(preds_prob_val, preds_prob_test_shift)"
      ]
    },
    {
      "cell_type": "markdown",
      "id": "df10d00f",
      "metadata": {
        "id": "df10d00f"
      },
      "source": [
        "Novamente, os testes indicam que para o conjunto não modificado, não temos evidências de que as amostram sejam de distribuições distintas, mas para os dados modificados sim. Isso ficar mais claro quando analisamos as curvas de distribuição acumulada das probabilidades."
      ]
    },
    {
      "cell_type": "code",
      "execution_count": null,
      "id": "a8061a09",
      "metadata": {
        "colab": {
          "base_uri": "https://localhost:8080/",
          "height": 432
        },
        "id": "a8061a09",
        "outputId": "71574e26-b6b7-4a3a-bfc4-7b0bf73eb777"
      },
      "outputs": [
        {
          "output_type": "display_data",
          "data": {
            "text/plain": [
              "<Figure size 864x504 with 1 Axes>"
            ],
            "image/png": "[encoded data removed]"
          },
          "metadata": {
            "needs_background": "light"
          }
        }
      ],
      "source": [
        "fig, ax = plt.subplots(figsize=(12,7))\n",
        "sns.ecdfplot(preds_prob_val, ax=ax, label=\"validation\")\n",
        "sns.ecdfplot(preds_prob_test, ax=ax, label=\"test\")\n",
        "sns.ecdfplot(preds_prob_test_shift, ax=ax, label=\"test_shift\")\n",
        "plt.legend();"
      ]
    },
    {
      "cell_type": "markdown",
      "id": "1b97c295",
      "metadata": {
        "id": "1b97c295"
      },
      "source": [
        "## 3.4 Avaliação do modelo"
      ]
    },
    {
      "cell_type": "markdown",
      "id": "f4c879b8",
      "metadata": {
        "id": "f4c879b8"
      },
      "source": [
        "Um último modo de avaliar a performance do modelo é justamente medir as métricas novamente quando os dados reais estiverem disponíveis. O maior problema dessa abordagem é que o tempo entre previsão e a mensuração do resultado pode ser muito longo, levando a uma baixa tempestividade na correção do problema."
      ]
    },
    {
      "cell_type": "code",
      "execution_count": null,
      "id": "335817a2",
      "metadata": {
        "colab": {
          "base_uri": "https://localhost:8080/"
        },
        "id": "335817a2",
        "outputId": "0aa7e0de-0857-4911-ab15-53098a63d893"
      },
      "outputs": [
        {
          "output_type": "stream",
          "name": "stdout",
          "text": [
            "Acurácia: 0.5332\n",
            "Precision: 0.5211236933797909\n",
            "Recall: 0.9465981012658228\n",
            "AUC:  0.5771868823225186\n"
          ]
        }
      ],
      "source": [
        "preds_test_shift = clf.predict(X_test_shift)\n",
        "evaluation(y_test, preds_test_shift, preds_prob_test_shift)"
      ]
    },
    {
      "cell_type": "code",
      "source": [],
      "metadata": {
        "id": "N-ab20EI1FOw"
      },
      "id": "N-ab20EI1FOw",
      "execution_count": null,
      "outputs": []
    }
  ],
  "metadata": {
    "kernelspec": {
      "display_name": "Python 3 (ipykernel)",
      "language": "python",
      "name": "python3"
    },
    "language_info": {
      "codemirror_mode": {
        "name": "ipython",
        "version": 3
      },
      "file_extension": ".py",
      "mimetype": "text/x-python",
      "name": "python",
      "nbconvert_exporter": "python",
      "pygments_lexer": "ipython3",
      "version": "3.9.10"
    },
    "colab": {
      "name": "Tera - Monitoramento.ipynb",
      "provenance": []
    }
  },
  "nbformat": 4,
  "nbformat_minor": 5
}