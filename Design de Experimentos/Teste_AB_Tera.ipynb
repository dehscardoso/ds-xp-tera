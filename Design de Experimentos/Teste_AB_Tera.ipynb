{
 "cells": [
  {
   "cell_type": "markdown",
   "metadata": {},
   "source": [
    "<img src = \"https://images2.imgbox.com/c1/79/4H1V1tSO_o.png\" width=\"1200\">"
   ]
  },
  {
   "cell_type": "markdown",
   "metadata": {
    "id": "OgjtqIkp9lki"
   },
   "source": [
    "# Carregamento das bibliotecas"
   ]
  },
  {
   "cell_type": "code",
   "execution_count": null,
   "metadata": {},
   "outputs": [],
   "source": [
    "%pip install -q pingouin"
   ]
  },
  {
   "cell_type": "code",
   "execution_count": 2,
   "metadata": {
    "id": "mLeQWIuu9oEL"
   },
   "outputs": [],
   "source": [
    "import pandas as pd\n",
    "import numpy as np\n",
    "import seaborn as sns\n",
    "from matplotlib import pyplot as plt"
   ]
  },
  {
   "cell_type": "markdown",
   "metadata": {
    "id": "Gt_UdTO-9uhw"
   },
   "source": [
    "# Criando o banco de dados"
   ]
  },
  {
   "cell_type": "markdown",
   "metadata": {
    "id": "lQOGzY9y90nj"
   },
   "source": [
    "### Estabelecendo uma semente para a randomização"
   ]
  },
  {
   "cell_type": "code",
   "execution_count": 3,
   "metadata": {
    "id": "40VsWXEm97Bd"
   },
   "outputs": [],
   "source": [
    "np.random.seed(321)"
   ]
  },
  {
   "cell_type": "markdown",
   "metadata": {
    "id": "wD7eIaP4-CFi"
   },
   "source": [
    "### Estabelecendo parâmetros para os dados que serão gerados"
   ]
  },
  {
   "cell_type": "code",
   "execution_count": 4,
   "metadata": {
    "id": "u-nCYknW-HJP"
   },
   "outputs": [],
   "source": [
    "media_cachorro = 58\n",
    "media_gato = 53\n",
    "dp = 15\n",
    "n_total = 500"
   ]
  },
  {
   "cell_type": "markdown",
   "metadata": {
    "id": "1iLoJh7N-byG"
   },
   "source": [
    "### Gerando a randomização do grupo (gato ou cachorro)"
   ]
  },
  {
   "cell_type": "code",
   "execution_count": 5,
   "metadata": {
    "id": "25RQp2xt-irQ"
   },
   "outputs": [],
   "source": [
    "grupo = np.random.binomial(n = 1, p = 0.5, size = n_total)\n",
    "# 0 = gato; 1 = cachorro"
   ]
  },
  {
   "cell_type": "markdown",
   "metadata": {
    "id": "cws4sOR_-ujr"
   },
   "source": [
    "### Criando o escore de 0-100 após o vídeo"
   ]
  },
  {
   "cell_type": "code",
   "execution_count": 7,
   "metadata": {
    "id": "3f2aUpht-2u2"
   },
   "outputs": [],
   "source": [
    "escore = (1-grupo)*np.random.normal(loc = media_gato,\n",
    "                                    scale = dp, size = n_total) + grupo*np.random.normal(loc = media_cachorro, \n",
    "                                                                                         scale = dp, size = n_total)"
   ]
  },
  {
   "cell_type": "markdown",
   "metadata": {
    "id": "dzrTI2fz_vyt"
   },
   "source": [
    "### Unindo o escore e o grupo para criação do dataframe"
   ]
  },
  {
   "cell_type": "code",
   "execution_count": 8,
   "metadata": {
    "id": "O3ouYKnT_z7j"
   },
   "outputs": [],
   "source": [
    "df = pd.DataFrame(data = {'grupo': grupo, 'escore': escore})"
   ]
  },
  {
   "cell_type": "markdown",
   "metadata": {
    "id": "9Mu4kdIlAHiA"
   },
   "source": [
    "# Análise descritiva do dataframe"
   ]
  },
  {
   "cell_type": "code",
   "execution_count": 9,
   "metadata": {
    "colab": {
     "base_uri": "https://localhost:8080/",
     "height": 363
    },
    "id": "QA7y7oOxALJw",
    "outputId": "5807e12c-5a96-4c00-e3c7-9c8a8fa7920e"
   },
   "outputs": [
    {
     "data": {
      "text/html": [
       "<div>\n",
       "<style scoped>\n",
       "    .dataframe tbody tr th:only-of-type {\n",
       "        vertical-align: middle;\n",
       "    }\n",
       "\n",
       "    .dataframe tbody tr th {\n",
       "        vertical-align: top;\n",
       "    }\n",
       "\n",
       "    .dataframe thead th {\n",
       "        text-align: right;\n",
       "    }\n",
       "</style>\n",
       "<table border=\"1\" class=\"dataframe\">\n",
       "  <thead>\n",
       "    <tr style=\"text-align: right;\">\n",
       "      <th></th>\n",
       "      <th>grupo</th>\n",
       "      <th>escore</th>\n",
       "    </tr>\n",
       "  </thead>\n",
       "  <tbody>\n",
       "    <tr>\n",
       "      <th>0</th>\n",
       "      <td>1</td>\n",
       "      <td>65.241132</td>\n",
       "    </tr>\n",
       "    <tr>\n",
       "      <th>1</th>\n",
       "      <td>0</td>\n",
       "      <td>18.154959</td>\n",
       "    </tr>\n",
       "    <tr>\n",
       "      <th>2</th>\n",
       "      <td>1</td>\n",
       "      <td>65.920449</td>\n",
       "    </tr>\n",
       "    <tr>\n",
       "      <th>3</th>\n",
       "      <td>0</td>\n",
       "      <td>43.837049</td>\n",
       "    </tr>\n",
       "    <tr>\n",
       "      <th>4</th>\n",
       "      <td>1</td>\n",
       "      <td>42.963910</td>\n",
       "    </tr>\n",
       "    <tr>\n",
       "      <th>5</th>\n",
       "      <td>1</td>\n",
       "      <td>55.555875</td>\n",
       "    </tr>\n",
       "    <tr>\n",
       "      <th>6</th>\n",
       "      <td>1</td>\n",
       "      <td>74.059254</td>\n",
       "    </tr>\n",
       "    <tr>\n",
       "      <th>7</th>\n",
       "      <td>1</td>\n",
       "      <td>47.558196</td>\n",
       "    </tr>\n",
       "    <tr>\n",
       "      <th>8</th>\n",
       "      <td>0</td>\n",
       "      <td>60.996206</td>\n",
       "    </tr>\n",
       "    <tr>\n",
       "      <th>9</th>\n",
       "      <td>1</td>\n",
       "      <td>80.871430</td>\n",
       "    </tr>\n",
       "  </tbody>\n",
       "</table>\n",
       "</div>"
      ],
      "text/plain": [
       "   grupo     escore\n",
       "0      1  65.241132\n",
       "1      0  18.154959\n",
       "2      1  65.920449\n",
       "3      0  43.837049\n",
       "4      1  42.963910\n",
       "5      1  55.555875\n",
       "6      1  74.059254\n",
       "7      1  47.558196\n",
       "8      0  60.996206\n",
       "9      1  80.871430"
      ]
     },
     "execution_count": 9,
     "metadata": {},
     "output_type": "execute_result"
    }
   ],
   "source": [
    "df.head(10)"
   ]
  },
  {
   "cell_type": "code",
   "execution_count": 10,
   "metadata": {
    "colab": {
     "base_uri": "https://localhost:8080/",
     "height": 300
    },
    "id": "QlkdX31vAQQs",
    "outputId": "24c6f649-ed92-4b3d-9b72-d1a84abddad8"
   },
   "outputs": [
    {
     "data": {
      "text/html": [
       "<div>\n",
       "<style scoped>\n",
       "    .dataframe tbody tr th:only-of-type {\n",
       "        vertical-align: middle;\n",
       "    }\n",
       "\n",
       "    .dataframe tbody tr th {\n",
       "        vertical-align: top;\n",
       "    }\n",
       "\n",
       "    .dataframe thead th {\n",
       "        text-align: right;\n",
       "    }\n",
       "</style>\n",
       "<table border=\"1\" class=\"dataframe\">\n",
       "  <thead>\n",
       "    <tr style=\"text-align: right;\">\n",
       "      <th></th>\n",
       "      <th>grupo</th>\n",
       "      <th>escore</th>\n",
       "    </tr>\n",
       "  </thead>\n",
       "  <tbody>\n",
       "    <tr>\n",
       "      <th>count</th>\n",
       "      <td>500.00</td>\n",
       "      <td>500.00</td>\n",
       "    </tr>\n",
       "    <tr>\n",
       "      <th>mean</th>\n",
       "      <td>0.49</td>\n",
       "      <td>56.31</td>\n",
       "    </tr>\n",
       "    <tr>\n",
       "      <th>std</th>\n",
       "      <td>0.50</td>\n",
       "      <td>15.73</td>\n",
       "    </tr>\n",
       "    <tr>\n",
       "      <th>min</th>\n",
       "      <td>0.00</td>\n",
       "      <td>14.31</td>\n",
       "    </tr>\n",
       "    <tr>\n",
       "      <th>25%</th>\n",
       "      <td>0.00</td>\n",
       "      <td>44.72</td>\n",
       "    </tr>\n",
       "    <tr>\n",
       "      <th>50%</th>\n",
       "      <td>0.00</td>\n",
       "      <td>56.22</td>\n",
       "    </tr>\n",
       "    <tr>\n",
       "      <th>75%</th>\n",
       "      <td>1.00</td>\n",
       "      <td>67.35</td>\n",
       "    </tr>\n",
       "    <tr>\n",
       "      <th>max</th>\n",
       "      <td>1.00</td>\n",
       "      <td>99.86</td>\n",
       "    </tr>\n",
       "  </tbody>\n",
       "</table>\n",
       "</div>"
      ],
      "text/plain": [
       "        grupo  escore\n",
       "count  500.00  500.00\n",
       "mean     0.49   56.31\n",
       "std      0.50   15.73\n",
       "min      0.00   14.31\n",
       "25%      0.00   44.72\n",
       "50%      0.00   56.22\n",
       "75%      1.00   67.35\n",
       "max      1.00   99.86"
      ]
     },
     "execution_count": 10,
     "metadata": {},
     "output_type": "execute_result"
    }
   ],
   "source": [
    "df.describe().round(2)"
   ]
  },
  {
   "cell_type": "code",
   "execution_count": 11,
   "metadata": {
    "colab": {
     "base_uri": "https://localhost:8080/",
     "height": 175
    },
    "id": "G3vDcWocAihF",
    "outputId": "00229ccb-7e0f-4e2e-b83f-7d9d95cbbcb2"
   },
   "outputs": [
    {
     "data": {
      "text/html": [
       "<div>\n",
       "<style scoped>\n",
       "    .dataframe tbody tr th:only-of-type {\n",
       "        vertical-align: middle;\n",
       "    }\n",
       "\n",
       "    .dataframe tbody tr th {\n",
       "        vertical-align: top;\n",
       "    }\n",
       "\n",
       "    .dataframe thead tr th {\n",
       "        text-align: left;\n",
       "    }\n",
       "\n",
       "    .dataframe thead tr:last-of-type th {\n",
       "        text-align: right;\n",
       "    }\n",
       "</style>\n",
       "<table border=\"1\" class=\"dataframe\">\n",
       "  <thead>\n",
       "    <tr>\n",
       "      <th></th>\n",
       "      <th colspan=\"8\" halign=\"left\">escore</th>\n",
       "    </tr>\n",
       "    <tr>\n",
       "      <th></th>\n",
       "      <th>count</th>\n",
       "      <th>mean</th>\n",
       "      <th>std</th>\n",
       "      <th>min</th>\n",
       "      <th>25%</th>\n",
       "      <th>50%</th>\n",
       "      <th>75%</th>\n",
       "      <th>max</th>\n",
       "    </tr>\n",
       "    <tr>\n",
       "      <th>grupo</th>\n",
       "      <th></th>\n",
       "      <th></th>\n",
       "      <th></th>\n",
       "      <th></th>\n",
       "      <th></th>\n",
       "      <th></th>\n",
       "      <th></th>\n",
       "      <th></th>\n",
       "    </tr>\n",
       "  </thead>\n",
       "  <tbody>\n",
       "    <tr>\n",
       "      <th>0</th>\n",
       "      <td>253.0</td>\n",
       "      <td>53.52</td>\n",
       "      <td>15.11</td>\n",
       "      <td>14.31</td>\n",
       "      <td>43.66</td>\n",
       "      <td>53.10</td>\n",
       "      <td>63.92</td>\n",
       "      <td>92.83</td>\n",
       "    </tr>\n",
       "    <tr>\n",
       "      <th>1</th>\n",
       "      <td>247.0</td>\n",
       "      <td>59.16</td>\n",
       "      <td>15.87</td>\n",
       "      <td>22.31</td>\n",
       "      <td>47.81</td>\n",
       "      <td>59.75</td>\n",
       "      <td>70.57</td>\n",
       "      <td>99.86</td>\n",
       "    </tr>\n",
       "  </tbody>\n",
       "</table>\n",
       "</div>"
      ],
      "text/plain": [
       "      escore                                                 \n",
       "       count   mean    std    min    25%    50%    75%    max\n",
       "grupo                                                        \n",
       "0      253.0  53.52  15.11  14.31  43.66  53.10  63.92  92.83\n",
       "1      247.0  59.16  15.87  22.31  47.81  59.75  70.57  99.86"
      ]
     },
     "execution_count": 11,
     "metadata": {},
     "output_type": "execute_result"
    }
   ],
   "source": [
    "df.groupby('grupo').describe().round(2)"
   ]
  },
  {
   "cell_type": "markdown",
   "metadata": {
    "id": "-xJ6rpHwBBfY"
   },
   "source": [
    "### Histograma por grupo"
   ]
  },
  {
   "cell_type": "code",
   "execution_count": 14,
   "metadata": {
    "colab": {
     "base_uri": "https://localhost:8080/",
     "height": 279
    },
    "id": "pNVFq5LXBEjf",
    "outputId": "70493807-042e-48bb-e824-0ad27055bd29"
   },
   "outputs": [
    {
     "data": {
      "image/png": "[encoded data removed]",
      "text/plain": [
       "<Figure size 432x288 with 1 Axes>"
      ]
     },
     "metadata": {
      "needs_background": "light"
     },
     "output_type": "display_data"
    }
   ],
   "source": [
    "sns.histplot(df[df['grupo'] == 0]['escore'], label = 'Gato', stat = \"density\", color=\"darkorange\", kde=True)\n",
    "sns.histplot(df[df['grupo'] == 1]['escore'], label = 'Cachorro', stat = \"density\", color=\"cadetblue\", kde=True)\n",
    "plt.xlabel('Escore (0 a 100)')\n",
    "plt.legend();"
   ]
  },
  {
   "cell_type": "markdown",
   "metadata": {
    "id": "lUY3bH1rDyGZ"
   },
   "source": [
    "# Comparação entre os grupos por teste-t independente"
   ]
  },
  {
   "cell_type": "markdown",
   "metadata": {
    "id": "nuIhJ_gOD9t4"
   },
   "source": [
    "Vamos comparar as médias dos escores dos dois grupos. São estatisticamente diferentes?"
   ]
  },
  {
   "cell_type": "code",
   "execution_count": 15,
   "metadata": {
    "id": "07S63VidD2A2"
   },
   "outputs": [],
   "source": [
    "from scipy.stats import ttest_ind\n",
    "# Importando a função que realiza o teste-t para amostras independentes"
   ]
  },
  {
   "cell_type": "code",
   "execution_count": 16,
   "metadata": {
    "id": "lIIXqMsWEQcB"
   },
   "outputs": [],
   "source": [
    "stat, p = ttest_ind(df[df['grupo'] == 0]['escore'], df[df['grupo'] == 1]['escore'])"
   ]
  },
  {
   "cell_type": "code",
   "execution_count": 17,
   "metadata": {
    "colab": {
     "base_uri": "https://localhost:8080/"
    },
    "id": "VJ6IpPJLFDSF",
    "outputId": "a5ca8a8d-ecae-433b-8cd9-33d0acea5c4c"
   },
   "outputs": [
    {
     "name": "stdout",
     "output_type": "stream",
     "text": [
      "stat=-4.072, p=0.000\n"
     ]
    }
   ],
   "source": [
    "print('stat=%.3f, p=%.3f' % (stat, p))"
   ]
  },
  {
   "cell_type": "markdown",
   "metadata": {
    "id": "8Hz7v-KqFfWs"
   },
   "source": [
    "Estabelecendo o nível de significância como 5%, como p < 0,05, vamos considerar que há diferença entre os grupos.\n",
    "Sabendo (pela análise descritiva) que a média do comercial com gatos é inferior à média do comercial com cachorros, podemos dizer que o comercial com cachorros induz a um escore de intenção de adoção estatisticamente superior ao comercial com gatos."
   ]
  },
  {
   "cell_type": "markdown",
   "metadata": {
    "id": "7SvnzPNiHnAW"
   },
   "source": [
    "#### Outra opção: com a biblioteca pingouin (output mais completo)"
   ]
  },
  {
   "cell_type": "code",
   "execution_count": 19,
   "metadata": {
    "id": "MrQaLnMdHv9I"
   },
   "outputs": [],
   "source": [
    "import pingouin as pg"
   ]
  },
  {
   "cell_type": "code",
   "execution_count": 20,
   "metadata": {
    "colab": {
     "base_uri": "https://localhost:8080/",
     "height": 81
    },
    "id": "dSqv-zQ6IhKy",
    "outputId": "a598a24f-3e74-4741-9ba8-37a8378b4024"
   },
   "outputs": [
    {
     "data": {
      "text/html": [
       "<div>\n",
       "<style scoped>\n",
       "    .dataframe tbody tr th:only-of-type {\n",
       "        vertical-align: middle;\n",
       "    }\n",
       "\n",
       "    .dataframe tbody tr th {\n",
       "        vertical-align: top;\n",
       "    }\n",
       "\n",
       "    .dataframe thead th {\n",
       "        text-align: right;\n",
       "    }\n",
       "</style>\n",
       "<table border=\"1\" class=\"dataframe\">\n",
       "  <thead>\n",
       "    <tr style=\"text-align: right;\">\n",
       "      <th></th>\n",
       "      <th>T</th>\n",
       "      <th>dof</th>\n",
       "      <th>alternative</th>\n",
       "      <th>p-val</th>\n",
       "      <th>CI95%</th>\n",
       "      <th>cohen-d</th>\n",
       "      <th>BF10</th>\n",
       "      <th>power</th>\n",
       "    </tr>\n",
       "  </thead>\n",
       "  <tbody>\n",
       "    <tr>\n",
       "      <th>T-test</th>\n",
       "      <td>-4.071726</td>\n",
       "      <td>498</td>\n",
       "      <td>two-sided</td>\n",
       "      <td>0.000054</td>\n",
       "      <td>[-8.36, -2.92]</td>\n",
       "      <td>0.364212</td>\n",
       "      <td>281.374</td>\n",
       "      <td>0.982306</td>\n",
       "    </tr>\n",
       "  </tbody>\n",
       "</table>\n",
       "</div>"
      ],
      "text/plain": [
       "               T  dof alternative     p-val           CI95%   cohen-d  \\\n",
       "T-test -4.071726  498   two-sided  0.000054  [-8.36, -2.92]  0.364212   \n",
       "\n",
       "           BF10     power  \n",
       "T-test  281.374  0.982306  "
      ]
     },
     "execution_count": 20,
     "metadata": {},
     "output_type": "execute_result"
    }
   ],
   "source": [
    "pg.ttest(df[df['grupo'] == 0]['escore'], df[df['grupo'] == 1]['escore'], correction=False)"
   ]
  }
 ],
 "metadata": {
  "colab": {
   "collapsed_sections": [],
   "name": "Teste AB Tera.ipynb",
   "provenance": []
  },
  "kernelspec": {
   "display_name": "Python 3 (ipykernel)",
   "language": "python",
   "name": "python3"
  },
  "language_info": {
   "codemirror_mode": {
    "name": "ipython",
    "version": 3
   },
   "file_extension": ".py",
   "mimetype": "text/x-python",
   "name": "python",
   "nbconvert_exporter": "python",
   "pygments_lexer": "ipython3",
   "version": "3.9.7"
  }
 },
 "nbformat": 4,
 "nbformat_minor": 1
}
