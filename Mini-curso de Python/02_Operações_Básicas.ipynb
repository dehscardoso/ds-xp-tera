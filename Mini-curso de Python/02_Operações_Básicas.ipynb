{
 "cells": [
  {
   "cell_type": "markdown",
   "metadata": {
    "id": "87Uw_ZzIfRyP"
   },
   "source": [
    "#### **Operações básicas**\n",
    "\n",
    "O Python é uma linguagem de programação. Ademais, como toda boa linguagem de programação, é também uma **potente calculadora aritmética**, sendo capaz de realizar operações matemáticas simples e avançadas. Nessa aula iremos focar nas operações matemáticas básicas: **adiçao, subtração, multiplicação, divisão, módulo e exponenciação**\n",
    "\n"
   ]
  },
  {
   "cell_type": "markdown",
   "metadata": {
    "id": "jQ95WAfSfUaq"
   },
   "source": [
    "Adição"
   ]
  },
  {
   "cell_type": "code",
   "execution_count": 1,
   "metadata": {
    "colab": {
     "base_uri": "https://localhost:8080/"
    },
    "id": "L56c4Xu0fIQE",
    "outputId": "a662db10-a839-4fa4-9808-b2623be7e3fe"
   },
   "outputs": [
    {
     "data": {
      "text/plain": [
       "5"
      ]
     },
     "execution_count": 1,
     "metadata": {},
     "output_type": "execute_result"
    }
   ],
   "source": [
    "3 + 2"
   ]
  },
  {
   "cell_type": "markdown",
   "metadata": {
    "id": "l9sj3fxOfWPz"
   },
   "source": [
    "Subtração"
   ]
  },
  {
   "cell_type": "code",
   "execution_count": 2,
   "metadata": {
    "colab": {
     "base_uri": "https://localhost:8080/"
    },
    "id": "MjDQAouKulhp",
    "outputId": "7d51a715-114c-4735-a55c-5c9e9976d42d"
   },
   "outputs": [
    {
     "data": {
      "text/plain": [
       "-1"
      ]
     },
     "execution_count": 2,
     "metadata": {},
     "output_type": "execute_result"
    }
   ],
   "source": [
    "2 - 3"
   ]
  },
  {
   "cell_type": "code",
   "execution_count": 3,
   "metadata": {
    "colab": {
     "base_uri": "https://localhost:8080/"
    },
    "id": "IaUOwiakfaIY",
    "outputId": "13a565da-5fd8-4281-c9fe-a73f7d01d54c"
   },
   "outputs": [
    {
     "data": {
      "text/plain": [
       "1"
      ]
     },
     "execution_count": 3,
     "metadata": {},
     "output_type": "execute_result"
    }
   ],
   "source": [
    "3 - 2"
   ]
  },
  {
   "cell_type": "markdown",
   "metadata": {
    "id": "Kow4kvKsg7iK"
   },
   "source": [
    "Multiplicação"
   ]
  },
  {
   "cell_type": "code",
   "execution_count": 4,
   "metadata": {
    "colab": {
     "base_uri": "https://localhost:8080/"
    },
    "id": "gSP6y1tPg9Wk",
    "outputId": "f575d544-ee9b-40ca-a8b2-0812eb10b046"
   },
   "outputs": [
    {
     "data": {
      "text/plain": [
       "6"
      ]
     },
     "execution_count": 4,
     "metadata": {},
     "output_type": "execute_result"
    }
   ],
   "source": [
    "3 * 2"
   ]
  },
  {
   "cell_type": "markdown",
   "metadata": {
    "id": "e6c-Z5kVgMhJ"
   },
   "source": [
    "Divisão"
   ]
  },
  {
   "cell_type": "code",
   "execution_count": 5,
   "metadata": {
    "colab": {
     "base_uri": "https://localhost:8080/"
    },
    "id": "GN6arCuDgC-o",
    "outputId": "4c0c20e3-4da2-4452-9239-36d1e9e9026c"
   },
   "outputs": [
    {
     "data": {
      "text/plain": [
       "1.5"
      ]
     },
     "execution_count": 5,
     "metadata": {},
     "output_type": "execute_result"
    }
   ],
   "source": [
    "3/2"
   ]
  },
  {
   "cell_type": "markdown",
   "metadata": {
    "id": "XRhjv4OQhDPY"
   },
   "source": [
    "Parte inteira da divisão"
   ]
  },
  {
   "cell_type": "code",
   "execution_count": 6,
   "metadata": {
    "colab": {
     "base_uri": "https://localhost:8080/"
    },
    "id": "cFEfOEz4hCqO",
    "outputId": "8fc518f3-4d28-4774-9803-896c8fdfbbd7"
   },
   "outputs": [
    {
     "data": {
      "text/plain": [
       "2"
      ]
     },
     "execution_count": 6,
     "metadata": {},
     "output_type": "execute_result"
    }
   ],
   "source": [
    "5 // 2"
   ]
  },
  {
   "cell_type": "markdown",
   "metadata": {
    "id": "vAGddnoLiNEw"
   },
   "source": [
    "Módulo (ou resto da divisão)"
   ]
  },
  {
   "cell_type": "code",
   "execution_count": 7,
   "metadata": {
    "colab": {
     "base_uri": "https://localhost:8080/"
    },
    "id": "QVIQ8EvXhWVT",
    "outputId": "1e731caa-82e6-4dee-c948-0bf08cee7f24"
   },
   "outputs": [
    {
     "data": {
      "text/plain": [
       "1"
      ]
     },
     "execution_count": 7,
     "metadata": {},
     "output_type": "execute_result"
    }
   ],
   "source": [
    "5 % 2"
   ]
  },
  {
   "cell_type": "markdown",
   "metadata": {
    "id": "ixx9BvidhdDl"
   },
   "source": [
    "Exponenciação (potenciação)"
   ]
  },
  {
   "cell_type": "code",
   "execution_count": 8,
   "metadata": {
    "colab": {
     "base_uri": "https://localhost:8080/"
    },
    "id": "5HnvSrh0ha23",
    "outputId": "f67f4444-a179-4377-ea31-c3d111ae2dc8"
   },
   "outputs": [
    {
     "data": {
      "text/plain": [
       "8"
      ]
     },
     "execution_count": 8,
     "metadata": {},
     "output_type": "execute_result"
    }
   ],
   "source": [
    "2 ** 3"
   ]
  },
  {
   "cell_type": "markdown",
   "metadata": {
    "id": "K_rdO6S4hrCu"
   },
   "source": [
    "Raiz quadrada"
   ]
  },
  {
   "cell_type": "code",
   "execution_count": 9,
   "metadata": {
    "colab": {
     "base_uri": "https://localhost:8080/"
    },
    "id": "VX3hS9i7hmG6",
    "outputId": "a8cdb477-abde-4a06-a3a3-585fc77d1a79"
   },
   "outputs": [
    {
     "data": {
      "text/plain": [
       "2.0"
      ]
     },
     "execution_count": 9,
     "metadata": {},
     "output_type": "execute_result"
    }
   ],
   "source": [
    "4 ** (1/2)"
   ]
  },
  {
   "cell_type": "markdown",
   "metadata": {
    "id": "e1nOhBKth0sK"
   },
   "source": [
    "#### **Variáveis**\n",
    "\n",
    "É um dos conceitos mais utilizados nas linguagens de programação. **São utilizadas para armazenar valores na memória**. Tornando possível gravar e ler esses valores em um nome pré-definido."
   ]
  },
  {
   "cell_type": "markdown",
   "metadata": {
    "id": "LvMuNlnPjlhO"
   },
   "source": [
    "Declarando a variável `a` e atribuindo o valor 2 para ela"
   ]
  },
  {
   "cell_type": "code",
   "execution_count": 10,
   "metadata": {
    "id": "l8_FhP-tjZgV"
   },
   "outputs": [],
   "source": [
    "a = 2"
   ]
  },
  {
   "cell_type": "markdown",
   "metadata": {
    "id": "GP5yOeY_s7Qk"
   },
   "source": [
    "Não confudir a atribuição `=` com o sinal de, igual que em python é `==`"
   ]
  },
  {
   "cell_type": "code",
   "execution_count": 11,
   "metadata": {
    "colab": {
     "base_uri": "https://localhost:8080/"
    },
    "id": "vLSuTN0dtH5i",
    "outputId": "ae6adc5a-3181-4a81-be66-f11102dd0b74"
   },
   "outputs": [
    {
     "data": {
      "text/plain": [
       "True"
      ]
     },
     "execution_count": 11,
     "metadata": {},
     "output_type": "execute_result"
    }
   ],
   "source": [
    "a == 2"
   ]
  },
  {
   "cell_type": "markdown",
   "metadata": {
    "id": "SBrRSHGVjeWW"
   },
   "source": [
    "Comando para escrever a variável `a` na tela"
   ]
  },
  {
   "cell_type": "code",
   "execution_count": 12,
   "metadata": {
    "colab": {
     "base_uri": "https://localhost:8080/"
    },
    "id": "7j-LMxvcehv_",
    "outputId": "1e59e3be-8245-42bb-a1fa-b5533f5358c7"
   },
   "outputs": [
    {
     "name": "stdout",
     "output_type": "stream",
     "text": [
      "2\n"
     ]
    }
   ],
   "source": [
    "print(a)"
   ]
  },
  {
   "cell_type": "markdown",
   "metadata": {
    "id": "3uhAQPz8e6BR"
   },
   "source": [
    "Operações com variáveis"
   ]
  },
  {
   "cell_type": "code",
   "execution_count": 13,
   "metadata": {
    "id": "IWom-TpxjQkj"
   },
   "outputs": [],
   "source": [
    "a = 2\n",
    "b = 4"
   ]
  },
  {
   "cell_type": "code",
   "execution_count": 14,
   "metadata": {
    "colab": {
     "base_uri": "https://localhost:8080/"
    },
    "id": "7XHj-veIjTIG",
    "outputId": "bc76b377-31a2-4d8f-c8ff-51455cbc0724"
   },
   "outputs": [
    {
     "data": {
      "text/plain": [
       "7"
      ]
     },
     "execution_count": 14,
     "metadata": {},
     "output_type": "execute_result"
    }
   ],
   "source": [
    "a + b + 1 "
   ]
  },
  {
   "cell_type": "markdown",
   "metadata": {
    "id": "umGrRnaFkLr3"
   },
   "source": [
    "Exemplo de uma operação um pouco mais complexa"
   ]
  },
  {
   "cell_type": "code",
   "execution_count": 15,
   "metadata": {
    "colab": {
     "base_uri": "https://localhost:8080/"
    },
    "id": "pWsdEB_tj5vh",
    "outputId": "b12d0c75-24fe-4d75-fbce-c50031be0513"
   },
   "outputs": [
    {
     "data": {
      "text/plain": [
       "14.0"
      ]
     },
     "execution_count": 15,
     "metadata": {},
     "output_type": "execute_result"
    }
   ],
   "source": [
    "# Segue a mesma ordem da matemática, usar parênteses para mudar\n",
    "# PEMDAS - Parênteses, Exponenciação, Multiplicação, Divisão, Adição, Subtração\n",
    "b**(1/2) + b*2 + b/(a-1)"
   ]
  },
  {
   "cell_type": "markdown",
   "metadata": {
    "id": "OqWOeLiyfCD3"
   },
   "source": [
    "#### **Os tipos das variáveis em python**\n",
    "Os tipos são uma forma de classificar a informação. Os tipos primitivos (elementares) são os tipos de dados mais simples em python, existem outros, mas segue a relação dos mais básicos:\n",
    "\n",
    "* int (integer) - para números inteiros\n",
    "* float - ponto flutuante, representa números decimais\n",
    "* str (string) - para uma sequência de caracteres, representa textos\n",
    "* bool - armazena True ou False (verdadeiro ou falso)"
   ]
  },
  {
   "cell_type": "code",
   "execution_count": 16,
   "metadata": {
    "id": "ThP91FWPkKkY"
   },
   "outputs": [],
   "source": [
    "mensagem = \"Exemplo de mensagem!\"\n",
    "idade = 25\n",
    "pi = 3.141592653589931\n",
    "acertou = True"
   ]
  },
  {
   "cell_type": "code",
   "execution_count": 17,
   "metadata": {
    "colab": {
     "base_uri": "https://localhost:8080/"
    },
    "id": "aEyiac-OpR52",
    "outputId": "cf8066dd-4b95-4dd5-d792-2c2e5362563d"
   },
   "outputs": [
    {
     "data": {
      "text/plain": [
       "str"
      ]
     },
     "execution_count": 17,
     "metadata": {},
     "output_type": "execute_result"
    }
   ],
   "source": [
    "type(mensagem)"
   ]
  },
  {
   "cell_type": "code",
   "execution_count": 18,
   "metadata": {
    "colab": {
     "base_uri": "https://localhost:8080/"
    },
    "id": "cSxNGx7xrACT",
    "outputId": "17439a6b-eb5a-4d7a-92db-817baa885095"
   },
   "outputs": [
    {
     "data": {
      "text/plain": [
       "int"
      ]
     },
     "execution_count": 18,
     "metadata": {},
     "output_type": "execute_result"
    }
   ],
   "source": [
    "type(idade)"
   ]
  },
  {
   "cell_type": "code",
   "execution_count": 19,
   "metadata": {
    "colab": {
     "base_uri": "https://localhost:8080/"
    },
    "id": "6iFz2i6srBim",
    "outputId": "8e3e6bb9-2754-446b-8f3b-5275b49d2207"
   },
   "outputs": [
    {
     "data": {
      "text/plain": [
       "float"
      ]
     },
     "execution_count": 19,
     "metadata": {},
     "output_type": "execute_result"
    }
   ],
   "source": [
    "type(pi)"
   ]
  },
  {
   "cell_type": "code",
   "execution_count": 20,
   "metadata": {
    "colab": {
     "base_uri": "https://localhost:8080/"
    },
    "id": "T8FmNWpVrDjJ",
    "outputId": "1d7c48bb-ed9b-4c79-9063-fda4abcd5f44"
   },
   "outputs": [
    {
     "data": {
      "text/plain": [
       "bool"
      ]
     },
     "execution_count": 20,
     "metadata": {},
     "output_type": "execute_result"
    }
   ],
   "source": [
    "type(acertou)"
   ]
  },
  {
   "cell_type": "markdown",
   "metadata": {
    "id": "5qF0QibJrLnU"
   },
   "source": [
    "Variáveis possuem tipos de acordo com seu atual valor"
   ]
  },
  {
   "cell_type": "code",
   "execution_count": 21,
   "metadata": {
    "colab": {
     "base_uri": "https://localhost:8080/"
    },
    "id": "DZTNg20kpKJb",
    "outputId": "7e69a2ca-2cfa-40cc-8071-6e2cc3f0fa9a"
   },
   "outputs": [
    {
     "data": {
      "text/plain": [
       "int"
      ]
     },
     "execution_count": 21,
     "metadata": {},
     "output_type": "execute_result"
    }
   ],
   "source": [
    "a = 3\n",
    "type(a)"
   ]
  },
  {
   "cell_type": "code",
   "execution_count": 22,
   "metadata": {
    "colab": {
     "base_uri": "https://localhost:8080/"
    },
    "id": "FgZRuS33pIKf",
    "outputId": "cfd256e7-3adf-4b2d-99de-9e3c133f31da"
   },
   "outputs": [
    {
     "data": {
      "text/plain": [
       "float"
      ]
     },
     "execution_count": 22,
     "metadata": {},
     "output_type": "execute_result"
    }
   ],
   "source": [
    "a = a/2\n",
    "type(a)"
   ]
  },
  {
   "cell_type": "markdown",
   "metadata": {
    "id": "3636anbJGGZV"
   },
   "source": [
    "## Avançando o `print` com as **f-strings**\n",
    "Já vimos como fazer o Python imprimir uma frase (`string`) e também aprendemos sobre variáveis. Vamos avançar um pouco mais e ver como podemos tornar essa função um pouco mais dinâmica.\n",
    "\n",
    "### F-strings\n",
    "As **F-strings** são uma maneira de incorporar variáveis dentro das `strings`, para isso, basta colocarmos a letra `f` antes das aspas da minha `string` e colocar a variável que eu quero que seja incorporada entre chaves. Vamos ver um exemplo."
   ]
  },
  {
   "cell_type": "code",
   "execution_count": 23,
   "metadata": {
    "colab": {
     "base_uri": "https://localhost:8080/"
    },
    "id": "7X5AX9qzGIW1",
    "outputId": "3025ef48-2589-4c28-bb62-5cd1d299bf98"
   },
   "outputs": [
    {
     "name": "stdout",
     "output_type": "stream",
     "text": [
      "Hoje a sobremesa é: pudim!\n"
     ]
    }
   ],
   "source": [
    "sobremesa = \"pudim\"\n",
    "\n",
    "print(f\"Hoje a sobremesa é: {sobremesa}!\")"
   ]
  }
 ],
 "metadata": {
  "colab": {
   "name": "Operações Básicas - TERA",
   "provenance": []
  },
  "kernelspec": {
   "display_name": "Python 3",
   "language": "python",
   "name": "python3"
  },
  "language_info": {
   "codemirror_mode": {
    "name": "ipython",
    "version": 3
   },
   "file_extension": ".py",
   "mimetype": "text/x-python",
   "name": "python",
   "nbconvert_exporter": "python",
   "pygments_lexer": "ipython3",
   "version": "3.8.8"
  }
 },
 "nbformat": 4,
 "nbformat_minor": 1
}
