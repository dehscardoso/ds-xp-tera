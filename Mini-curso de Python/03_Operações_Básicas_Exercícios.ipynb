{
 "cells": [
  {
   "cell_type": "markdown",
   "metadata": {
    "id": "CmIi4oett0d-"
   },
   "source": [
    "# Vamos praticar um pouco?"
   ]
  },
  {
   "cell_type": "markdown",
   "metadata": {
    "id": "-Fn67UfEt5Zk"
   },
   "source": [
    "### Faça algumas operações matemáricas básicas com os operadores `+ - / *`\n"
   ]
  },
  {
   "cell_type": "code",
   "execution_count": 2,
   "metadata": {
    "id": "nk6v56wryQBQ"
   },
   "outputs": [
    {
     "data": {
      "text/plain": [
       "25"
      ]
     },
     "execution_count": 2,
     "metadata": {},
     "output_type": "execute_result"
    }
   ],
   "source": [
    "10 + 32\n",
    "50 - 8\n",
    "8 / 2\n",
    "5 * 5"
   ]
  },
  {
   "cell_type": "markdown",
   "metadata": {
    "id": "RI8pLcEWyhJv"
   },
   "source": [
    "### Eleve o número 8 ao quadrado com o operador `**`\n"
   ]
  },
  {
   "cell_type": "code",
   "execution_count": 3,
   "metadata": {
    "colab": {
     "base_uri": "https://localhost:8080/"
    },
    "id": "i5wnMB6fyw1V",
    "outputId": "77d337ee-85fc-4a48-9480-be06942dbed1"
   },
   "outputs": [
    {
     "data": {
      "text/plain": [
       "64"
      ]
     },
     "execution_count": 3,
     "metadata": {},
     "output_type": "execute_result"
    }
   ],
   "source": [
    "8 ** 2"
   ]
  },
  {
   "cell_type": "markdown",
   "metadata": {
    "id": "fmF-XasWzXXe"
   },
   "source": [
    "### Tire a raíz quadrada do número 64 com o operador `**`"
   ]
  },
  {
   "cell_type": "code",
   "execution_count": 5,
   "metadata": {
    "colab": {
     "base_uri": "https://localhost:8080/"
    },
    "id": "-9wc7Hn4zpVe",
    "outputId": "380398d3-7d86-4eeb-a8c9-25f34d2289b7"
   },
   "outputs": [
    {
     "data": {
      "text/plain": [
       "8.0"
      ]
     },
     "execution_count": 5,
     "metadata": {},
     "output_type": "execute_result"
    }
   ],
   "source": [
    "64 ** (1/2)"
   ]
  },
  {
   "cell_type": "markdown",
   "metadata": {
    "id": "4b0GONcr11rk"
   },
   "source": [
    "### Mostre somente a parte inteira da divisão: 20 dividido por 3"
   ]
  },
  {
   "cell_type": "code",
   "execution_count": 7,
   "metadata": {
    "colab": {
     "base_uri": "https://localhost:8080/"
    },
    "id": "t1tb3NBf12Mq",
    "outputId": "de814fb5-5d14-404a-b7b4-90982d285203"
   },
   "outputs": [
    {
     "data": {
      "text/plain": [
       "6"
      ]
     },
     "execution_count": 7,
     "metadata": {},
     "output_type": "execute_result"
    }
   ],
   "source": [
    "20 // 3"
   ]
  },
  {
   "cell_type": "markdown",
   "metadata": {
    "id": "tvxuQcs02dmM"
   },
   "source": [
    "Mostre o resto da divisão: 20 dividido por 3"
   ]
  },
  {
   "cell_type": "code",
   "execution_count": 9,
   "metadata": {
    "colab": {
     "base_uri": "https://localhost:8080/"
    },
    "id": "HuOQVHAE2eGw",
    "outputId": "fff79ca6-3a66-4318-a7f8-e32bf795ba13"
   },
   "outputs": [
    {
     "data": {
      "text/plain": [
       "2"
      ]
     },
     "execution_count": 9,
     "metadata": {},
     "output_type": "execute_result"
    }
   ],
   "source": [
    "20 % 3"
   ]
  },
  {
   "cell_type": "markdown",
   "metadata": {
    "id": "rkflBYYxz4QK"
   },
   "source": [
    "### Guarde na variável `nome` o seu nome e na variável `idade` a sua idade"
   ]
  },
  {
   "cell_type": "code",
   "execution_count": 19,
   "metadata": {
    "id": "i5q24RZx0TzV"
   },
   "outputs": [],
   "source": [
    "nome = \"Deborah\"\n",
    "idade = 29"
   ]
  },
  {
   "cell_type": "markdown",
   "metadata": {
    "id": "0PcF8qAU0e65"
   },
   "source": [
    "### Verifique e imprima qual o tipo das variáveis `nome` e `idade` com a função `type()`"
   ]
  },
  {
   "cell_type": "code",
   "execution_count": 13,
   "metadata": {
    "colab": {
     "base_uri": "https://localhost:8080/"
    },
    "id": "_CtnOC7E0l95",
    "outputId": "aab98d53-6752-4f62-acd9-409351d215eb"
   },
   "outputs": [
    {
     "name": "stdout",
     "output_type": "stream",
     "text": [
      "<class 'str'>\n",
      "<class 'int'>\n"
     ]
    }
   ],
   "source": [
    "print (type(nome))\n",
    "print (type(idade))"
   ]
  },
  {
   "cell_type": "markdown",
   "metadata": {
    "id": "67IMNSJN04VO"
   },
   "source": [
    "### Lembra do teorema de Pitágoras?\n",
    "<img src=\"https://upload.wikimedia.org/wikipedia/commons/thumb/6/6f/Rtriangle.svg/1024px-Rtriangle.svg.png\" width=\"350\">\n",
    "\n",
    "Basicamente, lembre que podemos descobrir o valor de um dos lados de um triângulo retângo com a seguinte fórmula `c²=a²+b²`\n",
    "\n",
    "Se o lado **a** tem **3cm** e o lado **b** tem **4cm**, quantos cm tem o lado **c**?"
   ]
  },
  {
   "cell_type": "code",
   "execution_count": 15,
   "metadata": {
    "colab": {
     "base_uri": "https://localhost:8080/"
    },
    "id": "V2Yj8PuD3TAI",
    "outputId": "c7c772ac-dc7d-4e53-f7ed-87004c0f6d4c"
   },
   "outputs": [
    {
     "name": "stdout",
     "output_type": "stream",
     "text": [
      "5.0\n"
     ]
    }
   ],
   "source": [
    "a = 3\n",
    "b = 4\n",
    "c = (a**2 + b**2)**0.5\n",
    "\n",
    "print(c)"
   ]
  },
  {
   "cell_type": "markdown",
   "metadata": {
    "id": "JUsakOdv0sPL"
   },
   "source": [
    "### (Debugging) Encontre e corrija o erro do código abaixo"
   ]
  },
  {
   "cell_type": "code",
   "execution_count": 17,
   "metadata": {
    "colab": {
     "base_uri": "https://localhost:8080/"
    },
    "id": "x4kMoO-D00WC",
    "outputId": "dc9d3c48-d482-479c-d402-6f067920ac4b"
   },
   "outputs": [
    {
     "data": {
      "text/plain": [
       "30"
      ]
     },
     "execution_count": 17,
     "metadata": {},
     "output_type": "execute_result"
    }
   ],
   "source": [
    "a = 10\n",
    "b = 20\n",
    "\n",
    "a + b"
   ]
  }
 ],
 "metadata": {
  "colab": {
   "name": "Operações básicas - exercícios",
   "provenance": []
  },
  "kernelspec": {
   "display_name": "Python 3",
   "language": "python",
   "name": "python3"
  },
  "language_info": {
   "codemirror_mode": {
    "name": "ipython",
    "version": 3
   },
   "file_extension": ".py",
   "mimetype": "text/x-python",
   "name": "python",
   "nbconvert_exporter": "python",
   "pygments_lexer": "ipython3",
   "version": "3.8.8"
  }
 },
 "nbformat": 4,
 "nbformat_minor": 1
}
