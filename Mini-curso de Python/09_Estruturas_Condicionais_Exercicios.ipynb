{
 "cells": [
  {
   "cell_type": "markdown",
   "metadata": {},
   "source": [
    "<img src = \"https://images2.imgbox.com/c1/79/4H1V1tSO_o.png\" width=\"1200\">"
   ]
  },
  {
   "cell_type": "markdown",
   "metadata": {
    "id": "lCl6XzOTX5hd"
   },
   "source": [
    "# Estruturas condicionais - Exercícios"
   ]
  },
  {
   "cell_type": "markdown",
   "metadata": {
    "id": "awYL3XIw7jH0"
   },
   "source": [
    "### Crie uma estrutura condicional que receba como entrada um número e que responda se este número é múltiplo de 3"
   ]
  },
  {
   "cell_type": "code",
   "execution_count": 1,
   "metadata": {
    "id": "wZPT_WNn7eGH"
   },
   "outputs": [],
   "source": [
    "#Rode esse código primeiro\n",
    "numero = 11"
   ]
  },
  {
   "cell_type": "code",
   "execution_count": 2,
   "metadata": {
    "id": "gcIlo-eL8Lkn"
   },
   "outputs": [
    {
     "name": "stdout",
     "output_type": "stream",
     "text": [
      "não é múltiplo de 3\n"
     ]
    }
   ],
   "source": [
    "if numero % 3 == 0:\n",
    "    print('é múltplo de 3')\n",
    "else:\n",
    "    print('não é múltiplo de 3')"
   ]
  },
  {
   "cell_type": "markdown",
   "metadata": {
    "id": "uFSysNly7ikC"
   },
   "source": [
    "### Crie uma estrutura condicional que receba como entrada um horário (0-24h) e que retorne:\n",
    "*   \"Bom dia\", se o horário estiver entre 6h-12h\n",
    "*   \"Boa tarde\", se o horário estiver entre 13h-18h\n",
    "*   \"Boa noite\", se o horário estiver entre 19h-24h\n",
    "*   \"Ainda é de madrugada\", caso contrário\n",
    "\n",
    "**dica:** para verificar se um número está entre outros dois você pode usar o seguinte formato `if 10 <= numero <= 20`. Aqui estamos verificando se a variável número está entre 10 e 10\n"
   ]
  },
  {
   "cell_type": "code",
   "execution_count": 3,
   "metadata": {
    "id": "S3YLk84R9HXz"
   },
   "outputs": [],
   "source": [
    "#Rode esse código primeiro\n",
    "hora = 10"
   ]
  },
  {
   "cell_type": "code",
   "execution_count": 4,
   "metadata": {
    "id": "9BNb988s9i03"
   },
   "outputs": [
    {
     "name": "stdout",
     "output_type": "stream",
     "text": [
      "Bom dia\n"
     ]
    }
   ],
   "source": [
    "if 6 <= hora <= 12:\n",
    "    print(\"Bom dia\")\n",
    "elif 13 <= hora <= 18:\n",
    "    print(\"Boa tarde\")\n",
    "elif 19 <= hora <= 24:\n",
    "    print(\"Boa noite\")\n",
    "else:\n",
    "    print(\"Ainda é de madrugada\")"
   ]
  },
  {
   "cell_type": "markdown",
   "metadata": {
    "id": "MaSbC1vRAhxj"
   },
   "source": [
    "### (Desafio). Crie uma estrutura condicional que receba como entrada um ano e que retorne se esse ano é bissexto ou não\n",
    "\n",
    "**Regras**\n",
    "1. Todo ano divisível por 4 é bissexto\n",
    "2. Todo ano divisível por 100 não é ano bissexto\n",
    "3. Mas se o ano for divisível por 400 é ano bissexto\n"
   ]
  },
  {
   "cell_type": "code",
   "execution_count": 6,
   "metadata": {
    "id": "F11MuihqA21Z"
   },
   "outputs": [],
   "source": [
    "#Rode esse código primeiro\n",
    "ano = 1998"
   ]
  },
  {
   "cell_type": "code",
   "execution_count": 8,
   "metadata": {
    "id": "SrUcMN9bBAnZ"
   },
   "outputs": [
    {
     "name": "stdout",
     "output_type": "stream",
     "text": [
      "Não é bissexto\n"
     ]
    }
   ],
   "source": [
    "if (ano%4==0 and ano%100!=0) or (ano%400==0):\n",
    "    print('Bissexto')\n",
    "else:\n",
    "    print('Não é bissexto')"
   ]
  },
  {
   "cell_type": "markdown",
   "metadata": {
    "id": "rXWNaFA-RjAS"
   },
   "source": [
    "### (Debugging) Encontre o erro e solucione o código abaixo."
   ]
  },
  {
   "cell_type": "code",
   "execution_count": 10,
   "metadata": {
    "colab": {
     "base_uri": "https://localhost:8080/",
     "height": 129
    },
    "id": "IJZ3HZ_pRl_d",
    "outputId": "d1c9b9fa-6524-43b2-ac4e-abc072a20cc3"
   },
   "outputs": [
    {
     "name": "stdout",
     "output_type": "stream",
     "text": [
      "Parabéns!\n"
     ]
    }
   ],
   "source": [
    "nota = 8\n",
    "\n",
    "if nota < 9:\n",
    "    print(\"Parabéns!\")"
   ]
  }
 ],
 "metadata": {
  "colab": {
   "name": "Estruturas condicionais - Exercícios",
   "provenance": []
  },
  "kernelspec": {
   "display_name": "Python 3 (ipykernel)",
   "language": "python",
   "name": "python3"
  },
  "language_info": {
   "codemirror_mode": {
    "name": "ipython",
    "version": 3
   },
   "file_extension": ".py",
   "mimetype": "text/x-python",
   "name": "python",
   "nbconvert_exporter": "python",
   "pygments_lexer": "ipython3",
   "version": "3.9.7"
  }
 },
 "nbformat": 4,
 "nbformat_minor": 1
}
